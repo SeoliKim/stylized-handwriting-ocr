{
 "cells": [
  {
   "cell_type": "markdown",
   "metadata": {
    "id": "zBoBYsBI1yci"
   },
   "source": [
    "## Step 1. Data Processing"
   ]
  },
  {
   "cell_type": "markdown",
   "metadata": {
    "id": "f9569sLt7p0t"
   },
   "source": [
    "### 1.1 Get Dataset\n",
    "1. Follow the instruction from [IMGUR5K Handwriting Dataset Repository](https://github.com/facebookresearch/IMGUR5K-Handwriting-Dataset) to collect the dataset.\n",
    "\n",
    "2. Uploaded the dataset to your Google Drive"
   ]
  },
  {
   "cell_type": "markdown",
   "metadata": {
    "id": "XhNFHLuX74vR"
   },
   "source": [
    "### 1.2 Import Dataset"
   ]
  },
  {
   "cell_type": "code",
   "execution_count": 1,
   "metadata": {
    "executionInfo": {
     "elapsed": 16,
     "status": "ok",
     "timestamp": 1744331025252,
     "user": {
      "displayName": "Seoli Kim",
      "userId": "14708215966442501193"
     },
     "user_tz": 240
    },
    "id": "4fNsDQ2321gK"
   },
   "outputs": [],
   "source": [
    "# your path to image dataset\n",
    "image_dataset_path = './dataset'"
   ]
  },
  {
   "cell_type": "code",
   "execution_count": 2,
   "metadata": {
    "executionInfo": {
     "elapsed": 35210,
     "status": "ok",
     "timestamp": 1744331060454,
     "user": {
      "displayName": "Seoli Kim",
      "userId": "14708215966442501193"
     },
     "user_tz": 240
    },
    "id": "9I2HakJK992z"
   },
   "outputs": [],
   "source": [
    "'''\n",
    "return a DataFrame of image Dataset\n",
    "with two column:\n",
    "id (as labeled in the dataset): each image has a unique id\n",
    "url: url of the source of the image\n",
    "'''\n",
    "import os\n",
    "import pandas as pd\n",
    "\n",
    "def create_image_df():\n",
    "    assert image_dataset_path is not None, \"Set image dataset to the folder that include IMGUR5K Handwriting Dataset \"\n",
    "    # List to hold file names (without extensions)\n",
    "    ids = []\n",
    "\n",
    "    # Iterate over all files in the directory\n",
    "    for filename in os.listdir(image_dataset_path):\n",
    "        # Get the full path of the file\n",
    "        full_path = os.path.join(image_dataset_path, filename)\n",
    "\n",
    "        # Skip directories, only process files\n",
    "        if os.path.isfile(full_path):\n",
    "            # Split the filename into name and extension\n",
    "            name, _ = os.path.splitext(filename)\n",
    "\n",
    "            # Add the file name (without extension) to the list\n",
    "            ids.append(name)\n",
    "\n",
    "    # Create a DataFrame with two columns: ids and url\n",
    "    df = pd.DataFrame({\n",
    "        \"id\": ids\n",
    "    })\n",
    "\n",
    "    return df\n",
    "\n",
    "\n",
    "# call function\n",
    "df = create_image_df()"
   ]
  },
  {
   "cell_type": "code",
   "execution_count": 3,
   "metadata": {
    "colab": {
     "base_uri": "https://localhost:8080/",
     "height": 206
    },
    "executionInfo": {
     "elapsed": 18,
     "status": "ok",
     "timestamp": 1744331060465,
     "user": {
      "displayName": "Seoli Kim",
      "userId": "14708215966442501193"
     },
     "user_tz": 240
    },
    "id": "tnFdMajYDhi4",
    "outputId": "40761258-02df-4423-893f-f06490261453"
   },
   "outputs": [
    {
     "data": {
      "text/html": [
       "<div>\n",
       "<style scoped>\n",
       "    .dataframe tbody tr th:only-of-type {\n",
       "        vertical-align: middle;\n",
       "    }\n",
       "\n",
       "    .dataframe tbody tr th {\n",
       "        vertical-align: top;\n",
       "    }\n",
       "\n",
       "    .dataframe thead th {\n",
       "        text-align: right;\n",
       "    }\n",
       "</style>\n",
       "<table border=\"1\" class=\"dataframe\">\n",
       "  <thead>\n",
       "    <tr style=\"text-align: right;\">\n",
       "      <th></th>\n",
       "      <th>id</th>\n",
       "    </tr>\n",
       "  </thead>\n",
       "  <tbody>\n",
       "    <tr>\n",
       "      <th>0</th>\n",
       "      <td>A3b6IRB</td>\n",
       "    </tr>\n",
       "    <tr>\n",
       "      <th>1</th>\n",
       "      <td>PgtVlbz</td>\n",
       "    </tr>\n",
       "    <tr>\n",
       "      <th>2</th>\n",
       "      <td>5xiSlCK</td>\n",
       "    </tr>\n",
       "    <tr>\n",
       "      <th>3</th>\n",
       "      <td>ZE1HUdf</td>\n",
       "    </tr>\n",
       "    <tr>\n",
       "      <th>4</th>\n",
       "      <td>9VHX0vQ</td>\n",
       "    </tr>\n",
       "  </tbody>\n",
       "</table>\n",
       "</div>"
      ],
      "text/plain": [
       "        id\n",
       "0  A3b6IRB\n",
       "1  PgtVlbz\n",
       "2  5xiSlCK\n",
       "3  ZE1HUdf\n",
       "4  9VHX0vQ"
      ]
     },
     "execution_count": 3,
     "metadata": {},
     "output_type": "execute_result"
    }
   ],
   "source": [
    "# overview of df\n",
    "df.head()"
   ]
  },
  {
   "cell_type": "code",
   "execution_count": 4,
   "metadata": {
    "executionInfo": {
     "elapsed": 8,
     "status": "ok",
     "timestamp": 1744331060476,
     "user": {
      "displayName": "Seoli Kim",
      "userId": "14708215966442501193"
     },
     "user_tz": 240
    },
    "id": "HhvrI7KM6Sn3"
   },
   "outputs": [],
   "source": [
    "from PIL import Image\n",
    "\n",
    "def read_image(path):\n",
    "  image = Image.open(path).convert(\"RGB\")\n",
    "  return image"
   ]
  },
  {
   "cell_type": "code",
   "execution_count": 5,
   "metadata": {
    "executionInfo": {
     "elapsed": 5,
     "status": "ok",
     "timestamp": 1744331060485,
     "user": {
      "displayName": "Seoli Kim",
      "userId": "14708215966442501193"
     },
     "user_tz": 240
    },
    "id": "Tl6SvlbJ6l4r"
   },
   "outputs": [],
   "source": [
    "\n",
    "# quick access to image in the dataset\n",
    "def read_my_image(index):\n",
    "  assert image_dataset_path is not None, \"Set image dataset to the folder that include IMGUR5K Handwriting Dataset \"\n",
    "  path = image_dataset_path+\"/\"+ str(index) + '.jpg'\n",
    "  return read_image(path)"
   ]
  },
  {
   "cell_type": "code",
   "execution_count": 6,
   "metadata": {
    "executionInfo": {
     "elapsed": 8,
     "status": "ok",
     "timestamp": 1744331060498,
     "user": {
      "displayName": "Seoli Kim",
      "userId": "14708215966442501193"
     },
     "user_tz": 240
    },
    "id": "1Flka3AHFbDW"
   },
   "outputs": [],
   "source": [
    "import matplotlib.pyplot as plt\n",
    "\n",
    "def show_image(index):\n",
    "  # Read the image\n",
    "  img = read_my_image(index)  # Replace 'index' with your actual index\n",
    "\n",
    "  # Display the image in a smaller size\n",
    "  plt.figure(figsize=(10, 6))  # Adjust width and height in inches\n",
    "  plt.imshow(img)\n",
    "  plt.axis('off')  # Turn off axis numbers and ticks\n",
    "  plt.show()"
   ]
  },
  {
   "cell_type": "code",
   "execution_count": null,
   "metadata": {
    "colab": {
     "base_uri": "https://localhost:8080/",
     "height": 499
    },
    "executionInfo": {
     "elapsed": 3203,
     "status": "ok",
     "timestamp": 1744331063704,
     "user": {
      "displayName": "Seoli Kim",
      "userId": "14708215966442501193"
     },
     "user_tz": 240
    },
    "id": "yB-shjNhDoaD",
    "outputId": "66f66c3d-5be7-48c7-d74b-442f6e2b09a3"
   },
   "outputs": [],
   "source": [
    "# check image in df\n",
    "show_image(\"qjXbC0Y\")"
   ]
  },
  {
   "cell_type": "markdown",
   "metadata": {
    "id": "9d6ZE628_XgL"
   },
   "source": [
    "### 1.3 Label Ground Truth Text"
   ]
  },
  {
   "cell_type": "code",
   "execution_count": 8,
   "metadata": {
    "executionInfo": {
     "elapsed": 1260,
     "status": "ok",
     "timestamp": 1744331064970,
     "user": {
      "displayName": "Seoli Kim",
      "userId": "14708215966442501193"
     },
     "user_tz": 240
    },
    "id": "wZ8AEvUV_gQv"
   },
   "outputs": [],
   "source": [
    "import csv\n",
    "# Get data infomation from the lst\n",
    "data_info = './dataset_info/imgur5k_data.lst'\n",
    "\n",
    "# Read url: actual url of the image\n",
    "# Location: the location of the text based on the image\n",
    "# text: Ground Truth Text\n",
    "df_info = pd.read_csv(data_info, sep='\\t', header=None, names=['url', 'location', 'text'], quoting=csv.QUOTE_NONE, )\n",
    "\n",
    "# Extract the 'id' from the URL\n",
    "df_info['id'] = df_info['url'].apply(lambda x: x.split('/')[-1].split('.')[0])\n",
    "\n",
    "# Reorder columns to match the desired output\n",
    "df_info = df_info[['id', 'url', 'location', 'text']]"
   ]
  },
  {
   "cell_type": "code",
   "execution_count": 9,
   "metadata": {
    "executionInfo": {
     "elapsed": 69,
     "status": "ok",
     "timestamp": 1744331065046,
     "user": {
      "displayName": "Seoli Kim",
      "userId": "14708215966442501193"
     },
     "user_tz": 240
    },
    "id": "QiVIgMVdZer_"
   },
   "outputs": [],
   "source": [
    "df = pd.merge(df, df_info, on='id', how='left')"
   ]
  },
  {
   "cell_type": "code",
   "execution_count": 10,
   "metadata": {
    "colab": {
     "base_uri": "https://localhost:8080/",
     "height": 206
    },
    "executionInfo": {
     "elapsed": 13,
     "status": "ok",
     "timestamp": 1744331065064,
     "user": {
      "displayName": "Seoli Kim",
      "userId": "14708215966442501193"
     },
     "user_tz": 240
    },
    "id": "9LQNhqFe0GU4",
    "outputId": "ab776c08-b61b-4d14-d98f-62ac82931d93"
   },
   "outputs": [
    {
     "data": {
      "text/html": [
       "<div>\n",
       "<style scoped>\n",
       "    .dataframe tbody tr th:only-of-type {\n",
       "        vertical-align: middle;\n",
       "    }\n",
       "\n",
       "    .dataframe tbody tr th {\n",
       "        vertical-align: top;\n",
       "    }\n",
       "\n",
       "    .dataframe thead th {\n",
       "        text-align: right;\n",
       "    }\n",
       "</style>\n",
       "<table border=\"1\" class=\"dataframe\">\n",
       "  <thead>\n",
       "    <tr style=\"text-align: right;\">\n",
       "      <th></th>\n",
       "      <th>id</th>\n",
       "      <th>url</th>\n",
       "      <th>location</th>\n",
       "      <th>text</th>\n",
       "    </tr>\n",
       "  </thead>\n",
       "  <tbody>\n",
       "    <tr>\n",
       "      <th>0</th>\n",
       "      <td>A3b6IRB</td>\n",
       "      <td>https://i.imgur.com/A3b6IRB.jpg</td>\n",
       "      <td>[808.0, 179.33, 239.0, 47.0, -21.0]</td>\n",
       "      <td>SURGERY</td>\n",
       "    </tr>\n",
       "    <tr>\n",
       "      <th>1</th>\n",
       "      <td>A3b6IRB</td>\n",
       "      <td>https://i.imgur.com/A3b6IRB.jpg</td>\n",
       "      <td>[775.67, 202.67, 90.33, 34.0, -18.67]</td>\n",
       "      <td>#2</td>\n",
       "    </tr>\n",
       "    <tr>\n",
       "      <th>2</th>\n",
       "      <td>A3b6IRB</td>\n",
       "      <td>https://i.imgur.com/A3b6IRB.jpg</td>\n",
       "      <td>[932.67, 371.33, 139.67, 55.67, -18.0]</td>\n",
       "      <td>N2O2</td>\n",
       "    </tr>\n",
       "    <tr>\n",
       "      <th>3</th>\n",
       "      <td>A3b6IRB</td>\n",
       "      <td>https://i.imgur.com/A3b6IRB.jpg</td>\n",
       "      <td>[661.67, 374.0, 152.0, 40.33, -25.0]</td>\n",
       "      <td>CRASH</td>\n",
       "    </tr>\n",
       "    <tr>\n",
       "      <th>4</th>\n",
       "      <td>A3b6IRB</td>\n",
       "      <td>https://i.imgur.com/A3b6IRB.jpg</td>\n",
       "      <td>[803.33, 431.33, 142.33, 40.0, -22.0]</td>\n",
       "      <td>CART</td>\n",
       "    </tr>\n",
       "  </tbody>\n",
       "</table>\n",
       "</div>"
      ],
      "text/plain": [
       "        id                              url  \\\n",
       "0  A3b6IRB  https://i.imgur.com/A3b6IRB.jpg   \n",
       "1  A3b6IRB  https://i.imgur.com/A3b6IRB.jpg   \n",
       "2  A3b6IRB  https://i.imgur.com/A3b6IRB.jpg   \n",
       "3  A3b6IRB  https://i.imgur.com/A3b6IRB.jpg   \n",
       "4  A3b6IRB  https://i.imgur.com/A3b6IRB.jpg   \n",
       "\n",
       "                                 location     text  \n",
       "0     [808.0, 179.33, 239.0, 47.0, -21.0]  SURGERY  \n",
       "1   [775.67, 202.67, 90.33, 34.0, -18.67]       #2  \n",
       "2  [932.67, 371.33, 139.67, 55.67, -18.0]     N2O2  \n",
       "3    [661.67, 374.0, 152.0, 40.33, -25.0]    CRASH  \n",
       "4   [803.33, 431.33, 142.33, 40.0, -22.0]     CART  "
      ]
     },
     "execution_count": 10,
     "metadata": {},
     "output_type": "execute_result"
    }
   ],
   "source": [
    "df.head()"
   ]
  },
  {
   "cell_type": "code",
   "execution_count": 11,
   "metadata": {
    "executionInfo": {
     "elapsed": 33,
     "status": "ok",
     "timestamp": 1744331065180,
     "user": {
      "displayName": "Seoli Kim",
      "userId": "14708215966442501193"
     },
     "user_tz": 240
    },
    "id": "qjE5ocBkTh39"
   },
   "outputs": [],
   "source": [
    "df = df.dropna()"
   ]
  },
  {
   "cell_type": "markdown",
   "metadata": {
    "id": "9d6ZE628_XgL"
   },
   "source": [
    "### 1.4 Data Cleaning"
   ]
  },
  {
   "cell_type": "markdown",
   "metadata": {},
   "source": [
    "We need to check if all the ground-truth text matches the actual content."
   ]
  },
  {
   "cell_type": "markdown",
   "metadata": {},
   "source": [
    "##### Speical characters\n",
    "Check if the special characters are being processed corrected"
   ]
  },
  {
   "cell_type": "code",
   "execution_count": 12,
   "metadata": {},
   "outputs": [],
   "source": [
    "import pandas as pd\n",
    "\n",
    "# Patter for all Special characters\n",
    "special_char_pattern = r'[^a-zA-Z0-9\\s]'  # Matches anything not alphanumeric or whitespace\n",
    "\n",
    "# Select rows with special characters\n",
    "special_char_rows = df[df['text'].str.contains(special_char_pattern, regex=True, na=False)]"
   ]
  },
  {
   "cell_type": "code",
   "execution_count": 13,
   "metadata": {},
   "outputs": [
    {
     "data": {
      "text/html": [
       "<div>\n",
       "<style scoped>\n",
       "    .dataframe tbody tr th:only-of-type {\n",
       "        vertical-align: middle;\n",
       "    }\n",
       "\n",
       "    .dataframe tbody tr th {\n",
       "        vertical-align: top;\n",
       "    }\n",
       "\n",
       "    .dataframe thead th {\n",
       "        text-align: right;\n",
       "    }\n",
       "</style>\n",
       "<table border=\"1\" class=\"dataframe\">\n",
       "  <thead>\n",
       "    <tr style=\"text-align: right;\">\n",
       "      <th></th>\n",
       "      <th>id</th>\n",
       "      <th>url</th>\n",
       "      <th>location</th>\n",
       "      <th>text</th>\n",
       "    </tr>\n",
       "  </thead>\n",
       "  <tbody>\n",
       "    <tr>\n",
       "      <th>1</th>\n",
       "      <td>A3b6IRB</td>\n",
       "      <td>https://i.imgur.com/A3b6IRB.jpg</td>\n",
       "      <td>[775.67, 202.67, 90.33, 34.0, -18.67]</td>\n",
       "      <td>#2</td>\n",
       "    </tr>\n",
       "    <tr>\n",
       "      <th>5</th>\n",
       "      <td>A3b6IRB</td>\n",
       "      <td>https://i.imgur.com/A3b6IRB.jpg</td>\n",
       "      <td>[611.0, 393.0, 91.5, 47.5, -27.0]</td>\n",
       "      <td>W/</td>\n",
       "    </tr>\n",
       "    <tr>\n",
       "      <th>24</th>\n",
       "      <td>PgtVlbz</td>\n",
       "      <td>https://i.imgur.com/PgtVlbz.jpg</td>\n",
       "      <td>[1110.5, 650.5, 201.0, 66.5, 0.0]</td>\n",
       "      <td>NCM's</td>\n",
       "    </tr>\n",
       "    <tr>\n",
       "      <th>61</th>\n",
       "      <td>PgtVlbz</td>\n",
       "      <td>https://i.imgur.com/PgtVlbz.jpg</td>\n",
       "      <td>[1604.5, 1972.5, 177.5, 53.5, -1.0]</td>\n",
       "      <td>come,</td>\n",
       "    </tr>\n",
       "    <tr>\n",
       "      <th>74</th>\n",
       "      <td>PgtVlbz</td>\n",
       "      <td>https://i.imgur.com/PgtVlbz.jpg</td>\n",
       "      <td>[2150.5, 1133.5, 249.0, 73.0, -0.5]</td>\n",
       "      <td>2:30pm</td>\n",
       "    </tr>\n",
       "  </tbody>\n",
       "</table>\n",
       "</div>"
      ],
      "text/plain": [
       "         id                              url  \\\n",
       "1   A3b6IRB  https://i.imgur.com/A3b6IRB.jpg   \n",
       "5   A3b6IRB  https://i.imgur.com/A3b6IRB.jpg   \n",
       "24  PgtVlbz  https://i.imgur.com/PgtVlbz.jpg   \n",
       "61  PgtVlbz  https://i.imgur.com/PgtVlbz.jpg   \n",
       "74  PgtVlbz  https://i.imgur.com/PgtVlbz.jpg   \n",
       "\n",
       "                                 location    text  \n",
       "1   [775.67, 202.67, 90.33, 34.0, -18.67]      #2  \n",
       "5       [611.0, 393.0, 91.5, 47.5, -27.0]      W/  \n",
       "24      [1110.5, 650.5, 201.0, 66.5, 0.0]   NCM's  \n",
       "61    [1604.5, 1972.5, 177.5, 53.5, -1.0]   come,  \n",
       "74    [2150.5, 1133.5, 249.0, 73.0, -0.5]  2:30pm  "
      ]
     },
     "execution_count": 13,
     "metadata": {},
     "output_type": "execute_result"
    }
   ],
   "source": [
    "special_char_rows.head()"
   ]
  },
  {
   "cell_type": "code",
   "execution_count": null,
   "metadata": {},
   "outputs": [],
   "source": [
    "show_image(\"A3b6IRB\")"
   ]
  },
  {
   "cell_type": "markdown",
   "metadata": {},
   "source": [
    "The special charcters are being processed correctly. Confirm more cases."
   ]
  },
  {
   "cell_type": "code",
   "execution_count": 15,
   "metadata": {},
   "outputs": [],
   "source": [
    "# Math Symbols"
   ]
  },
  {
   "cell_type": "code",
   "execution_count": 16,
   "metadata": {},
   "outputs": [],
   "source": [
    "# Define the pattern of allowed characters:\n",
    "# - \\w for word characters (letters, numbers, underscore)\n",
    "# - \\s for whitespace\n",
    "# - Specific punctuation, math symbols, and escape characters\n",
    "# - Double backslash (\\\\) represents a single backslash\n",
    "allowed_pattern = r'^[\\w\\s\\.,!?;:\\-+*/=()\\[\\]{}<>@#\\$%^&_\\'\"\\t\\n]+$'\n",
    "mask = ~df['text'].str.contains(allowed_pattern, regex=True)\n",
    "non_standard_rows = df[mask]"
   ]
  },
  {
   "cell_type": "code",
   "execution_count": 17,
   "metadata": {},
   "outputs": [
    {
     "data": {
      "text/html": [
       "<div>\n",
       "<style scoped>\n",
       "    .dataframe tbody tr th:only-of-type {\n",
       "        vertical-align: middle;\n",
       "    }\n",
       "\n",
       "    .dataframe tbody tr th {\n",
       "        vertical-align: top;\n",
       "    }\n",
       "\n",
       "    .dataframe thead th {\n",
       "        text-align: right;\n",
       "    }\n",
       "</style>\n",
       "<table border=\"1\" class=\"dataframe\">\n",
       "  <thead>\n",
       "    <tr style=\"text-align: right;\">\n",
       "      <th></th>\n",
       "      <th>id</th>\n",
       "      <th>url</th>\n",
       "      <th>location</th>\n",
       "      <th>text</th>\n",
       "    </tr>\n",
       "  </thead>\n",
       "  <tbody>\n",
       "    <tr>\n",
       "      <th>335</th>\n",
       "      <td>sNpIWnz</td>\n",
       "      <td>https://i.imgur.com/sNpIWnz.jpg</td>\n",
       "      <td>[153.0, 851.0, 23.0, 13.0, 162.0]</td>\n",
       "      <td>·USA</td>\n",
       "    </tr>\n",
       "    <tr>\n",
       "      <th>341</th>\n",
       "      <td>sNpIWnz</td>\n",
       "      <td>https://i.imgur.com/sNpIWnz.jpg</td>\n",
       "      <td>[130.0, 785.0, 22.0, 11.0, -21.0]</td>\n",
       "      <td>Japan|</td>\n",
       "    </tr>\n",
       "    <tr>\n",
       "      <th>342</th>\n",
       "      <td>sNpIWnz</td>\n",
       "      <td>https://i.imgur.com/sNpIWnz.jpg</td>\n",
       "      <td>[150.0, 791.0, 23.0, 10.0, -16.0]</td>\n",
       "      <td>Japan|</td>\n",
       "    </tr>\n",
       "    <tr>\n",
       "      <th>407</th>\n",
       "      <td>hhk8nvy</td>\n",
       "      <td>https://i.imgur.com/hhk8nvy.jpg</td>\n",
       "      <td>[611.0, 317.5, 145.0, 72.5, 2.5]</td>\n",
       "      <td>4\\/22\\/2016.</td>\n",
       "    </tr>\n",
       "    <tr>\n",
       "      <th>645</th>\n",
       "      <td>J8E8rsy</td>\n",
       "      <td>https://i.imgur.com/J8E8rsy.jpg</td>\n",
       "      <td>[756.0, 646.0, 506.0, 162.0, -2.0]</td>\n",
       "      <td>\\/r\\/handwriting!</td>\n",
       "    </tr>\n",
       "  </tbody>\n",
       "</table>\n",
       "</div>"
      ],
      "text/plain": [
       "          id                              url  \\\n",
       "335  sNpIWnz  https://i.imgur.com/sNpIWnz.jpg   \n",
       "341  sNpIWnz  https://i.imgur.com/sNpIWnz.jpg   \n",
       "342  sNpIWnz  https://i.imgur.com/sNpIWnz.jpg   \n",
       "407  hhk8nvy  https://i.imgur.com/hhk8nvy.jpg   \n",
       "645  J8E8rsy  https://i.imgur.com/J8E8rsy.jpg   \n",
       "\n",
       "                               location               text  \n",
       "335   [153.0, 851.0, 23.0, 13.0, 162.0]               ·USA  \n",
       "341   [130.0, 785.0, 22.0, 11.0, -21.0]             Japan|  \n",
       "342   [150.0, 791.0, 23.0, 10.0, -16.0]             Japan|  \n",
       "407    [611.0, 317.5, 145.0, 72.5, 2.5]       4\\/22\\/2016.  \n",
       "645  [756.0, 646.0, 506.0, 162.0, -2.0]  \\/r\\/handwriting!  "
      ]
     },
     "execution_count": 17,
     "metadata": {},
     "output_type": "execute_result"
    }
   ],
   "source": [
    "non_standard_rows.head()"
   ]
  },
  {
   "cell_type": "code",
   "execution_count": null,
   "metadata": {},
   "outputs": [],
   "source": [
    "show_image(\"sNpIWnz\")"
   ]
  },
  {
   "cell_type": "code",
   "execution_count": null,
   "metadata": {},
   "outputs": [],
   "source": [
    "show_image(\"hhk8nvy\")"
   ]
  },
  {
   "cell_type": "markdown",
   "metadata": {},
   "source": [
    "The text that contain \"\\\\/\" seems to be just \"/\", check more to confirm. "
   ]
  },
  {
   "cell_type": "code",
   "execution_count": 20,
   "metadata": {},
   "outputs": [],
   "source": [
    "mask = df['text'].str.contains(r'\\\\', regex=True)\n",
    "check_rows= df[mask]"
   ]
  },
  {
   "cell_type": "code",
   "execution_count": 21,
   "metadata": {},
   "outputs": [
    {
     "data": {
      "text/html": [
       "<div>\n",
       "<style scoped>\n",
       "    .dataframe tbody tr th:only-of-type {\n",
       "        vertical-align: middle;\n",
       "    }\n",
       "\n",
       "    .dataframe tbody tr th {\n",
       "        vertical-align: top;\n",
       "    }\n",
       "\n",
       "    .dataframe thead th {\n",
       "        text-align: right;\n",
       "    }\n",
       "</style>\n",
       "<table border=\"1\" class=\"dataframe\">\n",
       "  <thead>\n",
       "    <tr style=\"text-align: right;\">\n",
       "      <th></th>\n",
       "      <th>id</th>\n",
       "      <th>url</th>\n",
       "      <th>location</th>\n",
       "      <th>text</th>\n",
       "    </tr>\n",
       "  </thead>\n",
       "  <tbody>\n",
       "    <tr>\n",
       "      <th>407</th>\n",
       "      <td>hhk8nvy</td>\n",
       "      <td>https://i.imgur.com/hhk8nvy.jpg</td>\n",
       "      <td>[611.0, 317.5, 145.0, 72.5, 2.5]</td>\n",
       "      <td>4\\/22\\/2016.</td>\n",
       "    </tr>\n",
       "    <tr>\n",
       "      <th>645</th>\n",
       "      <td>J8E8rsy</td>\n",
       "      <td>https://i.imgur.com/J8E8rsy.jpg</td>\n",
       "      <td>[756.0, 646.0, 506.0, 162.0, -2.0]</td>\n",
       "      <td>\\/r\\/handwriting!</td>\n",
       "    </tr>\n",
       "    <tr>\n",
       "      <th>5632</th>\n",
       "      <td>QikXzEi</td>\n",
       "      <td>https://i.imgur.com/QikXzEi.jpg</td>\n",
       "      <td>[657.0, 181.0, 71.0, 44.0, 1.0]</td>\n",
       "      <td>\\/L=</td>\n",
       "    </tr>\n",
       "    <tr>\n",
       "      <th>5662</th>\n",
       "      <td>QikXzEi</td>\n",
       "      <td>https://i.imgur.com/QikXzEi.jpg</td>\n",
       "      <td>[357.0, 778.0, 121.0, 56.0, 0.0]</td>\n",
       "      <td>K+\\/H+</td>\n",
       "    </tr>\n",
       "    <tr>\n",
       "      <th>5680</th>\n",
       "      <td>QikXzEi</td>\n",
       "      <td>https://i.imgur.com/QikXzEi.jpg</td>\n",
       "      <td>[382.0, 998.0, 158.0, 67.0, 0.0]</td>\n",
       "      <td>mEq\\/L</td>\n",
       "    </tr>\n",
       "  </tbody>\n",
       "</table>\n",
       "</div>"
      ],
      "text/plain": [
       "           id                              url  \\\n",
       "407   hhk8nvy  https://i.imgur.com/hhk8nvy.jpg   \n",
       "645   J8E8rsy  https://i.imgur.com/J8E8rsy.jpg   \n",
       "5632  QikXzEi  https://i.imgur.com/QikXzEi.jpg   \n",
       "5662  QikXzEi  https://i.imgur.com/QikXzEi.jpg   \n",
       "5680  QikXzEi  https://i.imgur.com/QikXzEi.jpg   \n",
       "\n",
       "                                location               text  \n",
       "407     [611.0, 317.5, 145.0, 72.5, 2.5]       4\\/22\\/2016.  \n",
       "645   [756.0, 646.0, 506.0, 162.0, -2.0]  \\/r\\/handwriting!  \n",
       "5632     [657.0, 181.0, 71.0, 44.0, 1.0]               \\/L=  \n",
       "5662    [357.0, 778.0, 121.0, 56.0, 0.0]             K+\\/H+  \n",
       "5680    [382.0, 998.0, 158.0, 67.0, 0.0]             mEq\\/L  "
      ]
     },
     "execution_count": 21,
     "metadata": {},
     "output_type": "execute_result"
    }
   ],
   "source": [
    "check_rows.head()"
   ]
  },
  {
   "cell_type": "code",
   "execution_count": null,
   "metadata": {},
   "outputs": [],
   "source": [
    "show_image(\"QikXzEi\")"
   ]
  },
  {
   "cell_type": "markdown",
   "metadata": {},
   "source": [
    "It appears that the text that contain \"\\\\\\/\" seems to be just \"/\", replace them"
   ]
  },
  {
   "cell_type": "code",
   "execution_count": 23,
   "metadata": {},
   "outputs": [],
   "source": [
    "df['text'] = df['text'].str.replace('\\\\/', '/', regex=False)"
   ]
  },
  {
   "cell_type": "code",
   "execution_count": 24,
   "metadata": {},
   "outputs": [
    {
     "data": {
      "text/html": [
       "<div>\n",
       "<style scoped>\n",
       "    .dataframe tbody tr th:only-of-type {\n",
       "        vertical-align: middle;\n",
       "    }\n",
       "\n",
       "    .dataframe tbody tr th {\n",
       "        vertical-align: top;\n",
       "    }\n",
       "\n",
       "    .dataframe thead th {\n",
       "        text-align: right;\n",
       "    }\n",
       "</style>\n",
       "<table border=\"1\" class=\"dataframe\">\n",
       "  <thead>\n",
       "    <tr style=\"text-align: right;\">\n",
       "      <th></th>\n",
       "      <th>id</th>\n",
       "      <th>url</th>\n",
       "      <th>location</th>\n",
       "      <th>text</th>\n",
       "    </tr>\n",
       "  </thead>\n",
       "  <tbody>\n",
       "    <tr>\n",
       "      <th>5</th>\n",
       "      <td>A3b6IRB</td>\n",
       "      <td>https://i.imgur.com/A3b6IRB.jpg</td>\n",
       "      <td>[611.0, 393.0, 91.5, 47.5, -27.0]</td>\n",
       "      <td>W/</td>\n",
       "    </tr>\n",
       "    <tr>\n",
       "      <th>320</th>\n",
       "      <td>IvfnYNp</td>\n",
       "      <td>https://i.imgur.com/IvfnYNp.jpg</td>\n",
       "      <td>[735.0, 877.33, 161.33, 106.0, -12.0]</td>\n",
       "      <td>41/365</td>\n",
       "    </tr>\n",
       "    <tr>\n",
       "      <th>407</th>\n",
       "      <td>hhk8nvy</td>\n",
       "      <td>https://i.imgur.com/hhk8nvy.jpg</td>\n",
       "      <td>[611.0, 317.5, 145.0, 72.5, 2.5]</td>\n",
       "      <td>4/22/2016.</td>\n",
       "    </tr>\n",
       "    <tr>\n",
       "      <th>450</th>\n",
       "      <td>85jTx48</td>\n",
       "      <td>https://i.imgur.com/85jTx48.jpg</td>\n",
       "      <td>[1328.5, 1837.0, 176.0, 89.5, -0.5]</td>\n",
       "      <td>320/365</td>\n",
       "    </tr>\n",
       "    <tr>\n",
       "      <th>645</th>\n",
       "      <td>J8E8rsy</td>\n",
       "      <td>https://i.imgur.com/J8E8rsy.jpg</td>\n",
       "      <td>[756.0, 646.0, 506.0, 162.0, -2.0]</td>\n",
       "      <td>/r/handwriting!</td>\n",
       "    </tr>\n",
       "  </tbody>\n",
       "</table>\n",
       "</div>"
      ],
      "text/plain": [
       "          id                              url  \\\n",
       "5    A3b6IRB  https://i.imgur.com/A3b6IRB.jpg   \n",
       "320  IvfnYNp  https://i.imgur.com/IvfnYNp.jpg   \n",
       "407  hhk8nvy  https://i.imgur.com/hhk8nvy.jpg   \n",
       "450  85jTx48  https://i.imgur.com/85jTx48.jpg   \n",
       "645  J8E8rsy  https://i.imgur.com/J8E8rsy.jpg   \n",
       "\n",
       "                                  location             text  \n",
       "5        [611.0, 393.0, 91.5, 47.5, -27.0]               W/  \n",
       "320  [735.0, 877.33, 161.33, 106.0, -12.0]           41/365  \n",
       "407       [611.0, 317.5, 145.0, 72.5, 2.5]       4/22/2016.  \n",
       "450    [1328.5, 1837.0, 176.0, 89.5, -0.5]          320/365  \n",
       "645     [756.0, 646.0, 506.0, 162.0, -2.0]  /r/handwriting!  "
      ]
     },
     "execution_count": 24,
     "metadata": {},
     "output_type": "execute_result"
    }
   ],
   "source": [
    "df[df['text'].str.contains(r'/', regex=True)].head()"
   ]
  },
  {
   "cell_type": "code",
   "execution_count": 25,
   "metadata": {},
   "outputs": [],
   "source": [
    "mask = ~df['text'].str.contains(allowed_pattern, regex=True)\n",
    "non_standard_rows2 = df[mask]"
   ]
  },
  {
   "cell_type": "code",
   "execution_count": 26,
   "metadata": {},
   "outputs": [
    {
     "name": "stdout",
     "output_type": "stream",
     "text": [
      "Words with special character: 2004 , Percentage:  0.008826055361035872\n",
      "Images with special charatcer: 565 , Percentage:  0.07076653306613226\n"
     ]
    }
   ],
   "source": [
    "print(\"Words with special character:\", len(non_standard_rows2), \", Percentage: \", len(non_standard_rows2)/len(df))\n",
    "print(\"Images with special charatcer:\", len(non_standard_rows2['id'].unique()), \", Percentage: \", len(non_standard_rows2['id'].unique())/len(df['id'].unique()))"
   ]
  },
  {
   "cell_type": "markdown",
   "metadata": {},
   "source": [
    "Since there aren't too many images that contain uncommon special characters, we would remove these images that contains uncommon special characters to ensure the ground-truth text are correct and limited vocabulary."
   ]
  },
  {
   "cell_type": "code",
   "execution_count": 27,
   "metadata": {},
   "outputs": [],
   "source": [
    "df=df[~mask]"
   ]
  },
  {
   "cell_type": "code",
   "execution_count": 28,
   "metadata": {},
   "outputs": [
    {
     "name": "stdout",
     "output_type": "stream",
     "text": [
      "total number of words 225051\n",
      "total number of images 7977\n"
     ]
    }
   ],
   "source": [
    "print(\"total number of words\", len(df))\n",
    "print(\"total number of images\", len(df['id'].unique()))"
   ]
  },
  {
   "cell_type": "code",
   "execution_count": 29,
   "metadata": {},
   "outputs": [
    {
     "name": "stdout",
     "output_type": "stream",
     "text": [
      "Number of rows with allowed characters: 225051\n"
     ]
    }
   ],
   "source": [
    "# confirm there is no special characters\n",
    "count_matching = df['text'].str.contains(allowed_pattern, regex=True, na=False).sum()\n",
    "print(f\"Number of rows with allowed characters: {count_matching}\")"
   ]
  },
  {
   "cell_type": "markdown",
   "metadata": {},
   "source": [
    "#### All-symbols text\n",
    "There might be some error if a word only contains symbols"
   ]
  },
  {
   "cell_type": "code",
   "execution_count": 30,
   "metadata": {},
   "outputs": [],
   "source": [
    "pattern = r'^[^a-zA-Z0-9]+$'  # Matches strings with no alphanumeric chars at all\n",
    "non_alnum_rows = df[df['text'].str.contains(pattern, regex=True, na=False)]"
   ]
  },
  {
   "cell_type": "code",
   "execution_count": 31,
   "metadata": {},
   "outputs": [
    {
     "data": {
      "text/html": [
       "<div>\n",
       "<style scoped>\n",
       "    .dataframe tbody tr th:only-of-type {\n",
       "        vertical-align: middle;\n",
       "    }\n",
       "\n",
       "    .dataframe tbody tr th {\n",
       "        vertical-align: top;\n",
       "    }\n",
       "\n",
       "    .dataframe thead th {\n",
       "        text-align: right;\n",
       "    }\n",
       "</style>\n",
       "<table border=\"1\" class=\"dataframe\">\n",
       "  <thead>\n",
       "    <tr style=\"text-align: right;\">\n",
       "      <th></th>\n",
       "      <th>id</th>\n",
       "      <th>url</th>\n",
       "      <th>location</th>\n",
       "      <th>text</th>\n",
       "    </tr>\n",
       "  </thead>\n",
       "  <tbody>\n",
       "    <tr>\n",
       "      <th>105</th>\n",
       "      <td>5xiSlCK</td>\n",
       "      <td>https://i.imgur.com/5xiSlCK.jpg</td>\n",
       "      <td>[151.0, 729.0, 82.5, 58.5, -0.5]</td>\n",
       "      <td>.</td>\n",
       "    </tr>\n",
       "    <tr>\n",
       "      <th>107</th>\n",
       "      <td>5xiSlCK</td>\n",
       "      <td>https://i.imgur.com/5xiSlCK.jpg</td>\n",
       "      <td>[349.5, 738.0, 27.5, 53.0, -1.5]</td>\n",
       "      <td>.</td>\n",
       "    </tr>\n",
       "    <tr>\n",
       "      <th>213</th>\n",
       "      <td>5xiSlCK</td>\n",
       "      <td>https://i.imgur.com/5xiSlCK.jpg</td>\n",
       "      <td>[750.5, 2156.5, 80.0, 51.0, 2.0]</td>\n",
       "      <td>.</td>\n",
       "    </tr>\n",
       "    <tr>\n",
       "      <th>226</th>\n",
       "      <td>5xiSlCK</td>\n",
       "      <td>https://i.imgur.com/5xiSlCK.jpg</td>\n",
       "      <td>[523.0, 821.0, 152.0, 65.0, 0.0]</td>\n",
       "      <td>.</td>\n",
       "    </tr>\n",
       "    <tr>\n",
       "      <th>234</th>\n",
       "      <td>tMQDhwl</td>\n",
       "      <td>https://i.imgur.com/tMQDhwl.jpg</td>\n",
       "      <td>[633.0, 508.0, 784.0, 123.0, -1.0]</td>\n",
       "      <td>.</td>\n",
       "    </tr>\n",
       "    <tr>\n",
       "      <th>236</th>\n",
       "      <td>tMQDhwl</td>\n",
       "      <td>https://i.imgur.com/tMQDhwl.jpg</td>\n",
       "      <td>[1049.0, 306.0, 1041.0, 158.0, 2.0]</td>\n",
       "      <td>.</td>\n",
       "    </tr>\n",
       "    <tr>\n",
       "      <th>237</th>\n",
       "      <td>tMQDhwl</td>\n",
       "      <td>https://i.imgur.com/tMQDhwl.jpg</td>\n",
       "      <td>[783.0, 651.0, 624.0, 160.0, -3.0]</td>\n",
       "      <td>.</td>\n",
       "    </tr>\n",
       "    <tr>\n",
       "      <th>241</th>\n",
       "      <td>tMQDhwl</td>\n",
       "      <td>https://i.imgur.com/tMQDhwl.jpg</td>\n",
       "      <td>[979.0, 843.0, 532.0, 94.0, -4.0]</td>\n",
       "      <td>.</td>\n",
       "    </tr>\n",
       "    <tr>\n",
       "      <th>242</th>\n",
       "      <td>tMQDhwl</td>\n",
       "      <td>https://i.imgur.com/tMQDhwl.jpg</td>\n",
       "      <td>[715.0, 1006.0, 673.0, 177.0, -2.0]</td>\n",
       "      <td>.</td>\n",
       "    </tr>\n",
       "    <tr>\n",
       "      <th>287</th>\n",
       "      <td>FEEMbfi</td>\n",
       "      <td>https://i.imgur.com/FEEMbfi.jpg</td>\n",
       "      <td>[1755.5, 2735.5, 90.0, 46.0, 90.0]</td>\n",
       "      <td>-</td>\n",
       "    </tr>\n",
       "    <tr>\n",
       "      <th>303</th>\n",
       "      <td>FEEMbfi</td>\n",
       "      <td>https://i.imgur.com/FEEMbfi.jpg</td>\n",
       "      <td>[961.0, 1945.0, 318.0, 126.0, 90.0]</td>\n",
       "      <td>.</td>\n",
       "    </tr>\n",
       "    <tr>\n",
       "      <th>308</th>\n",
       "      <td>Be5RODN</td>\n",
       "      <td>https://i.imgur.com/Be5RODN.jpg</td>\n",
       "      <td>[496.0, 649.0, 1245.0, 399.0, -59.0]</td>\n",
       "      <td>.</td>\n",
       "    </tr>\n",
       "    <tr>\n",
       "      <th>322</th>\n",
       "      <td>IvfnYNp</td>\n",
       "      <td>https://i.imgur.com/IvfnYNp.jpg</td>\n",
       "      <td>[469.0, 591.0, 98.0, 132.0, 20.0]</td>\n",
       "      <td>.</td>\n",
       "    </tr>\n",
       "    <tr>\n",
       "      <th>324</th>\n",
       "      <td>sNpIWnz</td>\n",
       "      <td>https://i.imgur.com/sNpIWnz.jpg</td>\n",
       "      <td>[813.0, 273.0, 19.0, 17.0, -21.0]</td>\n",
       "      <td>.</td>\n",
       "    </tr>\n",
       "    <tr>\n",
       "      <th>329</th>\n",
       "      <td>sNpIWnz</td>\n",
       "      <td>https://i.imgur.com/sNpIWnz.jpg</td>\n",
       "      <td>[911.0, 330.0, 10.0, 10.0, -17.0]</td>\n",
       "      <td>.</td>\n",
       "    </tr>\n",
       "    <tr>\n",
       "      <th>333</th>\n",
       "      <td>sNpIWnz</td>\n",
       "      <td>https://i.imgur.com/sNpIWnz.jpg</td>\n",
       "      <td>[339.0, 846.0, 8.0, 13.0, -9.0]</td>\n",
       "      <td>.</td>\n",
       "    </tr>\n",
       "    <tr>\n",
       "      <th>334</th>\n",
       "      <td>sNpIWnz</td>\n",
       "      <td>https://i.imgur.com/sNpIWnz.jpg</td>\n",
       "      <td>[254.0, 819.0, 9.0, 11.0, -45.0]</td>\n",
       "      <td>.</td>\n",
       "    </tr>\n",
       "    <tr>\n",
       "      <th>336</th>\n",
       "      <td>sNpIWnz</td>\n",
       "      <td>https://i.imgur.com/sNpIWnz.jpg</td>\n",
       "      <td>[130.0, 845.0, 29.0, 11.0, 168.0]</td>\n",
       "      <td>.</td>\n",
       "    </tr>\n",
       "    <tr>\n",
       "      <th>337</th>\n",
       "      <td>sNpIWnz</td>\n",
       "      <td>https://i.imgur.com/sNpIWnz.jpg</td>\n",
       "      <td>[109.0, 839.0, 23.0, 12.0, 166.0]</td>\n",
       "      <td>.</td>\n",
       "    </tr>\n",
       "    <tr>\n",
       "      <th>338</th>\n",
       "      <td>sNpIWnz</td>\n",
       "      <td>https://i.imgur.com/sNpIWnz.jpg</td>\n",
       "      <td>[83.0, 832.0, 39.0, 14.0, 160.0]</td>\n",
       "      <td>.</td>\n",
       "    </tr>\n",
       "  </tbody>\n",
       "</table>\n",
       "</div>"
      ],
      "text/plain": [
       "          id                              url  \\\n",
       "105  5xiSlCK  https://i.imgur.com/5xiSlCK.jpg   \n",
       "107  5xiSlCK  https://i.imgur.com/5xiSlCK.jpg   \n",
       "213  5xiSlCK  https://i.imgur.com/5xiSlCK.jpg   \n",
       "226  5xiSlCK  https://i.imgur.com/5xiSlCK.jpg   \n",
       "234  tMQDhwl  https://i.imgur.com/tMQDhwl.jpg   \n",
       "236  tMQDhwl  https://i.imgur.com/tMQDhwl.jpg   \n",
       "237  tMQDhwl  https://i.imgur.com/tMQDhwl.jpg   \n",
       "241  tMQDhwl  https://i.imgur.com/tMQDhwl.jpg   \n",
       "242  tMQDhwl  https://i.imgur.com/tMQDhwl.jpg   \n",
       "287  FEEMbfi  https://i.imgur.com/FEEMbfi.jpg   \n",
       "303  FEEMbfi  https://i.imgur.com/FEEMbfi.jpg   \n",
       "308  Be5RODN  https://i.imgur.com/Be5RODN.jpg   \n",
       "322  IvfnYNp  https://i.imgur.com/IvfnYNp.jpg   \n",
       "324  sNpIWnz  https://i.imgur.com/sNpIWnz.jpg   \n",
       "329  sNpIWnz  https://i.imgur.com/sNpIWnz.jpg   \n",
       "333  sNpIWnz  https://i.imgur.com/sNpIWnz.jpg   \n",
       "334  sNpIWnz  https://i.imgur.com/sNpIWnz.jpg   \n",
       "336  sNpIWnz  https://i.imgur.com/sNpIWnz.jpg   \n",
       "337  sNpIWnz  https://i.imgur.com/sNpIWnz.jpg   \n",
       "338  sNpIWnz  https://i.imgur.com/sNpIWnz.jpg   \n",
       "\n",
       "                                 location text  \n",
       "105      [151.0, 729.0, 82.5, 58.5, -0.5]    .  \n",
       "107      [349.5, 738.0, 27.5, 53.0, -1.5]    .  \n",
       "213      [750.5, 2156.5, 80.0, 51.0, 2.0]    .  \n",
       "226      [523.0, 821.0, 152.0, 65.0, 0.0]    .  \n",
       "234    [633.0, 508.0, 784.0, 123.0, -1.0]    .  \n",
       "236   [1049.0, 306.0, 1041.0, 158.0, 2.0]    .  \n",
       "237    [783.0, 651.0, 624.0, 160.0, -3.0]    .  \n",
       "241     [979.0, 843.0, 532.0, 94.0, -4.0]    .  \n",
       "242   [715.0, 1006.0, 673.0, 177.0, -2.0]    .  \n",
       "287    [1755.5, 2735.5, 90.0, 46.0, 90.0]    -  \n",
       "303   [961.0, 1945.0, 318.0, 126.0, 90.0]    .  \n",
       "308  [496.0, 649.0, 1245.0, 399.0, -59.0]    .  \n",
       "322     [469.0, 591.0, 98.0, 132.0, 20.0]    .  \n",
       "324     [813.0, 273.0, 19.0, 17.0, -21.0]    .  \n",
       "329     [911.0, 330.0, 10.0, 10.0, -17.0]    .  \n",
       "333       [339.0, 846.0, 8.0, 13.0, -9.0]    .  \n",
       "334      [254.0, 819.0, 9.0, 11.0, -45.0]    .  \n",
       "336     [130.0, 845.0, 29.0, 11.0, 168.0]    .  \n",
       "337     [109.0, 839.0, 23.0, 12.0, 166.0]    .  \n",
       "338      [83.0, 832.0, 39.0, 14.0, 160.0]    .  "
      ]
     },
     "execution_count": 31,
     "metadata": {},
     "output_type": "execute_result"
    }
   ],
   "source": [
    "non_alnum_rows.head(20)"
   ]
  },
  {
   "cell_type": "code",
   "execution_count": null,
   "metadata": {},
   "outputs": [],
   "source": [
    "show_image(\"5xiSlCK\")"
   ]
  },
  {
   "cell_type": "code",
   "execution_count": null,
   "metadata": {},
   "outputs": [],
   "source": [
    "show_image(\"tMQDhwl\")"
   ]
  },
  {
   "cell_type": "code",
   "execution_count": null,
   "metadata": {},
   "outputs": [],
   "source": [
    "show_image(\"IvfnYNp\")"
   ]
  },
  {
   "cell_type": "markdown",
   "metadata": {},
   "source": [
    "There appear to be some inital fault in labels, all the ones that contains only one period seem to be incorrect. Remove them all"
   ]
  },
  {
   "cell_type": "code",
   "execution_count": 35,
   "metadata": {},
   "outputs": [],
   "source": [
    "only_period_rows= df[df['text'] == '.']"
   ]
  },
  {
   "cell_type": "code",
   "execution_count": 36,
   "metadata": {},
   "outputs": [
    {
     "name": "stdout",
     "output_type": "stream",
     "text": [
      "Words with only one period: 19567 , Percentage:  0.08694473697073107\n",
      "Images with special charatcer: 3762 , Percentage:  0.4716058668672433\n"
     ]
    }
   ],
   "source": [
    "print(\"Words with only one period:\", len(only_period_rows), \", Percentage: \", len(only_period_rows)/len(df))\n",
    "print(\"Images with special charatcer:\", len(only_period_rows['id'].unique()), \", Percentage: \", len(only_period_rows['id'].unique())/len(df['id'].unique()))"
   ]
  },
  {
   "cell_type": "code",
   "execution_count": 37,
   "metadata": {},
   "outputs": [],
   "source": [
    "df = df[df['text'] != '.']"
   ]
  },
  {
   "cell_type": "code",
   "execution_count": 38,
   "metadata": {},
   "outputs": [],
   "source": [
    "# check other rows that have ony characters\n",
    "pattern = r'^[^a-zA-Z0-9]+$'  # Matches strings with no alphanumeric chars at all\n",
    "non_alnum_rows2 = df[df['text'].str.contains(pattern, regex=True, na=False)]"
   ]
  },
  {
   "cell_type": "code",
   "execution_count": 39,
   "metadata": {},
   "outputs": [
    {
     "data": {
      "text/html": [
       "<div>\n",
       "<style scoped>\n",
       "    .dataframe tbody tr th:only-of-type {\n",
       "        vertical-align: middle;\n",
       "    }\n",
       "\n",
       "    .dataframe tbody tr th {\n",
       "        vertical-align: top;\n",
       "    }\n",
       "\n",
       "    .dataframe thead th {\n",
       "        text-align: right;\n",
       "    }\n",
       "</style>\n",
       "<table border=\"1\" class=\"dataframe\">\n",
       "  <thead>\n",
       "    <tr style=\"text-align: right;\">\n",
       "      <th></th>\n",
       "      <th>id</th>\n",
       "      <th>url</th>\n",
       "      <th>location</th>\n",
       "      <th>text</th>\n",
       "    </tr>\n",
       "  </thead>\n",
       "  <tbody>\n",
       "    <tr>\n",
       "      <th>287</th>\n",
       "      <td>FEEMbfi</td>\n",
       "      <td>https://i.imgur.com/FEEMbfi.jpg</td>\n",
       "      <td>[1755.5, 2735.5, 90.0, 46.0, 90.0]</td>\n",
       "      <td>-</td>\n",
       "    </tr>\n",
       "    <tr>\n",
       "      <th>363</th>\n",
       "      <td>hhk8nvy</td>\n",
       "      <td>https://i.imgur.com/hhk8nvy.jpg</td>\n",
       "      <td>[20.33, 544.33, 17.67, 25.67, 0.0]</td>\n",
       "      <td>*</td>\n",
       "    </tr>\n",
       "    <tr>\n",
       "      <th>402</th>\n",
       "      <td>hhk8nvy</td>\n",
       "      <td>https://i.imgur.com/hhk8nvy.jpg</td>\n",
       "      <td>[630.0, 646.5, 34.0, 51.0, 1.0]</td>\n",
       "      <td>*</td>\n",
       "    </tr>\n",
       "    <tr>\n",
       "      <th>890</th>\n",
       "      <td>Q5aAt8W</td>\n",
       "      <td>https://i.imgur.com/Q5aAt8W.jpg</td>\n",
       "      <td>[265.0, 1172.0, 23.0, 27.0, 10.0]</td>\n",
       "      <td>Σ</td>\n",
       "    </tr>\n",
       "    <tr>\n",
       "      <th>895</th>\n",
       "      <td>Q5aAt8W</td>\n",
       "      <td>https://i.imgur.com/Q5aAt8W.jpg</td>\n",
       "      <td>[359.0, 1159.0, 8.0, 10.0, 0.0]</td>\n",
       "      <td>=</td>\n",
       "    </tr>\n",
       "  </tbody>\n",
       "</table>\n",
       "</div>"
      ],
      "text/plain": [
       "          id                              url  \\\n",
       "287  FEEMbfi  https://i.imgur.com/FEEMbfi.jpg   \n",
       "363  hhk8nvy  https://i.imgur.com/hhk8nvy.jpg   \n",
       "402  hhk8nvy  https://i.imgur.com/hhk8nvy.jpg   \n",
       "890  Q5aAt8W  https://i.imgur.com/Q5aAt8W.jpg   \n",
       "895  Q5aAt8W  https://i.imgur.com/Q5aAt8W.jpg   \n",
       "\n",
       "                               location text  \n",
       "287  [1755.5, 2735.5, 90.0, 46.0, 90.0]    -  \n",
       "363  [20.33, 544.33, 17.67, 25.67, 0.0]    *  \n",
       "402     [630.0, 646.5, 34.0, 51.0, 1.0]    *  \n",
       "890   [265.0, 1172.0, 23.0, 27.0, 10.0]    Σ  \n",
       "895     [359.0, 1159.0, 8.0, 10.0, 0.0]    =  "
      ]
     },
     "execution_count": 39,
     "metadata": {},
     "output_type": "execute_result"
    }
   ],
   "source": [
    "non_alnum_rows2.head()"
   ]
  },
  {
   "cell_type": "code",
   "execution_count": null,
   "metadata": {},
   "outputs": [],
   "source": [
    "show_image(\"hhk8nvy\")"
   ]
  },
  {
   "cell_type": "code",
   "execution_count": 53,
   "metadata": {},
   "outputs": [],
   "source": [
    "df.to_csv('df_cleaned_info.csv')"
   ]
  },
  {
   "cell_type": "markdown",
   "metadata": {
    "id": "9d6ZE628_XgL"
   },
   "source": [
    "### 1.4 Final Test Set\n",
    "Create a final test set to evalute the final model and comapre between different model"
   ]
  },
  {
   "cell_type": "code",
   "execution_count": 41,
   "metadata": {},
   "outputs": [],
   "source": [
    "import numpy as np"
   ]
  },
  {
   "cell_type": "code",
   "execution_count": 45,
   "metadata": {},
   "outputs": [],
   "source": [
    "# Get unique groups\n",
    "unique_images = df['id'].unique()\n",
    "\n",
    "# Randomly select 10% for test \n",
    "np.random.seed(42)\n",
    "test_images = np.random.choice(unique_images, \n",
    "                              size=int(len(unique_images)*0.2), \n",
    "                              replace=False)"
   ]
  },
  {
   "cell_type": "code",
   "execution_count": 49,
   "metadata": {},
   "outputs": [],
   "source": [
    "test_df = df[df['id'].isin(test_images)]\n",
    "training_df= df[~df['id'].isin(test_images)]"
   ]
  },
  {
   "cell_type": "code",
   "execution_count": 50,
   "metadata": {},
   "outputs": [
    {
     "name": "stdout",
     "output_type": "stream",
     "text": [
      "Words in Test Dataset: 41885 , Percentage:  0.20383582176714488\n",
      "Images in Test Dataset: 1565 , Percentage:  0.19992335206949413\n"
     ]
    }
   ],
   "source": [
    "print(\"Words in Test Dataset:\", len(test_df), \", Percentage: \", len(test_df)/len(df))\n",
    "print(\"Images in Test Dataset:\", len(test_df['id'].unique()), \", Percentage: \", len(test_df['id'].unique())/len(df['id'].unique()))"
   ]
  },
  {
   "cell_type": "code",
   "execution_count": 51,
   "metadata": {},
   "outputs": [],
   "source": [
    "test_df.to_csv('df_test_info.csv')"
   ]
  },
  {
   "cell_type": "code",
   "execution_count": 52,
   "metadata": {},
   "outputs": [],
   "source": [
    "training_df.to_csv('df_train_info.csv')"
   ]
  },
  {
   "cell_type": "markdown",
   "metadata": {
    "id": "Fxo64OBM3hYU"
   },
   "source": [
    "## Step 2. Base Model Evaluation"
   ]
  },
  {
   "cell_type": "markdown",
   "metadata": {
    "id": "O7NTnlyJ5QYv"
   },
   "source": [
    "### 2.1 Import Base Model\n",
    "The base model is from [TrOCR](https://huggingface.co/microsoft/trocr-base-handwritten) (base-sized model, fine-tuned on IAM) model fine-tuned on the IAM dataset. We accessed it with Hugging Face"
   ]
  },
  {
   "cell_type": "code",
   "execution_count": null,
   "metadata": {
    "colab": {
     "base_uri": "https://localhost:8080/",
     "height": 1000,
     "referenced_widgets": [
      "7e41ca99a35d410b823a24abdc6e9cb0",
      "b2bf429e207e4680b109774b41cda061",
      "ece7f4ad724847569671192cd78fcd8d",
      "b294d2cf0591441c870589bd4e90289f",
      "bf09f961414944b7ae7cdaed600b544e",
      "5912736372604dba8068bb9073c043b5",
      "23bc0ebb89f849d1bcdeec8582d3b8a1",
      "4f7a3083e4574a3c8f7ec3d50d7c3e06",
      "b8b6fe1d465946b5ada8e95f0ac3a0e3",
      "601de8c370504c8491397a0adad917fc",
      "bf782aacd2b9426da8e5632f22a0f76a",
      "a2664f77e6674cddb80d883c3db003f5",
      "61a721a8b8314353b128aa5bd15c00e7",
      "e978beec9bf340e3a18767b367a149b1",
      "0ebe7d3b80b745089e6b9521a50395d8",
      "d6f276ca8e1448cf81b8376a3b7768d3",
      "f427432e487c4a82ad42b97c694e97b2",
      "37510bd2d98d467c90a432f078a78738",
      "23338e012a684de5a573dedd83bf129f",
      "fca8488653594d8f80c1394a1691a509",
      "30ee695d6ca14677926ce0515faf778f",
      "ff7bdeea7f344a30b9094faea07e795b",
      "74b34bc6447040fab8b3377e271cb1f1",
      "c9073a91f2de4ffe86e8da9c2bcca08c",
      "818b027fb22341c3b16056f2b8ee35a3",
      "1c22d6f50d8f41c5b90bd417d182d9d4",
      "98a5d381eff9455ba4004c3da41a8b8d",
      "bfde317f0f4344929581caf35787cb59",
      "da0e1570e7f44e52979f1141c97e9bd7",
      "a888822838f1417da9b2d6150b93308f",
      "0ee077d9049d4660bf0621466bb19b2a",
      "fbdc121102f34edfb59e09d1541c4e49",
      "9b62ed731a324ea6b57607c1edd4dea0",
      "47d2418e4fea4e36b66df0016b9180d1",
      "b5d527261a3441ba845490cec2270bcf",
      "a2ddf7fc2c77473a8032e527d3d178a8",
      "957067b3d837404695d46ed7a94fc1c2",
      "63fd9f6081544c3a9471e97bb88fa33c",
      "c967284b621f4b39b89e6b91a1b2d719",
      "68ef7f5541cc489b9c52b2ed7055b12a",
      "63558b44267a48debf092528290d0ead",
      "d4ec9321a3b9490ab74cd51981278b89",
      "afa2f182b16c45358e5837aa0eb15a5a",
      "ac3f9c6872ef4a64b3000ae3a07080b1",
      "39c2f219cee14078bb1a6e7824bc6f19",
      "9634ddb708a9461d9d9939553d84d352",
      "6d4d035f2f03487398d3a8a9011b3810",
      "79a0711d1bec49409d4802e8bb011da7",
      "f3f7b209c5f64169b166f9f994a4ee5d",
      "e4aa7a215d424583bc9eb13277a1dd8e",
      "b502b2b910514777bffcec713caaad67",
      "99752945a4664311a8838752b718688f",
      "1259a54f5bbe4844a5fe25b1098281d1",
      "2cd0e389c70642cabee44535a5157f8b",
      "d31c6691b7b84258984f27e2a1e9f94c",
      "ce5bf5ecc32e46199a210093c6881c91",
      "a003d364c7844361a1b349beeef8ade9",
      "03e598b673254aa68d6cb961969d89a3",
      "801ee38683bb4ed1ac9df6d0d804159a",
      "b2f6d00b10c64731a637b8fc5abc8bc4",
      "0d4d402a1cf248f1a5fe3193cd2811c5",
      "afc26064307041bda40fd2b3a91e132e",
      "eab93bd106084fd9880d16c80886d043",
      "cfe82e7863d64fcd893b80c82e064340",
      "7d1ee0ba02ea4aa6ba1746fb2047782f",
      "1f1158fde42147c0b8fb8a194ba2559e",
      "c831f6d18b7d4b36a9d22462261459cb",
      "0ac8e0a1bc634e9297e870e4deb7e135",
      "9ab132e7bcdd46d79bc1ac66ba219f89",
      "abae7ec46856408c99ddd77ccd67ded6",
      "99db8dcb9668432aaa247652dd1fd82c",
      "2b546248d9c5427a9a4d82fb5a266710",
      "d502f51ecdcd48d2b837869519970e30",
      "566c4d905bcb4d78a1db41845382702d",
      "74c63c4f0b8f42c89679564da11b9987",
      "1f0ff20f5d8c4498961c18fa1e138034",
      "0bb2fb5e9fc145b6ae2267b3b9ab8019",
      "cdd9db88033f43bf923f30b637a82b7e",
      "276dedefc6b34ef4a55c445b5aa7dd82",
      "f73bf820a2c84ebfaebcfd61a2b01abe",
      "2c53b95c5d1b4d0c8d991f953a57b536",
      "c322845d528148ef9a358687b5b7d31a",
      "a5b8820a11b04dd2b3dbab8c27b5c5d5",
      "6b5f7fcf20e04485952d5d39bd0a9da2",
      "ded7867e05fc4acbbabd925e1c37d32d",
      "f06ef6cd6d3d4960bf78209cdc4ddfd8",
      "03ab10e9d12a4f8ebb2141ea35412097",
      "be71ac6543f4400c90cf27180101fde5"
     ]
    },
    "executionInfo": {
     "elapsed": 45342,
     "status": "ok",
     "timestamp": 1744331110526,
     "user": {
      "displayName": "Seoli Kim",
      "userId": "14708215966442501193"
     },
     "user_tz": 240
    },
    "id": "HPGOAThhGpAg",
    "outputId": "7c0efa61-ec09-49d1-b69b-22cf6669eae0"
   },
   "outputs": [],
   "source": [
    "# import base model\n",
    "from transformers import TrOCRProcessor, VisionEncoderDecoderModel\n",
    "import requests\n",
    "\n",
    "processor = TrOCRProcessor.from_pretrained('microsoft/trocr-base-handwritten')\n",
    "model = VisionEncoderDecoderModel.from_pretrained('microsoft/trocr-base-handwritten')"
   ]
  },
  {
   "cell_type": "code",
   "execution_count": null,
   "metadata": {
    "executionInfo": {
     "elapsed": 5,
     "status": "ok",
     "timestamp": 1744331110535,
     "user": {
      "displayName": "Seoli Kim",
      "userId": "14708215966442501193"
     },
     "user_tz": 240
    },
    "id": "32GuBHAb4TAf"
   },
   "outputs": [],
   "source": [
    "# input: image as RGB and model to process\n",
    "# output: text\n",
    "def image_to_text(model, image):\n",
    "  pixel_values = processor(images=image, return_tensors=\"pt\").pixel_values\n",
    "  generated_ids = model.generate(pixel_values)\n",
    "  generated_text = processor.batch_decode(generated_ids, skip_special_tokens=True)[0]\n",
    "  return generated_text"
   ]
  },
  {
   "cell_type": "markdown",
   "metadata": {
    "id": "47HpdobmubLY"
   },
   "source": [
    "### 2.2 Test Pre-trained Model"
   ]
  },
  {
   "cell_type": "markdown",
   "metadata": {
    "id": "GLMI7Ldh-TQd"
   },
   "source": [
    "We select several different complexity and format of images in our dataset to test the capacity of the pre-trained model"
   ]
  },
  {
   "cell_type": "code",
   "execution_count": null,
   "metadata": {
    "colab": {
     "base_uri": "https://localhost:8080/",
     "height": 314
    },
    "executionInfo": {
     "elapsed": 1312,
     "status": "ok",
     "timestamp": 1744331111850,
     "user": {
      "displayName": "Seoli Kim",
      "userId": "14708215966442501193"
     },
     "user_tz": 240
    },
    "id": "aU0oe1W30Fqw",
    "outputId": "779e39c7-ad33-4f42-a543-e896bcf1edff"
   },
   "outputs": [],
   "source": [
    "#  single word, no angle\n",
    "print_image(\"a0zqSCF\")"
   ]
  },
  {
   "cell_type": "code",
   "execution_count": null,
   "metadata": {
    "colab": {
     "base_uri": "https://localhost:8080/"
    },
    "executionInfo": {
     "elapsed": 1932,
     "status": "ok",
     "timestamp": 1744331113787,
     "user": {
      "displayName": "Seoli Kim",
      "userId": "14708215966442501193"
     },
     "user_tz": 240
    },
    "id": "-MJ-f-bTuCeX",
    "outputId": "fe2b4dcd-823c-44c8-f04b-e4ee60788791"
   },
   "outputs": [],
   "source": [
    "# test base model on single word image\n",
    "image = read_my_image(\"a0zqSCF\")\n",
    "text = image_to_text(model, image)\n",
    "print(text)"
   ]
  },
  {
   "cell_type": "code",
   "execution_count": null,
   "metadata": {
    "colab": {
     "base_uri": "https://localhost:8080/",
     "height": 499
    },
    "executionInfo": {
     "elapsed": 2365,
     "status": "ok",
     "timestamp": 1744331116155,
     "user": {
      "displayName": "Seoli Kim",
      "userId": "14708215966442501193"
     },
     "user_tz": 240
    },
    "id": "C4SC4Rz4-xPd",
    "outputId": "46bb7ddc-4b6d-4db2-ba35-0d8ff10160e6"
   },
   "outputs": [],
   "source": [
    "# multi-line, single word no angle\n",
    "print_image(\"ZIsH9sg\")"
   ]
  },
  {
   "cell_type": "code",
   "execution_count": null,
   "metadata": {
    "colab": {
     "base_uri": "https://localhost:8080/"
    },
    "executionInfo": {
     "elapsed": 1764,
     "status": "ok",
     "timestamp": 1744331117925,
     "user": {
      "displayName": "Seoli Kim",
      "userId": "14708215966442501193"
     },
     "user_tz": 240
    },
    "id": "wWFjxtUexklS",
    "outputId": "70a3f588-f055-4c91-e872-cc3bb9e719c3"
   },
   "outputs": [],
   "source": [
    "image = read_my_image(\"ZIsH9sg\")\n",
    "text = image_to_text(model, image)\n",
    "print(text)"
   ]
  },
  {
   "cell_type": "code",
   "execution_count": null,
   "metadata": {
    "colab": {
     "base_uri": "https://localhost:8080/",
     "height": 499
    },
    "executionInfo": {
     "elapsed": 2116,
     "status": "ok",
     "timestamp": 1744331120044,
     "user": {
      "displayName": "Seoli Kim",
      "userId": "14708215966442501193"
     },
     "user_tz": 240
    },
    "id": "T-86h8hau9rs",
    "outputId": "b5c36e87-91a7-4c66-9107-73d3e6eeec69"
   },
   "outputs": [],
   "source": [
    "# single line, multi-word, slightly angled\n",
    "print_image(\"9W9vgCw\")"
   ]
  },
  {
   "cell_type": "code",
   "execution_count": null,
   "metadata": {
    "colab": {
     "base_uri": "https://localhost:8080/"
    },
    "executionInfo": {
     "elapsed": 5327,
     "status": "ok",
     "timestamp": 1744331125367,
     "user": {
      "displayName": "Seoli Kim",
      "userId": "14708215966442501193"
     },
     "user_tz": 240
    },
    "id": "wnUAon2avE5h",
    "outputId": "cbb8f1e2-3404-4ee9-c4b0-ca1027a980e4"
   },
   "outputs": [],
   "source": [
    "image = read_my_image(\"9W9vgCw\")\n",
    "text = image_to_text(model, image)\n",
    "print(text)"
   ]
  },
  {
   "cell_type": "code",
   "execution_count": null,
   "metadata": {
    "colab": {
     "base_uri": "https://localhost:8080/",
     "height": 112
    },
    "executionInfo": {
     "elapsed": 156,
     "status": "ok",
     "timestamp": 1744331125525,
     "user": {
      "displayName": "Seoli Kim",
      "userId": "14708215966442501193"
     },
     "user_tz": 240
    },
    "id": "wLRTzXNQiWHQ",
    "outputId": "271df2bb-48dc-42f1-d3ee-7ad7c2f99b30"
   },
   "outputs": [],
   "source": [
    "df[df['id']=='9W9vgCw']"
   ]
  },
  {
   "cell_type": "code",
   "execution_count": null,
   "metadata": {
    "colab": {
     "base_uri": "https://localhost:8080/",
     "height": 499
    },
    "executionInfo": {
     "elapsed": 2981,
     "status": "ok",
     "timestamp": 1744331128509,
     "user": {
      "displayName": "Seoli Kim",
      "userId": "14708215966442501193"
     },
     "user_tz": 240
    },
    "id": "taFd0A7t_MPZ",
    "outputId": "e17e599f-d8db-4f2c-d463-a114c3da2092"
   },
   "outputs": [],
   "source": [
    "# single line, multi word, no angle\n",
    "print_image(\"7buo10E\")"
   ]
  },
  {
   "cell_type": "code",
   "execution_count": null,
   "metadata": {
    "colab": {
     "base_uri": "https://localhost:8080/"
    },
    "executionInfo": {
     "elapsed": 1803,
     "status": "ok",
     "timestamp": 1744331143891,
     "user": {
      "displayName": "Seoli Kim",
      "userId": "14708215966442501193"
     },
     "user_tz": 240
    },
    "id": "BWRgXtXbvfr0",
    "outputId": "393ab0fb-a673-457a-89ae-0c7f4899e086"
   },
   "outputs": [],
   "source": [
    "image = read_my_image(\"7buo10E\")\n",
    "text = image_to_text(model, image)\n",
    "print(text)"
   ]
  },
  {
   "cell_type": "code",
   "execution_count": null,
   "metadata": {
    "executionInfo": {
     "elapsed": 2,
     "status": "aborted",
     "timestamp": 1744331130592,
     "user": {
      "displayName": "Seoli Kim",
      "userId": "14708215966442501193"
     },
     "user_tz": 240
    },
    "id": "qFYbmZo8_O30"
   },
   "outputs": [],
   "source": [
    "print_image(\"y7YkG7L\")"
   ]
  },
  {
   "cell_type": "code",
   "execution_count": null,
   "metadata": {
    "executionInfo": {
     "elapsed": 3,
     "status": "aborted",
     "timestamp": 1744331130600,
     "user": {
      "displayName": "Seoli Kim",
      "userId": "14708215966442501193"
     },
     "user_tz": 240
    },
    "id": "qMSa1p9WvwxH"
   },
   "outputs": [],
   "source": [
    "image = read_my_image(\"y7YkG7L\")\n",
    "text = image_to_text(model, image)\n",
    "print(text)"
   ]
  },
  {
   "cell_type": "code",
   "execution_count": null,
   "metadata": {
    "executionInfo": {
     "elapsed": 143031,
     "status": "aborted",
     "timestamp": 1744331130607,
     "user": {
      "displayName": "Seoli Kim",
      "userId": "14708215966442501193"
     },
     "user_tz": 240
    },
    "id": "n6Kuaf_a_Rjz"
   },
   "outputs": [],
   "source": [
    "print_image(\"d3JaHtH\")"
   ]
  },
  {
   "cell_type": "code",
   "execution_count": null,
   "metadata": {
    "executionInfo": {
     "elapsed": 143027,
     "status": "aborted",
     "timestamp": 1744331130612,
     "user": {
      "displayName": "Seoli Kim",
      "userId": "14708215966442501193"
     },
     "user_tz": 240
    },
    "id": "1NYEFf8fv-26"
   },
   "outputs": [],
   "source": [
    "image = read_my_image(\"d3JaHtH\")\n",
    "text = image_to_text(model, image)\n",
    "print(text)"
   ]
  },
  {
   "cell_type": "markdown",
   "metadata": {
    "id": "XGyuIxYuvQZB"
   },
   "source": [
    "#### Conlusion\n",
    "1. *Single-word, single-line, no angle*: Highest successes, depedning on the complexity of each style, but the model is able to process the characters and read the basics\n",
    "2. *Multi-word, single-line, no angle*: The model has some more difficulties, a little less acurate than single word\n",
    "3. *Single-word, single-line, no angle*:\n",
    "4. *Single-word, single-line, no angle*:"
   ]
  },
  {
   "cell_type": "code",
   "execution_count": null,
   "metadata": {},
   "outputs": [],
   "source": []
  },
  {
   "cell_type": "markdown",
   "metadata": {
    "id": "RzhowUTchiuB"
   },
   "source": [
    "## Step 3. Fine-tune On Whole-page Images\n",
    "We would first fine-tune the model on original dataset, which are full-page images.  "
   ]
  },
  {
   "cell_type": "markdown",
   "metadata": {
    "id": "6yC6Q8QFc-Sv"
   },
   "source": [
    "### 3.1 Get Dataset based on full image"
   ]
  },
  {
   "cell_type": "code",
   "execution_count": null,
   "metadata": {
    "executionInfo": {
     "elapsed": 5,
     "status": "ok",
     "timestamp": 1744331151637,
     "user": {
      "displayName": "Seoli Kim",
      "userId": "14708215966442501193"
     },
     "user_tz": 240
    },
    "id": "GbNbQeZ8ja2y"
   },
   "outputs": [],
   "source": [
    "# remove unrelated columns for full images\n",
    "df_full_images = df.drop(['url','location'], axis=1)"
   ]
  },
  {
   "cell_type": "code",
   "execution_count": null,
   "metadata": {
    "executionInfo": {
     "elapsed": 177,
     "status": "ok",
     "timestamp": 1744331152522,
     "user": {
      "displayName": "Seoli Kim",
      "userId": "14708215966442501193"
     },
     "user_tz": 240
    },
    "id": "xwgkJe1JgnDS"
   },
   "outputs": [],
   "source": [
    "df_full_images= df.groupby('id')['text'].agg(lambda x: ' '.join(map(str, x))).reset_index()"
   ]
  },
  {
   "cell_type": "code",
   "execution_count": null,
   "metadata": {
    "executionInfo": {
     "elapsed": 22,
     "status": "ok",
     "timestamp": 1744331170246,
     "user": {
      "displayName": "Seoli Kim",
      "userId": "14708215966442501193"
     },
     "user_tz": 240
    },
    "id": "xSJB_7dhrNQy"
   },
   "outputs": [],
   "source": [
    "df_full_images['text']=df_full_images['text'].astype(str)"
   ]
  },
  {
   "cell_type": "code",
   "execution_count": null,
   "metadata": {
    "colab": {
     "base_uri": "https://localhost:8080/",
     "height": 206
    },
    "executionInfo": {
     "elapsed": 95,
     "status": "ok",
     "timestamp": 1744331172447,
     "user": {
      "displayName": "Seoli Kim",
      "userId": "14708215966442501193"
     },
     "user_tz": 240
    },
    "id": "Y-IHc6yzj6sb",
    "outputId": "1948255b-0bec-44b3-ca78-90c13a5b2150"
   },
   "outputs": [],
   "source": [
    "df_full_images.head()"
   ]
  },
  {
   "cell_type": "markdown",
   "metadata": {
    "id": "2GjQzCGJ8S9n"
   },
   "source": [
    "After trials, we realize that the model has a limit od 512 token size and the GPU doesn't support high token size. So we would take the subset with text that have less than 128 tokens."
   ]
  },
  {
   "cell_type": "code",
   "execution_count": null,
   "metadata": {
    "executionInfo": {
     "elapsed": 65,
     "status": "ok",
     "timestamp": 1744331187052,
     "user": {
      "displayName": "Seoli Kim",
      "userId": "14708215966442501193"
     },
     "user_tz": 240
    },
    "id": "LMVAfWwN8IdW"
   },
   "outputs": [],
   "source": [
    "subdf_full_images = df_full_images[df_full_images['text'].apply(lambda x: len(x) <= 128)]"
   ]
  },
  {
   "cell_type": "code",
   "execution_count": null,
   "metadata": {
    "colab": {
     "base_uri": "https://localhost:8080/"
    },
    "executionInfo": {
     "elapsed": 157,
     "status": "ok",
     "timestamp": 1744331187937,
     "user": {
      "displayName": "Seoli Kim",
      "userId": "14708215966442501193"
     },
     "user_tz": 240
    },
    "id": "PvGOnm9s_Btt",
    "outputId": "21348fbc-f64c-4e65-e7a5-eb8c062d8b9c"
   },
   "outputs": [],
   "source": [
    "len(df_full_images)"
   ]
  },
  {
   "cell_type": "code",
   "execution_count": null,
   "metadata": {
    "colab": {
     "base_uri": "https://localhost:8080/"
    },
    "executionInfo": {
     "elapsed": 60,
     "status": "ok",
     "timestamp": 1744331188545,
     "user": {
      "displayName": "Seoli Kim",
      "userId": "14708215966442501193"
     },
     "user_tz": 240
    },
    "id": "c4ajP-PU85UM",
    "outputId": "0f395e06-21cd-47e7-e7b7-827fafc7f728"
   },
   "outputs": [],
   "source": [
    "len(subdf_full_images)"
   ]
  },
  {
   "cell_type": "markdown",
   "metadata": {
    "id": "0Imm88-V1fYz"
   },
   "source": [
    "### 3.2 Format Dataset for training"
   ]
  },
  {
   "cell_type": "code",
   "execution_count": null,
   "metadata": {
    "executionInfo": {
     "elapsed": 6,
     "status": "ok",
     "timestamp": 1744331197714,
     "user": {
      "displayName": "Seoli Kim",
      "userId": "14708215966442501193"
     },
     "user_tz": 240
    },
    "id": "eg4fAm3X1e3i"
   },
   "outputs": [],
   "source": [
    "import torch\n",
    "from torch.utils.data import Dataset\n",
    "from PIL import Image\n",
    "\n",
    "class StyleDataset(Dataset):\n",
    "    def __init__(self, df, processor, max_target_length=128):\n",
    "        self.df = df\n",
    "        self.processor = processor\n",
    "        self.max_target_length = max_target_length\n",
    "\n",
    "    def __len__(self):\n",
    "        return len(self.df)\n",
    "\n",
    "    def __getitem__(self, idx):\n",
    "      try:\n",
    "          text = self.df['text'][idx]\n",
    "          if not isinstance(text, str) or not text.strip():\n",
    "              raise ValueError(f\"Invalid text at index {idx}: {repr(text)}\")\n",
    "          image_id = self.df['id'][idx]\n",
    "          try:\n",
    "              image = read_my_image(image_id)\n",
    "          except Exception as e:\n",
    "              raise ValueError(f\"Failed to load image for ID {image_id} at index {idx}\") from e\n",
    "          try:\n",
    "              pixel_values = self.processor(image, return_tensors=\"pt\").pixel_values\n",
    "          except Exception as e:\n",
    "              raise ValueError(f\"Image processing failed at index {idx}\") from e\n",
    "\n",
    "          if torch.isnan(pixel_values).any() or torch.isinf(pixel_values).any():\n",
    "              raise ValueError(f\"Invalid pixel values (NaN/inf) at index {idx}\")\n",
    "          try:\n",
    "              labels = self.processor.tokenizer(\n",
    "                  text,\n",
    "                  padding=\"max_length\",\n",
    "                  max_length=self.max_target_length\n",
    "              ).input_ids\n",
    "          except Exception as e:\n",
    "              raise ValueError(f\"Tokenization failed for text at index {idx}\") from e\n",
    "\n",
    "          # Replace pad_token_id with -100 for loss masking\n",
    "          labels = [\n",
    "              label if label != self.processor.tokenizer.pad_token_id else -100\n",
    "              for label in labels\n",
    "          ]\n",
    "          encoding = {\n",
    "              \"pixel_values\": pixel_values.squeeze(),\n",
    "              \"labels\": torch.tensor(labels)\n",
    "          }\n",
    "\n",
    "          if encoding[\"pixel_values\"].dim() != 3:\n",
    "              raise ValueError(f\"Invalid pixel_values shape at index {idx}\")\n",
    "\n",
    "          if encoding[\"labels\"].numel() != self.max_target_length:\n",
    "              raise ValueError(f\"Labels length mismatch at index {idx}\")\n",
    "\n",
    "          return encoding\n",
    "\n",
    "      except Exception as e:\n",
    "          print(f\"\\nError in sample {idx}:\")\n",
    "          print(f\"   Error type: {type(e).__name__}\")\n",
    "          print(f\"   Details: {str(e)}\")\n",
    "          if hasattr(e, '__cause__') and e.__cause__:\n",
    "              print(f\"   Underlying error: {type(e.__cause__).__name__}: {str(e.__cause__)}\")\n",
    "          print(f\"   DataFrame row:\\n{self.df.iloc[idx]}\")\n",
    "          return None"
   ]
  },
  {
   "cell_type": "markdown",
   "metadata": {
    "id": "G2zOVIw40AYX"
   },
   "source": [
    "### 3.2 Divide Into Validation and Training sets"
   ]
  },
  {
   "cell_type": "code",
   "execution_count": null,
   "metadata": {
    "executionInfo": {
     "elapsed": 103,
     "status": "ok",
     "timestamp": 1744331200166,
     "user": {
      "displayName": "Seoli Kim",
      "userId": "14708215966442501193"
     },
     "user_tz": 240
    },
    "id": "3522bwV5z_jX"
   },
   "outputs": [],
   "source": [
    "from sklearn.model_selection import train_test_split\n",
    "import pandas as pd\n",
    "\n",
    "train_df, eval_df = train_test_split(subdf_full_images, test_size=0.2, random_state=42)\n",
    "\n",
    "train_df = train_df.reset_index(drop=True)\n",
    "eval_df = eval_df.reset_index(drop=True)\n",
    "\n",
    "# Split into validation and training sets\n",
    "train_dataset = StyleDataset(df=train_df,processor=processor)\n",
    "eval_dataset= StyleDataset(df=eval_df,processor=processor)"
   ]
  },
  {
   "cell_type": "code",
   "execution_count": null,
   "metadata": {
    "colab": {
     "base_uri": "https://localhost:8080/"
    },
    "executionInfo": {
     "elapsed": 141,
     "status": "ok",
     "timestamp": 1744331201068,
     "user": {
      "displayName": "Seoli Kim",
      "userId": "14708215966442501193"
     },
     "user_tz": 240
    },
    "id": "4BfpIgUw4YB-",
    "outputId": "282d6974-5f4e-4937-bf29-28eae7e1aecd"
   },
   "outputs": [],
   "source": [
    "print(\"Number of training examples:\", len(train_dataset))\n",
    "print(\"Number of validation examples:\", len(eval_dataset))"
   ]
  },
  {
   "cell_type": "code",
   "execution_count": null,
   "metadata": {
    "executionInfo": {
     "elapsed": 30,
     "status": "ok",
     "timestamp": 1744331202297,
     "user": {
      "displayName": "Seoli Kim",
      "userId": "14708215966442501193"
     },
     "user_tz": 240
    },
    "id": "J3ysi3KT1I6j"
   },
   "outputs": [],
   "source": [
    "def get_label_str(encoding):\n",
    "  labels = encoding['labels']\n",
    "  labels[labels == -100] = processor.tokenizer.pad_token_id\n",
    "  label_str = processor.decode(labels, skip_special_tokens=True)\n",
    "  return label_str\n"
   ]
  },
  {
   "cell_type": "code",
   "execution_count": null,
   "metadata": {
    "colab": {
     "base_uri": "https://localhost:8080/",
     "height": 35
    },
    "executionInfo": {
     "elapsed": 1178,
     "status": "ok",
     "timestamp": 1744331204097,
     "user": {
      "displayName": "Seoli Kim",
      "userId": "14708215966442501193"
     },
     "user_tz": 240
    },
    "id": "c7xTtM8u7KFh",
    "outputId": "b1805269-b0dc-4a13-908e-15e630fdfee9"
   },
   "outputs": [],
   "source": [
    "get_label_str(train_dataset[42])"
   ]
  },
  {
   "cell_type": "code",
   "execution_count": null,
   "metadata": {
    "colab": {
     "base_uri": "https://localhost:8080/",
     "height": 35
    },
    "executionInfo": {
     "elapsed": 849,
     "status": "ok",
     "timestamp": 1744331205019,
     "user": {
      "displayName": "Seoli Kim",
      "userId": "14708215966442501193"
     },
     "user_tz": 240
    },
    "id": "tqDCTLD2238w",
    "outputId": "1cb9a45e-6e3e-4c00-9a40-d46452475f2f"
   },
   "outputs": [],
   "source": [
    "get_label_str(eval_dataset[42])"
   ]
  },
  {
   "cell_type": "markdown",
   "metadata": {
    "id": "_KFa1Dt57ZKW"
   },
   "source": [
    "### 3.3 Full-page Image\n"
   ]
  },
  {
   "cell_type": "code",
   "execution_count": null,
   "metadata": {
    "executionInfo": {
     "elapsed": 9,
     "status": "ok",
     "timestamp": 1744331205034,
     "user": {
      "displayName": "Seoli Kim",
      "userId": "14708215966442501193"
     },
     "user_tz": 240
    },
    "id": "EezifrBo7SmJ"
   },
   "outputs": [],
   "source": [
    "# Analyze your dataset first\n",
    "avg_target_len = df['labels'].apply(len).mean()\n",
    "max_target_len = int(df['labels'].apply(len).quantile(0.95))\n",
    "\n",
    "# ======================\n",
    "# Model Configuration\n",
    "# Aligned with Dataset\n",
    "# ======================\n",
    "\n",
    "# Token Alignment\n",
    "model.config.update({\n",
    "    # Must match tokenizer's vocabulary\n",
    "    'vocab_size': len(processor.tokenizer),\n",
    "    \n",
    "    # Special tokens (critical for sequence processing)\n",
    "    'pad_token_id': processor.tokenizer.pad_token_id,       # Padding token\n",
    "    'bos_token_id': processor.tokenizer.cls_token_id,       # Beginning of sequence\n",
    "    'eos_token_id': processor.tokenizer.sep_token_id,       # End of sequence\n",
    "    'decoder_start_token_id': processor.tokenizer.cls_token_id,  # First decoder token\n",
    "    \n",
    "    # Sequence Length (adjust based on dataset statistics)\n",
    "    'max_length': 64,               # Should cover 95% of target sequences\n",
    "    'min_length': 1,                # Minimum generation length\n",
    "    \n",
    "    # Beam Search Parameters\n",
    "    'num_beams': 4,                 # Balance quality (4) vs speed (1)\n",
    "    'early_stopping': True,         # Stop when all beams finish\n",
    "    'length_penalty': 2.0,          # >1 = longer outputs, <1 = shorter\n",
    "    \n",
    "    # Repetition Control\n",
    "    'no_repeat_ngram_size': 3,      # Block repeating 3-grams\n",
    "    'repetition_penalty': 1.2,      # 1.0=no penalty, >1 reduces repeats\n",
    "    \n",
    "    # Sampling Parameters\n",
    "    'temperature': 0.7,             # 0.5-1.0 (lower = more deterministic)\n",
    "    'top_k': 50,                    # Top 50 tokens considered\n",
    "    'top_p': 0.9,                   # Nucleus sampling threshold\n",
    "    'do_sample': False,             # Set True for creative tasks\n",
    "    \n",
    "    # Architecture (typically keep pretrained defaults)\n",
    "    'encoder_layers': model.config.encoder_layers,\n",
    "    'decoder_layers': model.config.decoder_layers,\n",
    "    'd_model': model.config.d_model,\n",
    "    'attention_heads': model.config.attention_heads\n",
    "})\n",
    "\n",
    "# ======================\n",
    "# Verification Checks\n",
    "# ======================\n",
    "assert model.config.vocab_size == len(processor.tokenizer), \"Vocabulary mismatch!\"\n",
    "assert model.config.pad_token_id == processor.tokenizer.pad_token_id, \"Pad token mismatch!\""
   ]
  },
  {
   "cell_type": "code",
   "execution_count": null,
   "metadata": {
    "colab": {
     "base_uri": "https://localhost:8080/"
    },
    "executionInfo": {
     "elapsed": 1532,
     "status": "ok",
     "timestamp": 1744331207176,
     "user": {
      "displayName": "Seoli Kim",
      "userId": "14708215966442501193"
     },
     "user_tz": 240
    },
    "id": "jcA3jr6_7srL",
    "outputId": "c5981ae1-6c08-46ef-89db-b36bfb7af906"
   },
   "outputs": [],
   "source": [
    "from transformers import Seq2SeqTrainer, Seq2SeqTrainingArguments\n",
    "\n",
    "training_args = Seq2SeqTrainingArguments(\n",
    "    predict_with_generate=True,\n",
    "    evaluation_strategy=\"steps\",\n",
    "    per_device_train_batch_size=12,  # Increased from 8 (if GPU memory allows)\n",
    "    per_device_eval_batch_size=12,\n",
    "    fp16=True,  # Keep mixed precision\n",
    "    output_dir=\"./output/models/\",\n",
    "    logging_steps=100,  # Reduced logging frequency\n",
    "    save_steps=500,  # Less frequent checkpointing\n",
    "    eval_steps=250,  # Slightly less frequent evaluation\n",
    "    gradient_accumulation_steps=1,  # Remove if previously set higher\n",
    "    warmup_steps=100,  # Reduced warmup\n",
    "    learning_rate=3e-5,  # Slightly higher LR for faster convergence\n",
    "    num_train_epochs=3,  # Reduced if your data allows\n",
    "    optim=\"adamw_torch\",  # More efficient optimizer\n",
    "    report_to=\"none\",  # Disable expensive logging integrations\n",
    ")"
   ]
  },
  {
   "cell_type": "code",
   "execution_count": null,
   "metadata": {
    "colab": {
     "base_uri": "https://localhost:8080/",
     "height": 49,
     "referenced_widgets": [
      "037bfaf157fb46109fe31dafff97a0be",
      "1febb6aff51f4d46bdd2f2fdabf0aa19",
      "8184524bcff94734984ffe729260de13",
      "2384b1d4b708481090c2cb273474c352",
      "4ac590410673458f9e9a6738cffd689d",
      "6bcee770d85d40da9144a1a3646da7ec",
      "15874e767aa24c868b564e9b080539d9",
      "73202668427d421a84a5d7c792e46dc1",
      "9cc4bb8989214ba9ba57e6b28d262c11",
      "0fb7bd6c378746869ac63578a0f5c718",
      "faa6c70271684d71a02de96aaaaa067e"
     ]
    },
    "executionInfo": {
     "elapsed": 2276,
     "status": "ok",
     "timestamp": 1744331217149,
     "user": {
      "displayName": "Seoli Kim",
      "userId": "14708215966442501193"
     },
     "user_tz": 240
    },
    "id": "SgeO5IbU7xKx",
    "outputId": "94c0c0ad-788f-4d51-db43-e3a28689566e"
   },
   "outputs": [],
   "source": [
    "from evaluate import load\n",
    "\n",
    "cer_metric = load(\"cer\")"
   ]
  },
  {
   "cell_type": "code",
   "execution_count": null,
   "metadata": {
    "executionInfo": {
     "elapsed": 136,
     "status": "ok",
     "timestamp": 1744331217289,
     "user": {
      "displayName": "Seoli Kim",
      "userId": "14708215966442501193"
     },
     "user_tz": 240
    },
    "id": "MliSuljM9O8Q"
   },
   "outputs": [],
   "source": [
    "from evaluate import load\n",
    "import numpy as np\n",
    "from collections import defaultdict\n",
    "\n",
    "# Initialize metrics\n",
    "cer_metric = load(\"cer\")\n",
    "wer_metric = load(\"wer\")\n",
    "\n",
    "def compute_word_level_metrics(pred_str, label_str):\n",
    "    \"\"\"Analyze errors at word level while preserving context\"\"\"\n",
    "    word_cer = []\n",
    "    error_types = {\n",
    "        'missing_words': 0,\n",
    "        'correct_words': 0,\n",
    "        'partial_words': 0,\n",
    "        'extra_words': 0\n",
    "    }\n",
    "    \n",
    "    for pred, label in zip(pred_str.split(), label_str.split()):\n",
    "        word_cer.append(cer_metric.compute(predictions=[pred], references=[label]))\n",
    "        \n",
    "        if pred == label:\n",
    "            error_types['correct_words'] += 1\n",
    "        elif pred in label_str:\n",
    "            error_types['partial_words'] += 1\n",
    "        elif pred not in label_str and len(pred) > 0:\n",
    "            error_types['extra_words'] += 1\n",
    "    \n",
    "    # Count missing words (present in label but not prediction)\n",
    "    error_types['missing_words'] = len(set(label_str.split()) - set(pred_str.split()))\n",
    "    \n",
    "    return {\n",
    "        'word_cer_avg': np.mean(word_cer),\n",
    "        'word_cer_distribution': np.percentile(word_cer, [25, 50, 75]),\n",
    "        **error_types\n",
    "    }\n",
    "\n",
    "def compute_metrics(pred):\n",
    "    labels_ids = pred.label_ids\n",
    "    pred_ids = pred.predictions\n",
    "\n",
    "    # Decode with punctuation preservation\n",
    "    pred_str = processor.batch_decode(pred_ids, skip_special_tokens=True, clean_up_tokenization_spaces=False)\n",
    "    labels_ids[labels_ids == -100] = processor.tokenizer.pad_token_id\n",
    "    label_str = processor.batch_decode(labels_ids, skip_special_tokens=True, clean_up_tokenization_spaces=False)\n",
    "\n",
    "    # Standard metrics\n",
    "    metrics = {\n",
    "        'cer': cer_metric.compute(predictions=pred_str, references=label_str),\n",
    "        'wer': wer_metric.compute(predictions=pred_str, references=label_str),\n",
    "    }\n",
    "\n",
    "    # Word-level analysis\n",
    "    word_metrics = defaultdict(list)\n",
    "    for p, l in zip(pred_str, label_str):\n",
    "        word_metrics.update(compute_word_level_metrics(p, l))\n",
    "    \n",
    "    # Combine results\n",
    "    return {\n",
    "        **metrics,\n",
    "        'word_level': {\n",
    "            'avg_cer_per_word': np.mean(word_metrics['word_cer_avg']),\n",
    "            'correct_words_ratio': np.mean([m['correct_words']/(m['correct_words']+m['partial_words']) for m in word_metrics]),\n",
    "            'missing_words_ratio': np.mean([m['missing_words']/len(l.split()) for m, l in zip(word_metrics, label_str)]),\n",
    "            'cer_distribution': {\n",
    "                '25th': np.percentile(word_metrics['word_cer_avg'], 25),\n",
    "                'median': np.percentile(word_metrics['word_cer_avg'], 50),\n",
    "                '75th': np.percentile(word_metrics['word_cer_avg'], 75)\n",
    "            }\n",
    "        },\n",
    "        # Normalized scores (0-100 scale)\n",
    "        'scores': {\n",
    "            'overall_quality': 100 * (1 - metrics['wer']),  # WER-based\n",
    "            'word_accuracy': 100 * np.mean([m['correct_words']/len(l.split()) for m, l in zip(word_metrics, label_str)])\n",
    "        }\n",
    "    }"
   ]
  },
  {
   "cell_type": "code",
   "execution_count": null,
   "metadata": {
    "colab": {
     "base_uri": "https://localhost:8080/",
     "height": 526
    },
    "id": "Vm-iTGIs9Wrg",
    "outputId": "7d550414-aa3a-46fc-db95-0914b1a70f59"
   },
   "outputs": [],
   "source": [
    "from transformers import default_data_collator\n",
    "\n",
    "# instantiate trainer\n",
    "trainer = Seq2SeqTrainer(\n",
    "    model=model,\n",
    "    tokenizer=processor.feature_extractor,\n",
    "    args=training_args,\n",
    "    compute_metrics=compute_metrics,\n",
    "    train_dataset=train_dataset,\n",
    "    eval_dataset=eval_dataset,\n",
    "    data_collator=default_data_collator,\n",
    ")\n",
    "trainer.train()"
   ]
  },
  {
   "cell_type": "code",
   "execution_count": null,
   "metadata": {},
   "outputs": [],
   "source": []
  }
 ],
 "metadata": {
  "accelerator": "GPU",
  "colab": {
   "gpuType": "T4",
   "provenance": []
  },
  "kernelspec": {
   "display_name": "Python 3 (ipykernel)",
   "language": "python",
   "name": "python3"
  },
  "language_info": {
   "codemirror_mode": {
    "name": "ipython",
    "version": 3
   },
   "file_extension": ".py",
   "mimetype": "text/x-python",
   "name": "python",
   "nbconvert_exporter": "python",
   "pygments_lexer": "ipython3",
   "version": "3.10.12"
  },
  "widgets": {
   "application/vnd.jupyter.widget-state+json": {
    "037bfaf157fb46109fe31dafff97a0be": {
     "model_module": "@jupyter-widgets/controls",
     "model_module_version": "1.5.0",
     "model_name": "HBoxModel",
     "state": {
      "_dom_classes": [],
      "_model_module": "@jupyter-widgets/controls",
      "_model_module_version": "1.5.0",
      "_model_name": "HBoxModel",
      "_view_count": null,
      "_view_module": "@jupyter-widgets/controls",
      "_view_module_version": "1.5.0",
      "_view_name": "HBoxView",
      "box_style": "",
      "children": [
       "IPY_MODEL_1febb6aff51f4d46bdd2f2fdabf0aa19",
       "IPY_MODEL_8184524bcff94734984ffe729260de13",
       "IPY_MODEL_2384b1d4b708481090c2cb273474c352"
      ],
      "layout": "IPY_MODEL_4ac590410673458f9e9a6738cffd689d"
     }
    },
    "03ab10e9d12a4f8ebb2141ea35412097": {
     "model_module": "@jupyter-widgets/base",
     "model_module_version": "1.2.0",
     "model_name": "LayoutModel",
     "state": {
      "_model_module": "@jupyter-widgets/base",
      "_model_module_version": "1.2.0",
      "_model_name": "LayoutModel",
      "_view_count": null,
      "_view_module": "@jupyter-widgets/base",
      "_view_module_version": "1.2.0",
      "_view_name": "LayoutView",
      "align_content": null,
      "align_items": null,
      "align_self": null,
      "border": null,
      "bottom": null,
      "display": null,
      "flex": null,
      "flex_flow": null,
      "grid_area": null,
      "grid_auto_columns": null,
      "grid_auto_flow": null,
      "grid_auto_rows": null,
      "grid_column": null,
      "grid_gap": null,
      "grid_row": null,
      "grid_template_areas": null,
      "grid_template_columns": null,
      "grid_template_rows": null,
      "height": null,
      "justify_content": null,
      "justify_items": null,
      "left": null,
      "margin": null,
      "max_height": null,
      "max_width": null,
      "min_height": null,
      "min_width": null,
      "object_fit": null,
      "object_position": null,
      "order": null,
      "overflow": null,
      "overflow_x": null,
      "overflow_y": null,
      "padding": null,
      "right": null,
      "top": null,
      "visibility": null,
      "width": null
     }
    },
    "03e598b673254aa68d6cb961969d89a3": {
     "model_module": "@jupyter-widgets/controls",
     "model_module_version": "1.5.0",
     "model_name": "FloatProgressModel",
     "state": {
      "_dom_classes": [],
      "_model_module": "@jupyter-widgets/controls",
      "_model_module_version": "1.5.0",
      "_model_name": "FloatProgressModel",
      "_view_count": null,
      "_view_module": "@jupyter-widgets/controls",
      "_view_module_version": "1.5.0",
      "_view_name": "ProgressView",
      "bar_style": "success",
      "description": "",
      "description_tooltip": null,
      "layout": "IPY_MODEL_eab93bd106084fd9880d16c80886d043",
      "max": 4165,
      "min": 0,
      "orientation": "horizontal",
      "style": "IPY_MODEL_cfe82e7863d64fcd893b80c82e064340",
      "value": 4165
     }
    },
    "0ac8e0a1bc634e9297e870e4deb7e135": {
     "model_module": "@jupyter-widgets/controls",
     "model_module_version": "1.5.0",
     "model_name": "HTMLModel",
     "state": {
      "_dom_classes": [],
      "_model_module": "@jupyter-widgets/controls",
      "_model_module_version": "1.5.0",
      "_model_name": "HTMLModel",
      "_view_count": null,
      "_view_module": "@jupyter-widgets/controls",
      "_view_module_version": "1.5.0",
      "_view_name": "HTMLView",
      "description": "",
      "description_tooltip": null,
      "layout": "IPY_MODEL_2b546248d9c5427a9a4d82fb5a266710",
      "placeholder": "​",
      "style": "IPY_MODEL_d502f51ecdcd48d2b837869519970e30",
      "value": "model.safetensors: 100%"
     }
    },
    "0bb2fb5e9fc145b6ae2267b3b9ab8019": {
     "model_module": "@jupyter-widgets/controls",
     "model_module_version": "1.5.0",
     "model_name": "DescriptionStyleModel",
     "state": {
      "_model_module": "@jupyter-widgets/controls",
      "_model_module_version": "1.5.0",
      "_model_name": "DescriptionStyleModel",
      "_view_count": null,
      "_view_module": "@jupyter-widgets/base",
      "_view_module_version": "1.2.0",
      "_view_name": "StyleView",
      "description_width": ""
     }
    },
    "0d4d402a1cf248f1a5fe3193cd2811c5": {
     "model_module": "@jupyter-widgets/base",
     "model_module_version": "1.2.0",
     "model_name": "LayoutModel",
     "state": {
      "_model_module": "@jupyter-widgets/base",
      "_model_module_version": "1.2.0",
      "_model_name": "LayoutModel",
      "_view_count": null,
      "_view_module": "@jupyter-widgets/base",
      "_view_module_version": "1.2.0",
      "_view_name": "LayoutView",
      "align_content": null,
      "align_items": null,
      "align_self": null,
      "border": null,
      "bottom": null,
      "display": null,
      "flex": null,
      "flex_flow": null,
      "grid_area": null,
      "grid_auto_columns": null,
      "grid_auto_flow": null,
      "grid_auto_rows": null,
      "grid_column": null,
      "grid_gap": null,
      "grid_row": null,
      "grid_template_areas": null,
      "grid_template_columns": null,
      "grid_template_rows": null,
      "height": null,
      "justify_content": null,
      "justify_items": null,
      "left": null,
      "margin": null,
      "max_height": null,
      "max_width": null,
      "min_height": null,
      "min_width": null,
      "object_fit": null,
      "object_position": null,
      "order": null,
      "overflow": null,
      "overflow_x": null,
      "overflow_y": null,
      "padding": null,
      "right": null,
      "top": null,
      "visibility": null,
      "width": null
     }
    },
    "0ebe7d3b80b745089e6b9521a50395d8": {
     "model_module": "@jupyter-widgets/controls",
     "model_module_version": "1.5.0",
     "model_name": "HTMLModel",
     "state": {
      "_dom_classes": [],
      "_model_module": "@jupyter-widgets/controls",
      "_model_module_version": "1.5.0",
      "_model_name": "HTMLModel",
      "_view_count": null,
      "_view_module": "@jupyter-widgets/controls",
      "_view_module_version": "1.5.0",
      "_view_name": "HTMLView",
      "description": "",
      "description_tooltip": null,
      "layout": "IPY_MODEL_30ee695d6ca14677926ce0515faf778f",
      "placeholder": "​",
      "style": "IPY_MODEL_ff7bdeea7f344a30b9094faea07e795b",
      "value": " 1.12k/1.12k [00:00&lt;00:00, 118kB/s]"
     }
    },
    "0ee077d9049d4660bf0621466bb19b2a": {
     "model_module": "@jupyter-widgets/controls",
     "model_module_version": "1.5.0",
     "model_name": "ProgressStyleModel",
     "state": {
      "_model_module": "@jupyter-widgets/controls",
      "_model_module_version": "1.5.0",
      "_model_name": "ProgressStyleModel",
      "_view_count": null,
      "_view_module": "@jupyter-widgets/base",
      "_view_module_version": "1.2.0",
      "_view_name": "StyleView",
      "bar_color": null,
      "description_width": ""
     }
    },
    "0fb7bd6c378746869ac63578a0f5c718": {
     "model_module": "@jupyter-widgets/base",
     "model_module_version": "1.2.0",
     "model_name": "LayoutModel",
     "state": {
      "_model_module": "@jupyter-widgets/base",
      "_model_module_version": "1.2.0",
      "_model_name": "LayoutModel",
      "_view_count": null,
      "_view_module": "@jupyter-widgets/base",
      "_view_module_version": "1.2.0",
      "_view_name": "LayoutView",
      "align_content": null,
      "align_items": null,
      "align_self": null,
      "border": null,
      "bottom": null,
      "display": null,
      "flex": null,
      "flex_flow": null,
      "grid_area": null,
      "grid_auto_columns": null,
      "grid_auto_flow": null,
      "grid_auto_rows": null,
      "grid_column": null,
      "grid_gap": null,
      "grid_row": null,
      "grid_template_areas": null,
      "grid_template_columns": null,
      "grid_template_rows": null,
      "height": null,
      "justify_content": null,
      "justify_items": null,
      "left": null,
      "margin": null,
      "max_height": null,
      "max_width": null,
      "min_height": null,
      "min_width": null,
      "object_fit": null,
      "object_position": null,
      "order": null,
      "overflow": null,
      "overflow_x": null,
      "overflow_y": null,
      "padding": null,
      "right": null,
      "top": null,
      "visibility": null,
      "width": null
     }
    },
    "1259a54f5bbe4844a5fe25b1098281d1": {
     "model_module": "@jupyter-widgets/controls",
     "model_module_version": "1.5.0",
     "model_name": "ProgressStyleModel",
     "state": {
      "_model_module": "@jupyter-widgets/controls",
      "_model_module_version": "1.5.0",
      "_model_name": "ProgressStyleModel",
      "_view_count": null,
      "_view_module": "@jupyter-widgets/base",
      "_view_module_version": "1.2.0",
      "_view_name": "StyleView",
      "bar_color": null,
      "description_width": ""
     }
    },
    "15874e767aa24c868b564e9b080539d9": {
     "model_module": "@jupyter-widgets/controls",
     "model_module_version": "1.5.0",
     "model_name": "DescriptionStyleModel",
     "state": {
      "_model_module": "@jupyter-widgets/controls",
      "_model_module_version": "1.5.0",
      "_model_name": "DescriptionStyleModel",
      "_view_count": null,
      "_view_module": "@jupyter-widgets/base",
      "_view_module_version": "1.2.0",
      "_view_name": "StyleView",
      "description_width": ""
     }
    },
    "1c22d6f50d8f41c5b90bd417d182d9d4": {
     "model_module": "@jupyter-widgets/controls",
     "model_module_version": "1.5.0",
     "model_name": "HTMLModel",
     "state": {
      "_dom_classes": [],
      "_model_module": "@jupyter-widgets/controls",
      "_model_module_version": "1.5.0",
      "_model_name": "HTMLModel",
      "_view_count": null,
      "_view_module": "@jupyter-widgets/controls",
      "_view_module_version": "1.5.0",
      "_view_name": "HTMLView",
      "description": "",
      "description_tooltip": null,
      "layout": "IPY_MODEL_fbdc121102f34edfb59e09d1541c4e49",
      "placeholder": "​",
      "style": "IPY_MODEL_9b62ed731a324ea6b57607c1edd4dea0",
      "value": " 899k/899k [00:00&lt;00:00, 4.08MB/s]"
     }
    },
    "1f0ff20f5d8c4498961c18fa1e138034": {
     "model_module": "@jupyter-widgets/base",
     "model_module_version": "1.2.0",
     "model_name": "LayoutModel",
     "state": {
      "_model_module": "@jupyter-widgets/base",
      "_model_module_version": "1.2.0",
      "_model_name": "LayoutModel",
      "_view_count": null,
      "_view_module": "@jupyter-widgets/base",
      "_view_module_version": "1.2.0",
      "_view_name": "LayoutView",
      "align_content": null,
      "align_items": null,
      "align_self": null,
      "border": null,
      "bottom": null,
      "display": null,
      "flex": null,
      "flex_flow": null,
      "grid_area": null,
      "grid_auto_columns": null,
      "grid_auto_flow": null,
      "grid_auto_rows": null,
      "grid_column": null,
      "grid_gap": null,
      "grid_row": null,
      "grid_template_areas": null,
      "grid_template_columns": null,
      "grid_template_rows": null,
      "height": null,
      "justify_content": null,
      "justify_items": null,
      "left": null,
      "margin": null,
      "max_height": null,
      "max_width": null,
      "min_height": null,
      "min_width": null,
      "object_fit": null,
      "object_position": null,
      "order": null,
      "overflow": null,
      "overflow_x": null,
      "overflow_y": null,
      "padding": null,
      "right": null,
      "top": null,
      "visibility": null,
      "width": null
     }
    },
    "1f1158fde42147c0b8fb8a194ba2559e": {
     "model_module": "@jupyter-widgets/controls",
     "model_module_version": "1.5.0",
     "model_name": "DescriptionStyleModel",
     "state": {
      "_model_module": "@jupyter-widgets/controls",
      "_model_module_version": "1.5.0",
      "_model_name": "DescriptionStyleModel",
      "_view_count": null,
      "_view_module": "@jupyter-widgets/base",
      "_view_module_version": "1.2.0",
      "_view_name": "StyleView",
      "description_width": ""
     }
    },
    "1febb6aff51f4d46bdd2f2fdabf0aa19": {
     "model_module": "@jupyter-widgets/controls",
     "model_module_version": "1.5.0",
     "model_name": "HTMLModel",
     "state": {
      "_dom_classes": [],
      "_model_module": "@jupyter-widgets/controls",
      "_model_module_version": "1.5.0",
      "_model_name": "HTMLModel",
      "_view_count": null,
      "_view_module": "@jupyter-widgets/controls",
      "_view_module_version": "1.5.0",
      "_view_name": "HTMLView",
      "description": "",
      "description_tooltip": null,
      "layout": "IPY_MODEL_6bcee770d85d40da9144a1a3646da7ec",
      "placeholder": "​",
      "style": "IPY_MODEL_15874e767aa24c868b564e9b080539d9",
      "value": "Downloading builder script: 100%"
     }
    },
    "23338e012a684de5a573dedd83bf129f": {
     "model_module": "@jupyter-widgets/base",
     "model_module_version": "1.2.0",
     "model_name": "LayoutModel",
     "state": {
      "_model_module": "@jupyter-widgets/base",
      "_model_module_version": "1.2.0",
      "_model_name": "LayoutModel",
      "_view_count": null,
      "_view_module": "@jupyter-widgets/base",
      "_view_module_version": "1.2.0",
      "_view_name": "LayoutView",
      "align_content": null,
      "align_items": null,
      "align_self": null,
      "border": null,
      "bottom": null,
      "display": null,
      "flex": null,
      "flex_flow": null,
      "grid_area": null,
      "grid_auto_columns": null,
      "grid_auto_flow": null,
      "grid_auto_rows": null,
      "grid_column": null,
      "grid_gap": null,
      "grid_row": null,
      "grid_template_areas": null,
      "grid_template_columns": null,
      "grid_template_rows": null,
      "height": null,
      "justify_content": null,
      "justify_items": null,
      "left": null,
      "margin": null,
      "max_height": null,
      "max_width": null,
      "min_height": null,
      "min_width": null,
      "object_fit": null,
      "object_position": null,
      "order": null,
      "overflow": null,
      "overflow_x": null,
      "overflow_y": null,
      "padding": null,
      "right": null,
      "top": null,
      "visibility": null,
      "width": null
     }
    },
    "2384b1d4b708481090c2cb273474c352": {
     "model_module": "@jupyter-widgets/controls",
     "model_module_version": "1.5.0",
     "model_name": "HTMLModel",
     "state": {
      "_dom_classes": [],
      "_model_module": "@jupyter-widgets/controls",
      "_model_module_version": "1.5.0",
      "_model_name": "HTMLModel",
      "_view_count": null,
      "_view_module": "@jupyter-widgets/controls",
      "_view_module_version": "1.5.0",
      "_view_name": "HTMLView",
      "description": "",
      "description_tooltip": null,
      "layout": "IPY_MODEL_0fb7bd6c378746869ac63578a0f5c718",
      "placeholder": "​",
      "style": "IPY_MODEL_faa6c70271684d71a02de96aaaaa067e",
      "value": " 5.60k/5.60k [00:00&lt;00:00, 555kB/s]"
     }
    },
    "23bc0ebb89f849d1bcdeec8582d3b8a1": {
     "model_module": "@jupyter-widgets/controls",
     "model_module_version": "1.5.0",
     "model_name": "DescriptionStyleModel",
     "state": {
      "_model_module": "@jupyter-widgets/controls",
      "_model_module_version": "1.5.0",
      "_model_name": "DescriptionStyleModel",
      "_view_count": null,
      "_view_module": "@jupyter-widgets/base",
      "_view_module_version": "1.2.0",
      "_view_name": "StyleView",
      "description_width": ""
     }
    },
    "276dedefc6b34ef4a55c445b5aa7dd82": {
     "model_module": "@jupyter-widgets/controls",
     "model_module_version": "1.5.0",
     "model_name": "HTMLModel",
     "state": {
      "_dom_classes": [],
      "_model_module": "@jupyter-widgets/controls",
      "_model_module_version": "1.5.0",
      "_model_name": "HTMLModel",
      "_view_count": null,
      "_view_module": "@jupyter-widgets/controls",
      "_view_module_version": "1.5.0",
      "_view_name": "HTMLView",
      "description": "",
      "description_tooltip": null,
      "layout": "IPY_MODEL_a5b8820a11b04dd2b3dbab8c27b5c5d5",
      "placeholder": "​",
      "style": "IPY_MODEL_6b5f7fcf20e04485952d5d39bd0a9da2",
      "value": "generation_config.json: 100%"
     }
    },
    "2b546248d9c5427a9a4d82fb5a266710": {
     "model_module": "@jupyter-widgets/base",
     "model_module_version": "1.2.0",
     "model_name": "LayoutModel",
     "state": {
      "_model_module": "@jupyter-widgets/base",
      "_model_module_version": "1.2.0",
      "_model_name": "LayoutModel",
      "_view_count": null,
      "_view_module": "@jupyter-widgets/base",
      "_view_module_version": "1.2.0",
      "_view_name": "LayoutView",
      "align_content": null,
      "align_items": null,
      "align_self": null,
      "border": null,
      "bottom": null,
      "display": null,
      "flex": null,
      "flex_flow": null,
      "grid_area": null,
      "grid_auto_columns": null,
      "grid_auto_flow": null,
      "grid_auto_rows": null,
      "grid_column": null,
      "grid_gap": null,
      "grid_row": null,
      "grid_template_areas": null,
      "grid_template_columns": null,
      "grid_template_rows": null,
      "height": null,
      "justify_content": null,
      "justify_items": null,
      "left": null,
      "margin": null,
      "max_height": null,
      "max_width": null,
      "min_height": null,
      "min_width": null,
      "object_fit": null,
      "object_position": null,
      "order": null,
      "overflow": null,
      "overflow_x": null,
      "overflow_y": null,
      "padding": null,
      "right": null,
      "top": null,
      "visibility": null,
      "width": null
     }
    },
    "2c53b95c5d1b4d0c8d991f953a57b536": {
     "model_module": "@jupyter-widgets/controls",
     "model_module_version": "1.5.0",
     "model_name": "HTMLModel",
     "state": {
      "_dom_classes": [],
      "_model_module": "@jupyter-widgets/controls",
      "_model_module_version": "1.5.0",
      "_model_name": "HTMLModel",
      "_view_count": null,
      "_view_module": "@jupyter-widgets/controls",
      "_view_module_version": "1.5.0",
      "_view_name": "HTMLView",
      "description": "",
      "description_tooltip": null,
      "layout": "IPY_MODEL_03ab10e9d12a4f8ebb2141ea35412097",
      "placeholder": "​",
      "style": "IPY_MODEL_be71ac6543f4400c90cf27180101fde5",
      "value": " 190/190 [00:00&lt;00:00, 14.4kB/s]"
     }
    },
    "2cd0e389c70642cabee44535a5157f8b": {
     "model_module": "@jupyter-widgets/base",
     "model_module_version": "1.2.0",
     "model_name": "LayoutModel",
     "state": {
      "_model_module": "@jupyter-widgets/base",
      "_model_module_version": "1.2.0",
      "_model_name": "LayoutModel",
      "_view_count": null,
      "_view_module": "@jupyter-widgets/base",
      "_view_module_version": "1.2.0",
      "_view_name": "LayoutView",
      "align_content": null,
      "align_items": null,
      "align_self": null,
      "border": null,
      "bottom": null,
      "display": null,
      "flex": null,
      "flex_flow": null,
      "grid_area": null,
      "grid_auto_columns": null,
      "grid_auto_flow": null,
      "grid_auto_rows": null,
      "grid_column": null,
      "grid_gap": null,
      "grid_row": null,
      "grid_template_areas": null,
      "grid_template_columns": null,
      "grid_template_rows": null,
      "height": null,
      "justify_content": null,
      "justify_items": null,
      "left": null,
      "margin": null,
      "max_height": null,
      "max_width": null,
      "min_height": null,
      "min_width": null,
      "object_fit": null,
      "object_position": null,
      "order": null,
      "overflow": null,
      "overflow_x": null,
      "overflow_y": null,
      "padding": null,
      "right": null,
      "top": null,
      "visibility": null,
      "width": null
     }
    },
    "30ee695d6ca14677926ce0515faf778f": {
     "model_module": "@jupyter-widgets/base",
     "model_module_version": "1.2.0",
     "model_name": "LayoutModel",
     "state": {
      "_model_module": "@jupyter-widgets/base",
      "_model_module_version": "1.2.0",
      "_model_name": "LayoutModel",
      "_view_count": null,
      "_view_module": "@jupyter-widgets/base",
      "_view_module_version": "1.2.0",
      "_view_name": "LayoutView",
      "align_content": null,
      "align_items": null,
      "align_self": null,
      "border": null,
      "bottom": null,
      "display": null,
      "flex": null,
      "flex_flow": null,
      "grid_area": null,
      "grid_auto_columns": null,
      "grid_auto_flow": null,
      "grid_auto_rows": null,
      "grid_column": null,
      "grid_gap": null,
      "grid_row": null,
      "grid_template_areas": null,
      "grid_template_columns": null,
      "grid_template_rows": null,
      "height": null,
      "justify_content": null,
      "justify_items": null,
      "left": null,
      "margin": null,
      "max_height": null,
      "max_width": null,
      "min_height": null,
      "min_width": null,
      "object_fit": null,
      "object_position": null,
      "order": null,
      "overflow": null,
      "overflow_x": null,
      "overflow_y": null,
      "padding": null,
      "right": null,
      "top": null,
      "visibility": null,
      "width": null
     }
    },
    "37510bd2d98d467c90a432f078a78738": {
     "model_module": "@jupyter-widgets/controls",
     "model_module_version": "1.5.0",
     "model_name": "DescriptionStyleModel",
     "state": {
      "_model_module": "@jupyter-widgets/controls",
      "_model_module_version": "1.5.0",
      "_model_name": "DescriptionStyleModel",
      "_view_count": null,
      "_view_module": "@jupyter-widgets/base",
      "_view_module_version": "1.2.0",
      "_view_name": "StyleView",
      "description_width": ""
     }
    },
    "39c2f219cee14078bb1a6e7824bc6f19": {
     "model_module": "@jupyter-widgets/controls",
     "model_module_version": "1.5.0",
     "model_name": "HBoxModel",
     "state": {
      "_dom_classes": [],
      "_model_module": "@jupyter-widgets/controls",
      "_model_module_version": "1.5.0",
      "_model_name": "HBoxModel",
      "_view_count": null,
      "_view_module": "@jupyter-widgets/controls",
      "_view_module_version": "1.5.0",
      "_view_name": "HBoxView",
      "box_style": "",
      "children": [
       "IPY_MODEL_9634ddb708a9461d9d9939553d84d352",
       "IPY_MODEL_6d4d035f2f03487398d3a8a9011b3810",
       "IPY_MODEL_79a0711d1bec49409d4802e8bb011da7"
      ],
      "layout": "IPY_MODEL_f3f7b209c5f64169b166f9f994a4ee5d"
     }
    },
    "47d2418e4fea4e36b66df0016b9180d1": {
     "model_module": "@jupyter-widgets/controls",
     "model_module_version": "1.5.0",
     "model_name": "HBoxModel",
     "state": {
      "_dom_classes": [],
      "_model_module": "@jupyter-widgets/controls",
      "_model_module_version": "1.5.0",
      "_model_name": "HBoxModel",
      "_view_count": null,
      "_view_module": "@jupyter-widgets/controls",
      "_view_module_version": "1.5.0",
      "_view_name": "HBoxView",
      "box_style": "",
      "children": [
       "IPY_MODEL_b5d527261a3441ba845490cec2270bcf",
       "IPY_MODEL_a2ddf7fc2c77473a8032e527d3d178a8",
       "IPY_MODEL_957067b3d837404695d46ed7a94fc1c2"
      ],
      "layout": "IPY_MODEL_63fd9f6081544c3a9471e97bb88fa33c"
     }
    },
    "4ac590410673458f9e9a6738cffd689d": {
     "model_module": "@jupyter-widgets/base",
     "model_module_version": "1.2.0",
     "model_name": "LayoutModel",
     "state": {
      "_model_module": "@jupyter-widgets/base",
      "_model_module_version": "1.2.0",
      "_model_name": "LayoutModel",
      "_view_count": null,
      "_view_module": "@jupyter-widgets/base",
      "_view_module_version": "1.2.0",
      "_view_name": "LayoutView",
      "align_content": null,
      "align_items": null,
      "align_self": null,
      "border": null,
      "bottom": null,
      "display": null,
      "flex": null,
      "flex_flow": null,
      "grid_area": null,
      "grid_auto_columns": null,
      "grid_auto_flow": null,
      "grid_auto_rows": null,
      "grid_column": null,
      "grid_gap": null,
      "grid_row": null,
      "grid_template_areas": null,
      "grid_template_columns": null,
      "grid_template_rows": null,
      "height": null,
      "justify_content": null,
      "justify_items": null,
      "left": null,
      "margin": null,
      "max_height": null,
      "max_width": null,
      "min_height": null,
      "min_width": null,
      "object_fit": null,
      "object_position": null,
      "order": null,
      "overflow": null,
      "overflow_x": null,
      "overflow_y": null,
      "padding": null,
      "right": null,
      "top": null,
      "visibility": null,
      "width": null
     }
    },
    "4f7a3083e4574a3c8f7ec3d50d7c3e06": {
     "model_module": "@jupyter-widgets/base",
     "model_module_version": "1.2.0",
     "model_name": "LayoutModel",
     "state": {
      "_model_module": "@jupyter-widgets/base",
      "_model_module_version": "1.2.0",
      "_model_name": "LayoutModel",
      "_view_count": null,
      "_view_module": "@jupyter-widgets/base",
      "_view_module_version": "1.2.0",
      "_view_name": "LayoutView",
      "align_content": null,
      "align_items": null,
      "align_self": null,
      "border": null,
      "bottom": null,
      "display": null,
      "flex": null,
      "flex_flow": null,
      "grid_area": null,
      "grid_auto_columns": null,
      "grid_auto_flow": null,
      "grid_auto_rows": null,
      "grid_column": null,
      "grid_gap": null,
      "grid_row": null,
      "grid_template_areas": null,
      "grid_template_columns": null,
      "grid_template_rows": null,
      "height": null,
      "justify_content": null,
      "justify_items": null,
      "left": null,
      "margin": null,
      "max_height": null,
      "max_width": null,
      "min_height": null,
      "min_width": null,
      "object_fit": null,
      "object_position": null,
      "order": null,
      "overflow": null,
      "overflow_x": null,
      "overflow_y": null,
      "padding": null,
      "right": null,
      "top": null,
      "visibility": null,
      "width": null
     }
    },
    "566c4d905bcb4d78a1db41845382702d": {
     "model_module": "@jupyter-widgets/base",
     "model_module_version": "1.2.0",
     "model_name": "LayoutModel",
     "state": {
      "_model_module": "@jupyter-widgets/base",
      "_model_module_version": "1.2.0",
      "_model_name": "LayoutModel",
      "_view_count": null,
      "_view_module": "@jupyter-widgets/base",
      "_view_module_version": "1.2.0",
      "_view_name": "LayoutView",
      "align_content": null,
      "align_items": null,
      "align_self": null,
      "border": null,
      "bottom": null,
      "display": null,
      "flex": null,
      "flex_flow": null,
      "grid_area": null,
      "grid_auto_columns": null,
      "grid_auto_flow": null,
      "grid_auto_rows": null,
      "grid_column": null,
      "grid_gap": null,
      "grid_row": null,
      "grid_template_areas": null,
      "grid_template_columns": null,
      "grid_template_rows": null,
      "height": null,
      "justify_content": null,
      "justify_items": null,
      "left": null,
      "margin": null,
      "max_height": null,
      "max_width": null,
      "min_height": null,
      "min_width": null,
      "object_fit": null,
      "object_position": null,
      "order": null,
      "overflow": null,
      "overflow_x": null,
      "overflow_y": null,
      "padding": null,
      "right": null,
      "top": null,
      "visibility": null,
      "width": null
     }
    },
    "5912736372604dba8068bb9073c043b5": {
     "model_module": "@jupyter-widgets/base",
     "model_module_version": "1.2.0",
     "model_name": "LayoutModel",
     "state": {
      "_model_module": "@jupyter-widgets/base",
      "_model_module_version": "1.2.0",
      "_model_name": "LayoutModel",
      "_view_count": null,
      "_view_module": "@jupyter-widgets/base",
      "_view_module_version": "1.2.0",
      "_view_name": "LayoutView",
      "align_content": null,
      "align_items": null,
      "align_self": null,
      "border": null,
      "bottom": null,
      "display": null,
      "flex": null,
      "flex_flow": null,
      "grid_area": null,
      "grid_auto_columns": null,
      "grid_auto_flow": null,
      "grid_auto_rows": null,
      "grid_column": null,
      "grid_gap": null,
      "grid_row": null,
      "grid_template_areas": null,
      "grid_template_columns": null,
      "grid_template_rows": null,
      "height": null,
      "justify_content": null,
      "justify_items": null,
      "left": null,
      "margin": null,
      "max_height": null,
      "max_width": null,
      "min_height": null,
      "min_width": null,
      "object_fit": null,
      "object_position": null,
      "order": null,
      "overflow": null,
      "overflow_x": null,
      "overflow_y": null,
      "padding": null,
      "right": null,
      "top": null,
      "visibility": null,
      "width": null
     }
    },
    "601de8c370504c8491397a0adad917fc": {
     "model_module": "@jupyter-widgets/base",
     "model_module_version": "1.2.0",
     "model_name": "LayoutModel",
     "state": {
      "_model_module": "@jupyter-widgets/base",
      "_model_module_version": "1.2.0",
      "_model_name": "LayoutModel",
      "_view_count": null,
      "_view_module": "@jupyter-widgets/base",
      "_view_module_version": "1.2.0",
      "_view_name": "LayoutView",
      "align_content": null,
      "align_items": null,
      "align_self": null,
      "border": null,
      "bottom": null,
      "display": null,
      "flex": null,
      "flex_flow": null,
      "grid_area": null,
      "grid_auto_columns": null,
      "grid_auto_flow": null,
      "grid_auto_rows": null,
      "grid_column": null,
      "grid_gap": null,
      "grid_row": null,
      "grid_template_areas": null,
      "grid_template_columns": null,
      "grid_template_rows": null,
      "height": null,
      "justify_content": null,
      "justify_items": null,
      "left": null,
      "margin": null,
      "max_height": null,
      "max_width": null,
      "min_height": null,
      "min_width": null,
      "object_fit": null,
      "object_position": null,
      "order": null,
      "overflow": null,
      "overflow_x": null,
      "overflow_y": null,
      "padding": null,
      "right": null,
      "top": null,
      "visibility": null,
      "width": null
     }
    },
    "61a721a8b8314353b128aa5bd15c00e7": {
     "model_module": "@jupyter-widgets/controls",
     "model_module_version": "1.5.0",
     "model_name": "HTMLModel",
     "state": {
      "_dom_classes": [],
      "_model_module": "@jupyter-widgets/controls",
      "_model_module_version": "1.5.0",
      "_model_name": "HTMLModel",
      "_view_count": null,
      "_view_module": "@jupyter-widgets/controls",
      "_view_module_version": "1.5.0",
      "_view_name": "HTMLView",
      "description": "",
      "description_tooltip": null,
      "layout": "IPY_MODEL_f427432e487c4a82ad42b97c694e97b2",
      "placeholder": "​",
      "style": "IPY_MODEL_37510bd2d98d467c90a432f078a78738",
      "value": "tokenizer_config.json: 100%"
     }
    },
    "63558b44267a48debf092528290d0ead": {
     "model_module": "@jupyter-widgets/base",
     "model_module_version": "1.2.0",
     "model_name": "LayoutModel",
     "state": {
      "_model_module": "@jupyter-widgets/base",
      "_model_module_version": "1.2.0",
      "_model_name": "LayoutModel",
      "_view_count": null,
      "_view_module": "@jupyter-widgets/base",
      "_view_module_version": "1.2.0",
      "_view_name": "LayoutView",
      "align_content": null,
      "align_items": null,
      "align_self": null,
      "border": null,
      "bottom": null,
      "display": null,
      "flex": null,
      "flex_flow": null,
      "grid_area": null,
      "grid_auto_columns": null,
      "grid_auto_flow": null,
      "grid_auto_rows": null,
      "grid_column": null,
      "grid_gap": null,
      "grid_row": null,
      "grid_template_areas": null,
      "grid_template_columns": null,
      "grid_template_rows": null,
      "height": null,
      "justify_content": null,
      "justify_items": null,
      "left": null,
      "margin": null,
      "max_height": null,
      "max_width": null,
      "min_height": null,
      "min_width": null,
      "object_fit": null,
      "object_position": null,
      "order": null,
      "overflow": null,
      "overflow_x": null,
      "overflow_y": null,
      "padding": null,
      "right": null,
      "top": null,
      "visibility": null,
      "width": null
     }
    },
    "63fd9f6081544c3a9471e97bb88fa33c": {
     "model_module": "@jupyter-widgets/base",
     "model_module_version": "1.2.0",
     "model_name": "LayoutModel",
     "state": {
      "_model_module": "@jupyter-widgets/base",
      "_model_module_version": "1.2.0",
      "_model_name": "LayoutModel",
      "_view_count": null,
      "_view_module": "@jupyter-widgets/base",
      "_view_module_version": "1.2.0",
      "_view_name": "LayoutView",
      "align_content": null,
      "align_items": null,
      "align_self": null,
      "border": null,
      "bottom": null,
      "display": null,
      "flex": null,
      "flex_flow": null,
      "grid_area": null,
      "grid_auto_columns": null,
      "grid_auto_flow": null,
      "grid_auto_rows": null,
      "grid_column": null,
      "grid_gap": null,
      "grid_row": null,
      "grid_template_areas": null,
      "grid_template_columns": null,
      "grid_template_rows": null,
      "height": null,
      "justify_content": null,
      "justify_items": null,
      "left": null,
      "margin": null,
      "max_height": null,
      "max_width": null,
      "min_height": null,
      "min_width": null,
      "object_fit": null,
      "object_position": null,
      "order": null,
      "overflow": null,
      "overflow_x": null,
      "overflow_y": null,
      "padding": null,
      "right": null,
      "top": null,
      "visibility": null,
      "width": null
     }
    },
    "68ef7f5541cc489b9c52b2ed7055b12a": {
     "model_module": "@jupyter-widgets/controls",
     "model_module_version": "1.5.0",
     "model_name": "DescriptionStyleModel",
     "state": {
      "_model_module": "@jupyter-widgets/controls",
      "_model_module_version": "1.5.0",
      "_model_name": "DescriptionStyleModel",
      "_view_count": null,
      "_view_module": "@jupyter-widgets/base",
      "_view_module_version": "1.2.0",
      "_view_name": "StyleView",
      "description_width": ""
     }
    },
    "6b5f7fcf20e04485952d5d39bd0a9da2": {
     "model_module": "@jupyter-widgets/controls",
     "model_module_version": "1.5.0",
     "model_name": "DescriptionStyleModel",
     "state": {
      "_model_module": "@jupyter-widgets/controls",
      "_model_module_version": "1.5.0",
      "_model_name": "DescriptionStyleModel",
      "_view_count": null,
      "_view_module": "@jupyter-widgets/base",
      "_view_module_version": "1.2.0",
      "_view_name": "StyleView",
      "description_width": ""
     }
    },
    "6bcee770d85d40da9144a1a3646da7ec": {
     "model_module": "@jupyter-widgets/base",
     "model_module_version": "1.2.0",
     "model_name": "LayoutModel",
     "state": {
      "_model_module": "@jupyter-widgets/base",
      "_model_module_version": "1.2.0",
      "_model_name": "LayoutModel",
      "_view_count": null,
      "_view_module": "@jupyter-widgets/base",
      "_view_module_version": "1.2.0",
      "_view_name": "LayoutView",
      "align_content": null,
      "align_items": null,
      "align_self": null,
      "border": null,
      "bottom": null,
      "display": null,
      "flex": null,
      "flex_flow": null,
      "grid_area": null,
      "grid_auto_columns": null,
      "grid_auto_flow": null,
      "grid_auto_rows": null,
      "grid_column": null,
      "grid_gap": null,
      "grid_row": null,
      "grid_template_areas": null,
      "grid_template_columns": null,
      "grid_template_rows": null,
      "height": null,
      "justify_content": null,
      "justify_items": null,
      "left": null,
      "margin": null,
      "max_height": null,
      "max_width": null,
      "min_height": null,
      "min_width": null,
      "object_fit": null,
      "object_position": null,
      "order": null,
      "overflow": null,
      "overflow_x": null,
      "overflow_y": null,
      "padding": null,
      "right": null,
      "top": null,
      "visibility": null,
      "width": null
     }
    },
    "6d4d035f2f03487398d3a8a9011b3810": {
     "model_module": "@jupyter-widgets/controls",
     "model_module_version": "1.5.0",
     "model_name": "FloatProgressModel",
     "state": {
      "_dom_classes": [],
      "_model_module": "@jupyter-widgets/controls",
      "_model_module_version": "1.5.0",
      "_model_name": "FloatProgressModel",
      "_view_count": null,
      "_view_module": "@jupyter-widgets/controls",
      "_view_module_version": "1.5.0",
      "_view_name": "ProgressView",
      "bar_style": "success",
      "description": "",
      "description_tooltip": null,
      "layout": "IPY_MODEL_99752945a4664311a8838752b718688f",
      "max": 772,
      "min": 0,
      "orientation": "horizontal",
      "style": "IPY_MODEL_1259a54f5bbe4844a5fe25b1098281d1",
      "value": 772
     }
    },
    "73202668427d421a84a5d7c792e46dc1": {
     "model_module": "@jupyter-widgets/base",
     "model_module_version": "1.2.0",
     "model_name": "LayoutModel",
     "state": {
      "_model_module": "@jupyter-widgets/base",
      "_model_module_version": "1.2.0",
      "_model_name": "LayoutModel",
      "_view_count": null,
      "_view_module": "@jupyter-widgets/base",
      "_view_module_version": "1.2.0",
      "_view_name": "LayoutView",
      "align_content": null,
      "align_items": null,
      "align_self": null,
      "border": null,
      "bottom": null,
      "display": null,
      "flex": null,
      "flex_flow": null,
      "grid_area": null,
      "grid_auto_columns": null,
      "grid_auto_flow": null,
      "grid_auto_rows": null,
      "grid_column": null,
      "grid_gap": null,
      "grid_row": null,
      "grid_template_areas": null,
      "grid_template_columns": null,
      "grid_template_rows": null,
      "height": null,
      "justify_content": null,
      "justify_items": null,
      "left": null,
      "margin": null,
      "max_height": null,
      "max_width": null,
      "min_height": null,
      "min_width": null,
      "object_fit": null,
      "object_position": null,
      "order": null,
      "overflow": null,
      "overflow_x": null,
      "overflow_y": null,
      "padding": null,
      "right": null,
      "top": null,
      "visibility": null,
      "width": null
     }
    },
    "74b34bc6447040fab8b3377e271cb1f1": {
     "model_module": "@jupyter-widgets/controls",
     "model_module_version": "1.5.0",
     "model_name": "HBoxModel",
     "state": {
      "_dom_classes": [],
      "_model_module": "@jupyter-widgets/controls",
      "_model_module_version": "1.5.0",
      "_model_name": "HBoxModel",
      "_view_count": null,
      "_view_module": "@jupyter-widgets/controls",
      "_view_module_version": "1.5.0",
      "_view_name": "HBoxView",
      "box_style": "",
      "children": [
       "IPY_MODEL_c9073a91f2de4ffe86e8da9c2bcca08c",
       "IPY_MODEL_818b027fb22341c3b16056f2b8ee35a3",
       "IPY_MODEL_1c22d6f50d8f41c5b90bd417d182d9d4"
      ],
      "layout": "IPY_MODEL_98a5d381eff9455ba4004c3da41a8b8d"
     }
    },
    "74c63c4f0b8f42c89679564da11b9987": {
     "model_module": "@jupyter-widgets/controls",
     "model_module_version": "1.5.0",
     "model_name": "ProgressStyleModel",
     "state": {
      "_model_module": "@jupyter-widgets/controls",
      "_model_module_version": "1.5.0",
      "_model_name": "ProgressStyleModel",
      "_view_count": null,
      "_view_module": "@jupyter-widgets/base",
      "_view_module_version": "1.2.0",
      "_view_name": "StyleView",
      "bar_color": null,
      "description_width": ""
     }
    },
    "79a0711d1bec49409d4802e8bb011da7": {
     "model_module": "@jupyter-widgets/controls",
     "model_module_version": "1.5.0",
     "model_name": "HTMLModel",
     "state": {
      "_dom_classes": [],
      "_model_module": "@jupyter-widgets/controls",
      "_model_module_version": "1.5.0",
      "_model_name": "HTMLModel",
      "_view_count": null,
      "_view_module": "@jupyter-widgets/controls",
      "_view_module_version": "1.5.0",
      "_view_name": "HTMLView",
      "description": "",
      "description_tooltip": null,
      "layout": "IPY_MODEL_2cd0e389c70642cabee44535a5157f8b",
      "placeholder": "​",
      "style": "IPY_MODEL_d31c6691b7b84258984f27e2a1e9f94c",
      "value": " 772/772 [00:00&lt;00:00, 62.7kB/s]"
     }
    },
    "7d1ee0ba02ea4aa6ba1746fb2047782f": {
     "model_module": "@jupyter-widgets/base",
     "model_module_version": "1.2.0",
     "model_name": "LayoutModel",
     "state": {
      "_model_module": "@jupyter-widgets/base",
      "_model_module_version": "1.2.0",
      "_model_name": "LayoutModel",
      "_view_count": null,
      "_view_module": "@jupyter-widgets/base",
      "_view_module_version": "1.2.0",
      "_view_name": "LayoutView",
      "align_content": null,
      "align_items": null,
      "align_self": null,
      "border": null,
      "bottom": null,
      "display": null,
      "flex": null,
      "flex_flow": null,
      "grid_area": null,
      "grid_auto_columns": null,
      "grid_auto_flow": null,
      "grid_auto_rows": null,
      "grid_column": null,
      "grid_gap": null,
      "grid_row": null,
      "grid_template_areas": null,
      "grid_template_columns": null,
      "grid_template_rows": null,
      "height": null,
      "justify_content": null,
      "justify_items": null,
      "left": null,
      "margin": null,
      "max_height": null,
      "max_width": null,
      "min_height": null,
      "min_width": null,
      "object_fit": null,
      "object_position": null,
      "order": null,
      "overflow": null,
      "overflow_x": null,
      "overflow_y": null,
      "padding": null,
      "right": null,
      "top": null,
      "visibility": null,
      "width": null
     }
    },
    "7e41ca99a35d410b823a24abdc6e9cb0": {
     "model_module": "@jupyter-widgets/controls",
     "model_module_version": "1.5.0",
     "model_name": "HBoxModel",
     "state": {
      "_dom_classes": [],
      "_model_module": "@jupyter-widgets/controls",
      "_model_module_version": "1.5.0",
      "_model_name": "HBoxModel",
      "_view_count": null,
      "_view_module": "@jupyter-widgets/controls",
      "_view_module_version": "1.5.0",
      "_view_name": "HBoxView",
      "box_style": "",
      "children": [
       "IPY_MODEL_b2bf429e207e4680b109774b41cda061",
       "IPY_MODEL_ece7f4ad724847569671192cd78fcd8d",
       "IPY_MODEL_b294d2cf0591441c870589bd4e90289f"
      ],
      "layout": "IPY_MODEL_bf09f961414944b7ae7cdaed600b544e"
     }
    },
    "801ee38683bb4ed1ac9df6d0d804159a": {
     "model_module": "@jupyter-widgets/controls",
     "model_module_version": "1.5.0",
     "model_name": "HTMLModel",
     "state": {
      "_dom_classes": [],
      "_model_module": "@jupyter-widgets/controls",
      "_model_module_version": "1.5.0",
      "_model_name": "HTMLModel",
      "_view_count": null,
      "_view_module": "@jupyter-widgets/controls",
      "_view_module_version": "1.5.0",
      "_view_name": "HTMLView",
      "description": "",
      "description_tooltip": null,
      "layout": "IPY_MODEL_7d1ee0ba02ea4aa6ba1746fb2047782f",
      "placeholder": "​",
      "style": "IPY_MODEL_1f1158fde42147c0b8fb8a194ba2559e",
      "value": " 4.17k/4.17k [00:00&lt;00:00, 325kB/s]"
     }
    },
    "8184524bcff94734984ffe729260de13": {
     "model_module": "@jupyter-widgets/controls",
     "model_module_version": "1.5.0",
     "model_name": "FloatProgressModel",
     "state": {
      "_dom_classes": [],
      "_model_module": "@jupyter-widgets/controls",
      "_model_module_version": "1.5.0",
      "_model_name": "FloatProgressModel",
      "_view_count": null,
      "_view_module": "@jupyter-widgets/controls",
      "_view_module_version": "1.5.0",
      "_view_name": "ProgressView",
      "bar_style": "success",
      "description": "",
      "description_tooltip": null,
      "layout": "IPY_MODEL_73202668427d421a84a5d7c792e46dc1",
      "max": 5599,
      "min": 0,
      "orientation": "horizontal",
      "style": "IPY_MODEL_9cc4bb8989214ba9ba57e6b28d262c11",
      "value": 5599
     }
    },
    "818b027fb22341c3b16056f2b8ee35a3": {
     "model_module": "@jupyter-widgets/controls",
     "model_module_version": "1.5.0",
     "model_name": "FloatProgressModel",
     "state": {
      "_dom_classes": [],
      "_model_module": "@jupyter-widgets/controls",
      "_model_module_version": "1.5.0",
      "_model_name": "FloatProgressModel",
      "_view_count": null,
      "_view_module": "@jupyter-widgets/controls",
      "_view_module_version": "1.5.0",
      "_view_name": "ProgressView",
      "bar_style": "success",
      "description": "",
      "description_tooltip": null,
      "layout": "IPY_MODEL_a888822838f1417da9b2d6150b93308f",
      "max": 898822,
      "min": 0,
      "orientation": "horizontal",
      "style": "IPY_MODEL_0ee077d9049d4660bf0621466bb19b2a",
      "value": 898822
     }
    },
    "957067b3d837404695d46ed7a94fc1c2": {
     "model_module": "@jupyter-widgets/controls",
     "model_module_version": "1.5.0",
     "model_name": "HTMLModel",
     "state": {
      "_dom_classes": [],
      "_model_module": "@jupyter-widgets/controls",
      "_model_module_version": "1.5.0",
      "_model_name": "HTMLModel",
      "_view_count": null,
      "_view_module": "@jupyter-widgets/controls",
      "_view_module_version": "1.5.0",
      "_view_name": "HTMLView",
      "description": "",
      "description_tooltip": null,
      "layout": "IPY_MODEL_afa2f182b16c45358e5837aa0eb15a5a",
      "placeholder": "​",
      "style": "IPY_MODEL_ac3f9c6872ef4a64b3000ae3a07080b1",
      "value": " 456k/456k [00:00&lt;00:00, 1.02MB/s]"
     }
    },
    "9634ddb708a9461d9d9939553d84d352": {
     "model_module": "@jupyter-widgets/controls",
     "model_module_version": "1.5.0",
     "model_name": "HTMLModel",
     "state": {
      "_dom_classes": [],
      "_model_module": "@jupyter-widgets/controls",
      "_model_module_version": "1.5.0",
      "_model_name": "HTMLModel",
      "_view_count": null,
      "_view_module": "@jupyter-widgets/controls",
      "_view_module_version": "1.5.0",
      "_view_name": "HTMLView",
      "description": "",
      "description_tooltip": null,
      "layout": "IPY_MODEL_e4aa7a215d424583bc9eb13277a1dd8e",
      "placeholder": "​",
      "style": "IPY_MODEL_b502b2b910514777bffcec713caaad67",
      "value": "special_tokens_map.json: 100%"
     }
    },
    "98a5d381eff9455ba4004c3da41a8b8d": {
     "model_module": "@jupyter-widgets/base",
     "model_module_version": "1.2.0",
     "model_name": "LayoutModel",
     "state": {
      "_model_module": "@jupyter-widgets/base",
      "_model_module_version": "1.2.0",
      "_model_name": "LayoutModel",
      "_view_count": null,
      "_view_module": "@jupyter-widgets/base",
      "_view_module_version": "1.2.0",
      "_view_name": "LayoutView",
      "align_content": null,
      "align_items": null,
      "align_self": null,
      "border": null,
      "bottom": null,
      "display": null,
      "flex": null,
      "flex_flow": null,
      "grid_area": null,
      "grid_auto_columns": null,
      "grid_auto_flow": null,
      "grid_auto_rows": null,
      "grid_column": null,
      "grid_gap": null,
      "grid_row": null,
      "grid_template_areas": null,
      "grid_template_columns": null,
      "grid_template_rows": null,
      "height": null,
      "justify_content": null,
      "justify_items": null,
      "left": null,
      "margin": null,
      "max_height": null,
      "max_width": null,
      "min_height": null,
      "min_width": null,
      "object_fit": null,
      "object_position": null,
      "order": null,
      "overflow": null,
      "overflow_x": null,
      "overflow_y": null,
      "padding": null,
      "right": null,
      "top": null,
      "visibility": null,
      "width": null
     }
    },
    "99752945a4664311a8838752b718688f": {
     "model_module": "@jupyter-widgets/base",
     "model_module_version": "1.2.0",
     "model_name": "LayoutModel",
     "state": {
      "_model_module": "@jupyter-widgets/base",
      "_model_module_version": "1.2.0",
      "_model_name": "LayoutModel",
      "_view_count": null,
      "_view_module": "@jupyter-widgets/base",
      "_view_module_version": "1.2.0",
      "_view_name": "LayoutView",
      "align_content": null,
      "align_items": null,
      "align_self": null,
      "border": null,
      "bottom": null,
      "display": null,
      "flex": null,
      "flex_flow": null,
      "grid_area": null,
      "grid_auto_columns": null,
      "grid_auto_flow": null,
      "grid_auto_rows": null,
      "grid_column": null,
      "grid_gap": null,
      "grid_row": null,
      "grid_template_areas": null,
      "grid_template_columns": null,
      "grid_template_rows": null,
      "height": null,
      "justify_content": null,
      "justify_items": null,
      "left": null,
      "margin": null,
      "max_height": null,
      "max_width": null,
      "min_height": null,
      "min_width": null,
      "object_fit": null,
      "object_position": null,
      "order": null,
      "overflow": null,
      "overflow_x": null,
      "overflow_y": null,
      "padding": null,
      "right": null,
      "top": null,
      "visibility": null,
      "width": null
     }
    },
    "99db8dcb9668432aaa247652dd1fd82c": {
     "model_module": "@jupyter-widgets/base",
     "model_module_version": "1.2.0",
     "model_name": "LayoutModel",
     "state": {
      "_model_module": "@jupyter-widgets/base",
      "_model_module_version": "1.2.0",
      "_model_name": "LayoutModel",
      "_view_count": null,
      "_view_module": "@jupyter-widgets/base",
      "_view_module_version": "1.2.0",
      "_view_name": "LayoutView",
      "align_content": null,
      "align_items": null,
      "align_self": null,
      "border": null,
      "bottom": null,
      "display": null,
      "flex": null,
      "flex_flow": null,
      "grid_area": null,
      "grid_auto_columns": null,
      "grid_auto_flow": null,
      "grid_auto_rows": null,
      "grid_column": null,
      "grid_gap": null,
      "grid_row": null,
      "grid_template_areas": null,
      "grid_template_columns": null,
      "grid_template_rows": null,
      "height": null,
      "justify_content": null,
      "justify_items": null,
      "left": null,
      "margin": null,
      "max_height": null,
      "max_width": null,
      "min_height": null,
      "min_width": null,
      "object_fit": null,
      "object_position": null,
      "order": null,
      "overflow": null,
      "overflow_x": null,
      "overflow_y": null,
      "padding": null,
      "right": null,
      "top": null,
      "visibility": null,
      "width": null
     }
    },
    "9ab132e7bcdd46d79bc1ac66ba219f89": {
     "model_module": "@jupyter-widgets/controls",
     "model_module_version": "1.5.0",
     "model_name": "FloatProgressModel",
     "state": {
      "_dom_classes": [],
      "_model_module": "@jupyter-widgets/controls",
      "_model_module_version": "1.5.0",
      "_model_name": "FloatProgressModel",
      "_view_count": null,
      "_view_module": "@jupyter-widgets/controls",
      "_view_module_version": "1.5.0",
      "_view_name": "ProgressView",
      "bar_style": "success",
      "description": "",
      "description_tooltip": null,
      "layout": "IPY_MODEL_566c4d905bcb4d78a1db41845382702d",
      "max": 1333384464,
      "min": 0,
      "orientation": "horizontal",
      "style": "IPY_MODEL_74c63c4f0b8f42c89679564da11b9987",
      "value": 1333384464
     }
    },
    "9b62ed731a324ea6b57607c1edd4dea0": {
     "model_module": "@jupyter-widgets/controls",
     "model_module_version": "1.5.0",
     "model_name": "DescriptionStyleModel",
     "state": {
      "_model_module": "@jupyter-widgets/controls",
      "_model_module_version": "1.5.0",
      "_model_name": "DescriptionStyleModel",
      "_view_count": null,
      "_view_module": "@jupyter-widgets/base",
      "_view_module_version": "1.2.0",
      "_view_name": "StyleView",
      "description_width": ""
     }
    },
    "9cc4bb8989214ba9ba57e6b28d262c11": {
     "model_module": "@jupyter-widgets/controls",
     "model_module_version": "1.5.0",
     "model_name": "ProgressStyleModel",
     "state": {
      "_model_module": "@jupyter-widgets/controls",
      "_model_module_version": "1.5.0",
      "_model_name": "ProgressStyleModel",
      "_view_count": null,
      "_view_module": "@jupyter-widgets/base",
      "_view_module_version": "1.2.0",
      "_view_name": "StyleView",
      "bar_color": null,
      "description_width": ""
     }
    },
    "a003d364c7844361a1b349beeef8ade9": {
     "model_module": "@jupyter-widgets/controls",
     "model_module_version": "1.5.0",
     "model_name": "HTMLModel",
     "state": {
      "_dom_classes": [],
      "_model_module": "@jupyter-widgets/controls",
      "_model_module_version": "1.5.0",
      "_model_name": "HTMLModel",
      "_view_count": null,
      "_view_module": "@jupyter-widgets/controls",
      "_view_module_version": "1.5.0",
      "_view_name": "HTMLView",
      "description": "",
      "description_tooltip": null,
      "layout": "IPY_MODEL_0d4d402a1cf248f1a5fe3193cd2811c5",
      "placeholder": "​",
      "style": "IPY_MODEL_afc26064307041bda40fd2b3a91e132e",
      "value": "config.json: 100%"
     }
    },
    "a2664f77e6674cddb80d883c3db003f5": {
     "model_module": "@jupyter-widgets/controls",
     "model_module_version": "1.5.0",
     "model_name": "HBoxModel",
     "state": {
      "_dom_classes": [],
      "_model_module": "@jupyter-widgets/controls",
      "_model_module_version": "1.5.0",
      "_model_name": "HBoxModel",
      "_view_count": null,
      "_view_module": "@jupyter-widgets/controls",
      "_view_module_version": "1.5.0",
      "_view_name": "HBoxView",
      "box_style": "",
      "children": [
       "IPY_MODEL_61a721a8b8314353b128aa5bd15c00e7",
       "IPY_MODEL_e978beec9bf340e3a18767b367a149b1",
       "IPY_MODEL_0ebe7d3b80b745089e6b9521a50395d8"
      ],
      "layout": "IPY_MODEL_d6f276ca8e1448cf81b8376a3b7768d3"
     }
    },
    "a2ddf7fc2c77473a8032e527d3d178a8": {
     "model_module": "@jupyter-widgets/controls",
     "model_module_version": "1.5.0",
     "model_name": "FloatProgressModel",
     "state": {
      "_dom_classes": [],
      "_model_module": "@jupyter-widgets/controls",
      "_model_module_version": "1.5.0",
      "_model_name": "FloatProgressModel",
      "_view_count": null,
      "_view_module": "@jupyter-widgets/controls",
      "_view_module_version": "1.5.0",
      "_view_name": "ProgressView",
      "bar_style": "success",
      "description": "",
      "description_tooltip": null,
      "layout": "IPY_MODEL_63558b44267a48debf092528290d0ead",
      "max": 456318,
      "min": 0,
      "orientation": "horizontal",
      "style": "IPY_MODEL_d4ec9321a3b9490ab74cd51981278b89",
      "value": 456318
     }
    },
    "a5b8820a11b04dd2b3dbab8c27b5c5d5": {
     "model_module": "@jupyter-widgets/base",
     "model_module_version": "1.2.0",
     "model_name": "LayoutModel",
     "state": {
      "_model_module": "@jupyter-widgets/base",
      "_model_module_version": "1.2.0",
      "_model_name": "LayoutModel",
      "_view_count": null,
      "_view_module": "@jupyter-widgets/base",
      "_view_module_version": "1.2.0",
      "_view_name": "LayoutView",
      "align_content": null,
      "align_items": null,
      "align_self": null,
      "border": null,
      "bottom": null,
      "display": null,
      "flex": null,
      "flex_flow": null,
      "grid_area": null,
      "grid_auto_columns": null,
      "grid_auto_flow": null,
      "grid_auto_rows": null,
      "grid_column": null,
      "grid_gap": null,
      "grid_row": null,
      "grid_template_areas": null,
      "grid_template_columns": null,
      "grid_template_rows": null,
      "height": null,
      "justify_content": null,
      "justify_items": null,
      "left": null,
      "margin": null,
      "max_height": null,
      "max_width": null,
      "min_height": null,
      "min_width": null,
      "object_fit": null,
      "object_position": null,
      "order": null,
      "overflow": null,
      "overflow_x": null,
      "overflow_y": null,
      "padding": null,
      "right": null,
      "top": null,
      "visibility": null,
      "width": null
     }
    },
    "a888822838f1417da9b2d6150b93308f": {
     "model_module": "@jupyter-widgets/base",
     "model_module_version": "1.2.0",
     "model_name": "LayoutModel",
     "state": {
      "_model_module": "@jupyter-widgets/base",
      "_model_module_version": "1.2.0",
      "_model_name": "LayoutModel",
      "_view_count": null,
      "_view_module": "@jupyter-widgets/base",
      "_view_module_version": "1.2.0",
      "_view_name": "LayoutView",
      "align_content": null,
      "align_items": null,
      "align_self": null,
      "border": null,
      "bottom": null,
      "display": null,
      "flex": null,
      "flex_flow": null,
      "grid_area": null,
      "grid_auto_columns": null,
      "grid_auto_flow": null,
      "grid_auto_rows": null,
      "grid_column": null,
      "grid_gap": null,
      "grid_row": null,
      "grid_template_areas": null,
      "grid_template_columns": null,
      "grid_template_rows": null,
      "height": null,
      "justify_content": null,
      "justify_items": null,
      "left": null,
      "margin": null,
      "max_height": null,
      "max_width": null,
      "min_height": null,
      "min_width": null,
      "object_fit": null,
      "object_position": null,
      "order": null,
      "overflow": null,
      "overflow_x": null,
      "overflow_y": null,
      "padding": null,
      "right": null,
      "top": null,
      "visibility": null,
      "width": null
     }
    },
    "abae7ec46856408c99ddd77ccd67ded6": {
     "model_module": "@jupyter-widgets/controls",
     "model_module_version": "1.5.0",
     "model_name": "HTMLModel",
     "state": {
      "_dom_classes": [],
      "_model_module": "@jupyter-widgets/controls",
      "_model_module_version": "1.5.0",
      "_model_name": "HTMLModel",
      "_view_count": null,
      "_view_module": "@jupyter-widgets/controls",
      "_view_module_version": "1.5.0",
      "_view_name": "HTMLView",
      "description": "",
      "description_tooltip": null,
      "layout": "IPY_MODEL_1f0ff20f5d8c4498961c18fa1e138034",
      "placeholder": "​",
      "style": "IPY_MODEL_0bb2fb5e9fc145b6ae2267b3b9ab8019",
      "value": " 1.33G/1.33G [00:10&lt;00:00, 94.6MB/s]"
     }
    },
    "ac3f9c6872ef4a64b3000ae3a07080b1": {
     "model_module": "@jupyter-widgets/controls",
     "model_module_version": "1.5.0",
     "model_name": "DescriptionStyleModel",
     "state": {
      "_model_module": "@jupyter-widgets/controls",
      "_model_module_version": "1.5.0",
      "_model_name": "DescriptionStyleModel",
      "_view_count": null,
      "_view_module": "@jupyter-widgets/base",
      "_view_module_version": "1.2.0",
      "_view_name": "StyleView",
      "description_width": ""
     }
    },
    "afa2f182b16c45358e5837aa0eb15a5a": {
     "model_module": "@jupyter-widgets/base",
     "model_module_version": "1.2.0",
     "model_name": "LayoutModel",
     "state": {
      "_model_module": "@jupyter-widgets/base",
      "_model_module_version": "1.2.0",
      "_model_name": "LayoutModel",
      "_view_count": null,
      "_view_module": "@jupyter-widgets/base",
      "_view_module_version": "1.2.0",
      "_view_name": "LayoutView",
      "align_content": null,
      "align_items": null,
      "align_self": null,
      "border": null,
      "bottom": null,
      "display": null,
      "flex": null,
      "flex_flow": null,
      "grid_area": null,
      "grid_auto_columns": null,
      "grid_auto_flow": null,
      "grid_auto_rows": null,
      "grid_column": null,
      "grid_gap": null,
      "grid_row": null,
      "grid_template_areas": null,
      "grid_template_columns": null,
      "grid_template_rows": null,
      "height": null,
      "justify_content": null,
      "justify_items": null,
      "left": null,
      "margin": null,
      "max_height": null,
      "max_width": null,
      "min_height": null,
      "min_width": null,
      "object_fit": null,
      "object_position": null,
      "order": null,
      "overflow": null,
      "overflow_x": null,
      "overflow_y": null,
      "padding": null,
      "right": null,
      "top": null,
      "visibility": null,
      "width": null
     }
    },
    "afc26064307041bda40fd2b3a91e132e": {
     "model_module": "@jupyter-widgets/controls",
     "model_module_version": "1.5.0",
     "model_name": "DescriptionStyleModel",
     "state": {
      "_model_module": "@jupyter-widgets/controls",
      "_model_module_version": "1.5.0",
      "_model_name": "DescriptionStyleModel",
      "_view_count": null,
      "_view_module": "@jupyter-widgets/base",
      "_view_module_version": "1.2.0",
      "_view_name": "StyleView",
      "description_width": ""
     }
    },
    "b294d2cf0591441c870589bd4e90289f": {
     "model_module": "@jupyter-widgets/controls",
     "model_module_version": "1.5.0",
     "model_name": "HTMLModel",
     "state": {
      "_dom_classes": [],
      "_model_module": "@jupyter-widgets/controls",
      "_model_module_version": "1.5.0",
      "_model_name": "HTMLModel",
      "_view_count": null,
      "_view_module": "@jupyter-widgets/controls",
      "_view_module_version": "1.5.0",
      "_view_name": "HTMLView",
      "description": "",
      "description_tooltip": null,
      "layout": "IPY_MODEL_601de8c370504c8491397a0adad917fc",
      "placeholder": "​",
      "style": "IPY_MODEL_bf782aacd2b9426da8e5632f22a0f76a",
      "value": " 224/224 [00:00&lt;00:00, 23.1kB/s]"
     }
    },
    "b2bf429e207e4680b109774b41cda061": {
     "model_module": "@jupyter-widgets/controls",
     "model_module_version": "1.5.0",
     "model_name": "HTMLModel",
     "state": {
      "_dom_classes": [],
      "_model_module": "@jupyter-widgets/controls",
      "_model_module_version": "1.5.0",
      "_model_name": "HTMLModel",
      "_view_count": null,
      "_view_module": "@jupyter-widgets/controls",
      "_view_module_version": "1.5.0",
      "_view_name": "HTMLView",
      "description": "",
      "description_tooltip": null,
      "layout": "IPY_MODEL_5912736372604dba8068bb9073c043b5",
      "placeholder": "​",
      "style": "IPY_MODEL_23bc0ebb89f849d1bcdeec8582d3b8a1",
      "value": "preprocessor_config.json: 100%"
     }
    },
    "b2f6d00b10c64731a637b8fc5abc8bc4": {
     "model_module": "@jupyter-widgets/base",
     "model_module_version": "1.2.0",
     "model_name": "LayoutModel",
     "state": {
      "_model_module": "@jupyter-widgets/base",
      "_model_module_version": "1.2.0",
      "_model_name": "LayoutModel",
      "_view_count": null,
      "_view_module": "@jupyter-widgets/base",
      "_view_module_version": "1.2.0",
      "_view_name": "LayoutView",
      "align_content": null,
      "align_items": null,
      "align_self": null,
      "border": null,
      "bottom": null,
      "display": null,
      "flex": null,
      "flex_flow": null,
      "grid_area": null,
      "grid_auto_columns": null,
      "grid_auto_flow": null,
      "grid_auto_rows": null,
      "grid_column": null,
      "grid_gap": null,
      "grid_row": null,
      "grid_template_areas": null,
      "grid_template_columns": null,
      "grid_template_rows": null,
      "height": null,
      "justify_content": null,
      "justify_items": null,
      "left": null,
      "margin": null,
      "max_height": null,
      "max_width": null,
      "min_height": null,
      "min_width": null,
      "object_fit": null,
      "object_position": null,
      "order": null,
      "overflow": null,
      "overflow_x": null,
      "overflow_y": null,
      "padding": null,
      "right": null,
      "top": null,
      "visibility": null,
      "width": null
     }
    },
    "b502b2b910514777bffcec713caaad67": {
     "model_module": "@jupyter-widgets/controls",
     "model_module_version": "1.5.0",
     "model_name": "DescriptionStyleModel",
     "state": {
      "_model_module": "@jupyter-widgets/controls",
      "_model_module_version": "1.5.0",
      "_model_name": "DescriptionStyleModel",
      "_view_count": null,
      "_view_module": "@jupyter-widgets/base",
      "_view_module_version": "1.2.0",
      "_view_name": "StyleView",
      "description_width": ""
     }
    },
    "b5d527261a3441ba845490cec2270bcf": {
     "model_module": "@jupyter-widgets/controls",
     "model_module_version": "1.5.0",
     "model_name": "HTMLModel",
     "state": {
      "_dom_classes": [],
      "_model_module": "@jupyter-widgets/controls",
      "_model_module_version": "1.5.0",
      "_model_name": "HTMLModel",
      "_view_count": null,
      "_view_module": "@jupyter-widgets/controls",
      "_view_module_version": "1.5.0",
      "_view_name": "HTMLView",
      "description": "",
      "description_tooltip": null,
      "layout": "IPY_MODEL_c967284b621f4b39b89e6b91a1b2d719",
      "placeholder": "​",
      "style": "IPY_MODEL_68ef7f5541cc489b9c52b2ed7055b12a",
      "value": "merges.txt: 100%"
     }
    },
    "b8b6fe1d465946b5ada8e95f0ac3a0e3": {
     "model_module": "@jupyter-widgets/controls",
     "model_module_version": "1.5.0",
     "model_name": "ProgressStyleModel",
     "state": {
      "_model_module": "@jupyter-widgets/controls",
      "_model_module_version": "1.5.0",
      "_model_name": "ProgressStyleModel",
      "_view_count": null,
      "_view_module": "@jupyter-widgets/base",
      "_view_module_version": "1.2.0",
      "_view_name": "StyleView",
      "bar_color": null,
      "description_width": ""
     }
    },
    "be71ac6543f4400c90cf27180101fde5": {
     "model_module": "@jupyter-widgets/controls",
     "model_module_version": "1.5.0",
     "model_name": "DescriptionStyleModel",
     "state": {
      "_model_module": "@jupyter-widgets/controls",
      "_model_module_version": "1.5.0",
      "_model_name": "DescriptionStyleModel",
      "_view_count": null,
      "_view_module": "@jupyter-widgets/base",
      "_view_module_version": "1.2.0",
      "_view_name": "StyleView",
      "description_width": ""
     }
    },
    "bf09f961414944b7ae7cdaed600b544e": {
     "model_module": "@jupyter-widgets/base",
     "model_module_version": "1.2.0",
     "model_name": "LayoutModel",
     "state": {
      "_model_module": "@jupyter-widgets/base",
      "_model_module_version": "1.2.0",
      "_model_name": "LayoutModel",
      "_view_count": null,
      "_view_module": "@jupyter-widgets/base",
      "_view_module_version": "1.2.0",
      "_view_name": "LayoutView",
      "align_content": null,
      "align_items": null,
      "align_self": null,
      "border": null,
      "bottom": null,
      "display": null,
      "flex": null,
      "flex_flow": null,
      "grid_area": null,
      "grid_auto_columns": null,
      "grid_auto_flow": null,
      "grid_auto_rows": null,
      "grid_column": null,
      "grid_gap": null,
      "grid_row": null,
      "grid_template_areas": null,
      "grid_template_columns": null,
      "grid_template_rows": null,
      "height": null,
      "justify_content": null,
      "justify_items": null,
      "left": null,
      "margin": null,
      "max_height": null,
      "max_width": null,
      "min_height": null,
      "min_width": null,
      "object_fit": null,
      "object_position": null,
      "order": null,
      "overflow": null,
      "overflow_x": null,
      "overflow_y": null,
      "padding": null,
      "right": null,
      "top": null,
      "visibility": null,
      "width": null
     }
    },
    "bf782aacd2b9426da8e5632f22a0f76a": {
     "model_module": "@jupyter-widgets/controls",
     "model_module_version": "1.5.0",
     "model_name": "DescriptionStyleModel",
     "state": {
      "_model_module": "@jupyter-widgets/controls",
      "_model_module_version": "1.5.0",
      "_model_name": "DescriptionStyleModel",
      "_view_count": null,
      "_view_module": "@jupyter-widgets/base",
      "_view_module_version": "1.2.0",
      "_view_name": "StyleView",
      "description_width": ""
     }
    },
    "bfde317f0f4344929581caf35787cb59": {
     "model_module": "@jupyter-widgets/base",
     "model_module_version": "1.2.0",
     "model_name": "LayoutModel",
     "state": {
      "_model_module": "@jupyter-widgets/base",
      "_model_module_version": "1.2.0",
      "_model_name": "LayoutModel",
      "_view_count": null,
      "_view_module": "@jupyter-widgets/base",
      "_view_module_version": "1.2.0",
      "_view_name": "LayoutView",
      "align_content": null,
      "align_items": null,
      "align_self": null,
      "border": null,
      "bottom": null,
      "display": null,
      "flex": null,
      "flex_flow": null,
      "grid_area": null,
      "grid_auto_columns": null,
      "grid_auto_flow": null,
      "grid_auto_rows": null,
      "grid_column": null,
      "grid_gap": null,
      "grid_row": null,
      "grid_template_areas": null,
      "grid_template_columns": null,
      "grid_template_rows": null,
      "height": null,
      "justify_content": null,
      "justify_items": null,
      "left": null,
      "margin": null,
      "max_height": null,
      "max_width": null,
      "min_height": null,
      "min_width": null,
      "object_fit": null,
      "object_position": null,
      "order": null,
      "overflow": null,
      "overflow_x": null,
      "overflow_y": null,
      "padding": null,
      "right": null,
      "top": null,
      "visibility": null,
      "width": null
     }
    },
    "c322845d528148ef9a358687b5b7d31a": {
     "model_module": "@jupyter-widgets/base",
     "model_module_version": "1.2.0",
     "model_name": "LayoutModel",
     "state": {
      "_model_module": "@jupyter-widgets/base",
      "_model_module_version": "1.2.0",
      "_model_name": "LayoutModel",
      "_view_count": null,
      "_view_module": "@jupyter-widgets/base",
      "_view_module_version": "1.2.0",
      "_view_name": "LayoutView",
      "align_content": null,
      "align_items": null,
      "align_self": null,
      "border": null,
      "bottom": null,
      "display": null,
      "flex": null,
      "flex_flow": null,
      "grid_area": null,
      "grid_auto_columns": null,
      "grid_auto_flow": null,
      "grid_auto_rows": null,
      "grid_column": null,
      "grid_gap": null,
      "grid_row": null,
      "grid_template_areas": null,
      "grid_template_columns": null,
      "grid_template_rows": null,
      "height": null,
      "justify_content": null,
      "justify_items": null,
      "left": null,
      "margin": null,
      "max_height": null,
      "max_width": null,
      "min_height": null,
      "min_width": null,
      "object_fit": null,
      "object_position": null,
      "order": null,
      "overflow": null,
      "overflow_x": null,
      "overflow_y": null,
      "padding": null,
      "right": null,
      "top": null,
      "visibility": null,
      "width": null
     }
    },
    "c831f6d18b7d4b36a9d22462261459cb": {
     "model_module": "@jupyter-widgets/controls",
     "model_module_version": "1.5.0",
     "model_name": "HBoxModel",
     "state": {
      "_dom_classes": [],
      "_model_module": "@jupyter-widgets/controls",
      "_model_module_version": "1.5.0",
      "_model_name": "HBoxModel",
      "_view_count": null,
      "_view_module": "@jupyter-widgets/controls",
      "_view_module_version": "1.5.0",
      "_view_name": "HBoxView",
      "box_style": "",
      "children": [
       "IPY_MODEL_0ac8e0a1bc634e9297e870e4deb7e135",
       "IPY_MODEL_9ab132e7bcdd46d79bc1ac66ba219f89",
       "IPY_MODEL_abae7ec46856408c99ddd77ccd67ded6"
      ],
      "layout": "IPY_MODEL_99db8dcb9668432aaa247652dd1fd82c"
     }
    },
    "c9073a91f2de4ffe86e8da9c2bcca08c": {
     "model_module": "@jupyter-widgets/controls",
     "model_module_version": "1.5.0",
     "model_name": "HTMLModel",
     "state": {
      "_dom_classes": [],
      "_model_module": "@jupyter-widgets/controls",
      "_model_module_version": "1.5.0",
      "_model_name": "HTMLModel",
      "_view_count": null,
      "_view_module": "@jupyter-widgets/controls",
      "_view_module_version": "1.5.0",
      "_view_name": "HTMLView",
      "description": "",
      "description_tooltip": null,
      "layout": "IPY_MODEL_bfde317f0f4344929581caf35787cb59",
      "placeholder": "​",
      "style": "IPY_MODEL_da0e1570e7f44e52979f1141c97e9bd7",
      "value": "vocab.json: 100%"
     }
    },
    "c967284b621f4b39b89e6b91a1b2d719": {
     "model_module": "@jupyter-widgets/base",
     "model_module_version": "1.2.0",
     "model_name": "LayoutModel",
     "state": {
      "_model_module": "@jupyter-widgets/base",
      "_model_module_version": "1.2.0",
      "_model_name": "LayoutModel",
      "_view_count": null,
      "_view_module": "@jupyter-widgets/base",
      "_view_module_version": "1.2.0",
      "_view_name": "LayoutView",
      "align_content": null,
      "align_items": null,
      "align_self": null,
      "border": null,
      "bottom": null,
      "display": null,
      "flex": null,
      "flex_flow": null,
      "grid_area": null,
      "grid_auto_columns": null,
      "grid_auto_flow": null,
      "grid_auto_rows": null,
      "grid_column": null,
      "grid_gap": null,
      "grid_row": null,
      "grid_template_areas": null,
      "grid_template_columns": null,
      "grid_template_rows": null,
      "height": null,
      "justify_content": null,
      "justify_items": null,
      "left": null,
      "margin": null,
      "max_height": null,
      "max_width": null,
      "min_height": null,
      "min_width": null,
      "object_fit": null,
      "object_position": null,
      "order": null,
      "overflow": null,
      "overflow_x": null,
      "overflow_y": null,
      "padding": null,
      "right": null,
      "top": null,
      "visibility": null,
      "width": null
     }
    },
    "cdd9db88033f43bf923f30b637a82b7e": {
     "model_module": "@jupyter-widgets/controls",
     "model_module_version": "1.5.0",
     "model_name": "HBoxModel",
     "state": {
      "_dom_classes": [],
      "_model_module": "@jupyter-widgets/controls",
      "_model_module_version": "1.5.0",
      "_model_name": "HBoxModel",
      "_view_count": null,
      "_view_module": "@jupyter-widgets/controls",
      "_view_module_version": "1.5.0",
      "_view_name": "HBoxView",
      "box_style": "",
      "children": [
       "IPY_MODEL_276dedefc6b34ef4a55c445b5aa7dd82",
       "IPY_MODEL_f73bf820a2c84ebfaebcfd61a2b01abe",
       "IPY_MODEL_2c53b95c5d1b4d0c8d991f953a57b536"
      ],
      "layout": "IPY_MODEL_c322845d528148ef9a358687b5b7d31a"
     }
    },
    "ce5bf5ecc32e46199a210093c6881c91": {
     "model_module": "@jupyter-widgets/controls",
     "model_module_version": "1.5.0",
     "model_name": "HBoxModel",
     "state": {
      "_dom_classes": [],
      "_model_module": "@jupyter-widgets/controls",
      "_model_module_version": "1.5.0",
      "_model_name": "HBoxModel",
      "_view_count": null,
      "_view_module": "@jupyter-widgets/controls",
      "_view_module_version": "1.5.0",
      "_view_name": "HBoxView",
      "box_style": "",
      "children": [
       "IPY_MODEL_a003d364c7844361a1b349beeef8ade9",
       "IPY_MODEL_03e598b673254aa68d6cb961969d89a3",
       "IPY_MODEL_801ee38683bb4ed1ac9df6d0d804159a"
      ],
      "layout": "IPY_MODEL_b2f6d00b10c64731a637b8fc5abc8bc4"
     }
    },
    "cfe82e7863d64fcd893b80c82e064340": {
     "model_module": "@jupyter-widgets/controls",
     "model_module_version": "1.5.0",
     "model_name": "ProgressStyleModel",
     "state": {
      "_model_module": "@jupyter-widgets/controls",
      "_model_module_version": "1.5.0",
      "_model_name": "ProgressStyleModel",
      "_view_count": null,
      "_view_module": "@jupyter-widgets/base",
      "_view_module_version": "1.2.0",
      "_view_name": "StyleView",
      "bar_color": null,
      "description_width": ""
     }
    },
    "d31c6691b7b84258984f27e2a1e9f94c": {
     "model_module": "@jupyter-widgets/controls",
     "model_module_version": "1.5.0",
     "model_name": "DescriptionStyleModel",
     "state": {
      "_model_module": "@jupyter-widgets/controls",
      "_model_module_version": "1.5.0",
      "_model_name": "DescriptionStyleModel",
      "_view_count": null,
      "_view_module": "@jupyter-widgets/base",
      "_view_module_version": "1.2.0",
      "_view_name": "StyleView",
      "description_width": ""
     }
    },
    "d4ec9321a3b9490ab74cd51981278b89": {
     "model_module": "@jupyter-widgets/controls",
     "model_module_version": "1.5.0",
     "model_name": "ProgressStyleModel",
     "state": {
      "_model_module": "@jupyter-widgets/controls",
      "_model_module_version": "1.5.0",
      "_model_name": "ProgressStyleModel",
      "_view_count": null,
      "_view_module": "@jupyter-widgets/base",
      "_view_module_version": "1.2.0",
      "_view_name": "StyleView",
      "bar_color": null,
      "description_width": ""
     }
    },
    "d502f51ecdcd48d2b837869519970e30": {
     "model_module": "@jupyter-widgets/controls",
     "model_module_version": "1.5.0",
     "model_name": "DescriptionStyleModel",
     "state": {
      "_model_module": "@jupyter-widgets/controls",
      "_model_module_version": "1.5.0",
      "_model_name": "DescriptionStyleModel",
      "_view_count": null,
      "_view_module": "@jupyter-widgets/base",
      "_view_module_version": "1.2.0",
      "_view_name": "StyleView",
      "description_width": ""
     }
    },
    "d6f276ca8e1448cf81b8376a3b7768d3": {
     "model_module": "@jupyter-widgets/base",
     "model_module_version": "1.2.0",
     "model_name": "LayoutModel",
     "state": {
      "_model_module": "@jupyter-widgets/base",
      "_model_module_version": "1.2.0",
      "_model_name": "LayoutModel",
      "_view_count": null,
      "_view_module": "@jupyter-widgets/base",
      "_view_module_version": "1.2.0",
      "_view_name": "LayoutView",
      "align_content": null,
      "align_items": null,
      "align_self": null,
      "border": null,
      "bottom": null,
      "display": null,
      "flex": null,
      "flex_flow": null,
      "grid_area": null,
      "grid_auto_columns": null,
      "grid_auto_flow": null,
      "grid_auto_rows": null,
      "grid_column": null,
      "grid_gap": null,
      "grid_row": null,
      "grid_template_areas": null,
      "grid_template_columns": null,
      "grid_template_rows": null,
      "height": null,
      "justify_content": null,
      "justify_items": null,
      "left": null,
      "margin": null,
      "max_height": null,
      "max_width": null,
      "min_height": null,
      "min_width": null,
      "object_fit": null,
      "object_position": null,
      "order": null,
      "overflow": null,
      "overflow_x": null,
      "overflow_y": null,
      "padding": null,
      "right": null,
      "top": null,
      "visibility": null,
      "width": null
     }
    },
    "da0e1570e7f44e52979f1141c97e9bd7": {
     "model_module": "@jupyter-widgets/controls",
     "model_module_version": "1.5.0",
     "model_name": "DescriptionStyleModel",
     "state": {
      "_model_module": "@jupyter-widgets/controls",
      "_model_module_version": "1.5.0",
      "_model_name": "DescriptionStyleModel",
      "_view_count": null,
      "_view_module": "@jupyter-widgets/base",
      "_view_module_version": "1.2.0",
      "_view_name": "StyleView",
      "description_width": ""
     }
    },
    "ded7867e05fc4acbbabd925e1c37d32d": {
     "model_module": "@jupyter-widgets/base",
     "model_module_version": "1.2.0",
     "model_name": "LayoutModel",
     "state": {
      "_model_module": "@jupyter-widgets/base",
      "_model_module_version": "1.2.0",
      "_model_name": "LayoutModel",
      "_view_count": null,
      "_view_module": "@jupyter-widgets/base",
      "_view_module_version": "1.2.0",
      "_view_name": "LayoutView",
      "align_content": null,
      "align_items": null,
      "align_self": null,
      "border": null,
      "bottom": null,
      "display": null,
      "flex": null,
      "flex_flow": null,
      "grid_area": null,
      "grid_auto_columns": null,
      "grid_auto_flow": null,
      "grid_auto_rows": null,
      "grid_column": null,
      "grid_gap": null,
      "grid_row": null,
      "grid_template_areas": null,
      "grid_template_columns": null,
      "grid_template_rows": null,
      "height": null,
      "justify_content": null,
      "justify_items": null,
      "left": null,
      "margin": null,
      "max_height": null,
      "max_width": null,
      "min_height": null,
      "min_width": null,
      "object_fit": null,
      "object_position": null,
      "order": null,
      "overflow": null,
      "overflow_x": null,
      "overflow_y": null,
      "padding": null,
      "right": null,
      "top": null,
      "visibility": null,
      "width": null
     }
    },
    "e4aa7a215d424583bc9eb13277a1dd8e": {
     "model_module": "@jupyter-widgets/base",
     "model_module_version": "1.2.0",
     "model_name": "LayoutModel",
     "state": {
      "_model_module": "@jupyter-widgets/base",
      "_model_module_version": "1.2.0",
      "_model_name": "LayoutModel",
      "_view_count": null,
      "_view_module": "@jupyter-widgets/base",
      "_view_module_version": "1.2.0",
      "_view_name": "LayoutView",
      "align_content": null,
      "align_items": null,
      "align_self": null,
      "border": null,
      "bottom": null,
      "display": null,
      "flex": null,
      "flex_flow": null,
      "grid_area": null,
      "grid_auto_columns": null,
      "grid_auto_flow": null,
      "grid_auto_rows": null,
      "grid_column": null,
      "grid_gap": null,
      "grid_row": null,
      "grid_template_areas": null,
      "grid_template_columns": null,
      "grid_template_rows": null,
      "height": null,
      "justify_content": null,
      "justify_items": null,
      "left": null,
      "margin": null,
      "max_height": null,
      "max_width": null,
      "min_height": null,
      "min_width": null,
      "object_fit": null,
      "object_position": null,
      "order": null,
      "overflow": null,
      "overflow_x": null,
      "overflow_y": null,
      "padding": null,
      "right": null,
      "top": null,
      "visibility": null,
      "width": null
     }
    },
    "e978beec9bf340e3a18767b367a149b1": {
     "model_module": "@jupyter-widgets/controls",
     "model_module_version": "1.5.0",
     "model_name": "FloatProgressModel",
     "state": {
      "_dom_classes": [],
      "_model_module": "@jupyter-widgets/controls",
      "_model_module_version": "1.5.0",
      "_model_name": "FloatProgressModel",
      "_view_count": null,
      "_view_module": "@jupyter-widgets/controls",
      "_view_module_version": "1.5.0",
      "_view_name": "ProgressView",
      "bar_style": "success",
      "description": "",
      "description_tooltip": null,
      "layout": "IPY_MODEL_23338e012a684de5a573dedd83bf129f",
      "max": 1118,
      "min": 0,
      "orientation": "horizontal",
      "style": "IPY_MODEL_fca8488653594d8f80c1394a1691a509",
      "value": 1118
     }
    },
    "eab93bd106084fd9880d16c80886d043": {
     "model_module": "@jupyter-widgets/base",
     "model_module_version": "1.2.0",
     "model_name": "LayoutModel",
     "state": {
      "_model_module": "@jupyter-widgets/base",
      "_model_module_version": "1.2.0",
      "_model_name": "LayoutModel",
      "_view_count": null,
      "_view_module": "@jupyter-widgets/base",
      "_view_module_version": "1.2.0",
      "_view_name": "LayoutView",
      "align_content": null,
      "align_items": null,
      "align_self": null,
      "border": null,
      "bottom": null,
      "display": null,
      "flex": null,
      "flex_flow": null,
      "grid_area": null,
      "grid_auto_columns": null,
      "grid_auto_flow": null,
      "grid_auto_rows": null,
      "grid_column": null,
      "grid_gap": null,
      "grid_row": null,
      "grid_template_areas": null,
      "grid_template_columns": null,
      "grid_template_rows": null,
      "height": null,
      "justify_content": null,
      "justify_items": null,
      "left": null,
      "margin": null,
      "max_height": null,
      "max_width": null,
      "min_height": null,
      "min_width": null,
      "object_fit": null,
      "object_position": null,
      "order": null,
      "overflow": null,
      "overflow_x": null,
      "overflow_y": null,
      "padding": null,
      "right": null,
      "top": null,
      "visibility": null,
      "width": null
     }
    },
    "ece7f4ad724847569671192cd78fcd8d": {
     "model_module": "@jupyter-widgets/controls",
     "model_module_version": "1.5.0",
     "model_name": "FloatProgressModel",
     "state": {
      "_dom_classes": [],
      "_model_module": "@jupyter-widgets/controls",
      "_model_module_version": "1.5.0",
      "_model_name": "FloatProgressModel",
      "_view_count": null,
      "_view_module": "@jupyter-widgets/controls",
      "_view_module_version": "1.5.0",
      "_view_name": "ProgressView",
      "bar_style": "success",
      "description": "",
      "description_tooltip": null,
      "layout": "IPY_MODEL_4f7a3083e4574a3c8f7ec3d50d7c3e06",
      "max": 224,
      "min": 0,
      "orientation": "horizontal",
      "style": "IPY_MODEL_b8b6fe1d465946b5ada8e95f0ac3a0e3",
      "value": 224
     }
    },
    "f06ef6cd6d3d4960bf78209cdc4ddfd8": {
     "model_module": "@jupyter-widgets/controls",
     "model_module_version": "1.5.0",
     "model_name": "ProgressStyleModel",
     "state": {
      "_model_module": "@jupyter-widgets/controls",
      "_model_module_version": "1.5.0",
      "_model_name": "ProgressStyleModel",
      "_view_count": null,
      "_view_module": "@jupyter-widgets/base",
      "_view_module_version": "1.2.0",
      "_view_name": "StyleView",
      "bar_color": null,
      "description_width": ""
     }
    },
    "f3f7b209c5f64169b166f9f994a4ee5d": {
     "model_module": "@jupyter-widgets/base",
     "model_module_version": "1.2.0",
     "model_name": "LayoutModel",
     "state": {
      "_model_module": "@jupyter-widgets/base",
      "_model_module_version": "1.2.0",
      "_model_name": "LayoutModel",
      "_view_count": null,
      "_view_module": "@jupyter-widgets/base",
      "_view_module_version": "1.2.0",
      "_view_name": "LayoutView",
      "align_content": null,
      "align_items": null,
      "align_self": null,
      "border": null,
      "bottom": null,
      "display": null,
      "flex": null,
      "flex_flow": null,
      "grid_area": null,
      "grid_auto_columns": null,
      "grid_auto_flow": null,
      "grid_auto_rows": null,
      "grid_column": null,
      "grid_gap": null,
      "grid_row": null,
      "grid_template_areas": null,
      "grid_template_columns": null,
      "grid_template_rows": null,
      "height": null,
      "justify_content": null,
      "justify_items": null,
      "left": null,
      "margin": null,
      "max_height": null,
      "max_width": null,
      "min_height": null,
      "min_width": null,
      "object_fit": null,
      "object_position": null,
      "order": null,
      "overflow": null,
      "overflow_x": null,
      "overflow_y": null,
      "padding": null,
      "right": null,
      "top": null,
      "visibility": null,
      "width": null
     }
    },
    "f427432e487c4a82ad42b97c694e97b2": {
     "model_module": "@jupyter-widgets/base",
     "model_module_version": "1.2.0",
     "model_name": "LayoutModel",
     "state": {
      "_model_module": "@jupyter-widgets/base",
      "_model_module_version": "1.2.0",
      "_model_name": "LayoutModel",
      "_view_count": null,
      "_view_module": "@jupyter-widgets/base",
      "_view_module_version": "1.2.0",
      "_view_name": "LayoutView",
      "align_content": null,
      "align_items": null,
      "align_self": null,
      "border": null,
      "bottom": null,
      "display": null,
      "flex": null,
      "flex_flow": null,
      "grid_area": null,
      "grid_auto_columns": null,
      "grid_auto_flow": null,
      "grid_auto_rows": null,
      "grid_column": null,
      "grid_gap": null,
      "grid_row": null,
      "grid_template_areas": null,
      "grid_template_columns": null,
      "grid_template_rows": null,
      "height": null,
      "justify_content": null,
      "justify_items": null,
      "left": null,
      "margin": null,
      "max_height": null,
      "max_width": null,
      "min_height": null,
      "min_width": null,
      "object_fit": null,
      "object_position": null,
      "order": null,
      "overflow": null,
      "overflow_x": null,
      "overflow_y": null,
      "padding": null,
      "right": null,
      "top": null,
      "visibility": null,
      "width": null
     }
    },
    "f73bf820a2c84ebfaebcfd61a2b01abe": {
     "model_module": "@jupyter-widgets/controls",
     "model_module_version": "1.5.0",
     "model_name": "FloatProgressModel",
     "state": {
      "_dom_classes": [],
      "_model_module": "@jupyter-widgets/controls",
      "_model_module_version": "1.5.0",
      "_model_name": "FloatProgressModel",
      "_view_count": null,
      "_view_module": "@jupyter-widgets/controls",
      "_view_module_version": "1.5.0",
      "_view_name": "ProgressView",
      "bar_style": "success",
      "description": "",
      "description_tooltip": null,
      "layout": "IPY_MODEL_ded7867e05fc4acbbabd925e1c37d32d",
      "max": 190,
      "min": 0,
      "orientation": "horizontal",
      "style": "IPY_MODEL_f06ef6cd6d3d4960bf78209cdc4ddfd8",
      "value": 190
     }
    },
    "faa6c70271684d71a02de96aaaaa067e": {
     "model_module": "@jupyter-widgets/controls",
     "model_module_version": "1.5.0",
     "model_name": "DescriptionStyleModel",
     "state": {
      "_model_module": "@jupyter-widgets/controls",
      "_model_module_version": "1.5.0",
      "_model_name": "DescriptionStyleModel",
      "_view_count": null,
      "_view_module": "@jupyter-widgets/base",
      "_view_module_version": "1.2.0",
      "_view_name": "StyleView",
      "description_width": ""
     }
    },
    "fbdc121102f34edfb59e09d1541c4e49": {
     "model_module": "@jupyter-widgets/base",
     "model_module_version": "1.2.0",
     "model_name": "LayoutModel",
     "state": {
      "_model_module": "@jupyter-widgets/base",
      "_model_module_version": "1.2.0",
      "_model_name": "LayoutModel",
      "_view_count": null,
      "_view_module": "@jupyter-widgets/base",
      "_view_module_version": "1.2.0",
      "_view_name": "LayoutView",
      "align_content": null,
      "align_items": null,
      "align_self": null,
      "border": null,
      "bottom": null,
      "display": null,
      "flex": null,
      "flex_flow": null,
      "grid_area": null,
      "grid_auto_columns": null,
      "grid_auto_flow": null,
      "grid_auto_rows": null,
      "grid_column": null,
      "grid_gap": null,
      "grid_row": null,
      "grid_template_areas": null,
      "grid_template_columns": null,
      "grid_template_rows": null,
      "height": null,
      "justify_content": null,
      "justify_items": null,
      "left": null,
      "margin": null,
      "max_height": null,
      "max_width": null,
      "min_height": null,
      "min_width": null,
      "object_fit": null,
      "object_position": null,
      "order": null,
      "overflow": null,
      "overflow_x": null,
      "overflow_y": null,
      "padding": null,
      "right": null,
      "top": null,
      "visibility": null,
      "width": null
     }
    },
    "fca8488653594d8f80c1394a1691a509": {
     "model_module": "@jupyter-widgets/controls",
     "model_module_version": "1.5.0",
     "model_name": "ProgressStyleModel",
     "state": {
      "_model_module": "@jupyter-widgets/controls",
      "_model_module_version": "1.5.0",
      "_model_name": "ProgressStyleModel",
      "_view_count": null,
      "_view_module": "@jupyter-widgets/base",
      "_view_module_version": "1.2.0",
      "_view_name": "StyleView",
      "bar_color": null,
      "description_width": ""
     }
    },
    "ff7bdeea7f344a30b9094faea07e795b": {
     "model_module": "@jupyter-widgets/controls",
     "model_module_version": "1.5.0",
     "model_name": "DescriptionStyleModel",
     "state": {
      "_model_module": "@jupyter-widgets/controls",
      "_model_module_version": "1.5.0",
      "_model_name": "DescriptionStyleModel",
      "_view_count": null,
      "_view_module": "@jupyter-widgets/base",
      "_view_module_version": "1.2.0",
      "_view_name": "StyleView",
      "description_width": ""
     }
    }
   }
  }
 },
 "nbformat": 4,
 "nbformat_minor": 4
}
