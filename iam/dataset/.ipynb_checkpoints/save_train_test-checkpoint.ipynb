{
 "cells": [
  {
   "cell_type": "markdown",
   "id": "c348a363-89d3-417d-b91e-2a3efa28e20a",
   "metadata": {},
   "source": [
    "## Save Training Set and Testing Set\n",
    "Download the word image of IAM dataset from [Kaggle Dataset](https://www.kaggle.com/datasets/nibinv23/iam-handwriting-word-database)"
   ]
  },
  {
   "cell_type": "markdown",
   "id": "5f28f4eb-04a4-4fcb-a8fb-edd9bb1da9f8",
   "metadata": {},
   "source": [
    "## Step 1. Data Processing"
   ]
  },
  {
   "cell_type": "markdown",
   "id": "59e3e67b-4223-4755-b7f2-0b7718ba0218",
   "metadata": {},
   "source": [
    "### 1.1 Loading the Data"
   ]
  },
  {
   "cell_type": "code",
   "execution_count": null,
   "id": "0213b284-7517-4200-bc83-3b24295c4118",
   "metadata": {},
   "outputs": [],
   "source": [
    "import os\n",
    "\n",
    "# Change to desired directory where pickled file of sliced dataset are saved\n",
    "os.chdir('/save/to/path')\n",
    "\n",
    "# Confirm it's changed\n",
    "print(\"Current directory:\", os.getcwd())"
   ]
  },
  {
   "cell_type": "code",
   "execution_count": 2,
   "id": "9aaeca27-793b-4000-9f6b-b6a51debd4b5",
   "metadata": {},
   "outputs": [],
   "source": [
    "import os\n",
    "images_dir = 'dataset/iam'"
   ]
  },
  {
   "cell_type": "code",
   "execution_count": 3,
   "id": "d3745fd7-48a8-461e-9780-b5e110b5b45a",
   "metadata": {
    "scrolled": true
   },
   "outputs": [
    {
     "name": "stdout",
     "output_type": "stream",
     "text": [
      "Processing line 0\n",
      "Processing line 1000\n",
      "Processing line 2000\n",
      "Processing line 3000\n",
      "Processing line 4000\n",
      "Unidentified image error for file dataset/iam/words: cannot identify image file 'dataset/iam/words/a01/a01-117/a01-117-05-02.png'\n",
      "Processing line 5000\n",
      "Processing line 6000\n",
      "Processing line 7000\n",
      "Processing line 8000\n",
      "Processing line 9000\n",
      "Processing line 10000\n",
      "Processing line 11000\n",
      "Processing line 12000\n",
      "Processing line 13000\n",
      "Processing line 14000\n",
      "Processing line 15000\n",
      "Processing line 16000\n",
      "Processing line 17000\n",
      "Processing line 18000\n",
      "Processing line 19000\n",
      "Processing line 20000\n",
      "Processing line 21000\n",
      "Processing line 22000\n",
      "Processing line 23000\n",
      "Processing line 24000\n",
      "Processing line 25000\n",
      "Processing line 26000\n",
      "Processing line 27000\n",
      "Processing line 28000\n",
      "Processing line 29000\n",
      "Processing line 30000\n",
      "Processing line 31000\n",
      "Processing line 32000\n",
      "Processing line 33000\n",
      "Processing line 34000\n",
      "Processing line 35000\n",
      "Processing line 36000\n",
      "Processing line 37000\n",
      "Processing line 38000\n",
      "Processing line 39000\n",
      "Processing line 40000\n",
      "Processing line 41000\n",
      "Processing line 42000\n",
      "Processing line 43000\n",
      "Processing line 44000\n",
      "Length of a row in data: 5\n",
      "['a01/a01-000u/a01-000u-00-00.png', 'ok', '154', 'A', <PIL.Image.Image image mode=RGB size=27x51 at 0x7F777AD794E0>]\n"
     ]
    }
   ],
   "source": [
    "import pandas as pd\n",
    "from PIL import Image\n",
    "label_file_path = images_dir + '/words.txt'\n",
    "image_file_path = images_dir + '/words'\n",
    "\n",
    "data = []\n",
    "with open(label_file_path, 'r') as f:\n",
    "    lines = f.readlines()\n",
    "\n",
    "for idx, line in enumerate(lines[18:]):\n",
    "    if idx % 1000 == 0:\n",
    "        print(f\"Processing line {idx}\")\n",
    "    row = []\n",
    "    tokens = line.strip().split()\n",
    "    if len(tokens) < 2:\n",
    "        continue\n",
    "\n",
    "    subfolder = tokens[0].split('-')[0]\n",
    "    subfolder2 = subfolder + \"-\" + tokens[0].split('-')[1]\n",
    "    image_file_name = subfolder + \"/\" + subfolder2 + \"/\" + tokens[0] + \".png\"\n",
    "    image_path = os.path.join(image_file_path, image_file_name)\n",
    "    try:\n",
    "        with Image.open(image_path) as img:\n",
    "            if img.size[0] >= 10 and img.size[1] >= 10:\n",
    "                img_rgb = img.convert(\"RGB\")  # Convert to RGB\n",
    "                img_copy = img_rgb.copy()     # Copy after conversion\n",
    "    except FileNotFoundError as e:\n",
    "        print(f\"Image file not found: {image_file_path}. Error: {e}\")\n",
    "        continue\n",
    "    except Image.UnidentifiedImageError as e:\n",
    "        print(f\"Unidentified image error for file {image_file_path}: {e}\")\n",
    "        continue\n",
    "    except Exception as e:\n",
    "        print(f\"Error opening image file {image_file_path}: {e}\")\n",
    "        continue\n",
    "    row = [image_file_name, tokens[1], tokens[2], tokens[-1], img_copy]\n",
    "    # if len(row) != 10:\n",
    "    #     print(f\"Row length mismatch: {len(row)} elements in row: {row}\")\n",
    "    #     continue\n",
    "    data.append(row)\n",
    "\n",
    "\n",
    "print(f\"Length of a row in data: {len(data[0])}\")  # Should print 10\n",
    "\n",
    "print(data[0])\n",
    "loaded = pd.DataFrame(data, columns=['image_id', 'segmentation_status', 'graylevel','text', 'image'])"
   ]
  },
  {
   "cell_type": "code",
   "execution_count": 4,
   "id": "7410eee9-1cdb-4dae-b9eb-b8af757900a3",
   "metadata": {},
   "outputs": [],
   "source": [
    "loaded_dfwords = loaded.copy()"
   ]
  },
  {
   "cell_type": "code",
   "execution_count": 5,
   "id": "b83b8f1d-3dd1-46d2-8f39-e1d993b2aaa6",
   "metadata": {},
   "outputs": [
    {
     "name": "stdout",
     "output_type": "stream",
     "text": [
      "<class 'pandas.core.frame.DataFrame'>\n",
      "RangeIndex: 44563 entries, 0 to 44562\n",
      "Data columns (total 5 columns):\n",
      " #   Column               Non-Null Count  Dtype \n",
      "---  ------               --------------  ----- \n",
      " 0   image_id             44563 non-null  object\n",
      " 1   segmentation_status  44563 non-null  object\n",
      " 2   graylevel            44563 non-null  object\n",
      " 3   text                 44563 non-null  object\n",
      " 4   image                44563 non-null  object\n",
      "dtypes: object(5)\n",
      "memory usage: 1.7+ MB\n"
     ]
    }
   ],
   "source": [
    "loaded_dfwords.info()"
   ]
  },
  {
   "cell_type": "code",
   "execution_count": 6,
   "id": "452e1ce4-b72f-4219-8443-81cfee267a64",
   "metadata": {
    "scrolled": true
   },
   "outputs": [
    {
     "data": {
      "text/html": [
       "<div>\n",
       "<style scoped>\n",
       "    .dataframe tbody tr th:only-of-type {\n",
       "        vertical-align: middle;\n",
       "    }\n",
       "\n",
       "    .dataframe tbody tr th {\n",
       "        vertical-align: top;\n",
       "    }\n",
       "\n",
       "    .dataframe thead th {\n",
       "        text-align: right;\n",
       "    }\n",
       "</style>\n",
       "<table border=\"1\" class=\"dataframe\">\n",
       "  <thead>\n",
       "    <tr style=\"text-align: right;\">\n",
       "      <th></th>\n",
       "      <th>image_id</th>\n",
       "      <th>segmentation_status</th>\n",
       "      <th>graylevel</th>\n",
       "      <th>text</th>\n",
       "      <th>image</th>\n",
       "    </tr>\n",
       "  </thead>\n",
       "  <tbody>\n",
       "    <tr>\n",
       "      <th>0</th>\n",
       "      <td>a01/a01-000u/a01-000u-00-00.png</td>\n",
       "      <td>ok</td>\n",
       "      <td>154</td>\n",
       "      <td>A</td>\n",
       "      <td>&lt;PIL.Image.Image image mode=RGB size=27x51 at ...</td>\n",
       "    </tr>\n",
       "    <tr>\n",
       "      <th>1</th>\n",
       "      <td>a01/a01-000u/a01-000u-00-01.png</td>\n",
       "      <td>ok</td>\n",
       "      <td>154</td>\n",
       "      <td>MOVE</td>\n",
       "      <td>&lt;PIL.Image.Image image mode=RGB size=213x48 at...</td>\n",
       "    </tr>\n",
       "    <tr>\n",
       "      <th>2</th>\n",
       "      <td>a01/a01-000u/a01-000u-00-02.png</td>\n",
       "      <td>ok</td>\n",
       "      <td>154</td>\n",
       "      <td>to</td>\n",
       "      <td>&lt;PIL.Image.Image image mode=RGB size=70x50 at ...</td>\n",
       "    </tr>\n",
       "    <tr>\n",
       "      <th>3</th>\n",
       "      <td>a01/a01-000u/a01-000u-00-03.png</td>\n",
       "      <td>ok</td>\n",
       "      <td>154</td>\n",
       "      <td>stop</td>\n",
       "      <td>&lt;PIL.Image.Image image mode=RGB size=166x78 at...</td>\n",
       "    </tr>\n",
       "    <tr>\n",
       "      <th>4</th>\n",
       "      <td>a01/a01-000u/a01-000u-00-04.png</td>\n",
       "      <td>ok</td>\n",
       "      <td>154</td>\n",
       "      <td>Mr.</td>\n",
       "      <td>&lt;PIL.Image.Image image mode=RGB size=126x61 at...</td>\n",
       "    </tr>\n",
       "  </tbody>\n",
       "</table>\n",
       "</div>"
      ],
      "text/plain": [
       "                          image_id segmentation_status graylevel  text  \\\n",
       "0  a01/a01-000u/a01-000u-00-00.png                  ok       154     A   \n",
       "1  a01/a01-000u/a01-000u-00-01.png                  ok       154  MOVE   \n",
       "2  a01/a01-000u/a01-000u-00-02.png                  ok       154    to   \n",
       "3  a01/a01-000u/a01-000u-00-03.png                  ok       154  stop   \n",
       "4  a01/a01-000u/a01-000u-00-04.png                  ok       154   Mr.   \n",
       "\n",
       "                                               image  \n",
       "0  <PIL.Image.Image image mode=RGB size=27x51 at ...  \n",
       "1  <PIL.Image.Image image mode=RGB size=213x48 at...  \n",
       "2  <PIL.Image.Image image mode=RGB size=70x50 at ...  \n",
       "3  <PIL.Image.Image image mode=RGB size=166x78 at...  \n",
       "4  <PIL.Image.Image image mode=RGB size=126x61 at...  "
      ]
     },
     "execution_count": 6,
     "metadata": {},
     "output_type": "execute_result"
    }
   ],
   "source": [
    "loaded_dfwords.head()"
   ]
  },
  {
   "cell_type": "markdown",
   "id": "c14f2fc5-a51f-4296-a14c-5ca352053e44",
   "metadata": {},
   "source": [
    "### 1.2 Removing Unused Columns"
   ]
  },
  {
   "cell_type": "code",
   "execution_count": 7,
   "id": "ff9f0501-343f-405b-b6fa-4c5d0cca2a74",
   "metadata": {},
   "outputs": [],
   "source": [
    "loaded_dfwords.drop(columns=['segmentation_status','graylevel','image'], inplace=True)"
   ]
  },
  {
   "cell_type": "code",
   "execution_count": 8,
   "id": "3f6febd2-aa17-4462-a47f-704fb4f6eefe",
   "metadata": {},
   "outputs": [
    {
     "data": {
      "text/html": [
       "<div>\n",
       "<style scoped>\n",
       "    .dataframe tbody tr th:only-of-type {\n",
       "        vertical-align: middle;\n",
       "    }\n",
       "\n",
       "    .dataframe tbody tr th {\n",
       "        vertical-align: top;\n",
       "    }\n",
       "\n",
       "    .dataframe thead th {\n",
       "        text-align: right;\n",
       "    }\n",
       "</style>\n",
       "<table border=\"1\" class=\"dataframe\">\n",
       "  <thead>\n",
       "    <tr style=\"text-align: right;\">\n",
       "      <th></th>\n",
       "      <th>image_id</th>\n",
       "      <th>text</th>\n",
       "    </tr>\n",
       "  </thead>\n",
       "  <tbody>\n",
       "    <tr>\n",
       "      <th>0</th>\n",
       "      <td>a01/a01-000u/a01-000u-00-00.png</td>\n",
       "      <td>A</td>\n",
       "    </tr>\n",
       "    <tr>\n",
       "      <th>1</th>\n",
       "      <td>a01/a01-000u/a01-000u-00-01.png</td>\n",
       "      <td>MOVE</td>\n",
       "    </tr>\n",
       "    <tr>\n",
       "      <th>2</th>\n",
       "      <td>a01/a01-000u/a01-000u-00-02.png</td>\n",
       "      <td>to</td>\n",
       "    </tr>\n",
       "    <tr>\n",
       "      <th>3</th>\n",
       "      <td>a01/a01-000u/a01-000u-00-03.png</td>\n",
       "      <td>stop</td>\n",
       "    </tr>\n",
       "    <tr>\n",
       "      <th>4</th>\n",
       "      <td>a01/a01-000u/a01-000u-00-04.png</td>\n",
       "      <td>Mr.</td>\n",
       "    </tr>\n",
       "  </tbody>\n",
       "</table>\n",
       "</div>"
      ],
      "text/plain": [
       "                          image_id  text\n",
       "0  a01/a01-000u/a01-000u-00-00.png     A\n",
       "1  a01/a01-000u/a01-000u-00-01.png  MOVE\n",
       "2  a01/a01-000u/a01-000u-00-02.png    to\n",
       "3  a01/a01-000u/a01-000u-00-03.png  stop\n",
       "4  a01/a01-000u/a01-000u-00-04.png   Mr."
      ]
     },
     "execution_count": 8,
     "metadata": {},
     "output_type": "execute_result"
    }
   ],
   "source": [
    "loaded_dfwords.head()"
   ]
  },
  {
   "cell_type": "markdown",
   "id": "91190325-c558-4c6e-be8d-fc18ff77c4c4",
   "metadata": {},
   "source": [
    "### 1.3 Show image"
   ]
  },
  {
   "cell_type": "code",
   "execution_count": 9,
   "id": "9a925a60-56a3-401e-98a6-b45d5ebfb1f6",
   "metadata": {},
   "outputs": [],
   "source": [
    "import matplotlib.pyplot as plt\n",
    "\n",
    "def show_image(df, row):\n",
    "    # plt.imshow(df.iloc[row]['image'], cmap='gray')\n",
    "    img = Image.open(image_file_path+ '/'+df.iloc[row]['image_id'])\n",
    "    plt.imshow(img, cmap='gray')\n",
    "    plt.show()"
   ]
  },
  {
   "cell_type": "code",
   "execution_count": 10,
   "id": "2930caed",
   "metadata": {},
   "outputs": [
    {
     "data": {
      "image/png": "[encoded data removed]",
      "text/plain": [
       "<Figure size 640x480 with 1 Axes>"
      ]
     },
     "metadata": {},
     "output_type": "display_data"
    }
   ],
   "source": [
    "show_image(loaded_dfwords, 10)  # Show the first image"
   ]
  },
  {
   "cell_type": "markdown",
   "id": "40cd39ed-8ff9-47bb-815e-254681d06606",
   "metadata": {},
   "source": [
    "## Step 2. Cleaning the Data"
   ]
  },
  {
   "cell_type": "markdown",
   "id": "700b6e12-cde8-426f-bcb7-aa86c5c2e5da",
   "metadata": {},
   "source": [
    "### 2.1 Speical Character"
   ]
  },
  {
   "cell_type": "code",
   "execution_count": 11,
   "id": "ada98afd-f656-45dc-ab5f-edc0f3d24ac8",
   "metadata": {},
   "outputs": [],
   "source": [
    "import re\n",
    "\n",
    "# Patter for all Special characters\n",
    "special_char_pattern = r'[^a-zA-Z0-9\\s]'  # Matches anything not alphanumeric or whitespace\n",
    "\n",
    "# Select rows with special characters\n",
    "special_char_rows = loaded_dfwords[loaded_dfwords['text'].str.contains(special_char_pattern, regex=True, na=False)]"
   ]
  },
  {
   "cell_type": "code",
   "execution_count": 12,
   "id": "f497d1fb-a7fe-4d86-b527-b2d221ee4908",
   "metadata": {},
   "outputs": [
    {
     "data": {
      "text/html": [
       "<div>\n",
       "<style scoped>\n",
       "    .dataframe tbody tr th:only-of-type {\n",
       "        vertical-align: middle;\n",
       "    }\n",
       "\n",
       "    .dataframe tbody tr th {\n",
       "        vertical-align: top;\n",
       "    }\n",
       "\n",
       "    .dataframe thead th {\n",
       "        text-align: right;\n",
       "    }\n",
       "</style>\n",
       "<table border=\"1\" class=\"dataframe\">\n",
       "  <thead>\n",
       "    <tr style=\"text-align: right;\">\n",
       "      <th></th>\n",
       "      <th>image_id</th>\n",
       "      <th>text</th>\n",
       "    </tr>\n",
       "  </thead>\n",
       "  <tbody>\n",
       "    <tr>\n",
       "      <th>4</th>\n",
       "      <td>a01/a01-000u/a01-000u-00-04.png</td>\n",
       "      <td>Mr.</td>\n",
       "    </tr>\n",
       "    <tr>\n",
       "      <th>24</th>\n",
       "      <td>a01/a01-000u/a01-000u-03-02.png</td>\n",
       "      <td>.</td>\n",
       "    </tr>\n",
       "    <tr>\n",
       "      <th>25</th>\n",
       "      <td>a01/a01-000u/a01-000u-03-03.png</td>\n",
       "      <td>Mr.</td>\n",
       "    </tr>\n",
       "    <tr>\n",
       "      <th>43</th>\n",
       "      <td>a01/a01-000u/a01-000u-05-07.png</td>\n",
       "      <td>Mr.</td>\n",
       "    </tr>\n",
       "    <tr>\n",
       "      <th>46</th>\n",
       "      <td>a01/a01-000u/a01-000u-06-01.png</td>\n",
       "      <td>,</td>\n",
       "    </tr>\n",
       "  </tbody>\n",
       "</table>\n",
       "</div>"
      ],
      "text/plain": [
       "                           image_id text\n",
       "4   a01/a01-000u/a01-000u-00-04.png  Mr.\n",
       "24  a01/a01-000u/a01-000u-03-02.png    .\n",
       "25  a01/a01-000u/a01-000u-03-03.png  Mr.\n",
       "43  a01/a01-000u/a01-000u-05-07.png  Mr.\n",
       "46  a01/a01-000u/a01-000u-06-01.png    ,"
      ]
     },
     "execution_count": 12,
     "metadata": {},
     "output_type": "execute_result"
    }
   ],
   "source": [
    "special_char_rows.head(5)"
   ]
  },
  {
   "cell_type": "code",
   "execution_count": 13,
   "id": "d4040a5a-2c6b-4942-81cc-78890fa1eb74",
   "metadata": {},
   "outputs": [],
   "source": [
    "allowed_pattern = r'^[\\w\\s\\.,!?;:\\-+*/=()\\[\\]{}<>@#\\$%^&_\\'\"\\t\\n]+$'\n",
    "mask = ~loaded_dfwords['text'].str.contains(allowed_pattern, regex=True)\n",
    "non_standard_rows = loaded_dfwords[mask]"
   ]
  },
  {
   "cell_type": "code",
   "execution_count": 14,
   "id": "a53d01cd-5002-49da-bc64-e19ea134d1c5",
   "metadata": {},
   "outputs": [
    {
     "data": {
      "text/html": [
       "<div>\n",
       "<style scoped>\n",
       "    .dataframe tbody tr th:only-of-type {\n",
       "        vertical-align: middle;\n",
       "    }\n",
       "\n",
       "    .dataframe tbody tr th {\n",
       "        vertical-align: top;\n",
       "    }\n",
       "\n",
       "    .dataframe thead th {\n",
       "        text-align: right;\n",
       "    }\n",
       "</style>\n",
       "<table border=\"1\" class=\"dataframe\">\n",
       "  <thead>\n",
       "    <tr style=\"text-align: right;\">\n",
       "      <th></th>\n",
       "      <th>image_id</th>\n",
       "      <th>text</th>\n",
       "    </tr>\n",
       "  </thead>\n",
       "  <tbody>\n",
       "  </tbody>\n",
       "</table>\n",
       "</div>"
      ],
      "text/plain": [
       "Empty DataFrame\n",
       "Columns: [image_id, text]\n",
       "Index: []"
      ]
     },
     "execution_count": 14,
     "metadata": {},
     "output_type": "execute_result"
    }
   ],
   "source": [
    "non_standard_rows.head()"
   ]
  },
  {
   "cell_type": "code",
   "execution_count": 15,
   "id": "85c6dc5b-8f26-40fe-9d3c-0dca648f4e76",
   "metadata": {},
   "outputs": [],
   "source": [
    "mask = loaded_dfwords['text'].str.contains(r'\\\\', regex=True)\n",
    "check_rows= loaded_dfwords[mask]"
   ]
  },
  {
   "cell_type": "code",
   "execution_count": 16,
   "id": "b13879fc-095f-43b7-ad97-887bedc2fce7",
   "metadata": {},
   "outputs": [],
   "source": [
    "loaded_dfwords['text'] = loaded_dfwords['text'].str.replace('\\\\/', '/', regex=False)"
   ]
  },
  {
   "cell_type": "code",
   "execution_count": 17,
   "id": "03450d73-c3c6-479e-a3a6-5ea1cb8401d7",
   "metadata": {},
   "outputs": [],
   "source": [
    "mask = ~loaded_dfwords['text'].str.contains(allowed_pattern, regex=True)\n",
    "non_standard_rows2 = loaded_dfwords[mask]"
   ]
  },
  {
   "cell_type": "code",
   "execution_count": 18,
   "id": "d53fed34-7601-4ea8-9f19-22450677186a",
   "metadata": {},
   "outputs": [
    {
     "name": "stdout",
     "output_type": "stream",
     "text": [
      "Words with special character: 0 , Percentage:  0.0\n",
      "Images with special character: 0 , Percentage:  0.0\n"
     ]
    }
   ],
   "source": [
    "print(\"Words with special character:\", len(non_standard_rows2), \", Percentage: \", len(non_standard_rows2)/len(loaded_dfwords))\n",
    "print(\"Images with special character:\", len(non_standard_rows2['image_id'].unique()), \", Percentage: \", len(non_standard_rows2['image_id'].unique())/len(loaded_dfwords['image_id'].unique()))"
   ]
  },
  {
   "cell_type": "code",
   "execution_count": 19,
   "id": "cfc85fe7-8168-4412-b128-86fcf0998657",
   "metadata": {},
   "outputs": [],
   "source": [
    "loaded_dfwords=loaded_dfwords[~mask]"
   ]
  },
  {
   "cell_type": "code",
   "execution_count": 20,
   "id": "8254f0e8-c135-45cc-957f-1ab94811e2a4",
   "metadata": {},
   "outputs": [
    {
     "name": "stdout",
     "output_type": "stream",
     "text": [
      "total number of words 44563\n"
     ]
    }
   ],
   "source": [
    "print(\"total number of words\", len(loaded_dfwords))"
   ]
  },
  {
   "cell_type": "code",
   "execution_count": 21,
   "id": "cbbba6b3-8e22-4d0b-8811-10d61f31c76e",
   "metadata": {},
   "outputs": [
    {
     "name": "stdout",
     "output_type": "stream",
     "text": [
      "Number of rows with allowed characters: 44563\n"
     ]
    }
   ],
   "source": [
    "# confirm there is no special characters\n",
    "count_matching = loaded_dfwords['text'].str.contains(allowed_pattern, regex=True, na=False).sum()\n",
    "print(f\"Number of rows with allowed characters: {count_matching}\")"
   ]
  },
  {
   "cell_type": "code",
   "execution_count": 22,
   "id": "c875862b-c305-43e9-a435-94aebcd102ad",
   "metadata": {},
   "outputs": [],
   "source": [
    "pattern = r'^[^a-zA-Z0-9]+$'  # Matches strings with no alphanumeric chars at all\n",
    "non_alnum_rows = loaded_dfwords[loaded_dfwords['text'].str.contains(pattern, regex=True, na=False)]"
   ]
  },
  {
   "cell_type": "code",
   "execution_count": 23,
   "id": "1f207856-f41e-42f2-919a-a0927287af6e",
   "metadata": {},
   "outputs": [
    {
     "name": "stdout",
     "output_type": "stream",
     "text": [
      "total number of words 44563\n"
     ]
    }
   ],
   "source": [
    "print(\"total number of words\", len(loaded_dfwords))"
   ]
  },
  {
   "cell_type": "code",
   "execution_count": 24,
   "id": "3d632bdd-eee0-4ead-91cd-6db461c1d533",
   "metadata": {
    "scrolled": true
   },
   "outputs": [
    {
     "data": {
      "text/html": [
       "<div>\n",
       "<style scoped>\n",
       "    .dataframe tbody tr th:only-of-type {\n",
       "        vertical-align: middle;\n",
       "    }\n",
       "\n",
       "    .dataframe tbody tr th {\n",
       "        vertical-align: top;\n",
       "    }\n",
       "\n",
       "    .dataframe thead th {\n",
       "        text-align: right;\n",
       "    }\n",
       "</style>\n",
       "<table border=\"1\" class=\"dataframe\">\n",
       "  <thead>\n",
       "    <tr style=\"text-align: right;\">\n",
       "      <th></th>\n",
       "      <th>image_id</th>\n",
       "      <th>text</th>\n",
       "    </tr>\n",
       "  </thead>\n",
       "  <tbody>\n",
       "    <tr>\n",
       "      <th>24</th>\n",
       "      <td>a01/a01-000u/a01-000u-03-02.png</td>\n",
       "      <td>.</td>\n",
       "    </tr>\n",
       "    <tr>\n",
       "      <th>46</th>\n",
       "      <td>a01/a01-000u/a01-000u-06-01.png</td>\n",
       "      <td>,</td>\n",
       "    </tr>\n",
       "    <tr>\n",
       "      <th>51</th>\n",
       "      <td>a01/a01-000u/a01-000u-06-06.png</td>\n",
       "      <td>.</td>\n",
       "    </tr>\n",
       "    <tr>\n",
       "      <th>76</th>\n",
       "      <td>a01/a01-000x/a01-000x-02-05.png</td>\n",
       "      <td>.</td>\n",
       "    </tr>\n",
       "    <tr>\n",
       "      <th>98</th>\n",
       "      <td>a01/a01-000x/a01-000x-04-10.png</td>\n",
       "      <td>,</td>\n",
       "    </tr>\n",
       "  </tbody>\n",
       "</table>\n",
       "</div>"
      ],
      "text/plain": [
       "                           image_id text\n",
       "24  a01/a01-000u/a01-000u-03-02.png    .\n",
       "46  a01/a01-000u/a01-000u-06-01.png    ,\n",
       "51  a01/a01-000u/a01-000u-06-06.png    .\n",
       "76  a01/a01-000x/a01-000x-02-05.png    .\n",
       "98  a01/a01-000x/a01-000x-04-10.png    ,"
      ]
     },
     "execution_count": 24,
     "metadata": {},
     "output_type": "execute_result"
    }
   ],
   "source": [
    "non_alnum_rows.head(5)"
   ]
  },
  {
   "cell_type": "markdown",
   "id": "374fecdc-5ce0-4512-a8ac-f70fb107d923",
   "metadata": {},
   "source": [
    "### 2.2 All-symbol Text"
   ]
  },
  {
   "cell_type": "code",
   "execution_count": 25,
   "id": "be06f40e-6f89-41b8-9ab3-78670b26c4b4",
   "metadata": {},
   "outputs": [],
   "source": [
    "# check other rows that have only characters\n",
    "pattern = r'^[^a-zA-Z0-9]+$'  # Matches strings with no alphanumeric chars at all\n",
    "non_alnum_rows2 = loaded_dfwords[loaded_dfwords['text'].str.contains(pattern, regex=True, na=False)]"
   ]
  },
  {
   "cell_type": "code",
   "execution_count": 26,
   "id": "1d544441-7107-493b-8d2d-877f20709bc3",
   "metadata": {},
   "outputs": [
    {
     "data": {
      "text/html": [
       "<div>\n",
       "<style scoped>\n",
       "    .dataframe tbody tr th:only-of-type {\n",
       "        vertical-align: middle;\n",
       "    }\n",
       "\n",
       "    .dataframe tbody tr th {\n",
       "        vertical-align: top;\n",
       "    }\n",
       "\n",
       "    .dataframe thead th {\n",
       "        text-align: right;\n",
       "    }\n",
       "</style>\n",
       "<table border=\"1\" class=\"dataframe\">\n",
       "  <thead>\n",
       "    <tr style=\"text-align: right;\">\n",
       "      <th></th>\n",
       "      <th>image_id</th>\n",
       "      <th>text</th>\n",
       "    </tr>\n",
       "  </thead>\n",
       "  <tbody>\n",
       "    <tr>\n",
       "      <th>24</th>\n",
       "      <td>a01/a01-000u/a01-000u-03-02.png</td>\n",
       "      <td>.</td>\n",
       "    </tr>\n",
       "    <tr>\n",
       "      <th>46</th>\n",
       "      <td>a01/a01-000u/a01-000u-06-01.png</td>\n",
       "      <td>,</td>\n",
       "    </tr>\n",
       "    <tr>\n",
       "      <th>51</th>\n",
       "      <td>a01/a01-000u/a01-000u-06-06.png</td>\n",
       "      <td>.</td>\n",
       "    </tr>\n",
       "    <tr>\n",
       "      <th>76</th>\n",
       "      <td>a01/a01-000x/a01-000x-02-05.png</td>\n",
       "      <td>.</td>\n",
       "    </tr>\n",
       "    <tr>\n",
       "      <th>98</th>\n",
       "      <td>a01/a01-000x/a01-000x-04-10.png</td>\n",
       "      <td>,</td>\n",
       "    </tr>\n",
       "  </tbody>\n",
       "</table>\n",
       "</div>"
      ],
      "text/plain": [
       "                           image_id text\n",
       "24  a01/a01-000u/a01-000u-03-02.png    .\n",
       "46  a01/a01-000u/a01-000u-06-01.png    ,\n",
       "51  a01/a01-000u/a01-000u-06-06.png    .\n",
       "76  a01/a01-000x/a01-000x-02-05.png    .\n",
       "98  a01/a01-000x/a01-000x-04-10.png    ,"
      ]
     },
     "execution_count": 26,
     "metadata": {},
     "output_type": "execute_result"
    }
   ],
   "source": [
    "non_alnum_rows2.head()"
   ]
  },
  {
   "cell_type": "code",
   "execution_count": 27,
   "id": "452e35c9",
   "metadata": {},
   "outputs": [
    {
     "data": {
      "text/plain": [
       "text\n",
       ".      1906\n",
       ",      1819\n",
       "\"       625\n",
       "-       169\n",
       ")       141\n",
       "(       141\n",
       ":        89\n",
       ";        69\n",
       "#        39\n",
       "?        37\n",
       "'        36\n",
       "!        26\n",
       "...      17\n",
       "*         3\n",
       "Name: count, dtype: int64"
      ]
     },
     "execution_count": 27,
     "metadata": {},
     "output_type": "execute_result"
    }
   ],
   "source": [
    "non_alnum_rows2['text'].value_counts()"
   ]
  },
  {
   "cell_type": "code",
   "execution_count": 28,
   "id": "32292d04",
   "metadata": {},
   "outputs": [],
   "source": [
    "# remove these to match the other imgur dataset preprocessing (it also removes all instances of text as '.' due to incorrect labels)\n",
    "only_period_rows= loaded_dfwords[loaded_dfwords['text'] == '.']\n",
    "loaded_dfwords = loaded_dfwords[loaded_dfwords['text'] != '.']"
   ]
  },
  {
   "cell_type": "code",
   "execution_count": 29,
   "id": "477aa4af",
   "metadata": {},
   "outputs": [],
   "source": [
    "loaded_dfwords = loaded_dfwords[loaded_dfwords['text'] != '-----------------------------------------------------']"
   ]
  },
  {
   "cell_type": "code",
   "execution_count": 30,
   "id": "025fd0cc",
   "metadata": {},
   "outputs": [],
   "source": [
    "loaded_dfwords = loaded_dfwords.reset_index(drop=True)"
   ]
  },
  {
   "cell_type": "code",
   "execution_count": 31,
   "id": "bcf92f49",
   "metadata": {},
   "outputs": [
    {
     "name": "stdout",
     "output_type": "stream",
     "text": [
      "<class 'pandas.core.frame.DataFrame'>\n",
      "RangeIndex: 42657 entries, 0 to 42656\n",
      "Data columns (total 2 columns):\n",
      " #   Column    Non-Null Count  Dtype \n",
      "---  ------    --------------  ----- \n",
      " 0   image_id  42657 non-null  object\n",
      " 1   text      42657 non-null  object\n",
      "dtypes: object(2)\n",
      "memory usage: 666.6+ KB\n"
     ]
    }
   ],
   "source": [
    "loaded_dfwords.info()"
   ]
  },
  {
   "cell_type": "markdown",
   "id": "e289af3a-c757-493b-a5ba-ed274414bfc1",
   "metadata": {},
   "source": [
    "## Step 3. Splitting the Data into Training and Testing Subsets"
   ]
  },
  {
   "cell_type": "markdown",
   "id": "458062cd-6c37-4119-8803-f51e2cabd950",
   "metadata": {},
   "source": [
    "### 3.1 Spliting into Training and Testing Set"
   ]
  },
  {
   "cell_type": "code",
   "execution_count": 32,
   "id": "a35baa5f-4657-4390-b532-ee7ab81b6d0b",
   "metadata": {},
   "outputs": [],
   "source": [
    "import numpy as np\n",
    "\n",
    "# Get unique groups\n",
    "unique_images = loaded_dfwords['image_id'].unique()\n",
    "\n",
    "\n",
    "# Randomly select 10% for test \n",
    "np.random.seed(42)\n",
    "test_images = np.random.choice(unique_images, \n",
    "                              size=int(len(unique_images)*0.2), \n",
    "                              replace=False)"
   ]
  },
  {
   "cell_type": "code",
   "execution_count": 33,
   "id": "991a2758-4458-4533-b933-d77fe786cb7d",
   "metadata": {},
   "outputs": [],
   "source": [
    "test_df = loaded_dfwords[loaded_dfwords['image_id'].isin(test_images)]\n",
    "training_df = loaded_dfwords[~loaded_dfwords['image_id'].isin(test_images)]"
   ]
  },
  {
   "cell_type": "code",
   "execution_count": 34,
   "id": "844e759d-5504-4c81-a68c-f7154c2eea5d",
   "metadata": {},
   "outputs": [
    {
     "name": "stdout",
     "output_type": "stream",
     "text": [
      "Words in Train Dataset: 34126 , Percentage:  0.8000093771245048\n"
     ]
    }
   ],
   "source": [
    "print(\"Words in Train Dataset:\", len(training_df), \", Percentage: \", len(training_df)/len(loaded_dfwords))"
   ]
  },
  {
   "cell_type": "code",
   "execution_count": 35,
   "id": "a7a6e047-453c-409e-98de-ce5ce73a9e04",
   "metadata": {},
   "outputs": [
    {
     "name": "stdout",
     "output_type": "stream",
     "text": [
      "Words in Test Dataset: 8531 , Percentage:  0.19999062287549524\n"
     ]
    }
   ],
   "source": [
    "print(\"Words in Test Dataset:\", len(test_df), \", Percentage: \", len(test_df)/len(loaded_dfwords))"
   ]
  },
  {
   "cell_type": "code",
   "execution_count": 36,
   "id": "ea129db7-c914-46cb-8f3c-79cd8390339f",
   "metadata": {},
   "outputs": [
    {
     "name": "stdout",
     "output_type": "stream",
     "text": [
      "total number of words 42657\n"
     ]
    }
   ],
   "source": [
    "print(\"total number of words\", len(loaded_dfwords))"
   ]
  },
  {
   "cell_type": "markdown",
   "id": "70dd5924-832d-4d2e-8a2a-f00cc8ff8cee",
   "metadata": {},
   "source": [
    "### 3.2 Saving the Dataset to CSV"
   ]
  },
  {
   "cell_type": "code",
   "execution_count": 37,
   "id": "71f61965-0f19-4c2e-9ea5-bd65c5a512ca",
   "metadata": {},
   "outputs": [],
   "source": [
    "training_df = training_df.assign(word_idx=training_df.index)"
   ]
  },
  {
   "cell_type": "code",
   "execution_count": 38,
   "id": "d2102e28-93c1-4f57-a817-819d7ded0e8e",
   "metadata": {},
   "outputs": [
    {
     "data": {
      "text/html": [
       "<div>\n",
       "<style scoped>\n",
       "    .dataframe tbody tr th:only-of-type {\n",
       "        vertical-align: middle;\n",
       "    }\n",
       "\n",
       "    .dataframe tbody tr th {\n",
       "        vertical-align: top;\n",
       "    }\n",
       "\n",
       "    .dataframe thead th {\n",
       "        text-align: right;\n",
       "    }\n",
       "</style>\n",
       "<table border=\"1\" class=\"dataframe\">\n",
       "  <thead>\n",
       "    <tr style=\"text-align: right;\">\n",
       "      <th></th>\n",
       "      <th>image_id</th>\n",
       "      <th>text</th>\n",
       "      <th>word_idx</th>\n",
       "    </tr>\n",
       "  </thead>\n",
       "  <tbody>\n",
       "    <tr>\n",
       "      <th>2</th>\n",
       "      <td>a01/a01-000u/a01-000u-00-02.png</td>\n",
       "      <td>to</td>\n",
       "      <td>2</td>\n",
       "    </tr>\n",
       "    <tr>\n",
       "      <th>3</th>\n",
       "      <td>a01/a01-000u/a01-000u-00-03.png</td>\n",
       "      <td>stop</td>\n",
       "      <td>3</td>\n",
       "    </tr>\n",
       "    <tr>\n",
       "      <th>5</th>\n",
       "      <td>a01/a01-000u/a01-000u-00-05.png</td>\n",
       "      <td>Gaitskell</td>\n",
       "      <td>5</td>\n",
       "    </tr>\n",
       "    <tr>\n",
       "      <th>6</th>\n",
       "      <td>a01/a01-000u/a01-000u-00-06.png</td>\n",
       "      <td>from</td>\n",
       "      <td>6</td>\n",
       "    </tr>\n",
       "    <tr>\n",
       "      <th>8</th>\n",
       "      <td>a01/a01-000u/a01-000u-01-01.png</td>\n",
       "      <td>any</td>\n",
       "      <td>8</td>\n",
       "    </tr>\n",
       "  </tbody>\n",
       "</table>\n",
       "</div>"
      ],
      "text/plain": [
       "                          image_id       text  word_idx\n",
       "2  a01/a01-000u/a01-000u-00-02.png         to         2\n",
       "3  a01/a01-000u/a01-000u-00-03.png       stop         3\n",
       "5  a01/a01-000u/a01-000u-00-05.png  Gaitskell         5\n",
       "6  a01/a01-000u/a01-000u-00-06.png       from         6\n",
       "8  a01/a01-000u/a01-000u-01-01.png        any         8"
      ]
     },
     "execution_count": 38,
     "metadata": {},
     "output_type": "execute_result"
    }
   ],
   "source": [
    "training_df.head()"
   ]
  },
  {
   "cell_type": "code",
   "execution_count": 39,
   "id": "61f853d3-25a4-404c-b34e-4ea5e2356126",
   "metadata": {},
   "outputs": [
    {
     "name": "stdout",
     "output_type": "stream",
     "text": [
      "<class 'pandas.core.frame.DataFrame'>\n",
      "Index: 34126 entries, 2 to 42656\n",
      "Data columns (total 3 columns):\n",
      " #   Column    Non-Null Count  Dtype \n",
      "---  ------    --------------  ----- \n",
      " 0   image_id  34126 non-null  object\n",
      " 1   text      34126 non-null  object\n",
      " 2   word_idx  34126 non-null  int64 \n",
      "dtypes: int64(1), object(2)\n",
      "memory usage: 1.0+ MB\n"
     ]
    }
   ],
   "source": [
    "training_df.info()"
   ]
  },
  {
   "cell_type": "code",
   "execution_count": 43,
   "id": "be27e382-ce38-4509-9082-bf17fa43c82d",
   "metadata": {},
   "outputs": [],
   "source": [
    "training_df.to_csv(\"iam/dataset/dataset_info/df_train_info.csv\")"
   ]
  },
  {
   "cell_type": "code",
   "execution_count": 44,
   "id": "4e6e097b-c65b-4af1-87d5-3f77616ce8a1",
   "metadata": {},
   "outputs": [],
   "source": [
    "test_df = test_df.assign(word_idx=test_df.index)"
   ]
  },
  {
   "cell_type": "code",
   "execution_count": 45,
   "id": "51113129-3240-404b-8ef7-20901c02bf11",
   "metadata": {},
   "outputs": [
    {
     "data": {
      "text/html": [
       "<div>\n",
       "<style scoped>\n",
       "    .dataframe tbody tr th:only-of-type {\n",
       "        vertical-align: middle;\n",
       "    }\n",
       "\n",
       "    .dataframe tbody tr th {\n",
       "        vertical-align: top;\n",
       "    }\n",
       "\n",
       "    .dataframe thead th {\n",
       "        text-align: right;\n",
       "    }\n",
       "</style>\n",
       "<table border=\"1\" class=\"dataframe\">\n",
       "  <thead>\n",
       "    <tr style=\"text-align: right;\">\n",
       "      <th></th>\n",
       "      <th>image_id</th>\n",
       "      <th>text</th>\n",
       "      <th>word_idx</th>\n",
       "    </tr>\n",
       "  </thead>\n",
       "  <tbody>\n",
       "    <tr>\n",
       "      <th>0</th>\n",
       "      <td>a01/a01-000u/a01-000u-00-00.png</td>\n",
       "      <td>A</td>\n",
       "      <td>0</td>\n",
       "    </tr>\n",
       "    <tr>\n",
       "      <th>1</th>\n",
       "      <td>a01/a01-000u/a01-000u-00-01.png</td>\n",
       "      <td>MOVE</td>\n",
       "      <td>1</td>\n",
       "    </tr>\n",
       "    <tr>\n",
       "      <th>4</th>\n",
       "      <td>a01/a01-000u/a01-000u-00-04.png</td>\n",
       "      <td>Mr.</td>\n",
       "      <td>4</td>\n",
       "    </tr>\n",
       "    <tr>\n",
       "      <th>7</th>\n",
       "      <td>a01/a01-000u/a01-000u-01-00.png</td>\n",
       "      <td>nominating</td>\n",
       "      <td>7</td>\n",
       "    </tr>\n",
       "    <tr>\n",
       "      <th>13</th>\n",
       "      <td>a01/a01-000u/a01-000u-02-00.png</td>\n",
       "      <td>is</td>\n",
       "      <td>13</td>\n",
       "    </tr>\n",
       "  </tbody>\n",
       "</table>\n",
       "</div>"
      ],
      "text/plain": [
       "                           image_id        text  word_idx\n",
       "0   a01/a01-000u/a01-000u-00-00.png           A         0\n",
       "1   a01/a01-000u/a01-000u-00-01.png        MOVE         1\n",
       "4   a01/a01-000u/a01-000u-00-04.png         Mr.         4\n",
       "7   a01/a01-000u/a01-000u-01-00.png  nominating         7\n",
       "13  a01/a01-000u/a01-000u-02-00.png          is        13"
      ]
     },
     "execution_count": 45,
     "metadata": {},
     "output_type": "execute_result"
    }
   ],
   "source": [
    "test_df.head()"
   ]
  },
  {
   "cell_type": "code",
   "execution_count": 47,
   "id": "6728f457-712a-4911-980c-21bd845f601a",
   "metadata": {},
   "outputs": [],
   "source": [
    "test_df.to_csv(\"iam/dataset/dataset_info/df_test_info.csv\")"
   ]
  }
 ],
 "metadata": {
  "kernelspec": {
   "display_name": "Python 3 (ipykernel)",
   "language": "python",
   "name": "python3"
  },
  "language_info": {
   "codemirror_mode": {
    "name": "ipython",
    "version": 3
   },
   "file_extension": ".py",
   "mimetype": "text/x-python",
   "name": "python",
   "nbconvert_exporter": "python",
   "pygments_lexer": "ipython3",
   "version": "3.10.12"
  }
 },
 "nbformat": 4,
 "nbformat_minor": 5
}
