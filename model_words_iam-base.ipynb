{
 "cells": [
  {
   "cell_type": "markdown",
   "id": "5f28f4eb-04a4-4fcb-a8fb-edd9bb1da9f8",
   "metadata": {},
   "source": [
    "## Step 1. Data Processing"
   ]
  },
  {
   "cell_type": "markdown",
   "id": "59e3e67b-4223-4755-b7f2-0b7718ba0218",
   "metadata": {},
   "source": [
    "### 1.1 Loading the Data"
   ]
  },
  {
   "cell_type": "code",
   "execution_count": 1,
   "id": "9aaeca27-793b-4000-9f6b-b6a51debd4b5",
   "metadata": {},
   "outputs": [],
   "source": [
    "import os\n",
    "\n",
    "# Change to your desired directory\n",
    "# os.chdir('/common/users/$USER/df_words') # change $USER to netid\n",
    "\n",
    "# Confirm it's changed\n",
    "# print(\"Current directory:\", os.getcwd())\n",
    "\n",
    "images_dir = '.\\iam_words'"
   ]
  },
  {
   "cell_type": "code",
   "execution_count": 2,
   "id": "d3745fd7-48a8-461e-9780-b5e110b5b45a",
   "metadata": {},
   "outputs": [
    {
     "name": "stdout",
     "output_type": "stream",
     "text": [
      "Processing line 0\n",
      "Processing line 1000\n",
      "Processing line 2000\n",
      "Processing line 3000\n",
      "Processing line 4000\n",
      "Unidentified image error for file .\\iam_words\\iam_words\\words: cannot identify image file '.\\\\iam_words\\\\iam_words\\\\words\\\\a01\\\\a01-117\\\\a01-117-05-02.png'\n",
      "Processing line 5000\n",
      "Processing line 6000\n",
      "Processing line 7000\n",
      "Processing line 8000\n",
      "Processing line 9000\n",
      "Processing line 10000\n",
      "Processing line 11000\n",
      "Processing line 12000\n",
      "Processing line 13000\n",
      "Processing line 14000\n",
      "Processing line 15000\n",
      "Processing line 16000\n",
      "Processing line 17000\n",
      "Processing line 18000\n",
      "Processing line 19000\n",
      "Processing line 20000\n",
      "Processing line 21000\n",
      "Processing line 22000\n",
      "Processing line 23000\n",
      "Processing line 24000\n",
      "Processing line 25000\n",
      "Processing line 26000\n",
      "Processing line 27000\n",
      "Processing line 28000\n",
      "Processing line 29000\n",
      "Processing line 30000\n",
      "Processing line 31000\n",
      "Processing line 32000\n",
      "Processing line 33000\n",
      "Processing line 34000\n",
      "Processing line 35000\n",
      "Processing line 36000\n",
      "Processing line 37000\n",
      "Processing line 38000\n",
      "Processing line 39000\n",
      "Processing line 40000\n",
      "Processing line 41000\n",
      "Processing line 42000\n",
      "Processing line 43000\n",
      "Processing line 44000\n",
      "Processing line 45000\n",
      "Processing line 46000\n",
      "Processing line 47000\n",
      "Processing line 48000\n",
      "Processing line 49000\n",
      "Processing line 50000\n",
      "Processing line 51000\n",
      "Processing line 52000\n",
      "Processing line 53000\n",
      "Processing line 54000\n",
      "Processing line 55000\n",
      "Processing line 56000\n",
      "Processing line 57000\n",
      "Processing line 58000\n",
      "Processing line 59000\n",
      "Processing line 60000\n",
      "Processing line 61000\n",
      "Processing line 62000\n",
      "Processing line 63000\n",
      "Processing line 64000\n",
      "Processing line 65000\n",
      "Processing line 66000\n",
      "Processing line 67000\n",
      "Processing line 68000\n",
      "Processing line 69000\n",
      "Processing line 70000\n",
      "Processing line 71000\n",
      "Processing line 72000\n",
      "Processing line 73000\n",
      "Processing line 74000\n",
      "Processing line 75000\n",
      "Processing line 76000\n",
      "Processing line 77000\n",
      "Processing line 78000\n",
      "Processing line 79000\n",
      "Processing line 80000\n",
      "Processing line 81000\n",
      "Processing line 82000\n",
      "Processing line 83000\n",
      "Processing line 84000\n",
      "Processing line 85000\n",
      "Processing line 86000\n",
      "Processing line 87000\n",
      "Processing line 88000\n",
      "Processing line 89000\n",
      "Processing line 90000\n",
      "Processing line 91000\n",
      "Processing line 92000\n",
      "Processing line 93000\n",
      "Processing line 94000\n",
      "Processing line 95000\n",
      "Processing line 96000\n",
      "Processing line 97000\n",
      "Processing line 98000\n",
      "Processing line 99000\n",
      "Processing line 100000\n",
      "Processing line 101000\n",
      "Processing line 102000\n",
      "Processing line 103000\n",
      "Processing line 104000\n",
      "Processing line 105000\n",
      "Processing line 106000\n",
      "Processing line 107000\n",
      "Processing line 108000\n",
      "Processing line 109000\n",
      "Processing line 110000\n",
      "Processing line 111000\n",
      "Processing line 112000\n",
      "Processing line 113000\n",
      "Unidentified image error for file .\\iam_words\\iam_words\\words: cannot identify image file '.\\\\iam_words\\\\iam_words\\\\words\\\\r06\\\\r06-022\\\\r06-022-03-05.png'\n",
      "Processing line 114000\n",
      "Processing line 115000\n",
      "Length of a row in data: 4\n",
      "[0, 'a01-000u-00-00', 'A', <PIL.Image.Image image mode=RGB size=27x51 at 0x28F7ED03F90>]\n"
     ]
    }
   ],
   "source": [
    "import pandas as pd\n",
    "from PIL import Image\n",
    "label_file_path = images_dir + '\\words.txt'\n",
    "image_file_path = images_dir + '\\iam_words\\words'\n",
    "\n",
    "data = []\n",
    "with open(label_file_path, 'r') as f:\n",
    "    lines = f.readlines()\n",
    "\n",
    "for idx, line in enumerate(lines[18:]):\n",
    "    if idx % 1000 == 0:\n",
    "        print(f\"Processing line {idx}\")\n",
    "    row = []\n",
    "    tokens = line.strip().split()\n",
    "    if len(tokens) < 2:\n",
    "        continue\n",
    "    if tokens[3] == '-1' or tokens[4] == '-1' or tokens[5] == '-1' or tokens[6] == '-1':\n",
    "        continue\n",
    "    subfolder = tokens[0].split('-')[0]\n",
    "    subfolder2 = subfolder + \"-\" + tokens[0].split('-')[1]\n",
    "    image_file_name = subfolder + \"\\\\\" + subfolder2 + \"\\\\\" + tokens[0] + \".png\"\n",
    "    image_path = os.path.join(image_file_path, image_file_name)\n",
    "    try:\n",
    "        with Image.open(image_path) as img:\n",
    "            if img.size[0] >= 10 and img.size[1] >= 10:\n",
    "                img_rgb = img.convert(\"RGB\")  # Convert to RGB\n",
    "                img_copy = img_rgb.copy()     # Copy after conversion\n",
    "    except FileNotFoundError as e:\n",
    "        print(f\"Image file not found: {image_file_path}. Error: {e}\")\n",
    "        continue\n",
    "    except Image.UnidentifiedImageError as e:\n",
    "        print(f\"Unidentified image error for file {image_file_path}: {e}\")\n",
    "        continue\n",
    "    except Exception as e:\n",
    "        print(f\"Error opening image file {image_file_path}: {e}\")\n",
    "        continue\n",
    "    row = [idx, tokens[0], tokens[-1], img_copy]\n",
    "    # if len(row) != 10:\n",
    "    #     print(f\"Row length mismatch: {len(row)} elements in row: {row}\")\n",
    "    #     continue\n",
    "    data.append(row)\n",
    "\n",
    "\n",
    "print(f\"Length of a row in data: {len(data[0])}\")  # Should print 10\n",
    "\n",
    "print(data[0])\n",
    "loaded = pd.DataFrame(data, columns=['id', 'image_id','text', 'image'])"
   ]
  },
  {
   "cell_type": "code",
   "execution_count": 3,
   "id": "7410eee9-1cdb-4dae-b9eb-b8af757900a3",
   "metadata": {},
   "outputs": [
    {
     "name": "stdout",
     "output_type": "stream",
     "text": [
      "<class 'pandas.core.frame.DataFrame'>\n",
      "RangeIndex: 115186 entries, 0 to 115185\n",
      "Data columns (total 4 columns):\n",
      " #   Column    Non-Null Count   Dtype \n",
      "---  ------    --------------   ----- \n",
      " 0   id        115186 non-null  int64 \n",
      " 1   image_id  115186 non-null  object\n",
      " 2   text      115186 non-null  object\n",
      " 3   image     115186 non-null  object\n",
      "dtypes: int64(1), object(3)\n",
      "memory usage: 3.5+ MB\n",
      "None\n",
      "    id        image_id        text  \\\n",
      "0    0  a01-000u-00-00           A   \n",
      "1    1  a01-000u-00-01        MOVE   \n",
      "2    2  a01-000u-00-02          to   \n",
      "3    3  a01-000u-00-03        stop   \n",
      "4    4  a01-000u-00-04         Mr.   \n",
      "5    5  a01-000u-00-05   Gaitskell   \n",
      "6    6  a01-000u-00-06        from   \n",
      "7    7  a01-000u-01-00  nominating   \n",
      "8    8  a01-000u-01-01         any   \n",
      "9    9  a01-000u-01-02        more   \n",
      "10  10  a01-000u-01-03      Labour   \n",
      "11  11  a01-000u-01-04        life   \n",
      "12  12  a01-000u-01-05       Peers   \n",
      "13  13  a01-000u-02-00          is   \n",
      "14  14  a01-000u-02-01          to   \n",
      "15  15  a01-000u-02-02          be   \n",
      "16  16  a01-000u-02-03        made   \n",
      "17  17  a01-000u-02-04          at   \n",
      "18  18  a01-000u-02-05           a   \n",
      "19  19  a01-000u-02-06     meeting   \n",
      "20  20  a01-000u-02-07          of   \n",
      "21  21  a01-000u-02-08      Labour   \n",
      "22  22  a01-000u-03-00          Ps   \n",
      "23  23  a01-000u-03-01    tomorrow   \n",
      "24  24  a01-000u-03-02           .   \n",
      "25  25  a01-000u-03-03         Mr.   \n",
      "26  26  a01-000u-03-04     Michael   \n",
      "27  27  a01-000u-03-05        Foot   \n",
      "28  28  a01-000u-03-06         has   \n",
      "29  29  a01-000u-04-00         put   \n",
      "\n",
      "                                                image  \n",
      "0   <PIL.Image.Image image mode=RGB size=27x51 at ...  \n",
      "1   <PIL.Image.Image image mode=RGB size=213x48 at...  \n",
      "2   <PIL.Image.Image image mode=RGB size=70x50 at ...  \n",
      "3   <PIL.Image.Image image mode=RGB size=166x78 at...  \n",
      "4   <PIL.Image.Image image mode=RGB size=126x61 at...  \n",
      "5   <PIL.Image.Image image mode=RGB size=382x73 at...  \n",
      "6   <PIL.Image.Image image mode=RGB size=173x72 at...  \n",
      "7   <PIL.Image.Image image mode=RGB size=441x100 a...  \n",
      "8   <PIL.Image.Image image mode=RGB size=147x79 at...  \n",
      "9   <PIL.Image.Image image mode=RGB size=208x42 at...  \n",
      "10  <PIL.Image.Image image mode=RGB size=294x59 at...  \n",
      "11  <PIL.Image.Image image mode=RGB size=174x63 at...  \n",
      "12  <PIL.Image.Image image mode=RGB size=237x70 at...  \n",
      "13  <PIL.Image.Image image mode=RGB size=65x70 at ...  \n",
      "14  <PIL.Image.Image image mode=RGB size=72x54 at ...  \n",
      "15  <PIL.Image.Image image mode=RGB size=113x63 at...  \n",
      "16  <PIL.Image.Image image mode=RGB size=281x46 at...  \n",
      "17  <PIL.Image.Image image mode=RGB size=80x59 at ...  \n",
      "18  <PIL.Image.Image image mode=RGB size=64x35 at ...  \n",
      "19  <PIL.Image.Image image mode=RGB size=339x96 at...  \n",
      "20  <PIL.Image.Image image mode=RGB size=91x74 at ...  \n",
      "21  <PIL.Image.Image image mode=RGB size=302x65 at...  \n",
      "22  <PIL.Image.Image image mode=RGB size=177x59 at...  \n",
      "23  <PIL.Image.Image image mode=RGB size=431x54 at...  \n",
      "24  <PIL.Image.Image image mode=RGB size=431x54 at...  \n",
      "25  <PIL.Image.Image image mode=RGB size=320x68 at...  \n",
      "26  <PIL.Image.Image image mode=RGB size=252x56 at...  \n",
      "27  <PIL.Image.Image image mode=RGB size=190x63 at...  \n",
      "28  <PIL.Image.Image image mode=RGB size=134x57 at...  \n",
      "29  <PIL.Image.Image image mode=RGB size=153x71 at...  \n"
     ]
    }
   ],
   "source": [
    "loaded_dfwords = loaded.copy()\n",
    "print(loaded_dfwords.info())\n",
    "print(loaded_dfwords.head(30))"
   ]
  },
  {
   "cell_type": "markdown",
   "id": "40cd39ed-8ff9-47bb-815e-254681d06606",
   "metadata": {},
   "source": [
    "### 1.2 Cleaning the Data"
   ]
  },
  {
   "cell_type": "code",
   "execution_count": 4,
   "id": "9a925a60-56a3-401e-98a6-b45d5ebfb1f6",
   "metadata": {},
   "outputs": [],
   "source": [
    "import matplotlib.pyplot as plt\n",
    "\n",
    "def show_image(df, idx):\n",
    "    # plt.imshow(df.iloc[row]['image'], cmap='gray')\n",
    "    plt.imshow(df['image'].iloc[idx], cmap='gray')\n",
    "    plt.show()"
   ]
  },
  {
   "cell_type": "code",
   "execution_count": 5,
   "id": "2930caed",
   "metadata": {},
   "outputs": [
    {
     "data": {
      "image/png": "[encoded data removed]",
      "text/plain": [
       "<Figure size 640x480 with 1 Axes>"
      ]
     },
     "metadata": {},
     "output_type": "display_data"
    }
   ],
   "source": [
    "show_image(loaded_dfwords, 00)  # Show the first image"
   ]
  },
  {
   "cell_type": "code",
   "execution_count": 6,
   "id": "ada98afd-f656-45dc-ab5f-edc0f3d24ac8",
   "metadata": {},
   "outputs": [],
   "source": [
    "import re\n",
    "\n",
    "# Patter for all Special characters\n",
    "special_char_pattern = r'[^a-zA-Z0-9\\s]'  # Matches anything not alphanumeric or whitespace\n",
    "\n",
    "# Select rows with special characters\n",
    "special_char_rows = loaded_dfwords[loaded_dfwords['text'].str.contains(special_char_pattern, regex=True, na=False)]"
   ]
  },
  {
   "cell_type": "code",
   "execution_count": 7,
   "id": "f497d1fb-a7fe-4d86-b527-b2d221ee4908",
   "metadata": {},
   "outputs": [
    {
     "data": {
      "text/html": [
       "<div>\n",
       "<style scoped>\n",
       "    .dataframe tbody tr th:only-of-type {\n",
       "        vertical-align: middle;\n",
       "    }\n",
       "\n",
       "    .dataframe tbody tr th {\n",
       "        vertical-align: top;\n",
       "    }\n",
       "\n",
       "    .dataframe thead th {\n",
       "        text-align: right;\n",
       "    }\n",
       "</style>\n",
       "<table border=\"1\" class=\"dataframe\">\n",
       "  <thead>\n",
       "    <tr style=\"text-align: right;\">\n",
       "      <th></th>\n",
       "      <th>id</th>\n",
       "      <th>image_id</th>\n",
       "      <th>text</th>\n",
       "      <th>image</th>\n",
       "    </tr>\n",
       "  </thead>\n",
       "  <tbody>\n",
       "    <tr>\n",
       "      <th>4</th>\n",
       "      <td>4</td>\n",
       "      <td>a01-000u-00-04</td>\n",
       "      <td>Mr.</td>\n",
       "      <td>&lt;PIL.Image.Image image mode=RGB size=126x61 at...</td>\n",
       "    </tr>\n",
       "    <tr>\n",
       "      <th>24</th>\n",
       "      <td>24</td>\n",
       "      <td>a01-000u-03-02</td>\n",
       "      <td>.</td>\n",
       "      <td>&lt;PIL.Image.Image image mode=RGB size=431x54 at...</td>\n",
       "    </tr>\n",
       "    <tr>\n",
       "      <th>25</th>\n",
       "      <td>25</td>\n",
       "      <td>a01-000u-03-03</td>\n",
       "      <td>Mr.</td>\n",
       "      <td>&lt;PIL.Image.Image image mode=RGB size=320x68 at...</td>\n",
       "    </tr>\n",
       "    <tr>\n",
       "      <th>43</th>\n",
       "      <td>43</td>\n",
       "      <td>a01-000u-05-07</td>\n",
       "      <td>Mr.</td>\n",
       "      <td>&lt;PIL.Image.Image image mode=RGB size=301x66 at...</td>\n",
       "    </tr>\n",
       "    <tr>\n",
       "      <th>46</th>\n",
       "      <td>46</td>\n",
       "      <td>a01-000u-06-01</td>\n",
       "      <td>,</td>\n",
       "      <td>&lt;PIL.Image.Image image mode=RGB size=18x34 at ...</td>\n",
       "    </tr>\n",
       "    <tr>\n",
       "      <th>51</th>\n",
       "      <td>51</td>\n",
       "      <td>a01-000u-06-06</td>\n",
       "      <td>.</td>\n",
       "      <td>&lt;PIL.Image.Image image mode=RGB size=10x13 at ...</td>\n",
       "    </tr>\n",
       "    <tr>\n",
       "      <th>56</th>\n",
       "      <td>56</td>\n",
       "      <td>a01-000x-00-04</td>\n",
       "      <td>Mr.</td>\n",
       "      <td>&lt;PIL.Image.Image image mode=RGB size=84x71 at ...</td>\n",
       "    </tr>\n",
       "    <tr>\n",
       "      <th>76</th>\n",
       "      <td>76</td>\n",
       "      <td>a01-000x-02-05</td>\n",
       "      <td>.</td>\n",
       "      <td>&lt;PIL.Image.Image image mode=RGB size=212x81 at...</td>\n",
       "    </tr>\n",
       "    <tr>\n",
       "      <th>77</th>\n",
       "      <td>77</td>\n",
       "      <td>a01-000x-02-06</td>\n",
       "      <td>Mr.</td>\n",
       "      <td>&lt;PIL.Image.Image image mode=RGB size=84x69 at ...</td>\n",
       "    </tr>\n",
       "    <tr>\n",
       "      <th>95</th>\n",
       "      <td>95</td>\n",
       "      <td>a01-000x-04-07</td>\n",
       "      <td>Mr.</td>\n",
       "      <td>&lt;PIL.Image.Image image mode=RGB size=87x73 at ...</td>\n",
       "    </tr>\n",
       "  </tbody>\n",
       "</table>\n",
       "</div>"
      ],
      "text/plain": [
       "    id        image_id text                                              image\n",
       "4    4  a01-000u-00-04  Mr.  <PIL.Image.Image image mode=RGB size=126x61 at...\n",
       "24  24  a01-000u-03-02    .  <PIL.Image.Image image mode=RGB size=431x54 at...\n",
       "25  25  a01-000u-03-03  Mr.  <PIL.Image.Image image mode=RGB size=320x68 at...\n",
       "43  43  a01-000u-05-07  Mr.  <PIL.Image.Image image mode=RGB size=301x66 at...\n",
       "46  46  a01-000u-06-01    ,  <PIL.Image.Image image mode=RGB size=18x34 at ...\n",
       "51  51  a01-000u-06-06    .  <PIL.Image.Image image mode=RGB size=10x13 at ...\n",
       "56  56  a01-000x-00-04  Mr.  <PIL.Image.Image image mode=RGB size=84x71 at ...\n",
       "76  76  a01-000x-02-05    .  <PIL.Image.Image image mode=RGB size=212x81 at...\n",
       "77  77  a01-000x-02-06  Mr.  <PIL.Image.Image image mode=RGB size=84x69 at ...\n",
       "95  95  a01-000x-04-07  Mr.  <PIL.Image.Image image mode=RGB size=87x73 at ..."
      ]
     },
     "execution_count": 7,
     "metadata": {},
     "output_type": "execute_result"
    }
   ],
   "source": [
    "special_char_rows.head(10)"
   ]
  },
  {
   "cell_type": "code",
   "execution_count": 8,
   "id": "d4040a5a-2c6b-4942-81cc-78890fa1eb74",
   "metadata": {},
   "outputs": [],
   "source": [
    "allowed_pattern = r'^[\\w\\s\\.,!?;:\\-+*/=()\\[\\]{}<>@#\\$%^&_\\'\"\\t\\n]+$'\n",
    "mask = ~loaded_dfwords['text'].str.contains(allowed_pattern, regex=True)\n",
    "non_standard_rows = loaded_dfwords[mask]"
   ]
  },
  {
   "cell_type": "code",
   "execution_count": 9,
   "id": "a53d01cd-5002-49da-bc64-e19ea134d1c5",
   "metadata": {},
   "outputs": [
    {
     "data": {
      "text/html": [
       "<div>\n",
       "<style scoped>\n",
       "    .dataframe tbody tr th:only-of-type {\n",
       "        vertical-align: middle;\n",
       "    }\n",
       "\n",
       "    .dataframe tbody tr th {\n",
       "        vertical-align: top;\n",
       "    }\n",
       "\n",
       "    .dataframe thead th {\n",
       "        text-align: right;\n",
       "    }\n",
       "</style>\n",
       "<table border=\"1\" class=\"dataframe\">\n",
       "  <thead>\n",
       "    <tr style=\"text-align: right;\">\n",
       "      <th></th>\n",
       "      <th>id</th>\n",
       "      <th>image_id</th>\n",
       "      <th>text</th>\n",
       "      <th>image</th>\n",
       "    </tr>\n",
       "  </thead>\n",
       "  <tbody>\n",
       "  </tbody>\n",
       "</table>\n",
       "</div>"
      ],
      "text/plain": [
       "Empty DataFrame\n",
       "Columns: [id, image_id, text, image]\n",
       "Index: []"
      ]
     },
     "execution_count": 9,
     "metadata": {},
     "output_type": "execute_result"
    }
   ],
   "source": [
    "non_standard_rows.head()"
   ]
  },
  {
   "cell_type": "code",
   "execution_count": 10,
   "id": "85c6dc5b-8f26-40fe-9d3c-0dca648f4e76",
   "metadata": {},
   "outputs": [],
   "source": [
    "mask = loaded_dfwords['text'].str.contains(r'\\\\', regex=True)\n",
    "check_rows= loaded_dfwords[mask]"
   ]
  },
  {
   "cell_type": "code",
   "execution_count": 11,
   "id": "b13879fc-095f-43b7-ad97-887bedc2fce7",
   "metadata": {},
   "outputs": [],
   "source": [
    "loaded_dfwords['text'] = loaded_dfwords['text'].str.replace('\\\\/', '/', regex=False)"
   ]
  },
  {
   "cell_type": "code",
   "execution_count": 12,
   "id": "03450d73-c3c6-479e-a3a6-5ea1cb8401d7",
   "metadata": {},
   "outputs": [],
   "source": [
    "mask = ~loaded_dfwords['text'].str.contains(allowed_pattern, regex=True)\n",
    "non_standard_rows2 = loaded_dfwords[mask]"
   ]
  },
  {
   "cell_type": "code",
   "execution_count": 13,
   "id": "d53fed34-7601-4ea8-9f19-22450677186a",
   "metadata": {},
   "outputs": [
    {
     "name": "stdout",
     "output_type": "stream",
     "text": [
      "Words with special character: 0 , Percentage:  0.0\n",
      "Images with special character: 0 , Percentage:  0.0\n"
     ]
    }
   ],
   "source": [
    "print(\"Words with special character:\", len(non_standard_rows2), \", Percentage: \", len(non_standard_rows2)/len(loaded_dfwords))\n",
    "print(\"Images with special character:\", len(non_standard_rows2['image_id'].unique()), \", Percentage: \", len(non_standard_rows2['image_id'].unique())/len(loaded_dfwords['image_id'].unique()))"
   ]
  },
  {
   "cell_type": "code",
   "execution_count": 14,
   "id": "cfc85fe7-8168-4412-b128-86fcf0998657",
   "metadata": {},
   "outputs": [],
   "source": [
    "loaded_dfwords=loaded_dfwords[~mask]"
   ]
  },
  {
   "cell_type": "code",
   "execution_count": 15,
   "id": "8254f0e8-c135-45cc-957f-1ab94811e2a4",
   "metadata": {},
   "outputs": [
    {
     "name": "stdout",
     "output_type": "stream",
     "text": [
      "total number of words 115318\n"
     ]
    }
   ],
   "source": [
    "print(\"total number of words\", len(loaded_dfwords))\n"
   ]
  },
  {
   "cell_type": "code",
   "execution_count": 16,
   "id": "cbbba6b3-8e22-4d0b-8811-10d61f31c76e",
   "metadata": {},
   "outputs": [
    {
     "name": "stdout",
     "output_type": "stream",
     "text": [
      "Number of rows with allowed characters: 115318\n"
     ]
    }
   ],
   "source": [
    "# confirm there is no special characters\n",
    "count_matching = loaded_dfwords['text'].str.contains(allowed_pattern, regex=True, na=False).sum()\n",
    "print(f\"Number of rows with allowed characters: {count_matching}\")"
   ]
  },
  {
   "cell_type": "code",
   "execution_count": 17,
   "id": "c875862b-c305-43e9-a435-94aebcd102ad",
   "metadata": {},
   "outputs": [],
   "source": [
    "pattern = r'^[^a-zA-Z0-9]+$'  # Matches strings with no alphanumeric chars at all\n",
    "non_alnum_rows = loaded_dfwords[loaded_dfwords['text'].str.contains(pattern, regex=True, na=False)]"
   ]
  },
  {
   "cell_type": "code",
   "execution_count": 6,
   "id": "1f207856-f41e-42f2-919a-a0927287af6e",
   "metadata": {},
   "outputs": [
    {
     "name": "stdout",
     "output_type": "stream",
     "text": [
      "total number of words 115186\n"
     ]
    }
   ],
   "source": [
    "print(\"total number of words\", len(loaded_dfwords))\n"
   ]
  },
  {
   "cell_type": "code",
   "execution_count": 19,
   "id": "3d632bdd-eee0-4ead-91cd-6db461c1d533",
   "metadata": {
    "scrolled": true
   },
   "outputs": [
    {
     "data": {
      "text/html": [
       "<div>\n",
       "<style scoped>\n",
       "    .dataframe tbody tr th:only-of-type {\n",
       "        vertical-align: middle;\n",
       "    }\n",
       "\n",
       "    .dataframe tbody tr th {\n",
       "        vertical-align: top;\n",
       "    }\n",
       "\n",
       "    .dataframe thead th {\n",
       "        text-align: right;\n",
       "    }\n",
       "</style>\n",
       "<table border=\"1\" class=\"dataframe\">\n",
       "  <thead>\n",
       "    <tr style=\"text-align: right;\">\n",
       "      <th></th>\n",
       "      <th>id</th>\n",
       "      <th>image_id</th>\n",
       "      <th>text</th>\n",
       "      <th>image</th>\n",
       "    </tr>\n",
       "  </thead>\n",
       "  <tbody>\n",
       "    <tr>\n",
       "      <th>24</th>\n",
       "      <td>24</td>\n",
       "      <td>a01-000u-03-02</td>\n",
       "      <td>.</td>\n",
       "      <td>&lt;PIL.Image.Image image mode=RGB size=431x54 at...</td>\n",
       "    </tr>\n",
       "    <tr>\n",
       "      <th>46</th>\n",
       "      <td>46</td>\n",
       "      <td>a01-000u-06-01</td>\n",
       "      <td>,</td>\n",
       "      <td>&lt;PIL.Image.Image image mode=RGB size=18x34 at ...</td>\n",
       "    </tr>\n",
       "    <tr>\n",
       "      <th>51</th>\n",
       "      <td>51</td>\n",
       "      <td>a01-000u-06-06</td>\n",
       "      <td>.</td>\n",
       "      <td>&lt;PIL.Image.Image image mode=RGB size=10x13 at ...</td>\n",
       "    </tr>\n",
       "    <tr>\n",
       "      <th>76</th>\n",
       "      <td>76</td>\n",
       "      <td>a01-000x-02-05</td>\n",
       "      <td>.</td>\n",
       "      <td>&lt;PIL.Image.Image image mode=RGB size=212x81 at...</td>\n",
       "    </tr>\n",
       "    <tr>\n",
       "      <th>98</th>\n",
       "      <td>98</td>\n",
       "      <td>a01-000x-04-10</td>\n",
       "      <td>,</td>\n",
       "      <td>&lt;PIL.Image.Image image mode=RGB size=198x143 a...</td>\n",
       "    </tr>\n",
       "    <tr>\n",
       "      <th>103</th>\n",
       "      <td>103</td>\n",
       "      <td>a01-000x-05-04</td>\n",
       "      <td>.</td>\n",
       "      <td>&lt;PIL.Image.Image image mode=RGB size=239x146 a...</td>\n",
       "    </tr>\n",
       "    <tr>\n",
       "      <th>111</th>\n",
       "      <td>111</td>\n",
       "      <td>a01-003-00-07</td>\n",
       "      <td>,</td>\n",
       "      <td>&lt;PIL.Image.Image image mode=RGB size=38x24 at ...</td>\n",
       "    </tr>\n",
       "    <tr>\n",
       "      <th>126</th>\n",
       "      <td>126</td>\n",
       "      <td>a01-003-02-05</td>\n",
       "      <td>.</td>\n",
       "      <td>&lt;PIL.Image.Image image mode=RGB size=320x69 at...</td>\n",
       "    </tr>\n",
       "    <tr>\n",
       "      <th>146</th>\n",
       "      <td>146</td>\n",
       "      <td>a01-003-05-04</td>\n",
       "      <td>,</td>\n",
       "      <td>&lt;PIL.Image.Image image mode=RGB size=31x25 at ...</td>\n",
       "    </tr>\n",
       "    <tr>\n",
       "      <th>154</th>\n",
       "      <td>154</td>\n",
       "      <td>a01-003-06-04</td>\n",
       "      <td>.</td>\n",
       "      <td>&lt;PIL.Image.Image image mode=RGB size=361x33 at...</td>\n",
       "    </tr>\n",
       "    <tr>\n",
       "      <th>177</th>\n",
       "      <td>177</td>\n",
       "      <td>a01-003-09-04</td>\n",
       "      <td>\"</td>\n",
       "      <td>&lt;PIL.Image.Image image mode=RGB size=18x15 at ...</td>\n",
       "    </tr>\n",
       "    <tr>\n",
       "      <th>180</th>\n",
       "      <td>180</td>\n",
       "      <td>a01-003-09-07</td>\n",
       "      <td>\"</td>\n",
       "      <td>&lt;PIL.Image.Image image mode=RGB size=91x55 at ...</td>\n",
       "    </tr>\n",
       "    <tr>\n",
       "      <th>184</th>\n",
       "      <td>184</td>\n",
       "      <td>a01-003-10-01</td>\n",
       "      <td>.</td>\n",
       "      <td>&lt;PIL.Image.Image image mode=RGB size=326x66 at...</td>\n",
       "    </tr>\n",
       "    <tr>\n",
       "      <th>192</th>\n",
       "      <td>192</td>\n",
       "      <td>a01-003u-01-01</td>\n",
       "      <td>,</td>\n",
       "      <td>&lt;PIL.Image.Image image mode=RGB size=14x35 at ...</td>\n",
       "    </tr>\n",
       "    <tr>\n",
       "      <th>208</th>\n",
       "      <td>208</td>\n",
       "      <td>a01-003u-03-02</td>\n",
       "      <td>.</td>\n",
       "      <td>&lt;PIL.Image.Image image mode=RGB size=398x62 at...</td>\n",
       "    </tr>\n",
       "    <tr>\n",
       "      <th>228</th>\n",
       "      <td>228</td>\n",
       "      <td>a01-003u-06-02</td>\n",
       "      <td>,</td>\n",
       "      <td>&lt;PIL.Image.Image image mode=RGB size=12x31 at ...</td>\n",
       "    </tr>\n",
       "    <tr>\n",
       "      <th>236</th>\n",
       "      <td>236</td>\n",
       "      <td>a01-003u-07-02</td>\n",
       "      <td>.</td>\n",
       "      <td>&lt;PIL.Image.Image image mode=RGB size=10x10 at ...</td>\n",
       "    </tr>\n",
       "    <tr>\n",
       "      <th>259</th>\n",
       "      <td>259</td>\n",
       "      <td>a01-003u-10-04</td>\n",
       "      <td>\"</td>\n",
       "      <td>&lt;PIL.Image.Image image mode=RGB size=25x25 at ...</td>\n",
       "    </tr>\n",
       "    <tr>\n",
       "      <th>262</th>\n",
       "      <td>262</td>\n",
       "      <td>a01-003u-10-07</td>\n",
       "      <td>\"</td>\n",
       "      <td>&lt;PIL.Image.Image image mode=RGB size=29x24 at ...</td>\n",
       "    </tr>\n",
       "    <tr>\n",
       "      <th>272</th>\n",
       "      <td>272</td>\n",
       "      <td>a01-003x-00-07</td>\n",
       "      <td>,</td>\n",
       "      <td>&lt;PIL.Image.Image image mode=RGB size=12x25 at ...</td>\n",
       "    </tr>\n",
       "  </tbody>\n",
       "</table>\n",
       "</div>"
      ],
      "text/plain": [
       "      id        image_id text  \\\n",
       "24    24  a01-000u-03-02    .   \n",
       "46    46  a01-000u-06-01    ,   \n",
       "51    51  a01-000u-06-06    .   \n",
       "76    76  a01-000x-02-05    .   \n",
       "98    98  a01-000x-04-10    ,   \n",
       "103  103  a01-000x-05-04    .   \n",
       "111  111   a01-003-00-07    ,   \n",
       "126  126   a01-003-02-05    .   \n",
       "146  146   a01-003-05-04    ,   \n",
       "154  154   a01-003-06-04    .   \n",
       "177  177   a01-003-09-04    \"   \n",
       "180  180   a01-003-09-07    \"   \n",
       "184  184   a01-003-10-01    .   \n",
       "192  192  a01-003u-01-01    ,   \n",
       "208  208  a01-003u-03-02    .   \n",
       "228  228  a01-003u-06-02    ,   \n",
       "236  236  a01-003u-07-02    .   \n",
       "259  259  a01-003u-10-04    \"   \n",
       "262  262  a01-003u-10-07    \"   \n",
       "272  272  a01-003x-00-07    ,   \n",
       "\n",
       "                                                 image  \n",
       "24   <PIL.Image.Image image mode=RGB size=431x54 at...  \n",
       "46   <PIL.Image.Image image mode=RGB size=18x34 at ...  \n",
       "51   <PIL.Image.Image image mode=RGB size=10x13 at ...  \n",
       "76   <PIL.Image.Image image mode=RGB size=212x81 at...  \n",
       "98   <PIL.Image.Image image mode=RGB size=198x143 a...  \n",
       "103  <PIL.Image.Image image mode=RGB size=239x146 a...  \n",
       "111  <PIL.Image.Image image mode=RGB size=38x24 at ...  \n",
       "126  <PIL.Image.Image image mode=RGB size=320x69 at...  \n",
       "146  <PIL.Image.Image image mode=RGB size=31x25 at ...  \n",
       "154  <PIL.Image.Image image mode=RGB size=361x33 at...  \n",
       "177  <PIL.Image.Image image mode=RGB size=18x15 at ...  \n",
       "180  <PIL.Image.Image image mode=RGB size=91x55 at ...  \n",
       "184  <PIL.Image.Image image mode=RGB size=326x66 at...  \n",
       "192  <PIL.Image.Image image mode=RGB size=14x35 at ...  \n",
       "208  <PIL.Image.Image image mode=RGB size=398x62 at...  \n",
       "228  <PIL.Image.Image image mode=RGB size=12x31 at ...  \n",
       "236  <PIL.Image.Image image mode=RGB size=10x10 at ...  \n",
       "259  <PIL.Image.Image image mode=RGB size=25x25 at ...  \n",
       "262  <PIL.Image.Image image mode=RGB size=29x24 at ...  \n",
       "272  <PIL.Image.Image image mode=RGB size=12x25 at ...  "
      ]
     },
     "execution_count": 19,
     "metadata": {},
     "output_type": "execute_result"
    }
   ],
   "source": [
    "non_alnum_rows.head(20)"
   ]
  },
  {
   "cell_type": "code",
   "execution_count": 20,
   "id": "be06f40e-6f89-41b8-9ab3-78670b26c4b4",
   "metadata": {},
   "outputs": [],
   "source": [
    "# check other rows that have only characters\n",
    "pattern = r'^[^a-zA-Z0-9]+$'  # Matches strings with no alphanumeric chars at all\n",
    "non_alnum_rows2 = loaded_dfwords[loaded_dfwords['text'].str.contains(pattern, regex=True, na=False)]"
   ]
  },
  {
   "cell_type": "code",
   "execution_count": 21,
   "id": "1d544441-7107-493b-8d2d-877f20709bc3",
   "metadata": {},
   "outputs": [
    {
     "data": {
      "text/html": [
       "<div>\n",
       "<style scoped>\n",
       "    .dataframe tbody tr th:only-of-type {\n",
       "        vertical-align: middle;\n",
       "    }\n",
       "\n",
       "    .dataframe tbody tr th {\n",
       "        vertical-align: top;\n",
       "    }\n",
       "\n",
       "    .dataframe thead th {\n",
       "        text-align: right;\n",
       "    }\n",
       "</style>\n",
       "<table border=\"1\" class=\"dataframe\">\n",
       "  <thead>\n",
       "    <tr style=\"text-align: right;\">\n",
       "      <th></th>\n",
       "      <th>id</th>\n",
       "      <th>image_id</th>\n",
       "      <th>text</th>\n",
       "      <th>image</th>\n",
       "    </tr>\n",
       "  </thead>\n",
       "  <tbody>\n",
       "    <tr>\n",
       "      <th>24</th>\n",
       "      <td>24</td>\n",
       "      <td>a01-000u-03-02</td>\n",
       "      <td>.</td>\n",
       "      <td>&lt;PIL.Image.Image image mode=RGB size=431x54 at...</td>\n",
       "    </tr>\n",
       "    <tr>\n",
       "      <th>46</th>\n",
       "      <td>46</td>\n",
       "      <td>a01-000u-06-01</td>\n",
       "      <td>,</td>\n",
       "      <td>&lt;PIL.Image.Image image mode=RGB size=18x34 at ...</td>\n",
       "    </tr>\n",
       "    <tr>\n",
       "      <th>51</th>\n",
       "      <td>51</td>\n",
       "      <td>a01-000u-06-06</td>\n",
       "      <td>.</td>\n",
       "      <td>&lt;PIL.Image.Image image mode=RGB size=10x13 at ...</td>\n",
       "    </tr>\n",
       "    <tr>\n",
       "      <th>76</th>\n",
       "      <td>76</td>\n",
       "      <td>a01-000x-02-05</td>\n",
       "      <td>.</td>\n",
       "      <td>&lt;PIL.Image.Image image mode=RGB size=212x81 at...</td>\n",
       "    </tr>\n",
       "    <tr>\n",
       "      <th>98</th>\n",
       "      <td>98</td>\n",
       "      <td>a01-000x-04-10</td>\n",
       "      <td>,</td>\n",
       "      <td>&lt;PIL.Image.Image image mode=RGB size=198x143 a...</td>\n",
       "    </tr>\n",
       "  </tbody>\n",
       "</table>\n",
       "</div>"
      ],
      "text/plain": [
       "    id        image_id text                                              image\n",
       "24  24  a01-000u-03-02    .  <PIL.Image.Image image mode=RGB size=431x54 at...\n",
       "46  46  a01-000u-06-01    ,  <PIL.Image.Image image mode=RGB size=18x34 at ...\n",
       "51  51  a01-000u-06-06    .  <PIL.Image.Image image mode=RGB size=10x13 at ...\n",
       "76  76  a01-000x-02-05    .  <PIL.Image.Image image mode=RGB size=212x81 at...\n",
       "98  98  a01-000x-04-10    ,  <PIL.Image.Image image mode=RGB size=198x143 a..."
      ]
     },
     "execution_count": 21,
     "metadata": {},
     "output_type": "execute_result"
    }
   ],
   "source": [
    "non_alnum_rows2.head()"
   ]
  },
  {
   "cell_type": "code",
   "execution_count": 22,
   "id": "452e35c9",
   "metadata": {},
   "outputs": [
    {
     "data": {
      "text/plain": [
       "text\n",
       ",                                                        5570\n",
       ".                                                        4984\n",
       "\"                                                        1599\n",
       "'                                                         837\n",
       "-                                                         346\n",
       "?                                                         248\n",
       "!                                                         226\n",
       ";                                                         204\n",
       "(                                                         203\n",
       ")                                                         200\n",
       ":                                                         165\n",
       "...                                                       149\n",
       "#                                                          79\n",
       "&                                                          55\n",
       "*                                                           3\n",
       "-----------------------------------------------------       1\n",
       "Name: count, dtype: int64"
      ]
     },
     "execution_count": 22,
     "metadata": {},
     "output_type": "execute_result"
    }
   ],
   "source": [
    "non_alnum_rows2['text'].value_counts()"
   ]
  },
  {
   "cell_type": "code",
   "execution_count": 7,
   "id": "32292d04",
   "metadata": {},
   "outputs": [],
   "source": [
    "# remove these to match the other imgur dataset preprocessing (it also removes all instances of text as '.' due to incorrect labels)\n",
    "only_period_rows= loaded_dfwords[loaded_dfwords['text'] == '.']\n",
    "loaded_dfwords = loaded_dfwords[loaded_dfwords['text'] != '.']"
   ]
  },
  {
   "cell_type": "code",
   "execution_count": 8,
   "id": "59ce813d",
   "metadata": {},
   "outputs": [],
   "source": [
    "\n",
    "loaded_dfwords = loaded_dfwords[loaded_dfwords['text'] != '-----------------------------------------------------']"
   ]
  },
  {
   "cell_type": "code",
   "execution_count": 25,
   "id": "025fd0cc",
   "metadata": {},
   "outputs": [],
   "source": [
    "# loaded_dfwords = loaded_dfwords.reset_index(drop=True)"
   ]
  },
  {
   "cell_type": "code",
   "execution_count": 9,
   "id": "bcf92f49",
   "metadata": {},
   "outputs": [
    {
     "name": "stdout",
     "output_type": "stream",
     "text": [
      "<class 'pandas.core.frame.DataFrame'>\n",
      "Index: 110246 entries, 0 to 115185\n",
      "Data columns (total 4 columns):\n",
      " #   Column    Non-Null Count   Dtype \n",
      "---  ------    --------------   ----- \n",
      " 0   id        110246 non-null  int64 \n",
      " 1   image_id  110246 non-null  object\n",
      " 2   text      110246 non-null  object\n",
      " 3   image     110246 non-null  object\n",
      "dtypes: int64(1), object(3)\n",
      "memory usage: 4.2+ MB\n"
     ]
    }
   ],
   "source": [
    "loaded_dfwords.info()"
   ]
  },
  {
   "cell_type": "markdown",
   "id": "e289af3a-c757-493b-a5ba-ed274414bfc1",
   "metadata": {},
   "source": [
    "### 1.3 Splitting the Data into Training and Testing Subsets"
   ]
  },
  {
   "cell_type": "code",
   "execution_count": 10,
   "id": "a35baa5f-4657-4390-b532-ee7ab81b6d0b",
   "metadata": {},
   "outputs": [],
   "source": [
    "import numpy as np\n",
    "\n",
    "# Get unique groups\n",
    "unique_images = loaded_dfwords['image_id'].unique()\n",
    "\n",
    "\n",
    "# Randomly select 10% for test \n",
    "np.random.seed(42)\n",
    "test_images = np.random.choice(unique_images, \n",
    "                              size=int(len(unique_images)*0.2), \n",
    "                              replace=False)"
   ]
  },
  {
   "cell_type": "code",
   "execution_count": 11,
   "id": "991a2758-4458-4533-b933-d77fe786cb7d",
   "metadata": {},
   "outputs": [],
   "source": [
    "test_df = loaded_dfwords[loaded_dfwords['image_id'].isin(test_images)]\n",
    "training_df = loaded_dfwords[~loaded_dfwords['image_id'].isin(test_images)]"
   ]
  },
  {
   "cell_type": "code",
   "execution_count": 13,
   "id": "844e759d-5504-4c81-a68c-f7154c2eea5d",
   "metadata": {},
   "outputs": [
    {
     "name": "stdout",
     "output_type": "stream",
     "text": [
      "Words in Train Dataset: 88197 , Percentage:  0.8000018141247756\n"
     ]
    }
   ],
   "source": [
    "print(\"Words in Train Dataset:\", len(training_df), \", Percentage: \", len(training_df)/len(loaded_dfwords))"
   ]
  },
  {
   "cell_type": "code",
   "execution_count": 14,
   "id": "a7a6e047-453c-409e-98de-ce5ce73a9e04",
   "metadata": {},
   "outputs": [
    {
     "name": "stdout",
     "output_type": "stream",
     "text": [
      "Words in Test Dataset: 22049 , Percentage:  0.1999981858752245\n"
     ]
    }
   ],
   "source": [
    "print(\"Words in Test Dataset:\", len(test_df), \", Percentage: \", len(test_df)/len(loaded_dfwords))"
   ]
  },
  {
   "cell_type": "code",
   "execution_count": 15,
   "id": "ea129db7-c914-46cb-8f3c-79cd8390339f",
   "metadata": {},
   "outputs": [
    {
     "name": "stdout",
     "output_type": "stream",
     "text": [
      "total number of words 110246\n"
     ]
    }
   ],
   "source": [
    "print(\"total number of words\", len(loaded_dfwords))"
   ]
  },
  {
   "cell_type": "markdown",
   "id": "2dfd7550-02d4-4e43-8e9c-71cf189b9852",
   "metadata": {},
   "source": [
    "### 1.4 Splitting the Training Data into Training and Validation Subsets"
   ]
  },
  {
   "cell_type": "code",
   "execution_count": 16,
   "id": "64cfb5e0-bc23-4659-97ae-765f5de49da2",
   "metadata": {},
   "outputs": [],
   "source": [
    "from sklearn.model_selection import train_test_split\n",
    "import pandas as pd\n",
    "\n",
    "train_df, eval_df = train_test_split(training_df, test_size=0.2, random_state=42)\n",
    "\n",
    "train_df = train_df.reset_index(drop=True)\n",
    "eval_df = eval_df.reset_index(drop=True)"
   ]
  },
  {
   "cell_type": "code",
   "execution_count": 17,
   "id": "a6034ff9-bff3-475e-9da5-fee4ad95e1f5",
   "metadata": {},
   "outputs": [
    {
     "name": "stdout",
     "output_type": "stream",
     "text": [
      "<class 'pandas.core.frame.DataFrame'>\n",
      "RangeIndex: 70557 entries, 0 to 70556\n",
      "Data columns (total 4 columns):\n",
      " #   Column    Non-Null Count  Dtype \n",
      "---  ------    --------------  ----- \n",
      " 0   id        70557 non-null  int64 \n",
      " 1   image_id  70557 non-null  object\n",
      " 2   text      70557 non-null  object\n",
      " 3   image     70557 non-null  object\n",
      "dtypes: int64(1), object(3)\n",
      "memory usage: 2.2+ MB\n"
     ]
    }
   ],
   "source": [
    "train_df.info()"
   ]
  },
  {
   "cell_type": "code",
   "execution_count": 18,
   "id": "999b3ce4-773d-4aea-916c-5eace4a1c5f2",
   "metadata": {},
   "outputs": [
    {
     "name": "stdout",
     "output_type": "stream",
     "text": [
      "<class 'pandas.core.frame.DataFrame'>\n",
      "RangeIndex: 17640 entries, 0 to 17639\n",
      "Data columns (total 4 columns):\n",
      " #   Column    Non-Null Count  Dtype \n",
      "---  ------    --------------  ----- \n",
      " 0   id        17640 non-null  int64 \n",
      " 1   image_id  17640 non-null  object\n",
      " 2   text      17640 non-null  object\n",
      " 3   image     17640 non-null  object\n",
      "dtypes: int64(1), object(3)\n",
      "memory usage: 551.4+ KB\n"
     ]
    }
   ],
   "source": [
    "eval_df.info()"
   ]
  },
  {
   "cell_type": "code",
   "execution_count": 19,
   "id": "35b0e416-9ec2-466a-b28e-68a6856ea6cf",
   "metadata": {},
   "outputs": [
    {
     "name": "stdout",
     "output_type": "stream",
     "text": [
      "id                                                      97650\n",
      "image_id                                        m04-246-06-10\n",
      "text                                                      ham\n",
      "image       <PIL.Image.Image image mode=RGB size=111x56 at...\n",
      "Name: 0, dtype: object\n"
     ]
    },
    {
     "data": {
      "image/png": "[encoded data removed]",
      "text/plain": [
       "<Figure size 640x480 with 1 Axes>"
      ]
     },
     "metadata": {},
     "output_type": "display_data"
    },
    {
     "name": "stdout",
     "output_type": "stream",
     "text": [
      "id                                                      82260\n",
      "image_id                                        k03-117-07-09\n",
      "text                                                    waved\n",
      "image       <PIL.Image.Image image mode=RGB size=296x73 at...\n",
      "Name: 0, dtype: object\n"
     ]
    },
    {
     "data": {
      "image/png": "[encoded data removed]",
      "text/plain": [
       "<Figure size 640x480 with 1 Axes>"
      ]
     },
     "metadata": {},
     "output_type": "display_data"
    },
    {
     "name": "stdout",
     "output_type": "stream",
     "text": [
      "id                                                          3\n",
      "image_id                                       a01-000u-00-03\n",
      "text                                                     stop\n",
      "image       <PIL.Image.Image image mode=RGB size=166x78 at...\n",
      "Name: 3, dtype: object\n"
     ]
    },
    {
     "data": {
      "image/png": "[encoded data removed]",
      "text/plain": [
       "<Figure size 640x480 with 1 Axes>"
      ]
     },
     "metadata": {},
     "output_type": "display_data"
    }
   ],
   "source": [
    "import matplotlib.pyplot as plt\n",
    "\n",
    "print(train_df.iloc[0])\n",
    "show_image(train_df, 0)\n",
    "\n",
    "print(eval_df.iloc[0])\n",
    "show_image(eval_df, 0)\n",
    "\n",
    "print(test_df.iloc[0])\n",
    "show_image(test_df, 0)"
   ]
  },
  {
   "cell_type": "markdown",
   "id": "70dd5924-832d-4d2e-8a2a-f00cc8ff8cee",
   "metadata": {},
   "source": [
    "### 1.5 Saving the Dataset to CSV"
   ]
  },
  {
   "cell_type": "code",
   "execution_count": null,
   "id": "8a1113e1-f76e-49c5-aee4-6252107abdc0",
   "metadata": {},
   "outputs": [],
   "source": [
    "# test_df_copy = test_df\n",
    "# train_df_copy = training_df"
   ]
  },
  {
   "cell_type": "code",
   "execution_count": null,
   "id": "f36d34aa-944d-44d5-beee-731a5bb63d1c",
   "metadata": {},
   "outputs": [],
   "source": [
    "# test_df_copy = test_df_copy.drop('image', axis=1)"
   ]
  },
  {
   "cell_type": "code",
   "execution_count": null,
   "id": "d7ca38c2-d716-4b17-80c9-dc8d6b57a529",
   "metadata": {},
   "outputs": [],
   "source": [
    "# train_df_copy = train_df_copy.drop('image', axis=1)"
   ]
  },
  {
   "cell_type": "code",
   "execution_count": null,
   "id": "8343bf93-f5b0-45a7-81d9-ba710fd3401c",
   "metadata": {},
   "outputs": [
    {
     "name": "stdout",
     "output_type": "stream",
     "text": [
      "<class 'pandas.core.frame.DataFrame'>\n",
      "Index: 22049 entries, 3 to 115183\n",
      "Data columns (total 3 columns):\n",
      " #   Column    Non-Null Count  Dtype \n",
      "---  ------    --------------  ----- \n",
      " 0   id        22049 non-null  int64 \n",
      " 1   image_id  22049 non-null  object\n",
      " 2   text      22049 non-null  object\n",
      "dtypes: int64(1), object(2)\n",
      "memory usage: 689.0+ KB\n"
     ]
    }
   ],
   "source": [
    "# test_df_copy.info()"
   ]
  },
  {
   "cell_type": "code",
   "execution_count": null,
   "id": "51113129-3240-404b-8ef7-20901c02bf11",
   "metadata": {},
   "outputs": [
    {
     "name": "stdout",
     "output_type": "stream",
     "text": [
      "<class 'pandas.core.frame.DataFrame'>\n",
      "Index: 88197 entries, 0 to 115185\n",
      "Data columns (total 3 columns):\n",
      " #   Column    Non-Null Count  Dtype \n",
      "---  ------    --------------  ----- \n",
      " 0   id        88197 non-null  int64 \n",
      " 1   image_id  88197 non-null  object\n",
      " 2   text      88197 non-null  object\n",
      "dtypes: int64(1), object(2)\n",
      "memory usage: 2.7+ MB\n"
     ]
    }
   ],
   "source": [
    "# train_df_copy.info()"
   ]
  },
  {
   "cell_type": "code",
   "execution_count": null,
   "id": "59bf5e9e-3de7-46ad-b458-4531b8a09a50",
   "metadata": {},
   "outputs": [
    {
     "data": {
      "text/html": [
       "<div>\n",
       "<style scoped>\n",
       "    .dataframe tbody tr th:only-of-type {\n",
       "        vertical-align: middle;\n",
       "    }\n",
       "\n",
       "    .dataframe tbody tr th {\n",
       "        vertical-align: top;\n",
       "    }\n",
       "\n",
       "    .dataframe thead th {\n",
       "        text-align: right;\n",
       "    }\n",
       "</style>\n",
       "<table border=\"1\" class=\"dataframe\">\n",
       "  <thead>\n",
       "    <tr style=\"text-align: right;\">\n",
       "      <th></th>\n",
       "      <th>id</th>\n",
       "      <th>image_id</th>\n",
       "      <th>text</th>\n",
       "    </tr>\n",
       "  </thead>\n",
       "  <tbody>\n",
       "    <tr>\n",
       "      <th>0</th>\n",
       "      <td>0</td>\n",
       "      <td>a01-000u-00-00</td>\n",
       "      <td>A</td>\n",
       "    </tr>\n",
       "    <tr>\n",
       "      <th>1</th>\n",
       "      <td>1</td>\n",
       "      <td>a01-000u-00-01</td>\n",
       "      <td>MOVE</td>\n",
       "    </tr>\n",
       "    <tr>\n",
       "      <th>2</th>\n",
       "      <td>2</td>\n",
       "      <td>a01-000u-00-02</td>\n",
       "      <td>to</td>\n",
       "    </tr>\n",
       "    <tr>\n",
       "      <th>4</th>\n",
       "      <td>4</td>\n",
       "      <td>a01-000u-00-04</td>\n",
       "      <td>Mr.</td>\n",
       "    </tr>\n",
       "    <tr>\n",
       "      <th>5</th>\n",
       "      <td>5</td>\n",
       "      <td>a01-000u-00-05</td>\n",
       "      <td>Gaitskell</td>\n",
       "    </tr>\n",
       "    <tr>\n",
       "      <th>6</th>\n",
       "      <td>6</td>\n",
       "      <td>a01-000u-00-06</td>\n",
       "      <td>from</td>\n",
       "    </tr>\n",
       "    <tr>\n",
       "      <th>7</th>\n",
       "      <td>7</td>\n",
       "      <td>a01-000u-01-00</td>\n",
       "      <td>nominating</td>\n",
       "    </tr>\n",
       "    <tr>\n",
       "      <th>8</th>\n",
       "      <td>8</td>\n",
       "      <td>a01-000u-01-01</td>\n",
       "      <td>any</td>\n",
       "    </tr>\n",
       "    <tr>\n",
       "      <th>9</th>\n",
       "      <td>9</td>\n",
       "      <td>a01-000u-01-02</td>\n",
       "      <td>more</td>\n",
       "    </tr>\n",
       "    <tr>\n",
       "      <th>10</th>\n",
       "      <td>10</td>\n",
       "      <td>a01-000u-01-03</td>\n",
       "      <td>Labour</td>\n",
       "    </tr>\n",
       "  </tbody>\n",
       "</table>\n",
       "</div>"
      ],
      "text/plain": [
       "    id        image_id        text\n",
       "0    0  a01-000u-00-00           A\n",
       "1    1  a01-000u-00-01        MOVE\n",
       "2    2  a01-000u-00-02          to\n",
       "4    4  a01-000u-00-04         Mr.\n",
       "5    5  a01-000u-00-05   Gaitskell\n",
       "6    6  a01-000u-00-06        from\n",
       "7    7  a01-000u-01-00  nominating\n",
       "8    8  a01-000u-01-01         any\n",
       "9    9  a01-000u-01-02        more\n",
       "10  10  a01-000u-01-03      Labour"
      ]
     },
     "execution_count": 25,
     "metadata": {},
     "output_type": "execute_result"
    }
   ],
   "source": [
    "# train_df_copy.head(10)"
   ]
  },
  {
   "cell_type": "code",
   "execution_count": null,
   "id": "a89c3dcc-f18b-4ad8-9ba0-86937200f79c",
   "metadata": {},
   "outputs": [
    {
     "data": {
      "text/html": [
       "<div>\n",
       "<style scoped>\n",
       "    .dataframe tbody tr th:only-of-type {\n",
       "        vertical-align: middle;\n",
       "    }\n",
       "\n",
       "    .dataframe tbody tr th {\n",
       "        vertical-align: top;\n",
       "    }\n",
       "\n",
       "    .dataframe thead th {\n",
       "        text-align: right;\n",
       "    }\n",
       "</style>\n",
       "<table border=\"1\" class=\"dataframe\">\n",
       "  <thead>\n",
       "    <tr style=\"text-align: right;\">\n",
       "      <th></th>\n",
       "      <th>id</th>\n",
       "      <th>image_id</th>\n",
       "      <th>text</th>\n",
       "    </tr>\n",
       "  </thead>\n",
       "  <tbody>\n",
       "    <tr>\n",
       "      <th>3</th>\n",
       "      <td>3</td>\n",
       "      <td>a01-000u-00-03</td>\n",
       "      <td>stop</td>\n",
       "    </tr>\n",
       "    <tr>\n",
       "      <th>23</th>\n",
       "      <td>23</td>\n",
       "      <td>a01-000u-03-01</td>\n",
       "      <td>tomorrow</td>\n",
       "    </tr>\n",
       "    <tr>\n",
       "      <th>25</th>\n",
       "      <td>25</td>\n",
       "      <td>a01-000u-03-03</td>\n",
       "      <td>Mr.</td>\n",
       "    </tr>\n",
       "    <tr>\n",
       "      <th>36</th>\n",
       "      <td>36</td>\n",
       "      <td>a01-000u-05-00</td>\n",
       "      <td>and</td>\n",
       "    </tr>\n",
       "    <tr>\n",
       "      <th>40</th>\n",
       "      <td>40</td>\n",
       "      <td>a01-000u-05-04</td>\n",
       "      <td>be</td>\n",
       "    </tr>\n",
       "    <tr>\n",
       "      <th>45</th>\n",
       "      <td>45</td>\n",
       "      <td>a01-000u-06-00</td>\n",
       "      <td>Griffiths</td>\n",
       "    </tr>\n",
       "    <tr>\n",
       "      <th>55</th>\n",
       "      <td>55</td>\n",
       "      <td>a01-000x-00-03</td>\n",
       "      <td>stop</td>\n",
       "    </tr>\n",
       "    <tr>\n",
       "      <th>63</th>\n",
       "      <td>63</td>\n",
       "      <td>a01-000x-01-03</td>\n",
       "      <td>life</td>\n",
       "    </tr>\n",
       "    <tr>\n",
       "      <th>72</th>\n",
       "      <td>72</td>\n",
       "      <td>a01-000x-02-01</td>\n",
       "      <td>of</td>\n",
       "    </tr>\n",
       "    <tr>\n",
       "      <th>90</th>\n",
       "      <td>90</td>\n",
       "      <td>a01-000x-04-02</td>\n",
       "      <td>is</td>\n",
       "    </tr>\n",
       "  </tbody>\n",
       "</table>\n",
       "</div>"
      ],
      "text/plain": [
       "    id        image_id       text\n",
       "3    3  a01-000u-00-03       stop\n",
       "23  23  a01-000u-03-01   tomorrow\n",
       "25  25  a01-000u-03-03        Mr.\n",
       "36  36  a01-000u-05-00        and\n",
       "40  40  a01-000u-05-04         be\n",
       "45  45  a01-000u-06-00  Griffiths\n",
       "55  55  a01-000x-00-03       stop\n",
       "63  63  a01-000x-01-03       life\n",
       "72  72  a01-000x-02-01         of\n",
       "90  90  a01-000x-04-02         is"
      ]
     },
     "execution_count": 26,
     "metadata": {},
     "output_type": "execute_result"
    }
   ],
   "source": [
    "# test_df_copy.head(10)"
   ]
  },
  {
   "cell_type": "code",
   "execution_count": null,
   "id": "e32b327d-03a4-4c20-a875-2e192b81ae22",
   "metadata": {},
   "outputs": [],
   "source": [
    "# test_df_copy.to_csv('df_test_info_iam.csv', index=False)\n",
    "# train_df_copy.to_csv('df_train_info_iam.csv', index=False)"
   ]
  },
  {
   "cell_type": "code",
   "execution_count": 28,
   "id": "59b28f64",
   "metadata": {},
   "outputs": [
    {
     "name": "stdout",
     "output_type": "stream",
     "text": [
      "<class 'pandas.core.frame.DataFrame'>\n",
      "Index: 110246 entries, 0 to 115185\n",
      "Data columns (total 4 columns):\n",
      " #   Column    Non-Null Count   Dtype \n",
      "---  ------    --------------   ----- \n",
      " 0   id        110246 non-null  int64 \n",
      " 1   image_id  110246 non-null  object\n",
      " 2   text      110246 non-null  object\n",
      " 3   image     110246 non-null  object\n",
      "dtypes: int64(1), object(3)\n",
      "memory usage: 4.2+ MB\n"
     ]
    }
   ],
   "source": [
    "loaded_dfwords.info()\n",
    "def get_image(df, image_id):\n",
    "    \"\"\"\n",
    "    Get the image from the image_id at the specified index.\n",
    "    \"\"\"\n",
    "    # image_id = df['image_id'].iloc[idx]\n",
    "    subfolder = image_id.split('-')[0]\n",
    "    subfolder2 = subfolder + \"-\" + image_id.split('-')[1]\n",
    "    image_file_name = image_id + \".png\"\n",
    "    image_path = os.path.join(image_file_path, subfolder, subfolder2, image_file_name)\n",
    "    \n",
    "    try:\n",
    "        with Image.open(image_path) as img:\n",
    "            if img.size[0] >= 10 and img.size[1] >= 10:\n",
    "                img_rgb = img.convert(\"RGB\")  # Convert to RGB\n",
    "                return img_rgb.copy()  # Return a copy after conversion\n",
    "    except Exception as e:\n",
    "        print(f\"Error opening image file {image_path}: {e}\")\n",
    "        return None"
   ]
  },
  {
   "cell_type": "code",
   "execution_count": 29,
   "id": "b341b099",
   "metadata": {},
   "outputs": [
    {
     "data": {
      "image/jpeg": "[encoded data removed]",
      "image/png": "[encoded data removed]",
      "text/plain": [
       "<PIL.Image.Image image mode=RGB size=166x78>"
      ]
     },
     "execution_count": 29,
     "metadata": {},
     "output_type": "execute_result"
    }
   ],
   "source": [
    "get_image(test_df, test_df['image_id'].iloc[0])  # Example usage to get the first image in train_df"
   ]
  },
  {
   "cell_type": "markdown",
   "id": "7b53584f-9d1b-495b-b632-b8bf0c6c7ae9",
   "metadata": {},
   "source": [
    "## Step 2. Running the Model"
   ]
  },
  {
   "cell_type": "markdown",
   "id": "af9affb4-9a40-494f-b130-a552abc03e90",
   "metadata": {},
   "source": [
    "### 2.1 Loading the Model"
   ]
  },
  {
   "cell_type": "code",
   "execution_count": 30,
   "id": "f67088bd-67e2-4f51-90a1-3a0d781cd11c",
   "metadata": {},
   "outputs": [
    {
     "name": "stderr",
     "output_type": "stream",
     "text": [
      "c:\\Old PC\\Melissa (192.168.1.159)\\Rutgers\\Intro to Data Science\\stylized-handwriting-ocr\\.venv\\Lib\\site-packages\\tqdm\\auto.py:21: TqdmWarning: IProgress not found. Please update jupyter and ipywidgets. See https://ipywidgets.readthedocs.io/en/stable/user_install.html\n",
      "  from .autonotebook import tqdm as notebook_tqdm\n"
     ]
    }
   ],
   "source": [
    "from transformers import TrOCRProcessor, VisionEncoderDecoderModel"
   ]
  },
  {
   "cell_type": "code",
   "execution_count": null,
   "id": "b5c62a4e-0326-4fce-93cd-56df14603a76",
   "metadata": {
    "scrolled": true
   },
   "outputs": [
    {
     "name": "stderr",
     "output_type": "stream",
     "text": [
      "Using a slow image processor as `use_fast` is unset and a slow processor was saved with this model. `use_fast=True` will be the default behavior in v4.52, even if the model was saved with a slow processor. This will result in minor differences in outputs. You'll still be able to use a slow processor with `use_fast=False`.\n",
      "Config of the encoder: <class 'transformers.models.deit.modeling_deit.DeiTModel'> is overwritten by shared encoder config: DeiTConfig {\n",
      "  \"attention_probs_dropout_prob\": 0.0,\n",
      "  \"encoder_stride\": 16,\n",
      "  \"hidden_act\": \"gelu\",\n",
      "  \"hidden_dropout_prob\": 0.0,\n",
      "  \"hidden_size\": 384,\n",
      "  \"image_size\": 384,\n",
      "  \"initializer_range\": 0.02,\n",
      "  \"intermediate_size\": 1536,\n",
      "  \"layer_norm_eps\": 1e-12,\n",
      "  \"model_type\": \"deit\",\n",
      "  \"num_attention_heads\": 6,\n",
      "  \"num_channels\": 3,\n",
      "  \"num_hidden_layers\": 12,\n",
      "  \"patch_size\": 16,\n",
      "  \"pooler_act\": \"tanh\",\n",
      "  \"pooler_output_size\": 384,\n",
      "  \"qkv_bias\": true,\n",
      "  \"torch_dtype\": \"float32\",\n",
      "  \"transformers_version\": \"4.51.3\"\n",
      "}\n",
      "\n",
      "Config of the decoder: <class 'transformers.models.trocr.modeling_trocr.TrOCRForCausalLM'> is overwritten by shared decoder config: TrOCRConfig {\n",
      "  \"activation_dropout\": 0.0,\n",
      "  \"activation_function\": \"relu\",\n",
      "  \"add_cross_attention\": true,\n",
      "  \"attention_dropout\": 0.0,\n",
      "  \"bos_token_id\": 0,\n",
      "  \"classifier_dropout\": 0.0,\n",
      "  \"cross_attention_hidden_size\": 384,\n",
      "  \"d_model\": 256,\n",
      "  \"decoder_attention_heads\": 8,\n",
      "  \"decoder_ffn_dim\": 1024,\n",
      "  \"decoder_layerdrop\": 0.0,\n",
      "  \"decoder_layers\": 6,\n",
      "  \"decoder_start_token_id\": 2,\n",
      "  \"dropout\": 0.1,\n",
      "  \"eos_token_id\": 2,\n",
      "  \"init_std\": 0.02,\n",
      "  \"is_decoder\": true,\n",
      "  \"layernorm_embedding\": true,\n",
      "  \"max_position_embeddings\": 512,\n",
      "  \"model_type\": \"trocr\",\n",
      "  \"pad_token_id\": 1,\n",
      "  \"scale_embedding\": true,\n",
      "  \"tie_word_embeddings\": false,\n",
      "  \"torch_dtype\": \"float32\",\n",
      "  \"transformers_version\": \"4.51.3\",\n",
      "  \"use_cache\": false,\n",
      "  \"use_learned_position_embeddings\": true,\n",
      "  \"vocab_size\": 64044\n",
      "}\n",
      "\n",
      "Some weights of VisionEncoderDecoderModel were not initialized from the model checkpoint at microsoft/trocr-small-stage1 and are newly initialized: ['encoder.pooler.dense.bias', 'encoder.pooler.dense.weight']\n",
      "You should probably TRAIN this model on a down-stream task to be able to use it for predictions and inference.\n"
     ]
    }
   ],
   "source": [
    "# get base model\n",
    "processor = TrOCRProcessor.from_pretrained('microsoft/trocr-base-stage1')\n",
    "model = VisionEncoderDecoderModel.from_pretrained('microsoft/trocr-base-stage1')"
   ]
  },
  {
   "cell_type": "markdown",
   "id": "d854c0aa-ab24-4f49-acde-a7dac11a7d21",
   "metadata": {},
   "source": [
    "### 2.2 Splitting the Training Data into Training and Validation Datasets"
   ]
  },
  {
   "cell_type": "code",
   "execution_count": 48,
   "id": "02e1dba6-94b3-442c-9a3e-92b86fd8cba6",
   "metadata": {},
   "outputs": [],
   "source": [
    "import torch\n",
    "from torch.utils.data import Dataset\n",
    "from PIL import Image\n",
    "\n",
    "class StyleDataset(Dataset):\n",
    "    def __init__(self, df, processor, max_target_length=512):\n",
    "        self.df = df\n",
    "        self.processor = processor\n",
    "        self.max_target_length = max_target_length\n",
    "\n",
    "    def __len__(self):\n",
    "        return len(self.df)\n",
    "\n",
    "    def __getitem__(self, idx):\n",
    "      try:\n",
    "          text = self.df['text'].iloc[idx]\n",
    "          if not isinstance(text, str) or not text.strip():\n",
    "              raise ValueError(f\"Invalid text at index {idx}: {repr(text)}\")\n",
    "          image_id = self.df['id'].iloc[idx]\n",
    "          try:\n",
    "              image = self.df['image'].iloc[idx]\n",
    "          except Exception as e:\n",
    "              raise ValueError(f\"Failed to load image for ID {image_id} at index {idx}\") from e\n",
    "          try:\n",
    "              pixel_values = self.processor(image, return_tensors=\"pt\").pixel_values\n",
    "          except Exception as e:\n",
    "              raise ValueError(f\"Image processing failed at index {idx}\") from e\n",
    "\n",
    "          if torch.isnan(pixel_values).any() or torch.isinf(pixel_values).any():\n",
    "              raise ValueError(f\"Invalid pixel values (NaN/inf) at index {idx}\")\n",
    "          try:\n",
    "              labels = self.processor.tokenizer(\n",
    "                  text,\n",
    "                  padding=\"max_length\",\n",
    "                  max_length=self.max_target_length\n",
    "              ).input_ids\n",
    "          except Exception as e:\n",
    "              raise ValueError(f\"Tokenization failed for text at index {idx}\") from e\n",
    "\n",
    "          # Replace pad_token_id with -100 for loss masking\n",
    "          labels = [\n",
    "              label if label != self.processor.tokenizer.pad_token_id else -100\n",
    "              for label in labels\n",
    "          ]\n",
    "          encoding = {\n",
    "              \"pixel_values\": pixel_values.squeeze(),\n",
    "              \"labels\": torch.tensor(labels)\n",
    "          }\n",
    "\n",
    "          if encoding[\"pixel_values\"].dim() != 3:\n",
    "              raise ValueError(f\"Invalid pixel_values shape at index {idx}\")\n",
    "\n",
    "          if encoding[\"labels\"].numel() != self.max_target_length:\n",
    "              raise ValueError(f\"Labels length mismatch at index {idx}\")\n",
    "\n",
    "          return encoding\n",
    "\n",
    "      except Exception as e:\n",
    "          print(f\"\\nError in sample {idx}:\")\n",
    "          print(f\"   Error type: {type(e).__name__}\")\n",
    "          print(f\"   Details: {str(e)}\")\n",
    "          if hasattr(e, '__cause__') and e.__cause__:\n",
    "              print(f\"   Underlying error: {type(e.__cause__).__name__}: {str(e.__cause__)}\")\n",
    "          print(f\"   DataFrame row:\\n{self.df.iloc[idx]}\")\n",
    "          return None"
   ]
  },
  {
   "cell_type": "code",
   "execution_count": 49,
   "id": "d1a5efb3-dabc-4f81-b3f9-2d65d4fbe7d4",
   "metadata": {},
   "outputs": [],
   "source": [
    "# Tokenized\n",
    "train_dataset = StyleDataset(df=train_df,processor=processor)\n",
    "eval_dataset= StyleDataset(df=eval_df,processor=processor)"
   ]
  },
  {
   "cell_type": "code",
   "execution_count": 50,
   "id": "93628f6a-a378-4c80-a5d2-a8745c655a4c",
   "metadata": {},
   "outputs": [
    {
     "name": "stdout",
     "output_type": "stream",
     "text": [
      "Number of training examples: 70613\n",
      "Number of validation examples: 17654\n"
     ]
    }
   ],
   "source": [
    "print(\"Number of training examples:\", len(train_dataset))\n",
    "print(\"Number of validation examples:\", len(eval_dataset))"
   ]
  },
  {
   "cell_type": "code",
   "execution_count": 51,
   "id": "721b3b92-0e22-4b3a-ae2c-cd13c153fe1a",
   "metadata": {},
   "outputs": [],
   "source": [
    "# get the label string from encoding\n",
    "def get_label_str(encoding):\n",
    "  labels = encoding['labels']\n",
    "  labels[labels == -100] = processor.tokenizer.pad_token_id\n",
    "  label_str = processor.decode(labels, skip_special_tokens=True)\n",
    "  return label_str"
   ]
  },
  {
   "cell_type": "code",
   "execution_count": 52,
   "id": "18974a92-fc3f-4b1e-9b62-1ec77af80a6b",
   "metadata": {},
   "outputs": [
    {
     "name": "stdout",
     "output_type": "stream",
     "text": [
      "1\n",
      "Polaris\n",
      "woman\n"
     ]
    }
   ],
   "source": [
    "print(1)\n",
    "print(get_label_str(train_dataset[0]))\n",
    "print(get_label_str(eval_dataset[0]))\n"
   ]
  },
  {
   "cell_type": "code",
   "execution_count": 53,
   "id": "7dd503a4-8051-49ea-b4a8-c9e6c8e2d120",
   "metadata": {},
   "outputs": [
    {
     "name": "stdout",
     "output_type": "stream",
     "text": [
      "id                                                      27749\n",
      "image_id                                       c03-094d-05-04\n",
      "text                                            father-in-law\n",
      "image       <PIL.Image.Image image mode=RGB size=604x97 at...\n",
      "Name: 10, dtype: object\n"
     ]
    },
    {
     "data": {
      "image/png": "[encoded data removed]",
      "text/plain": [
       "<Figure size 640x480 with 1 Axes>"
      ]
     },
     "metadata": {},
     "output_type": "display_data"
    }
   ],
   "source": [
    "print(train_df.iloc[10])\n",
    "show_image(train_df, 10)"
   ]
  },
  {
   "cell_type": "markdown",
   "id": "6f386030-a888-493a-93ce-ef10097b8dd8",
   "metadata": {},
   "source": [
    "### 2.3 Model Configuration"
   ]
  },
  {
   "cell_type": "code",
   "execution_count": 54,
   "id": "17936dd5-71b6-4e80-8e97-26f17fb6257e",
   "metadata": {},
   "outputs": [
    {
     "name": "stdout",
     "output_type": "stream",
     "text": [
      "average target length 4.2622610941801575\n",
      "maximum target length 9\n"
     ]
    }
   ],
   "source": [
    "# Analyze your dataset first\n",
    "avg_target_len = training_df['text'].apply(len).mean()\n",
    "print(\"average target length\", avg_target_len)\n",
    "max_target_len = int(training_df['text'].apply(len).quantile(0.95))\n",
    "print(\"maximum target length\", max_target_len)"
   ]
  },
  {
   "cell_type": "code",
   "execution_count": 55,
   "id": "e86fb7f5-3e36-4d9a-bec4-8bcc3c1a8a3b",
   "metadata": {},
   "outputs": [],
   "source": [
    "# Token Alignment\n",
    "# set special tokens used for creating the decoder_input_ids from the labels\n",
    "model.config.decoder_start_token_id = processor.tokenizer.cls_token_id\n",
    "model.config.pad_token_id = processor.tokenizer.pad_token_id\n",
    "# make sure vocab size is set correctly\n",
    "model.config.vocab_size = len(processor.tokenizer)"
   ]
  },
  {
   "cell_type": "code",
   "execution_count": 56,
   "id": "d2c8c70f-24ba-41c7-8933-6a3b0105cd8d",
   "metadata": {},
   "outputs": [],
   "source": [
    "from transformers import GenerationConfig\n",
    "\n",
    "generation_config = GenerationConfig(\n",
    "    max_length=64,\n",
    "    early_stopping=True,\n",
    "    num_beams=4,\n",
    "    length_penalty=2.0,\n",
    "    no_repeat_ngram_size=3,\n",
    "    eos_token_id=processor.tokenizer.sep_token_id,\n",
    "    decoder_start_token_id=processor.tokenizer.cls_token_id,\n",
    "    pad_token_id=processor.tokenizer.pad_token_id,\n",
    "    skip_special_tokens=True  # Added for consistent decoding\n",
    ")"
   ]
  },
  {
   "cell_type": "markdown",
   "id": "e34816fc-3bdc-4b85-ad98-981178c94e96",
   "metadata": {},
   "source": [
    "### 2.4 Metrics"
   ]
  },
  {
   "cell_type": "code",
   "execution_count": 57,
   "id": "b1336000-01dc-412e-9b0e-4ed510e74ebd",
   "metadata": {},
   "outputs": [],
   "source": [
    "from evaluate import load\n",
    "cer_metric = load(\"cer\")\n",
    "\n",
    "def compute_metrics(pred):\n",
    "    labels_ids = pred.label_ids\n",
    "    pred_ids = pred.predictions\n",
    "\n",
    "    pred_str = processor.batch_decode(pred_ids, skip_special_tokens=True)\n",
    "    labels_ids[labels_ids == -100] = processor.tokenizer.pad_token_id\n",
    "    label_str = processor.batch_decode(labels_ids, skip_special_tokens=True)\n",
    "\n",
    "    cer = cer_metric.compute(predictions=pred_str, references=label_str)\n",
    "\n",
    "    return {\"cer\": cer}"
   ]
  },
  {
   "cell_type": "markdown",
   "id": "3412c306-b040-4fa3-ba01-e39531cec4bb",
   "metadata": {},
   "source": [
    "## Step 3. Fine-tune"
   ]
  },
  {
   "cell_type": "code",
   "execution_count": null,
   "id": "742baafc-f4d5-4b3f-a265-961e33217a67",
   "metadata": {},
   "outputs": [],
   "source": [
    "from transformers import Seq2SeqTrainer, Seq2SeqTrainingArguments\n",
    "\n",
    "training_args = Seq2SeqTrainingArguments(\n",
    "    predict_with_generate=True,\n",
    "    eval_strategy=\"steps\",\n",
    "    num_train_epochs=1.87,\n",
    "    per_device_train_batch_size=4,\n",
    "    per_device_eval_batch_size=2,\n",
    "    gradient_accumulation_steps=2,\n",
    "    fp16=True,\n",
    "    output_dir=\"./output-base/models/\",\n",
    "    logging_steps=2,\n",
    "    save_steps=1000,\n",
    "    eval_steps=1000,\n",
    "    save_total_limit=1,\n",
    "    load_best_model_at_end=True\n",
    ")"
   ]
  },
  {
   "cell_type": "code",
   "execution_count": 59,
   "id": "10fe8fc5",
   "metadata": {},
   "outputs": [
    {
     "name": "stdout",
     "output_type": "stream",
     "text": [
      "\n",
      "Error in sample 70613:\n",
      "   Error type: IndexError\n",
      "   Details: single positional indexer is out-of-bounds\n"
     ]
    }
   ],
   "source": [
    "for idx, data in enumerate(train_dataset):\n",
    "    if data is None or any(d is None for d in data.values()):\n",
    "        print(f\"None found in dataset at index {idx}: {data}\")"
   ]
  },
  {
   "cell_type": "code",
   "execution_count": null,
   "id": "bed6d8ca-d8b1-4501-ba8a-0edda42aeee5",
   "metadata": {},
   "outputs": [
    {
     "name": "stderr",
     "output_type": "stream",
     "text": [
      "c:\\Old PC\\Melissa (192.168.1.159)\\Rutgers\\Intro to Data Science\\stylized-handwriting-ocr\\.venv\\Lib\\site-packages\\transformers\\models\\trocr\\processing_trocr.py:152: FutureWarning: `feature_extractor` is deprecated and will be removed in v5. Use `image_processor` instead.\n",
      "  warnings.warn(\n",
      "c:\\Old PC\\Melissa (192.168.1.159)\\Rutgers\\Intro to Data Science\\stylized-handwriting-ocr\\.venv\\Lib\\site-packages\\accelerate\\accelerator.py:449: FutureWarning: `torch.cuda.amp.GradScaler(args...)` is deprecated. Please use `torch.amp.GradScaler('cuda', args...)` instead.\n",
      "  self.scaler = torch.cuda.amp.GradScaler(**kwargs)\n",
      "`loss_type=None` was set in the config but it is unrecognised.Using the default loss: `ForCausalLMLoss`.\n"
     ]
    },
    {
     "data": {
      "text/html": [
       "\n",
       "    <div>\n",
       "      \n",
       "      <progress value='4201' max='105924' style='width:300px; height:20px; vertical-align: middle;'></progress>\n",
       "      [  4201/105924 13:23:22 < 324:22:02, 0.09 it/s, Epoch 0.24/6]\n",
       "    </div>\n",
       "    <table border=\"1\" class=\"dataframe\">\n",
       "  <thead>\n",
       " <tr style=\"text-align: left;\">\n",
       "      <th>Step</th>\n",
       "      <th>Training Loss</th>\n",
       "      <th>Validation Loss</th>\n",
       "      <th>Cer</th>\n",
       "    </tr>\n",
       "  </thead>\n",
       "  <tbody>\n",
       "    <tr>\n",
       "      <td>200</td>\n",
       "      <td>0.746500</td>\n",
       "      <td>1.915206</td>\n",
       "      <td>0.491890</td>\n",
       "    </tr>\n",
       "    <tr>\n",
       "      <td>400</td>\n",
       "      <td>1.160000</td>\n",
       "      <td>1.418771</td>\n",
       "      <td>0.538950</td>\n",
       "    </tr>\n",
       "    <tr>\n",
       "      <td>600</td>\n",
       "      <td>0.281100</td>\n",
       "      <td>1.555264</td>\n",
       "      <td>0.427133</td>\n",
       "    </tr>\n",
       "    <tr>\n",
       "      <td>800</td>\n",
       "      <td>1.306900</td>\n",
       "      <td>1.342196</td>\n",
       "      <td>0.565197</td>\n",
       "    </tr>\n",
       "    <tr>\n",
       "      <td>1000</td>\n",
       "      <td>1.962500</td>\n",
       "      <td>1.196615</td>\n",
       "      <td>0.981078</td>\n",
       "    </tr>\n",
       "    <tr>\n",
       "      <td>1200</td>\n",
       "      <td>0.926700</td>\n",
       "      <td>1.324498</td>\n",
       "      <td>0.793984</td>\n",
       "    </tr>\n",
       "    <tr>\n",
       "      <td>1400</td>\n",
       "      <td>1.133500</td>\n",
       "      <td>1.232706</td>\n",
       "      <td>5.393110</td>\n",
       "    </tr>\n",
       "    <tr>\n",
       "      <td>1600</td>\n",
       "      <td>1.521800</td>\n",
       "      <td>1.227847</td>\n",
       "      <td>4.687134</td>\n",
       "    </tr>\n",
       "    <tr>\n",
       "      <td>1800</td>\n",
       "      <td>0.426500</td>\n",
       "      <td>1.158023</td>\n",
       "      <td>4.408131</td>\n",
       "    </tr>\n",
       "    <tr>\n",
       "      <td>2000</td>\n",
       "      <td>0.971900</td>\n",
       "      <td>1.084538</td>\n",
       "      <td>6.306328</td>\n",
       "    </tr>\n",
       "    <tr>\n",
       "      <td>2200</td>\n",
       "      <td>1.388300</td>\n",
       "      <td>1.235846</td>\n",
       "      <td>1.106930</td>\n",
       "    </tr>\n",
       "    <tr>\n",
       "      <td>2400</td>\n",
       "      <td>0.893500</td>\n",
       "      <td>1.032284</td>\n",
       "      <td>5.273157</td>\n",
       "    </tr>\n",
       "    <tr>\n",
       "      <td>2600</td>\n",
       "      <td>0.272800</td>\n",
       "      <td>1.218015</td>\n",
       "      <td>4.595318</td>\n",
       "    </tr>\n",
       "    <tr>\n",
       "      <td>2800</td>\n",
       "      <td>0.614900</td>\n",
       "      <td>1.041198</td>\n",
       "      <td>6.136598</td>\n",
       "    </tr>\n",
       "    <tr>\n",
       "      <td>3000</td>\n",
       "      <td>0.970800</td>\n",
       "      <td>1.086064</td>\n",
       "      <td>40.323786</td>\n",
       "    </tr>\n",
       "    <tr>\n",
       "      <td>3200</td>\n",
       "      <td>0.118100</td>\n",
       "      <td>0.966280</td>\n",
       "      <td>0.647678</td>\n",
       "    </tr>\n",
       "    <tr>\n",
       "      <td>3400</td>\n",
       "      <td>1.920200</td>\n",
       "      <td>1.178590</td>\n",
       "      <td>0.609020</td>\n",
       "    </tr>\n",
       "    <tr>\n",
       "      <td>3600</td>\n",
       "      <td>0.871400</td>\n",
       "      <td>1.084750</td>\n",
       "      <td>0.491771</td>\n",
       "    </tr>\n",
       "    <tr>\n",
       "      <td>3800</td>\n",
       "      <td>0.989900</td>\n",
       "      <td>1.055928</td>\n",
       "      <td>1.503449</td>\n",
       "    </tr>\n",
       "    <tr>\n",
       "      <td>4000</td>\n",
       "      <td>0.961100</td>\n",
       "      <td>1.145838</td>\n",
       "      <td>1.664962</td>\n",
       "    </tr>\n",
       "  </tbody>\n",
       "</table><p>\n",
       "    <div>\n",
       "      \n",
       "      <progress value='1784' max='4414' style='width:300px; height:20px; vertical-align: middle;'></progress>\n",
       "      [1784/4414 04:05 < 06:01, 7.27 it/s]\n",
       "    </div>\n",
       "    "
      ],
      "text/plain": [
       "<IPython.core.display.HTML object>"
      ]
     },
     "metadata": {},
     "output_type": "display_data"
    }
   ],
   "source": [
    "from transformers import default_data_collator\n",
    "# instantiate trainer\n",
    "trainer = Seq2SeqTrainer(\n",
    "    model=model,\n",
    "    tokenizer=processor.image_processor,\n",
    "    args=training_args,\n",
    "    compute_metrics=compute_metrics,\n",
    "    train_dataset=train_dataset,\n",
    "    eval_dataset=eval_dataset,\n",
    "    data_collator=default_data_collator,\n",
    ")\n",
    "trainer.train()"
   ]
  },
  {
   "cell_type": "markdown",
   "id": "33e9ee3f",
   "metadata": {},
   "source": [
    "## Step 4. Evaluate"
   ]
  },
  {
   "cell_type": "markdown",
   "id": "15faf61b",
   "metadata": {},
   "source": [
    "### 4.1 Load model"
   ]
  },
  {
   "cell_type": "code",
   "execution_count": null,
   "id": "e8c2b67b",
   "metadata": {},
   "outputs": [],
   "source": [
    "from transformers import VisionEncoderDecoderModel\n",
    "from transformers import TrOCRProcessor\n",
    "model_path = \"./output/models/checkpoint-110333\"\n",
    "model =  VisionEncoderDecoderModel.from_pretrained(model_path).to(\"cuda\")\n",
    "# processor = TrOCRProcessor.from_pretrained(model_path)"
   ]
  },
  {
   "cell_type": "markdown",
   "id": "818867ad",
   "metadata": {},
   "source": [
    "### 4.2 Load Testing Dataset"
   ]
  },
  {
   "cell_type": "code",
   "execution_count": null,
   "id": "f061db1e",
   "metadata": {},
   "outputs": [],
   "source": [
    "test_df.info()"
   ]
  },
  {
   "cell_type": "markdown",
   "id": "0bf44cfe",
   "metadata": {},
   "source": [
    "### 4.3 Do Inference"
   ]
  },
  {
   "cell_type": "code",
   "execution_count": null,
   "id": "edec7186",
   "metadata": {},
   "outputs": [],
   "source": [
    "import torch\n",
    "\n",
    "device = torch.device(\"cuda\" if torch.cuda.is_available() else \"cpu\")"
   ]
  },
  {
   "cell_type": "code",
   "execution_count": null,
   "id": "f81e0aac",
   "metadata": {},
   "outputs": [],
   "source": [
    "from tqdm import tqdm\n",
    "\n",
    "def readText_batch(df, indices):\n",
    "    \"\"\"Process multiple images at once\"\"\"\n",
    "    #     subfolder = tokens[0].split('-')[0]\n",
    "    # subfolder2 = subfolder + \"-\" + tokens[0].split('-')[1]\n",
    "    # image_file_name = subfolder + \"\\\\\" + subfolder2 + \"\\\\\" + tokens[0] + \".png\"\n",
    "    # try:\n",
    "    #     with Image.open(os.path.join(image_file_path, image_file_name)) as img:\n",
    "    # subfolder = df['image_id'][indices[0]].split('\\\\')[0]\n",
    "    # subfolder2 = subfolder + \"-\" + df['image_id'][indices[0]].split('-')[1]\n",
    "    # image_dataset_path = os.path.join(image_file_path, subfolder, subfolder2, '')\n",
    "    paths = [df['image_id'].iloc[idx] for idx in indices]\n",
    "    images= [Image.open(path).convert(\"RGB\") for path in paths]\n",
    "    pixel_values = processor(images=images, return_tensors=\"pt\").pixel_values.to(device)\n",
    "    generated_ids = model.generate(pixel_values)\n",
    "    return processor.batch_decode(generated_ids, skip_special_tokens=True)\n",
    "\n",
    "def process_all_rows_batched(df, batch_size=8):\n",
    "    results = []\n",
    "    for i in tqdm(range(0, len(df), batch_size), desc=\"Processing batches\"):\n",
    "        batch_indices = range(i, min(i+batch_size, len(df)))\n",
    "        try:\n",
    "            batch_texts = readText_batch(df, batch_indices)\n",
    "            for idx, text in zip(batch_indices, batch_texts):\n",
    "                results.append({\n",
    "                    'id': df['image_id'].iloc[idx],\n",
    "                    'preds': df['text'].iloc[idx],\n",
    "                    'labels': text\n",
    "                })\n",
    "        except Exception as e:\n",
    "            print(f\"Error in batch {i//batch_size}: {str(e)}\")\n",
    "            for idx in batch_indices:\n",
    "                results.append({\n",
    "                    'id': df['image_id'].iloc[idx],\n",
    "                    'labels': df['text'].iloc[idx],\n",
    "                    'preds': None,\n",
    "                    'error': str(e)\n",
    "                })\n",
    "    return pd.DataFrame(results)"
   ]
  },
  {
   "cell_type": "code",
   "execution_count": null,
   "id": "07465cc0",
   "metadata": {},
   "outputs": [],
   "source": [
    "results_df = process_all_rows_batched(test_df, batch_size=8)"
   ]
  },
  {
   "cell_type": "code",
   "execution_count": null,
   "id": "0e969d99",
   "metadata": {},
   "outputs": [],
   "source": [
    "results_df.head()"
   ]
  },
  {
   "cell_type": "markdown",
   "id": "71788ed4",
   "metadata": {},
   "source": [
    "### 4.4 Evaluate"
   ]
  },
  {
   "cell_type": "code",
   "execution_count": null,
   "id": "91f84a3e",
   "metadata": {},
   "outputs": [],
   "source": [
    "from evaluate import load\n",
    "cer = load(\"cer\")\n",
    "\n",
    "def compute_eval_metrics(pred_str, label_str):\n",
    "    pred_str=pred_str.strip()\n",
    "    label_str=label_str.strip()\n",
    "    # max_len = max(len(pred_str), len(label_str))\n",
    "    # pred_str = pred_str.ljust(max_len)  \n",
    "    # label_str = label_str.ljust(max_len)\n",
    "    try: \n",
    "        score = cer.compute(predictions=[pred_str], references=[label_str])\n",
    "        return score\n",
    "    except Exception as e:\n",
    "        print(\"error\", e)\n",
    "        print(type(pred_str), len(pred_str), pred_str)\n",
    "        print(type(label_str), len(label_str), label_str)\n",
    "        return None"
   ]
  },
  {
   "cell_type": "code",
   "execution_count": null,
   "id": "e7b3fdfd",
   "metadata": {},
   "outputs": [],
   "source": [
    "from tqdm import tqdm\n",
    "tqdm.pandas()  # Enable progress_apply for pandas\n",
    "\n",
    "results_df[\"metrics\"] = results_df.progress_apply(\n",
    "    lambda row: compute_eval_metrics(row[\"preds\"], row[\"labels\"]),\n",
    "    axis=1\n",
    ")"
   ]
  },
  {
   "cell_type": "markdown",
   "id": "3756051e",
   "metadata": {},
   "source": [
    "### 4.4 Analyze Performance"
   ]
  },
  {
   "cell_type": "code",
   "execution_count": null,
   "id": "d5dfa591",
   "metadata": {},
   "outputs": [],
   "source": [
    "import seaborn as sns\n",
    "import matplotlib.pyplot as plt\n",
    "import math\n",
    "\n",
    "def plot_eval(values):\n",
    "    # Plotting\n",
    "    plt.figure(figsize=(8, 5))\n",
    "    sns.kdeplot(values, shade=True)\n",
    "    plt.xlabel(\"Edit Distance\")\n",
    "    plt.title(\"KDE of Edit Distances\")\n",
    "    plt.show()\n",
    "        \n",
    "    # Boxplot\n",
    "    plt.boxplot(values, vert=False, patch_artist=True)\n",
    "    plt.xlabel(\"Edit Distance\")\n",
    "    plt.title(\"Boxplot of Edit Distances\")\n",
    "    \n",
    "    plt.tight_layout()\n",
    "    plt.show()"
   ]
  },
  {
   "cell_type": "code",
   "execution_count": null,
   "id": "2e38dc19",
   "metadata": {},
   "outputs": [],
   "source": [
    "plot_eval(results_df[\"metrics\"])"
   ]
  },
  {
   "cell_type": "code",
   "execution_count": null,
   "id": "da425bc1",
   "metadata": {},
   "outputs": [],
   "source": [
    "# remove outliers\n",
    "results_normal= results_df[results_df[\"metrics\"]<5]\n",
    "plot_eval(results_normal[\"metrics\"])"
   ]
  },
  {
   "cell_type": "code",
   "execution_count": null,
   "id": "b00a5bb3",
   "metadata": {},
   "outputs": [],
   "source": [
    "import numpy as np\n",
    "def show_state(values):\n",
    "    stats = {\n",
    "        \"mean\": np.mean(values),\n",
    "        \"median\": np.median(values),\n",
    "        \"std\": np.std(values),\n",
    "        \"min\": np.min(values),\n",
    "        \"max\": np.max(values),\n",
    "        \"quantiles\": np.quantile(values, [0.25, 0.5, 0.75]),\n",
    "        \"perfect\": np.sum(values == 0)\n",
    "\n",
    "    }\n",
    "    \n",
    "    print(\"Summary Statistics:\")\n",
    "    print(f\"- Mean ± Std: {stats['mean']:.2f} ± {stats['std']:.2f}\")\n",
    "    print(f\"- Median (IQR): {stats['median']:.2f} ({stats['quantiles'][0]:.2f}–{stats['quantiles'][2]:.2f})\")\n",
    "    print(f\"- Range: [{stats['min']}, {stats['max']}]\")\n",
    "    print(f\"- Quantiles (25th, 50th, 75th): {stats['quantiles'].round(2)}\")\n",
    "    print(f\"- Perfect Predictions: {stats['perfect']} ({stats['perfect']/len(values)*100:.2f}%)\")\n",
    "\n"
   ]
  },
  {
   "cell_type": "code",
   "execution_count": null,
   "id": "ffa74880",
   "metadata": {},
   "outputs": [],
   "source": [
    "show_state(results_df[\"metrics\"])"
   ]
  },
  {
   "cell_type": "code",
   "execution_count": null,
   "id": "1932187e",
   "metadata": {},
   "outputs": [],
   "source": [
    "print(results_df)"
   ]
  }
 ],
 "metadata": {
  "kernelspec": {
   "display_name": ".venv",
   "language": "python",
   "name": "python3"
  },
  "language_info": {
   "codemirror_mode": {
    "name": "ipython",
    "version": 3
   },
   "file_extension": ".py",
   "mimetype": "text/x-python",
   "name": "python",
   "nbconvert_exporter": "python",
   "pygments_lexer": "ipython3",
   "version": "3.11.9"
  }
 },
 "nbformat": 4,
 "nbformat_minor": 5
}
