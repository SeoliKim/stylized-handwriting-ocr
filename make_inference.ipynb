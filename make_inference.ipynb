{
 "cells": [
  {
   "cell_type": "markdown",
   "id": "5f28f4eb-04a4-4fcb-a8fb-edd9bb1da9f8",
   "metadata": {},
   "source": [
    "## Step 1. Prepare Dataset"
   ]
  },
  {
   "cell_type": "markdown",
   "id": "59e3e67b-4223-4755-b7f2-0b7718ba0218",
   "metadata": {},
   "source": [
    "### 1.1 Loading the Image Data"
   ]
  },
  {
   "cell_type": "code",
   "execution_count": 1,
   "id": "9aaeca27-793b-4000-9f6b-b6a51debd4b5",
   "metadata": {},
   "outputs": [
    {
     "name": "stdout",
     "output_type": "stream",
     "text": [
      "Current directory: /common/users/sk2779/df_words\n"
     ]
    }
   ],
   "source": [
    "import os\n",
    "\n",
    "# Change to your desired directory\n",
    "os.chdir('/common/users/sk2779/df_words') # change $USER to netid\n",
    "\n",
    "# Confirm it's changed\n",
    "print(\"Current directory:\", os.getcwd())"
   ]
  },
  {
   "cell_type": "code",
   "execution_count": 2,
   "id": "d3745fd7-48a8-461e-9780-b5e110b5b45a",
   "metadata": {},
   "outputs": [],
   "source": [
    "import pickle\n",
    "\n",
    "with open('./dfwords_0_20000.pkl', 'rb') as file:\n",
    "    loaded_dfwords1 = pickle.load(file)\n",
    "\n",
    "with open('./dfwords_20000_40000.pkl', 'rb') as file:\n",
    "    loaded_dfwords2 = pickle.load(file)\n",
    "\n",
    "with open('./dfwords_40000_60000.pkl', 'rb') as file:\n",
    "    loaded_dfwords3 = pickle.load(file)\n",
    "\n",
    "with open('./dfwords_60000_80000.pkl', 'rb') as file:\n",
    "    loaded_dfwords4 = pickle.load(file)\n",
    "\n",
    "with open('./dfwords_80000_100000.pkl', 'rb') as file:\n",
    "    loaded_dfwords5 = pickle.load(file)\n",
    "\n",
    "with open('./dfwords_100000_120000.pkl', 'rb') as file:\n",
    "    loaded_dfwords6 = pickle.load(file)\n",
    "\n",
    "with open('./dfwords_120000_140000.pkl', 'rb') as file:\n",
    "    loaded_dfwords7 = pickle.load(file)\n",
    "\n",
    "with open('./dfwords_140000_160000.pkl', 'rb') as file:\n",
    "    loaded_dfwords8 = pickle.load(file)\n",
    "\n",
    "with open('./dfwords_160000_180000.pkl', 'rb') as file:\n",
    "    loaded_dfwords9 = pickle.load(file)\n",
    "\n",
    "with open('./dfwords_180000_200000.pkl', 'rb') as file:\n",
    "    loaded_dfwords10 = pickle.load(file)\n",
    "\n",
    "with open('./dfwords_200000_227055.pkl', 'rb') as file:\n",
    "    loaded_dfwords11 = pickle.load(file)"
   ]
  },
  {
   "cell_type": "code",
   "execution_count": 3,
   "id": "7410eee9-1cdb-4dae-b9eb-b8af757900a3",
   "metadata": {},
   "outputs": [],
   "source": [
    "import pandas as pd\n",
    "\n",
    "loaded_dfwords = pd.concat([loaded_dfwords1, loaded_dfwords2], ignore_index=True)  # vertical stack\n",
    "loaded_dfwords = pd.concat([loaded_dfwords, loaded_dfwords3], ignore_index=True)  # vertical stack\n",
    "loaded_dfwords = pd.concat([loaded_dfwords, loaded_dfwords4], ignore_index=True)  # vertical stack\n",
    "loaded_dfwords = pd.concat([loaded_dfwords, loaded_dfwords5], ignore_index=True)  # vertical stack\n",
    "loaded_dfwords = pd.concat([loaded_dfwords, loaded_dfwords6], ignore_index=True)  # vertical stack\n",
    "loaded_dfwords = pd.concat([loaded_dfwords, loaded_dfwords7], ignore_index=True)  # vertical stack\n",
    "loaded_dfwords = pd.concat([loaded_dfwords, loaded_dfwords8], ignore_index=True)  # vertical stack\n",
    "loaded_dfwords = pd.concat([loaded_dfwords, loaded_dfwords9], ignore_index=True)  # vertical stack\n",
    "loaded_dfwords = pd.concat([loaded_dfwords, loaded_dfwords10], ignore_index=True)  # vertical stack\n",
    "loaded_dfwords = pd.concat([loaded_dfwords, loaded_dfwords11], ignore_index=True)  # vertical stack"
   ]
  },
  {
   "cell_type": "code",
   "execution_count": 4,
   "id": "2f31872e-e673-4a3f-903c-bafa28c70c40",
   "metadata": {},
   "outputs": [
    {
     "name": "stdout",
     "output_type": "stream",
     "text": [
      "<class 'pandas.core.frame.DataFrame'>\n",
      "RangeIndex: 227055 entries, 0 to 227054\n",
      "Data columns (total 3 columns):\n",
      " #   Column  Non-Null Count   Dtype \n",
      "---  ------  --------------   ----- \n",
      " 0   id      227055 non-null  object\n",
      " 1   text    227055 non-null  object\n",
      " 2   image   227055 non-null  object\n",
      "dtypes: object(3)\n",
      "memory usage: 5.2+ MB\n"
     ]
    }
   ],
   "source": [
    "loaded_dfwords.info()"
   ]
  },
  {
   "cell_type": "code",
   "execution_count": 5,
   "id": "6e5b9737-9f5c-4ef6-8541-6f9bd835650c",
   "metadata": {},
   "outputs": [
    {
     "data": {
      "text/html": [
       "<div>\n",
       "<style scoped>\n",
       "    .dataframe tbody tr th:only-of-type {\n",
       "        vertical-align: middle;\n",
       "    }\n",
       "\n",
       "    .dataframe tbody tr th {\n",
       "        vertical-align: top;\n",
       "    }\n",
       "\n",
       "    .dataframe thead th {\n",
       "        text-align: right;\n",
       "    }\n",
       "</style>\n",
       "<table border=\"1\" class=\"dataframe\">\n",
       "  <thead>\n",
       "    <tr style=\"text-align: right;\">\n",
       "      <th></th>\n",
       "      <th>id</th>\n",
       "      <th>text</th>\n",
       "      <th>image</th>\n",
       "    </tr>\n",
       "  </thead>\n",
       "  <tbody>\n",
       "    <tr>\n",
       "      <th>0</th>\n",
       "      <td>7u2pNft</td>\n",
       "      <td>4</td>\n",
       "      <td>[[[211, 209, 208], [210, 208, 207], [211, 209,...</td>\n",
       "    </tr>\n",
       "    <tr>\n",
       "      <th>1</th>\n",
       "      <td>EHXbhtL</td>\n",
       "      <td>↳</td>\n",
       "      <td>[[[187, 166, 139], [188, 167, 140], [190, 169,...</td>\n",
       "    </tr>\n",
       "    <tr>\n",
       "      <th>2</th>\n",
       "      <td>EHXbhtL</td>\n",
       "      <td>co</td>\n",
       "      <td>[[[188, 164, 134], [188, 164, 134], [189, 165,...</td>\n",
       "    </tr>\n",
       "  </tbody>\n",
       "</table>\n",
       "</div>"
      ],
      "text/plain": [
       "        id text                                              image\n",
       "0  7u2pNft    4  [[[211, 209, 208], [210, 208, 207], [211, 209,...\n",
       "1  EHXbhtL    ↳  [[[187, 166, 139], [188, 167, 140], [190, 169,...\n",
       "2  EHXbhtL   co  [[[188, 164, 134], [188, 164, 134], [189, 165,..."
      ]
     },
     "execution_count": 5,
     "metadata": {},
     "output_type": "execute_result"
    }
   ],
   "source": [
    "loaded_dfwords.head(3)"
   ]
  },
  {
   "cell_type": "markdown",
   "id": "40cd39ed-8ff9-47bb-815e-254681d06606",
   "metadata": {},
   "source": [
    "### 1.2 Loading the Testing Data"
   ]
  },
  {
   "cell_type": "code",
   "execution_count": 6,
   "id": "bb72ab6c-d249-4d91-b21a-cb89bf1c1c7c",
   "metadata": {},
   "outputs": [
    {
     "name": "stdout",
     "output_type": "stream",
     "text": [
      "Current directory: /common/home/sk2779/courses/cs439/stylized-ocr\n"
     ]
    }
   ],
   "source": [
    "import os\n",
    "\n",
    "# Change to your desired directory\n",
    "os.chdir('/common/home/sk2779/courses/cs439/stylized-ocr') # change $USER to netid\n",
    "\n",
    "# Confirm it's changed\n",
    "print(\"Current directory:\", os.getcwd())"
   ]
  },
  {
   "cell_type": "code",
   "execution_count": 7,
   "id": "a8570c0e-2a99-4d43-852f-eb304bb8bd44",
   "metadata": {},
   "outputs": [],
   "source": [
    "df_test_info= pd.read_csv(\"dataset_info/df_test_info.csv\") "
   ]
  },
  {
   "cell_type": "code",
   "execution_count": 8,
   "id": "2ea35496-170b-4713-ae52-9cbf18f72726",
   "metadata": {},
   "outputs": [
    {
     "data": {
      "text/html": [
       "<div>\n",
       "<style scoped>\n",
       "    .dataframe tbody tr th:only-of-type {\n",
       "        vertical-align: middle;\n",
       "    }\n",
       "\n",
       "    .dataframe tbody tr th {\n",
       "        vertical-align: top;\n",
       "    }\n",
       "\n",
       "    .dataframe thead th {\n",
       "        text-align: right;\n",
       "    }\n",
       "</style>\n",
       "<table border=\"1\" class=\"dataframe\">\n",
       "  <thead>\n",
       "    <tr style=\"text-align: right;\">\n",
       "      <th></th>\n",
       "      <th>word_idx</th>\n",
       "      <th>id</th>\n",
       "      <th>text</th>\n",
       "    </tr>\n",
       "  </thead>\n",
       "  <tbody>\n",
       "    <tr>\n",
       "      <th>0</th>\n",
       "      <td>0</td>\n",
       "      <td>7u2pNft</td>\n",
       "      <td>4</td>\n",
       "    </tr>\n",
       "    <tr>\n",
       "      <th>1</th>\n",
       "      <td>274</td>\n",
       "      <td>FXwDU08</td>\n",
       "      <td>Funk</td>\n",
       "    </tr>\n",
       "    <tr>\n",
       "      <th>2</th>\n",
       "      <td>275</td>\n",
       "      <td>FXwDU08</td>\n",
       "      <td>adelic</td>\n",
       "    </tr>\n",
       "    <tr>\n",
       "      <th>3</th>\n",
       "      <td>276</td>\n",
       "      <td>FXwDU08</td>\n",
       "      <td>or</td>\n",
       "    </tr>\n",
       "    <tr>\n",
       "      <th>4</th>\n",
       "      <td>277</td>\n",
       "      <td>FXwDU08</td>\n",
       "      <td>Brain</td>\n",
       "    </tr>\n",
       "  </tbody>\n",
       "</table>\n",
       "</div>"
      ],
      "text/plain": [
       "   word_idx       id    text\n",
       "0         0  7u2pNft       4\n",
       "1       274  FXwDU08    Funk\n",
       "2       275  FXwDU08  adelic\n",
       "3       276  FXwDU08      or\n",
       "4       277  FXwDU08   Brain"
      ]
     },
     "execution_count": 8,
     "metadata": {},
     "output_type": "execute_result"
    }
   ],
   "source": [
    "df_test_info.head()"
   ]
  },
  {
   "cell_type": "code",
   "execution_count": 9,
   "id": "f696e9f5-8867-4c3c-aad4-34cf683709e4",
   "metadata": {},
   "outputs": [],
   "source": [
    "df_test_info_premerge= df_test_info.drop(['id', 'text'], axis=1)"
   ]
  },
  {
   "cell_type": "code",
   "execution_count": 10,
   "id": "ab1c354f-91be-4127-93d7-685adfa18253",
   "metadata": {},
   "outputs": [],
   "source": [
    "df_test= pd.merge(\n",
    "    loaded_dfwords.reset_index(), \n",
    "    df_test_info_premerge, \n",
    "    left_on='index', \n",
    "    right_on='word_idx',\n",
    "    how='right'  # Keeps all rows from df1\n",
    ")"
   ]
  },
  {
   "cell_type": "code",
   "execution_count": 11,
   "id": "26030f7e-082f-400c-a158-fdd7870f6a24",
   "metadata": {},
   "outputs": [
    {
     "name": "stdout",
     "output_type": "stream",
     "text": [
      "<class 'pandas.core.frame.DataFrame'>\n",
      "RangeIndex: 40400 entries, 0 to 40399\n",
      "Data columns (total 5 columns):\n",
      " #   Column    Non-Null Count  Dtype \n",
      "---  ------    --------------  ----- \n",
      " 0   index     40400 non-null  int64 \n",
      " 1   id        40400 non-null  object\n",
      " 2   text      40400 non-null  object\n",
      " 3   image     40400 non-null  object\n",
      " 4   word_idx  40400 non-null  int64 \n",
      "dtypes: int64(2), object(3)\n",
      "memory usage: 1.5+ MB\n"
     ]
    }
   ],
   "source": [
    "df_test.info()"
   ]
  },
  {
   "cell_type": "code",
   "execution_count": 12,
   "id": "1b058d68-81ce-4a15-b387-169a1a014aab",
   "metadata": {},
   "outputs": [
    {
     "data": {
      "text/html": [
       "<div>\n",
       "<style scoped>\n",
       "    .dataframe tbody tr th:only-of-type {\n",
       "        vertical-align: middle;\n",
       "    }\n",
       "\n",
       "    .dataframe tbody tr th {\n",
       "        vertical-align: top;\n",
       "    }\n",
       "\n",
       "    .dataframe thead th {\n",
       "        text-align: right;\n",
       "    }\n",
       "</style>\n",
       "<table border=\"1\" class=\"dataframe\">\n",
       "  <thead>\n",
       "    <tr style=\"text-align: right;\">\n",
       "      <th></th>\n",
       "      <th>index</th>\n",
       "      <th>id</th>\n",
       "      <th>text</th>\n",
       "      <th>image</th>\n",
       "      <th>word_idx</th>\n",
       "    </tr>\n",
       "  </thead>\n",
       "  <tbody>\n",
       "    <tr>\n",
       "      <th>0</th>\n",
       "      <td>0</td>\n",
       "      <td>7u2pNft</td>\n",
       "      <td>4</td>\n",
       "      <td>[[[211, 209, 208], [210, 208, 207], [211, 209,...</td>\n",
       "      <td>0</td>\n",
       "    </tr>\n",
       "    <tr>\n",
       "      <th>1</th>\n",
       "      <td>274</td>\n",
       "      <td>FXwDU08</td>\n",
       "      <td>Funk</td>\n",
       "      <td>[[[126, 145, 152], [124, 143, 150], [121, 140,...</td>\n",
       "      <td>274</td>\n",
       "    </tr>\n",
       "    <tr>\n",
       "      <th>2</th>\n",
       "      <td>275</td>\n",
       "      <td>FXwDU08</td>\n",
       "      <td>adelic</td>\n",
       "      <td>[[[136, 154, 165], [140, 159, 169], [133, 152,...</td>\n",
       "      <td>275</td>\n",
       "    </tr>\n",
       "    <tr>\n",
       "      <th>3</th>\n",
       "      <td>276</td>\n",
       "      <td>FXwDU08</td>\n",
       "      <td>or</td>\n",
       "      <td>[[[157, 177, 188], [157, 177, 188], [157, 177,...</td>\n",
       "      <td>276</td>\n",
       "    </tr>\n",
       "    <tr>\n",
       "      <th>4</th>\n",
       "      <td>277</td>\n",
       "      <td>FXwDU08</td>\n",
       "      <td>Brain</td>\n",
       "      <td>[[[180, 198, 215], [179, 197, 215], [181, 198,...</td>\n",
       "      <td>277</td>\n",
       "    </tr>\n",
       "  </tbody>\n",
       "</table>\n",
       "</div>"
      ],
      "text/plain": [
       "   index       id    text                                              image  \\\n",
       "0      0  7u2pNft       4  [[[211, 209, 208], [210, 208, 207], [211, 209,...   \n",
       "1    274  FXwDU08    Funk  [[[126, 145, 152], [124, 143, 150], [121, 140,...   \n",
       "2    275  FXwDU08  adelic  [[[136, 154, 165], [140, 159, 169], [133, 152,...   \n",
       "3    276  FXwDU08      or  [[[157, 177, 188], [157, 177, 188], [157, 177,...   \n",
       "4    277  FXwDU08   Brain  [[[180, 198, 215], [179, 197, 215], [181, 198,...   \n",
       "\n",
       "   word_idx  \n",
       "0         0  \n",
       "1       274  \n",
       "2       275  \n",
       "3       276  \n",
       "4       277  "
      ]
     },
     "execution_count": 12,
     "metadata": {},
     "output_type": "execute_result"
    }
   ],
   "source": [
    "df_test.head()"
   ]
  },
  {
   "cell_type": "markdown",
   "id": "bb5466ec-e955-4b2f-a107-8ed87c105aa8",
   "metadata": {},
   "source": [
    "## Step 2. Make Inference of the IAM-fine-tuned Base Model"
   ]
  },
  {
   "cell_type": "markdown",
   "id": "33a2c6f1-cf1b-4159-9e8a-af5cec92a26a",
   "metadata": {},
   "source": [
    "### 2.1 Setup Target Model"
   ]
  },
  {
   "cell_type": "code",
   "execution_count": 13,
   "id": "b3045304-5329-4540-ab62-67ce973b2637",
   "metadata": {
    "scrolled": true
   },
   "outputs": [
    {
     "name": "stderr",
     "output_type": "stream",
     "text": [
      "Using a slow image processor as `use_fast` is unset and a slow processor was saved with this model. `use_fast=True` will be the default behavior in v4.52, even if the model was saved with a slow processor. This will result in minor differences in outputs. You'll still be able to use a slow processor with `use_fast=False`.\n",
      "Config of the encoder: <class 'transformers.models.vit.modeling_vit.ViTModel'> is overwritten by shared encoder config: ViTConfig {\n",
      "  \"attention_probs_dropout_prob\": 0.0,\n",
      "  \"encoder_stride\": 16,\n",
      "  \"hidden_act\": \"gelu\",\n",
      "  \"hidden_dropout_prob\": 0.0,\n",
      "  \"hidden_size\": 768,\n",
      "  \"image_size\": 384,\n",
      "  \"initializer_range\": 0.02,\n",
      "  \"intermediate_size\": 3072,\n",
      "  \"layer_norm_eps\": 1e-12,\n",
      "  \"model_type\": \"vit\",\n",
      "  \"num_attention_heads\": 12,\n",
      "  \"num_channels\": 3,\n",
      "  \"num_hidden_layers\": 12,\n",
      "  \"patch_size\": 16,\n",
      "  \"pooler_act\": \"tanh\",\n",
      "  \"pooler_output_size\": 768,\n",
      "  \"qkv_bias\": false,\n",
      "  \"torch_dtype\": \"float32\",\n",
      "  \"transformers_version\": \"4.51.3\"\n",
      "}\n",
      "\n",
      "Config of the decoder: <class 'transformers.models.trocr.modeling_trocr.TrOCRForCausalLM'> is overwritten by shared decoder config: TrOCRConfig {\n",
      "  \"activation_dropout\": 0.0,\n",
      "  \"activation_function\": \"gelu\",\n",
      "  \"add_cross_attention\": true,\n",
      "  \"attention_dropout\": 0.0,\n",
      "  \"bos_token_id\": 0,\n",
      "  \"classifier_dropout\": 0.0,\n",
      "  \"cross_attention_hidden_size\": 768,\n",
      "  \"d_model\": 1024,\n",
      "  \"decoder_attention_heads\": 16,\n",
      "  \"decoder_ffn_dim\": 4096,\n",
      "  \"decoder_layerdrop\": 0.0,\n",
      "  \"decoder_layers\": 12,\n",
      "  \"decoder_start_token_id\": 2,\n",
      "  \"dropout\": 0.1,\n",
      "  \"eos_token_id\": 2,\n",
      "  \"init_std\": 0.02,\n",
      "  \"is_decoder\": true,\n",
      "  \"layernorm_embedding\": true,\n",
      "  \"max_position_embeddings\": 512,\n",
      "  \"model_type\": \"trocr\",\n",
      "  \"pad_token_id\": 1,\n",
      "  \"scale_embedding\": false,\n",
      "  \"torch_dtype\": \"float32\",\n",
      "  \"transformers_version\": \"4.51.3\",\n",
      "  \"use_cache\": false,\n",
      "  \"use_learned_position_embeddings\": true,\n",
      "  \"vocab_size\": 50265\n",
      "}\n",
      "\n",
      "Some weights of VisionEncoderDecoderModel were not initialized from the model checkpoint at microsoft/trocr-base-handwritten and are newly initialized: ['encoder.pooler.dense.bias', 'encoder.pooler.dense.weight']\n",
      "You should probably TRAIN this model on a down-stream task to be able to use it for predictions and inference.\n"
     ]
    }
   ],
   "source": [
    "# get targetted model\n",
    "from transformers import TrOCRProcessor, VisionEncoderDecoderModel\n",
    "processor = TrOCRProcessor.from_pretrained('microsoft/trocr-base-handwritten')\n",
    "model = VisionEncoderDecoderModel.from_pretrained('microsoft/trocr-base-handwritten')"
   ]
  },
  {
   "cell_type": "markdown",
   "id": "51e4358c-31b4-491a-938f-4878077f9f0c",
   "metadata": {},
   "source": [
    "### 2.2 Do Inference- OCRing"
   ]
  },
  {
   "cell_type": "code",
   "execution_count": 15,
   "id": "93ecd289-6a3a-45a3-be17-d9767626ff36",
   "metadata": {},
   "outputs": [
    {
     "name": "stderr",
     "output_type": "stream",
     "text": [
      "Processing batches: 100%|██████████| 13/13 [00:37<00:00,  2.89s/it]\n"
     ]
    }
   ],
   "source": [
    "from tqdm import tqdm\n",
    "from PIL import Image\n",
    "def readText_batch(df, indices, model, processor):\n",
    "    \"\"\"Process multiple images at once\"\"\"\n",
    "    images= [df['image'][idx]for idx in indices]\n",
    "    pixel_values = processor(images=images, return_tensors=\"pt\").pixel_values\n",
    "    generated_ids = model.generate(pixel_values)\n",
    "    return processor.batch_decode(generated_ids, skip_special_tokens=True)\n",
    "\n",
    "def process_all_rows_batched(df, model, processor, batch_size=8):\n",
    "    results = []\n",
    "    for i in tqdm(range(0, len(df), batch_size), desc=\"Processing batches\"):\n",
    "        batch_indices = range(i, min(i+batch_size, len(df)))\n",
    "        try:\n",
    "            batch_texts = readText_batch(df, batch_indices,model, processor)\n",
    "            for idx, text in zip(batch_indices, batch_texts):\n",
    "                results.append({\n",
    "                    'id': df['id'][idx],\n",
    "                    'true_text': df['text'][idx],\n",
    "                    'predicted_text': text\n",
    "                })\n",
    "        except Exception as e:\n",
    "            print(f\"Error in batch {i//batch_size}: {str(e)}\")\n",
    "            for idx in batch_indices:\n",
    "                results.append({\n",
    "                    'id': df['id'][idx],\n",
    "                    'true_text': df['text'][idx],\n",
    "                    'predicted_text': None,\n",
    "                    'error': str(e)\n",
    "                })\n",
    "    return pd.DataFrame(results)\n",
    "\n",
    "# Usage (best for GPU utilization)\n",
    "results_df = process_all_rows_batched(df_test, model_iam, processor_iam)"
   ]
  },
  {
   "cell_type": "markdown",
   "id": "446bec51-f8fb-459a-9c95-508d453907cf",
   "metadata": {},
   "source": [
    "### Step 3. Evalute its performance"
   ]
  },
  {
   "cell_type": "markdown",
   "id": "cabe6130-b416-4cf9-b2ae-2db8c5d12568",
   "metadata": {},
   "source": [
    "### 3.1 Define Metrics"
   ]
  },
  {
   "cell_type": "code",
   "execution_count": 21,
   "id": "a51ca483-576b-473c-9e07-e1e40f2dc5ff",
   "metadata": {},
   "outputs": [],
   "source": [
    "from tqdm import tqdm\n",
    "from evaluate import load\n",
    "cer = load(\"cer\")\n",
    "\n",
    "def compute_metrics(pred_str, label_str):\n",
    "    pred_str=pred_str.strip()\n",
    "    label_str=label_str.strip()\n",
    "    try: \n",
    "        score = cer.compute(predictions=[pred_str], references=[label_str])\n",
    "        return score\n",
    "    except Exception as e:\n",
    "        print(\"error\", e)\n",
    "        print(type(pred_str), len(pred_str), pred_str)\n",
    "        print(type(label_str), len(label_str), label_str)\n",
    "        return None"
   ]
  },
  {
   "cell_type": "code",
   "execution_count": 22,
   "id": "c8a9f92d-5d1f-4f86-8429-079ae10ee1c4",
   "metadata": {},
   "outputs": [
    {
     "name": "stderr",
     "output_type": "stream",
     "text": [
      "100%|██████████| 100/100 [00:00<00:00, 156.41it/s]\n"
     ]
    }
   ],
   "source": [
    "from tqdm import tqdm\n",
    "tqdm.pandas()  # Enable progress_apply for pandas\n",
    "\n",
    "results_df[\"metrics\"] = results_df.progress_apply(\n",
    "    lambda row: compute_metrics(row[\"predicted_text\"], row[\"true_text\"]),\n",
    "    axis=1\n",
    ")"
   ]
  },
  {
   "cell_type": "code",
   "execution_count": 23,
   "id": "4a8b4e64-f555-4864-a343-1de42769bd18",
   "metadata": {},
   "outputs": [
    {
     "data": {
      "text/html": [
       "<div>\n",
       "<style scoped>\n",
       "    .dataframe tbody tr th:only-of-type {\n",
       "        vertical-align: middle;\n",
       "    }\n",
       "\n",
       "    .dataframe tbody tr th {\n",
       "        vertical-align: top;\n",
       "    }\n",
       "\n",
       "    .dataframe thead th {\n",
       "        text-align: right;\n",
       "    }\n",
       "</style>\n",
       "<table border=\"1\" class=\"dataframe\">\n",
       "  <thead>\n",
       "    <tr style=\"text-align: right;\">\n",
       "      <th></th>\n",
       "      <th>id</th>\n",
       "      <th>true_text</th>\n",
       "      <th>predicted_text</th>\n",
       "      <th>metrics</th>\n",
       "    </tr>\n",
       "  </thead>\n",
       "  <tbody>\n",
       "    <tr>\n",
       "      <th>0</th>\n",
       "      <td>7u2pNft</td>\n",
       "      <td>4</td>\n",
       "      <td>4</td>\n",
       "      <td>0.000000</td>\n",
       "    </tr>\n",
       "    <tr>\n",
       "      <th>1</th>\n",
       "      <td>FXwDU08</td>\n",
       "      <td>Funk</td>\n",
       "      <td>\" Ferripezi</td>\n",
       "      <td>2.500000</td>\n",
       "    </tr>\n",
       "    <tr>\n",
       "      <th>2</th>\n",
       "      <td>FXwDU08</td>\n",
       "      <td>adelic</td>\n",
       "      <td>indel effect</td>\n",
       "      <td>1.333333</td>\n",
       "    </tr>\n",
       "    <tr>\n",
       "      <th>3</th>\n",
       "      <td>FXwDU08</td>\n",
       "      <td>or</td>\n",
       "      <td>odir .</td>\n",
       "      <td>2.000000</td>\n",
       "    </tr>\n",
       "    <tr>\n",
       "      <th>4</th>\n",
       "      <td>FXwDU08</td>\n",
       "      <td>Brain</td>\n",
       "      <td>Brain</td>\n",
       "      <td>0.000000</td>\n",
       "    </tr>\n",
       "  </tbody>\n",
       "</table>\n",
       "</div>"
      ],
      "text/plain": [
       "        id true_text predicted_text   metrics\n",
       "0  7u2pNft         4              4  0.000000\n",
       "1  FXwDU08      Funk    \" Ferripezi  2.500000\n",
       "2  FXwDU08    adelic   indel effect  1.333333\n",
       "3  FXwDU08        or         odir .  2.000000\n",
       "4  FXwDU08     Brain          Brain  0.000000"
      ]
     },
     "execution_count": 23,
     "metadata": {},
     "output_type": "execute_result"
    }
   ],
   "source": [
    "results_df.head()"
   ]
  },
  {
   "cell_type": "code",
   "execution_count": null,
   "id": "9e17b951-9e81-4cf6-9799-a915ace99456",
   "metadata": {},
   "outputs": [],
   "source": [
    "results_df.to_csv(\"eval/model_words_base.csv\")"
   ]
  }
 ],
 "metadata": {
  "kernelspec": {
   "display_name": "Python 3 (ipykernel)",
   "language": "python",
   "name": "python3"
  },
  "language_info": {
   "codemirror_mode": {
    "name": "ipython",
    "version": 3
   },
   "file_extension": ".py",
   "mimetype": "text/x-python",
   "name": "python",
   "nbconvert_exporter": "python",
   "pygments_lexer": "ipython3",
   "version": "3.10.12"
  }
 },
 "nbformat": 4,
 "nbformat_minor": 5
}
