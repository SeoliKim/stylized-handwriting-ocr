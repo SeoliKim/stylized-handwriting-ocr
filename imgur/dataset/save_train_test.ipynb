{
 "cells": [
  {
   "cell_type": "markdown",
   "id": "5f28f4eb-04a4-4fcb-a8fb-edd9bb1da9f8",
   "metadata": {},
   "source": [
    "## Save Training Set and Testing Set\n",
    "Clean the dataset and seperate into training and testing sets. The testing dataset would be used to evalute all models, ensure consistency."
   ]
  },
  {
   "cell_type": "markdown",
   "id": "59e3e67b-4223-4755-b7f2-0b7718ba0218",
   "metadata": {},
   "source": [
    "### 1. Loading the Data"
   ]
  },
  {
   "cell_type": "code",
   "execution_count": null,
   "id": "9f5793fe-bd85-4a13-9f4e-3521b7121d14",
   "metadata": {},
   "outputs": [],
   "source": [
    "import os\n",
    "\n",
    "# Change to desired directory where pickled file of sliced dataset are saved\n",
    "os.chdir('/save/to/path')\n",
    "\n",
    "# Confirm it's changed\n",
    "print(\"Current directory:\", os.getcwd())"
   ]
  },
  {
   "cell_type": "code",
   "execution_count": 2,
   "id": "d3745fd7-48a8-461e-9780-b5e110b5b45a",
   "metadata": {},
   "outputs": [],
   "source": [
    "import pickle\n",
    "\n",
    "with open('./dfwords_0_20000.pkl', 'rb') as file:\n",
    "    loaded_dfwords1 = pickle.load(file)\n",
    "\n",
    "with open('./dfwords_20000_40000.pkl', 'rb') as file:\n",
    "    loaded_dfwords2 = pickle.load(file)\n",
    "\n",
    "with open('./dfwords_40000_60000.pkl', 'rb') as file:\n",
    "    loaded_dfwords3 = pickle.load(file)\n",
    "\n",
    "with open('./dfwords_60000_80000.pkl', 'rb') as file:\n",
    "    loaded_dfwords4 = pickle.load(file)\n",
    "\n",
    "with open('./dfwords_80000_100000.pkl', 'rb') as file:\n",
    "    loaded_dfwords5 = pickle.load(file)\n",
    "\n",
    "with open('./dfwords_100000_120000.pkl', 'rb') as file:\n",
    "    loaded_dfwords6 = pickle.load(file)\n",
    "\n",
    "with open('./dfwords_120000_140000.pkl', 'rb') as file:\n",
    "    loaded_dfwords7 = pickle.load(file)\n",
    "\n",
    "with open('./dfwords_140000_160000.pkl', 'rb') as file:\n",
    "    loaded_dfwords8 = pickle.load(file)\n",
    "\n",
    "with open('./dfwords_160000_180000.pkl', 'rb') as file:\n",
    "    loaded_dfwords9 = pickle.load(file)\n",
    "\n",
    "with open('./dfwords_180000_200000.pkl', 'rb') as file:\n",
    "    loaded_dfwords10 = pickle.load(file)\n",
    "\n",
    "with open('./dfwords_200000_227055.pkl', 'rb') as file:\n",
    "    loaded_dfwords11 = pickle.load(file)"
   ]
  },
  {
   "cell_type": "code",
   "execution_count": 3,
   "id": "7410eee9-1cdb-4dae-b9eb-b8af757900a3",
   "metadata": {},
   "outputs": [],
   "source": [
    "import pandas as pd\n",
    "\n",
    "loaded_dfwords = pd.concat([loaded_dfwords1, loaded_dfwords2], ignore_index=True)  # vertical stack\n",
    "loaded_dfwords = pd.concat([loaded_dfwords, loaded_dfwords3], ignore_index=True)  # vertical stack\n",
    "loaded_dfwords = pd.concat([loaded_dfwords, loaded_dfwords4], ignore_index=True)  # vertical stack\n",
    "loaded_dfwords = pd.concat([loaded_dfwords, loaded_dfwords5], ignore_index=True)  # vertical stack\n",
    "loaded_dfwords = pd.concat([loaded_dfwords, loaded_dfwords6], ignore_index=True)  # vertical stack\n",
    "loaded_dfwords = pd.concat([loaded_dfwords, loaded_dfwords7], ignore_index=True)  # vertical stack\n",
    "loaded_dfwords = pd.concat([loaded_dfwords, loaded_dfwords8], ignore_index=True)  # vertical stack\n",
    "loaded_dfwords = pd.concat([loaded_dfwords, loaded_dfwords9], ignore_index=True)  # vertical stack\n",
    "loaded_dfwords = pd.concat([loaded_dfwords, loaded_dfwords10], ignore_index=True)  # vertical stack\n",
    "loaded_dfwords = pd.concat([loaded_dfwords, loaded_dfwords11], ignore_index=True)  # vertical stack"
   ]
  },
  {
   "cell_type": "code",
   "execution_count": 4,
   "id": "2f31872e-e673-4a3f-903c-bafa28c70c40",
   "metadata": {},
   "outputs": [
    {
     "name": "stdout",
     "output_type": "stream",
     "text": [
      "<class 'pandas.core.frame.DataFrame'>\n",
      "RangeIndex: 227055 entries, 0 to 227054\n",
      "Data columns (total 3 columns):\n",
      " #   Column  Non-Null Count   Dtype \n",
      "---  ------  --------------   ----- \n",
      " 0   id      227055 non-null  object\n",
      " 1   text    227055 non-null  object\n",
      " 2   image   227055 non-null  object\n",
      "dtypes: object(3)\n",
      "memory usage: 5.2+ MB\n"
     ]
    }
   ],
   "source": [
    "loaded_dfwords.info()"
   ]
  },
  {
   "cell_type": "markdown",
   "id": "40cd39ed-8ff9-47bb-815e-254681d06606",
   "metadata": {},
   "source": [
    "### 2. Cleaning the Data"
   ]
  },
  {
   "cell_type": "code",
   "execution_count": 5,
   "id": "9a925a60-56a3-401e-98a6-b45d5ebfb1f6",
   "metadata": {},
   "outputs": [],
   "source": [
    "import matplotlib.pyplot as plt\n",
    "\n",
    "def show_image(row):\n",
    "    plt.imshow(loaded_dfwords.iloc[row,2])\n",
    "    plt.show()"
   ]
  },
  {
   "cell_type": "code",
   "execution_count": 6,
   "id": "ada98afd-f656-45dc-ab5f-edc0f3d24ac8",
   "metadata": {},
   "outputs": [],
   "source": [
    "import re\n",
    "\n",
    "# Patter for all Special characters\n",
    "special_char_pattern = r'[^a-zA-Z0-9\\s]'  # Matches anything not alphanumeric or whitespace\n",
    "\n",
    "# Select rows with special characters\n",
    "special_char_rows = loaded_dfwords[loaded_dfwords['text'].str.contains(special_char_pattern, regex=True, na=False)]"
   ]
  },
  {
   "cell_type": "code",
   "execution_count": 7,
   "id": "f497d1fb-a7fe-4d86-b527-b2d221ee4908",
   "metadata": {},
   "outputs": [
    {
     "data": {
      "text/html": [
       "<div>\n",
       "<style scoped>\n",
       "    .dataframe tbody tr th:only-of-type {\n",
       "        vertical-align: middle;\n",
       "    }\n",
       "\n",
       "    .dataframe tbody tr th {\n",
       "        vertical-align: top;\n",
       "    }\n",
       "\n",
       "    .dataframe thead th {\n",
       "        text-align: right;\n",
       "    }\n",
       "</style>\n",
       "<table border=\"1\" class=\"dataframe\">\n",
       "  <thead>\n",
       "    <tr style=\"text-align: right;\">\n",
       "      <th></th>\n",
       "      <th>id</th>\n",
       "      <th>text</th>\n",
       "      <th>image</th>\n",
       "    </tr>\n",
       "  </thead>\n",
       "  <tbody>\n",
       "    <tr>\n",
       "      <th>1</th>\n",
       "      <td>EHXbhtL</td>\n",
       "      <td>↳</td>\n",
       "      <td>[[[187, 166, 139], [188, 167, 140], [190, 169,...</td>\n",
       "    </tr>\n",
       "    <tr>\n",
       "      <th>3</th>\n",
       "      <td>EHXbhtL</td>\n",
       "      <td>↳</td>\n",
       "      <td>[[[180, 161, 134], [181, 162, 135], [184, 163,...</td>\n",
       "    </tr>\n",
       "    <tr>\n",
       "      <th>4</th>\n",
       "      <td>EHXbhtL</td>\n",
       "      <td>.</td>\n",
       "      <td>[[[189, 167, 142], [189, 167, 142], [189, 167,...</td>\n",
       "    </tr>\n",
       "    <tr>\n",
       "      <th>5</th>\n",
       "      <td>EHXbhtL</td>\n",
       "      <td>-bey</td>\n",
       "      <td>[[[159, 144, 118], [159, 144, 118], [159, 144,...</td>\n",
       "    </tr>\n",
       "    <tr>\n",
       "      <th>6</th>\n",
       "      <td>EHXbhtL</td>\n",
       "      <td>.</td>\n",
       "      <td>[[[165, 151, 123], [164, 150, 122], [162, 148,...</td>\n",
       "    </tr>\n",
       "  </tbody>\n",
       "</table>\n",
       "</div>"
      ],
      "text/plain": [
       "        id  text                                              image\n",
       "1  EHXbhtL     ↳  [[[187, 166, 139], [188, 167, 140], [190, 169,...\n",
       "3  EHXbhtL     ↳  [[[180, 161, 134], [181, 162, 135], [184, 163,...\n",
       "4  EHXbhtL     .  [[[189, 167, 142], [189, 167, 142], [189, 167,...\n",
       "5  EHXbhtL  -bey  [[[159, 144, 118], [159, 144, 118], [159, 144,...\n",
       "6  EHXbhtL     .  [[[165, 151, 123], [164, 150, 122], [162, 148,..."
      ]
     },
     "execution_count": 7,
     "metadata": {},
     "output_type": "execute_result"
    }
   ],
   "source": [
    "special_char_rows.head()"
   ]
  },
  {
   "cell_type": "code",
   "execution_count": 8,
   "id": "2be2551d-6035-4083-b01a-ff0b258848d7",
   "metadata": {},
   "outputs": [
    {
     "name": "stdout",
     "output_type": "stream",
     "text": [
      "            id text                                              image\n",
      "17743  A3b6IRB   #2  [[[231, 222, 209], [230, 221, 208], [230, 220,...\n",
      "17747  A3b6IRB   W/  [[[250, 232, 214], [251, 234, 215], [252, 235,...\n"
     ]
    }
   ],
   "source": [
    "print(special_char_rows.loc[special_char_rows['id'] == 'A3b6IRB',])"
   ]
  },
  {
   "cell_type": "code",
   "execution_count": 9,
   "id": "5b0505d8-2549-42c5-9d7a-aacb96849a32",
   "metadata": {},
   "outputs": [
    {
     "name": "stdout",
     "output_type": "stream",
     "text": [
      "            id     text                                              image\n",
      "17742  A3b6IRB  SURGERY  [[[227, 220, 209], [229, 220, 210], [230, 221,...\n",
      "17743  A3b6IRB       #2  [[[231, 222, 209], [230, 221, 208], [230, 220,...\n",
      "17744  A3b6IRB     N2O2  [[[249, 235, 213], [248, 234, 212], [248, 234,...\n",
      "17745  A3b6IRB    CRASH  [[[102, 93, 133], [96, 87, 125], [91, 77, 118]...\n",
      "17746  A3b6IRB     CART  [[[72, 68, 113], [72, 69, 109], [81, 76, 110],...\n",
      "17747  A3b6IRB       W/  [[[250, 232, 214], [251, 234, 215], [252, 235,...\n",
      "17748  A3b6IRB   SHARPS  [[[251, 233, 216], [251, 233, 216], [250, 232,...\n",
      "17749  A3b6IRB    WHEEL  [[[170, 168, 192], [128, 126, 156], [112, 109,...\n",
      "17750  A3b6IRB   CHAIRS  [[[245, 230, 214], [243, 227, 214], [242, 226,...\n",
      "17751  A3b6IRB      SED  [[[121, 117, 154], [113, 109, 149], [103, 100,...\n",
      "17752  A3b6IRB     ATED  [[[204, 199, 210], [188, 183, 204], [149, 145,...\n",
      "17753  A3b6IRB  PATIENT  [[[158, 148, 174], [188, 176, 191], [196, 185,...\n",
      "17754  A3b6IRB     EXIT  [[[66, 54, 109], [63, 54, 111], [62, 56, 110],...\n",
      "17755  A3b6IRB       OO  [[[80, 57, 100], [83, 58, 105], [89, 64, 112],...\n",
      "17756  A3b6IRB       OO  [[[94, 64, 107], [93, 63, 103], [97, 67, 103],...\n",
      "17757  A3b6IRB       OO  [[[191, 138, 161], [200, 149, 166], [211, 164,...\n",
      "17758  A3b6IRB      RGE  [[[0, 0, 0], [0, 0, 0], [0, 0, 0], [0, 0, 0], ...\n"
     ]
    }
   ],
   "source": [
    "print(loaded_dfwords.loc[loaded_dfwords['id'] == 'A3b6IRB',])"
   ]
  },
  {
   "cell_type": "code",
   "execution_count": 10,
   "id": "d4040a5a-2c6b-4942-81cc-78890fa1eb74",
   "metadata": {},
   "outputs": [],
   "source": [
    "allowed_pattern = r'^[\\w\\s\\.,!?;:\\-+*/=()\\[\\]{}<>@#\\$%^&_\\'\"\\t\\n]+$'\n",
    "mask = ~loaded_dfwords['text'].str.contains(allowed_pattern, regex=True)\n",
    "non_standard_rows = loaded_dfwords[mask]"
   ]
  },
  {
   "cell_type": "code",
   "execution_count": 11,
   "id": "a53d01cd-5002-49da-bc64-e19ea134d1c5",
   "metadata": {},
   "outputs": [
    {
     "data": {
      "text/html": [
       "<div>\n",
       "<style scoped>\n",
       "    .dataframe tbody tr th:only-of-type {\n",
       "        vertical-align: middle;\n",
       "    }\n",
       "\n",
       "    .dataframe tbody tr th {\n",
       "        vertical-align: top;\n",
       "    }\n",
       "\n",
       "    .dataframe thead th {\n",
       "        text-align: right;\n",
       "    }\n",
       "</style>\n",
       "<table border=\"1\" class=\"dataframe\">\n",
       "  <thead>\n",
       "    <tr style=\"text-align: right;\">\n",
       "      <th></th>\n",
       "      <th>id</th>\n",
       "      <th>text</th>\n",
       "      <th>image</th>\n",
       "    </tr>\n",
       "  </thead>\n",
       "  <tbody>\n",
       "    <tr>\n",
       "      <th>1</th>\n",
       "      <td>EHXbhtL</td>\n",
       "      <td>↳</td>\n",
       "      <td>[[[187, 166, 139], [188, 167, 140], [190, 169,...</td>\n",
       "    </tr>\n",
       "    <tr>\n",
       "      <th>3</th>\n",
       "      <td>EHXbhtL</td>\n",
       "      <td>↳</td>\n",
       "      <td>[[[180, 161, 134], [181, 162, 135], [184, 163,...</td>\n",
       "    </tr>\n",
       "    <tr>\n",
       "      <th>159</th>\n",
       "      <td>fbIRZCU</td>\n",
       "      <td>✓</td>\n",
       "      <td>[[[178, 171, 162], [178, 171, 162], [178, 171,...</td>\n",
       "    </tr>\n",
       "    <tr>\n",
       "      <th>448</th>\n",
       "      <td>17GNoPL</td>\n",
       "      <td>→</td>\n",
       "      <td>[[[162, 188, 164], [162, 188, 164], [160, 186,...</td>\n",
       "    </tr>\n",
       "    <tr>\n",
       "      <th>583</th>\n",
       "      <td>duRozwV</td>\n",
       "      <td>€</td>\n",
       "      <td>[[[107, 107, 116], [109, 109, 118], [113, 115,...</td>\n",
       "    </tr>\n",
       "  </tbody>\n",
       "</table>\n",
       "</div>"
      ],
      "text/plain": [
       "          id text                                              image\n",
       "1    EHXbhtL    ↳  [[[187, 166, 139], [188, 167, 140], [190, 169,...\n",
       "3    EHXbhtL    ↳  [[[180, 161, 134], [181, 162, 135], [184, 163,...\n",
       "159  fbIRZCU    ✓  [[[178, 171, 162], [178, 171, 162], [178, 171,...\n",
       "448  17GNoPL    →  [[[162, 188, 164], [162, 188, 164], [160, 186,...\n",
       "583  duRozwV    €  [[[107, 107, 116], [109, 109, 118], [113, 115,..."
      ]
     },
     "execution_count": 11,
     "metadata": {},
     "output_type": "execute_result"
    }
   ],
   "source": [
    "non_standard_rows.head()"
   ]
  },
  {
   "cell_type": "code",
   "execution_count": 12,
   "id": "b9e9e780-0ec5-4047-8e0a-f248dd3afb16",
   "metadata": {},
   "outputs": [
    {
     "name": "stdout",
     "output_type": "stream",
     "text": [
      "            id    text                                              image\n",
      "17848  sNpIWnz    ·USA  [[[10, 9, 18], [9, 9, 18], [8, 10, 18], [10, 1...\n",
      "17854  sNpIWnz  Japan|  [[[155, 153, 128], [166, 164, 138], [174, 175,...\n",
      "17855  sNpIWnz  Japan|  [[[150, 153, 127], [128, 131, 106], [159, 162,...\n",
      "\n",
      "\n",
      "\n",
      "\n",
      "            id          text  \\\n",
      "17949  hhk8nvy  4\\/22\\/2016.   \n",
      "\n",
      "                                                   image  \n",
      "17949  [[[169, 164, 165], [166, 164, 164], [166, 164,...  \n"
     ]
    }
   ],
   "source": [
    "print(non_standard_rows.loc[non_standard_rows['id'] == 'sNpIWnz',])\n",
    "print(\"\\n\\n\\n\")\n",
    "print(non_standard_rows.loc[non_standard_rows['id'] == 'hhk8nvy',])"
   ]
  },
  {
   "cell_type": "code",
   "execution_count": 13,
   "id": "85c6dc5b-8f26-40fe-9d3c-0dca648f4e76",
   "metadata": {},
   "outputs": [],
   "source": [
    "mask = loaded_dfwords['text'].str.contains(r'\\\\', regex=True)\n",
    "check_rows= loaded_dfwords[mask]"
   ]
  },
  {
   "cell_type": "code",
   "execution_count": 14,
   "id": "b13879fc-095f-43b7-ad97-887bedc2fce7",
   "metadata": {},
   "outputs": [],
   "source": [
    "loaded_dfwords['text'] = loaded_dfwords['text'].str.replace('\\\\/', '/', regex=False)"
   ]
  },
  {
   "cell_type": "code",
   "execution_count": 15,
   "id": "03450d73-c3c6-479e-a3a6-5ea1cb8401d7",
   "metadata": {},
   "outputs": [],
   "source": [
    "mask = ~loaded_dfwords['text'].str.contains(allowed_pattern, regex=True)\n",
    "non_standard_rows2 = loaded_dfwords[mask]"
   ]
  },
  {
   "cell_type": "code",
   "execution_count": 16,
   "id": "d53fed34-7601-4ea8-9f19-22450677186a",
   "metadata": {},
   "outputs": [
    {
     "name": "stdout",
     "output_type": "stream",
     "text": [
      "Words with special character: 2004 , Percentage:  0.008826055361035872\n",
      "Images with special charatcer: 565 , Percentage:  0.07076653306613226\n"
     ]
    }
   ],
   "source": [
    "print(\"Words with special character:\", len(non_standard_rows2), \", Percentage: \", len(non_standard_rows2)/len(loaded_dfwords))\n",
    "print(\"Images with special charatcer:\", len(non_standard_rows2['id'].unique()), \", Percentage: \", len(non_standard_rows2['id'].unique())/len(loaded_dfwords['id'].unique()))"
   ]
  },
  {
   "cell_type": "code",
   "execution_count": 17,
   "id": "cfc85fe7-8168-4412-b128-86fcf0998657",
   "metadata": {},
   "outputs": [],
   "source": [
    "loaded_dfwords=loaded_dfwords[~mask]"
   ]
  },
  {
   "cell_type": "code",
   "execution_count": 18,
   "id": "8254f0e8-c135-45cc-957f-1ab94811e2a4",
   "metadata": {},
   "outputs": [
    {
     "name": "stdout",
     "output_type": "stream",
     "text": [
      "total number of words 225051\n",
      "total number of images 7977\n"
     ]
    }
   ],
   "source": [
    "print(\"total number of words\", len(loaded_dfwords))\n",
    "print(\"total number of images\", len(loaded_dfwords['id'].unique()))"
   ]
  },
  {
   "cell_type": "code",
   "execution_count": 19,
   "id": "cbbba6b3-8e22-4d0b-8811-10d61f31c76e",
   "metadata": {},
   "outputs": [
    {
     "name": "stdout",
     "output_type": "stream",
     "text": [
      "Number of rows with allowed characters: 225051\n"
     ]
    }
   ],
   "source": [
    "# confirm there is no special characters\n",
    "count_matching = loaded_dfwords['text'].str.contains(allowed_pattern, regex=True, na=False).sum()\n",
    "print(f\"Number of rows with allowed characters: {count_matching}\")"
   ]
  },
  {
   "cell_type": "code",
   "execution_count": 20,
   "id": "c875862b-c305-43e9-a435-94aebcd102ad",
   "metadata": {},
   "outputs": [],
   "source": [
    "pattern = r'^[^a-zA-Z0-9]+$'  # Matches strings with no alphanumeric chars at all\n",
    "non_alnum_rows = loaded_dfwords[loaded_dfwords['text'].str.contains(pattern, regex=True, na=False)]"
   ]
  },
  {
   "cell_type": "code",
   "execution_count": 21,
   "id": "1f207856-f41e-42f2-919a-a0927287af6e",
   "metadata": {},
   "outputs": [
    {
     "name": "stdout",
     "output_type": "stream",
     "text": [
      "total number of words 225051\n",
      "total number of images 7977\n"
     ]
    }
   ],
   "source": [
    "print(\"total number of words\", len(loaded_dfwords))\n",
    "print(\"total number of images\", len(loaded_dfwords['id'].unique()))"
   ]
  },
  {
   "cell_type": "code",
   "execution_count": 22,
   "id": "3d632bdd-eee0-4ead-91cd-6db461c1d533",
   "metadata": {
    "scrolled": true
   },
   "outputs": [
    {
     "data": {
      "text/html": [
       "<div>\n",
       "<style scoped>\n",
       "    .dataframe tbody tr th:only-of-type {\n",
       "        vertical-align: middle;\n",
       "    }\n",
       "\n",
       "    .dataframe tbody tr th {\n",
       "        vertical-align: top;\n",
       "    }\n",
       "\n",
       "    .dataframe thead th {\n",
       "        text-align: right;\n",
       "    }\n",
       "</style>\n",
       "<table border=\"1\" class=\"dataframe\">\n",
       "  <thead>\n",
       "    <tr style=\"text-align: right;\">\n",
       "      <th></th>\n",
       "      <th>id</th>\n",
       "      <th>text</th>\n",
       "      <th>image</th>\n",
       "    </tr>\n",
       "  </thead>\n",
       "  <tbody>\n",
       "    <tr>\n",
       "      <th>4</th>\n",
       "      <td>EHXbhtL</td>\n",
       "      <td>.</td>\n",
       "      <td>[[[189, 167, 142], [189, 167, 142], [189, 167,...</td>\n",
       "    </tr>\n",
       "    <tr>\n",
       "      <th>6</th>\n",
       "      <td>EHXbhtL</td>\n",
       "      <td>.</td>\n",
       "      <td>[[[165, 151, 123], [164, 150, 122], [162, 148,...</td>\n",
       "    </tr>\n",
       "    <tr>\n",
       "      <th>7</th>\n",
       "      <td>EHXbhtL</td>\n",
       "      <td>.</td>\n",
       "      <td>[[[194, 170, 140], [192, 168, 138], [191, 167,...</td>\n",
       "    </tr>\n",
       "    <tr>\n",
       "      <th>46</th>\n",
       "      <td>O91MhJ1</td>\n",
       "      <td>=&gt;</td>\n",
       "      <td>[[[135, 146, 148], [136, 148, 149], [137, 148,...</td>\n",
       "    </tr>\n",
       "    <tr>\n",
       "      <th>68</th>\n",
       "      <td>O91MhJ1</td>\n",
       "      <td>+</td>\n",
       "      <td>[[[86, 97, 143], [86, 96, 143], [83, 93, 139],...</td>\n",
       "    </tr>\n",
       "    <tr>\n",
       "      <th>69</th>\n",
       "      <td>O91MhJ1</td>\n",
       "      <td>-</td>\n",
       "      <td>[[[175, 173, 173], [173, 171, 171], [172, 170,...</td>\n",
       "    </tr>\n",
       "    <tr>\n",
       "      <th>72</th>\n",
       "      <td>O91MhJ1</td>\n",
       "      <td>+</td>\n",
       "      <td>[[[65, 77, 124], [96, 105, 148], [128, 137, 17...</td>\n",
       "    </tr>\n",
       "    <tr>\n",
       "      <th>73</th>\n",
       "      <td>O91MhJ1</td>\n",
       "      <td>-</td>\n",
       "      <td>[[[173, 167, 169], [173, 167, 168], [175, 170,...</td>\n",
       "    </tr>\n",
       "    <tr>\n",
       "      <th>74</th>\n",
       "      <td>O91MhJ1</td>\n",
       "      <td>.</td>\n",
       "      <td>[[[62, 90, 16], [69, 94, 21], [71, 96, 23], [7...</td>\n",
       "    </tr>\n",
       "    <tr>\n",
       "      <th>75</th>\n",
       "      <td>O91MhJ1</td>\n",
       "      <td>.</td>\n",
       "      <td>[[[65, 87, 14], [69, 92, 18], [67, 92, 16], [5...</td>\n",
       "    </tr>\n",
       "    <tr>\n",
       "      <th>76</th>\n",
       "      <td>O91MhJ1</td>\n",
       "      <td>.</td>\n",
       "      <td>[[[92, 94, 94], [92, 94, 94], [92, 93, 93], [8...</td>\n",
       "    </tr>\n",
       "    <tr>\n",
       "      <th>93</th>\n",
       "      <td>eLbkWRb</td>\n",
       "      <td>.</td>\n",
       "      <td>[[[225, 228, 233], [223, 226, 231], [220, 223,...</td>\n",
       "    </tr>\n",
       "    <tr>\n",
       "      <th>103</th>\n",
       "      <td>eLbkWRb</td>\n",
       "      <td>.</td>\n",
       "      <td>[[[222, 222, 222], [221, 221, 221], [221, 221,...</td>\n",
       "    </tr>\n",
       "    <tr>\n",
       "      <th>104</th>\n",
       "      <td>eLbkWRb</td>\n",
       "      <td>.</td>\n",
       "      <td>[[[223, 224, 228], [224, 225, 229], [221, 223,...</td>\n",
       "    </tr>\n",
       "    <tr>\n",
       "      <th>105</th>\n",
       "      <td>eLbkWRb</td>\n",
       "      <td>.</td>\n",
       "      <td>[[[228, 227, 229], [228, 227, 229], [228, 227,...</td>\n",
       "    </tr>\n",
       "    <tr>\n",
       "      <th>106</th>\n",
       "      <td>eLbkWRb</td>\n",
       "      <td>.</td>\n",
       "      <td>[[[225, 226, 230], [224, 227, 231], [224, 227,...</td>\n",
       "    </tr>\n",
       "    <tr>\n",
       "      <th>107</th>\n",
       "      <td>eLbkWRb</td>\n",
       "      <td>.</td>\n",
       "      <td>[[[222, 227, 230], [222, 227, 230], [223, 228,...</td>\n",
       "    </tr>\n",
       "    <tr>\n",
       "      <th>108</th>\n",
       "      <td>eLbkWRb</td>\n",
       "      <td>.</td>\n",
       "      <td>[[[207, 212, 215], [209, 214, 217], [210, 215,...</td>\n",
       "    </tr>\n",
       "    <tr>\n",
       "      <th>109</th>\n",
       "      <td>eLbkWRb</td>\n",
       "      <td>.</td>\n",
       "      <td>[[[216, 221, 224], [216, 221, 224], [216, 221,...</td>\n",
       "    </tr>\n",
       "    <tr>\n",
       "      <th>110</th>\n",
       "      <td>eLbkWRb</td>\n",
       "      <td>.</td>\n",
       "      <td>[[[221, 223, 224], [220, 222, 223], [219, 221,...</td>\n",
       "    </tr>\n",
       "  </tbody>\n",
       "</table>\n",
       "</div>"
      ],
      "text/plain": [
       "          id text                                              image\n",
       "4    EHXbhtL    .  [[[189, 167, 142], [189, 167, 142], [189, 167,...\n",
       "6    EHXbhtL    .  [[[165, 151, 123], [164, 150, 122], [162, 148,...\n",
       "7    EHXbhtL    .  [[[194, 170, 140], [192, 168, 138], [191, 167,...\n",
       "46   O91MhJ1   =>  [[[135, 146, 148], [136, 148, 149], [137, 148,...\n",
       "68   O91MhJ1    +  [[[86, 97, 143], [86, 96, 143], [83, 93, 139],...\n",
       "69   O91MhJ1    -  [[[175, 173, 173], [173, 171, 171], [172, 170,...\n",
       "72   O91MhJ1    +  [[[65, 77, 124], [96, 105, 148], [128, 137, 17...\n",
       "73   O91MhJ1    -  [[[173, 167, 169], [173, 167, 168], [175, 170,...\n",
       "74   O91MhJ1    .  [[[62, 90, 16], [69, 94, 21], [71, 96, 23], [7...\n",
       "75   O91MhJ1    .  [[[65, 87, 14], [69, 92, 18], [67, 92, 16], [5...\n",
       "76   O91MhJ1    .  [[[92, 94, 94], [92, 94, 94], [92, 93, 93], [8...\n",
       "93   eLbkWRb    .  [[[225, 228, 233], [223, 226, 231], [220, 223,...\n",
       "103  eLbkWRb    .  [[[222, 222, 222], [221, 221, 221], [221, 221,...\n",
       "104  eLbkWRb    .  [[[223, 224, 228], [224, 225, 229], [221, 223,...\n",
       "105  eLbkWRb    .  [[[228, 227, 229], [228, 227, 229], [228, 227,...\n",
       "106  eLbkWRb    .  [[[225, 226, 230], [224, 227, 231], [224, 227,...\n",
       "107  eLbkWRb    .  [[[222, 227, 230], [222, 227, 230], [223, 228,...\n",
       "108  eLbkWRb    .  [[[207, 212, 215], [209, 214, 217], [210, 215,...\n",
       "109  eLbkWRb    .  [[[216, 221, 224], [216, 221, 224], [216, 221,...\n",
       "110  eLbkWRb    .  [[[221, 223, 224], [220, 222, 223], [219, 221,..."
      ]
     },
     "execution_count": 22,
     "metadata": {},
     "output_type": "execute_result"
    }
   ],
   "source": [
    "non_alnum_rows.head(20)"
   ]
  },
  {
   "cell_type": "code",
   "execution_count": 23,
   "id": "ea4bc930-4491-42d4-baa3-62dcc385a8f6",
   "metadata": {},
   "outputs": [],
   "source": [
    "only_period_rows= loaded_dfwords[loaded_dfwords['text'] == '.']"
   ]
  },
  {
   "cell_type": "code",
   "execution_count": 24,
   "id": "0c0c3563-a750-4747-bcdf-76fa0bde883d",
   "metadata": {},
   "outputs": [],
   "source": [
    "loaded_dfwords = loaded_dfwords[loaded_dfwords['text'] != '.']"
   ]
  },
  {
   "cell_type": "code",
   "execution_count": 25,
   "id": "95fa66af-2707-45f8-87fa-dc3277e6c5ac",
   "metadata": {},
   "outputs": [
    {
     "name": "stdout",
     "output_type": "stream",
     "text": [
      "Words with only one period: 19567 , Percentage:  0.09522395904303985\n",
      "Images with special charatcer: 3762 , Percentage:  0.48058252427184467\n"
     ]
    }
   ],
   "source": [
    "print(\"Words with only one period:\", len(only_period_rows), \", Percentage: \", len(only_period_rows)/len(loaded_dfwords))\n",
    "print(\"Images with special charatcer:\", len(only_period_rows['id'].unique()), \", Percentage: \", len(only_period_rows['id'].unique())/len(loaded_dfwords['id'].unique()))"
   ]
  },
  {
   "cell_type": "code",
   "execution_count": 26,
   "id": "be06f40e-6f89-41b8-9ab3-78670b26c4b4",
   "metadata": {},
   "outputs": [],
   "source": [
    "# check other rows that have ony characters\n",
    "pattern = r'^[^a-zA-Z0-9]+$'  # Matches strings with no alphanumeric chars at all\n",
    "non_alnum_rows2 = loaded_dfwords[loaded_dfwords['text'].str.contains(pattern, regex=True, na=False)]"
   ]
  },
  {
   "cell_type": "code",
   "execution_count": 27,
   "id": "1d544441-7107-493b-8d2d-877f20709bc3",
   "metadata": {},
   "outputs": [
    {
     "data": {
      "text/html": [
       "<div>\n",
       "<style scoped>\n",
       "    .dataframe tbody tr th:only-of-type {\n",
       "        vertical-align: middle;\n",
       "    }\n",
       "\n",
       "    .dataframe tbody tr th {\n",
       "        vertical-align: top;\n",
       "    }\n",
       "\n",
       "    .dataframe thead th {\n",
       "        text-align: right;\n",
       "    }\n",
       "</style>\n",
       "<table border=\"1\" class=\"dataframe\">\n",
       "  <thead>\n",
       "    <tr style=\"text-align: right;\">\n",
       "      <th></th>\n",
       "      <th>id</th>\n",
       "      <th>text</th>\n",
       "      <th>image</th>\n",
       "    </tr>\n",
       "  </thead>\n",
       "  <tbody>\n",
       "    <tr>\n",
       "      <th>46</th>\n",
       "      <td>O91MhJ1</td>\n",
       "      <td>=&gt;</td>\n",
       "      <td>[[[135, 146, 148], [136, 148, 149], [137, 148,...</td>\n",
       "    </tr>\n",
       "    <tr>\n",
       "      <th>68</th>\n",
       "      <td>O91MhJ1</td>\n",
       "      <td>+</td>\n",
       "      <td>[[[86, 97, 143], [86, 96, 143], [83, 93, 139],...</td>\n",
       "    </tr>\n",
       "    <tr>\n",
       "      <th>69</th>\n",
       "      <td>O91MhJ1</td>\n",
       "      <td>-</td>\n",
       "      <td>[[[175, 173, 173], [173, 171, 171], [172, 170,...</td>\n",
       "    </tr>\n",
       "    <tr>\n",
       "      <th>72</th>\n",
       "      <td>O91MhJ1</td>\n",
       "      <td>+</td>\n",
       "      <td>[[[65, 77, 124], [96, 105, 148], [128, 137, 17...</td>\n",
       "    </tr>\n",
       "    <tr>\n",
       "      <th>73</th>\n",
       "      <td>O91MhJ1</td>\n",
       "      <td>-</td>\n",
       "      <td>[[[173, 167, 169], [173, 167, 168], [175, 170,...</td>\n",
       "    </tr>\n",
       "  </tbody>\n",
       "</table>\n",
       "</div>"
      ],
      "text/plain": [
       "         id text                                              image\n",
       "46  O91MhJ1   =>  [[[135, 146, 148], [136, 148, 149], [137, 148,...\n",
       "68  O91MhJ1    +  [[[86, 97, 143], [86, 96, 143], [83, 93, 139],...\n",
       "69  O91MhJ1    -  [[[175, 173, 173], [173, 171, 171], [172, 170,...\n",
       "72  O91MhJ1    +  [[[65, 77, 124], [96, 105, 148], [128, 137, 17...\n",
       "73  O91MhJ1    -  [[[173, 167, 169], [173, 167, 168], [175, 170,..."
      ]
     },
     "execution_count": 27,
     "metadata": {},
     "output_type": "execute_result"
    }
   ],
   "source": [
    "non_alnum_rows2.head()"
   ]
  },
  {
   "cell_type": "markdown",
   "id": "e289af3a-c757-493b-a5ba-ed274414bfc1",
   "metadata": {},
   "source": [
    "### 3. Splitting the Data into Training and Testing Subsets"
   ]
  },
  {
   "cell_type": "code",
   "execution_count": 28,
   "id": "a35baa5f-4657-4390-b532-ee7ab81b6d0b",
   "metadata": {},
   "outputs": [],
   "source": [
    "import numpy as np\n",
    "\n",
    "# Get unique groups\n",
    "unique_images = loaded_dfwords['id'].unique()\n",
    "\n",
    "\n",
    "# Randomly select 10% for test \n",
    "np.random.seed(42)\n",
    "test_images = np.random.choice(unique_images, \n",
    "                              size=int(len(unique_images)*0.2), \n",
    "                              replace=False)"
   ]
  },
  {
   "cell_type": "code",
   "execution_count": 29,
   "id": "991a2758-4458-4533-b933-d77fe786cb7d",
   "metadata": {},
   "outputs": [],
   "source": [
    "test_df = loaded_dfwords[loaded_dfwords['id'].isin(test_images)]\n",
    "training_df = loaded_dfwords[~loaded_dfwords['id'].isin(test_images)]"
   ]
  },
  {
   "cell_type": "code",
   "execution_count": 30,
   "id": "844e759d-5504-4c81-a68c-f7154c2eea5d",
   "metadata": {},
   "outputs": [
    {
     "name": "stdout",
     "output_type": "stream",
     "text": [
      "Words in Train Dataset: 165084 , Percentage:  0.8033910182787954\n",
      "Images in Train Dataset: 6263 , Percentage:  0.8000766479305059\n"
     ]
    }
   ],
   "source": [
    "print(\"Words in Train Dataset:\", len(training_df), \", Percentage: \", len(training_df)/len(loaded_dfwords))\n",
    "print(\"Images in Train Dataset:\", len(training_df['id'].unique()), \", Percentage: \", len(training_df['id'].unique())/len(loaded_dfwords['id'].unique()))"
   ]
  },
  {
   "cell_type": "code",
   "execution_count": 31,
   "id": "a7a6e047-453c-409e-98de-ce5ce73a9e04",
   "metadata": {},
   "outputs": [
    {
     "name": "stdout",
     "output_type": "stream",
     "text": [
      "Words in Test Dataset: 40400 , Percentage:  0.19660898172120458\n",
      "Images in Test Dataset: 1565 , Percentage:  0.19992335206949413\n"
     ]
    }
   ],
   "source": [
    "print(\"Words in Test Dataset:\", len(test_df), \", Percentage: \", len(test_df)/len(loaded_dfwords))\n",
    "print(\"Images in Test Dataset:\", len(test_df['id'].unique()), \", Percentage: \", len(test_df['id'].unique())/len(loaded_dfwords['id'].unique()))"
   ]
  },
  {
   "cell_type": "code",
   "execution_count": 32,
   "id": "ea129db7-c914-46cb-8f3c-79cd8390339f",
   "metadata": {},
   "outputs": [
    {
     "name": "stdout",
     "output_type": "stream",
     "text": [
      "total number of words 205484\n",
      "total number of images 7828\n"
     ]
    }
   ],
   "source": [
    "print(\"total number of words\", len(loaded_dfwords))\n",
    "print(\"total number of images\", len(loaded_dfwords['id'].unique()))"
   ]
  },
  {
   "cell_type": "markdown",
   "id": "2d6b0289-38e3-4c12-8d96-5cb325497b97",
   "metadata": {},
   "source": [
    "### 4. Save Dataset"
   ]
  },
  {
   "cell_type": "code",
   "execution_count": 36,
   "id": "bf80f9c2-7d65-4026-a515-e32362a5eeec",
   "metadata": {},
   "outputs": [],
   "source": [
    "df_train_info = training_df.drop(columns=['image']).reset_index().rename(columns={'index': 'word_idx'})"
   ]
  },
  {
   "cell_type": "code",
   "execution_count": 37,
   "id": "00085d5e-626c-4875-9b8b-6c5bf46317f9",
   "metadata": {},
   "outputs": [],
   "source": [
    "df_test_info = test_df.drop(columns=['image']).reset_index().rename(columns={'index': 'word_idx'})"
   ]
  },
  {
   "cell_type": "code",
   "execution_count": 38,
   "id": "5ac92415-6a1c-4b98-a9f9-2d259ecf03d5",
   "metadata": {},
   "outputs": [
    {
     "data": {
      "text/html": [
       "<div>\n",
       "<style scoped>\n",
       "    .dataframe tbody tr th:only-of-type {\n",
       "        vertical-align: middle;\n",
       "    }\n",
       "\n",
       "    .dataframe tbody tr th {\n",
       "        vertical-align: top;\n",
       "    }\n",
       "\n",
       "    .dataframe thead th {\n",
       "        text-align: right;\n",
       "    }\n",
       "</style>\n",
       "<table border=\"1\" class=\"dataframe\">\n",
       "  <thead>\n",
       "    <tr style=\"text-align: right;\">\n",
       "      <th></th>\n",
       "      <th>word_idx</th>\n",
       "      <th>id</th>\n",
       "      <th>text</th>\n",
       "    </tr>\n",
       "  </thead>\n",
       "  <tbody>\n",
       "    <tr>\n",
       "      <th>0</th>\n",
       "      <td>2</td>\n",
       "      <td>EHXbhtL</td>\n",
       "      <td>co</td>\n",
       "    </tr>\n",
       "    <tr>\n",
       "      <th>1</th>\n",
       "      <td>5</td>\n",
       "      <td>EHXbhtL</td>\n",
       "      <td>-bey</td>\n",
       "    </tr>\n",
       "    <tr>\n",
       "      <th>2</th>\n",
       "      <td>8</td>\n",
       "      <td>O91MhJ1</td>\n",
       "      <td>NORTON'S</td>\n",
       "    </tr>\n",
       "    <tr>\n",
       "      <th>3</th>\n",
       "      <td>9</td>\n",
       "      <td>O91MhJ1</td>\n",
       "      <td>THEORY</td>\n",
       "    </tr>\n",
       "    <tr>\n",
       "      <th>4</th>\n",
       "      <td>10</td>\n",
       "      <td>O91MhJ1</td>\n",
       "      <td>A</td>\n",
       "    </tr>\n",
       "  </tbody>\n",
       "</table>\n",
       "</div>"
      ],
      "text/plain": [
       "   word_idx       id      text\n",
       "0         2  EHXbhtL        co\n",
       "1         5  EHXbhtL      -bey\n",
       "2         8  O91MhJ1  NORTON'S\n",
       "3         9  O91MhJ1    THEORY\n",
       "4        10  O91MhJ1         A"
      ]
     },
     "execution_count": 38,
     "metadata": {},
     "output_type": "execute_result"
    }
   ],
   "source": [
    "df_train_info.head()"
   ]
  },
  {
   "cell_type": "code",
   "execution_count": 39,
   "id": "b6da9eab-2fd2-47ab-a25a-60cf46cd9387",
   "metadata": {},
   "outputs": [
    {
     "data": {
      "text/html": [
       "<div>\n",
       "<style scoped>\n",
       "    .dataframe tbody tr th:only-of-type {\n",
       "        vertical-align: middle;\n",
       "    }\n",
       "\n",
       "    .dataframe tbody tr th {\n",
       "        vertical-align: top;\n",
       "    }\n",
       "\n",
       "    .dataframe thead th {\n",
       "        text-align: right;\n",
       "    }\n",
       "</style>\n",
       "<table border=\"1\" class=\"dataframe\">\n",
       "  <thead>\n",
       "    <tr style=\"text-align: right;\">\n",
       "      <th></th>\n",
       "      <th>word_idx</th>\n",
       "      <th>id</th>\n",
       "      <th>text</th>\n",
       "    </tr>\n",
       "  </thead>\n",
       "  <tbody>\n",
       "    <tr>\n",
       "      <th>0</th>\n",
       "      <td>0</td>\n",
       "      <td>7u2pNft</td>\n",
       "      <td>4</td>\n",
       "    </tr>\n",
       "    <tr>\n",
       "      <th>1</th>\n",
       "      <td>274</td>\n",
       "      <td>FXwDU08</td>\n",
       "      <td>Funk</td>\n",
       "    </tr>\n",
       "    <tr>\n",
       "      <th>2</th>\n",
       "      <td>275</td>\n",
       "      <td>FXwDU08</td>\n",
       "      <td>adelic</td>\n",
       "    </tr>\n",
       "    <tr>\n",
       "      <th>3</th>\n",
       "      <td>276</td>\n",
       "      <td>FXwDU08</td>\n",
       "      <td>or</td>\n",
       "    </tr>\n",
       "    <tr>\n",
       "      <th>4</th>\n",
       "      <td>277</td>\n",
       "      <td>FXwDU08</td>\n",
       "      <td>Brain</td>\n",
       "    </tr>\n",
       "  </tbody>\n",
       "</table>\n",
       "</div>"
      ],
      "text/plain": [
       "   word_idx       id    text\n",
       "0         0  7u2pNft       4\n",
       "1       274  FXwDU08    Funk\n",
       "2       275  FXwDU08  adelic\n",
       "3       276  FXwDU08      or\n",
       "4       277  FXwDU08   Brain"
      ]
     },
     "execution_count": 39,
     "metadata": {},
     "output_type": "execute_result"
    }
   ],
   "source": [
    "df_test_info.head()"
   ]
  },
  {
   "cell_type": "code",
   "execution_count": 41,
   "id": "d15c69df-8f26-4ab9-89c8-a120c134677c",
   "metadata": {},
   "outputs": [],
   "source": [
    "df_train_info.to_csv('dataset_info/df_train_info.csv', index=False)  "
   ]
  },
  {
   "cell_type": "code",
   "execution_count": 42,
   "id": "c2f2ea1b-0334-4965-a95a-2585bf736a79",
   "metadata": {},
   "outputs": [],
   "source": [
    "df_test_info.to_csv('dataset_info/df_test_info.csv', index=False) "
   ]
  }
 ],
 "metadata": {
  "kernelspec": {
   "display_name": "Python 3 (ipykernel)",
   "language": "python",
   "name": "python3"
  },
  "language_info": {
   "codemirror_mode": {
    "name": "ipython",
    "version": 3
   },
   "file_extension": ".py",
   "mimetype": "text/x-python",
   "name": "python",
   "nbconvert_exporter": "python",
   "pygments_lexer": "ipython3",
   "version": "3.10.12"
  }
 },
 "nbformat": 4,
 "nbformat_minor": 5
}
